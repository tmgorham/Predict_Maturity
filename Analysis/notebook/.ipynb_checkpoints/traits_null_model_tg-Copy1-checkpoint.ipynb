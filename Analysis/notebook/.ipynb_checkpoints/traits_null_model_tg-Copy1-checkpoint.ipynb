{
 "cells": [
  {
   "cell_type": "markdown",
   "metadata": {},
   "source": [
    "## Life history traits model  \n",
    "Taylor Chapter 3  \n",
    "model to predict age-structured life history traits of understudied Carcharhinid species"
   ]
  },
  {
   "cell_type": "markdown",
   "metadata": {},
   "source": [
    "### Set up notebook"
   ]
  },
  {
   "cell_type": "code",
   "execution_count": 1,
   "metadata": {},
   "outputs": [],
   "source": [
    "#import packages\n",
    "# first modules with no issues\n",
    "import datetime \n",
    "from itertools import product\n",
    "import logging\n",
    "import pickle\n",
    "import numpy as np\n",
    "import pandas as pd\n",
    "import scipy as sp\n",
    "import os\n",
    "from math import isnan\n",
    "from sklearn.preprocessing import LabelEncoder\n",
    "from collections import Counter\n",
    "import seaborn as sns\n",
    "import pymc3 as pm  \n",
    "from theano import tensor as tt\n",
    "from theano import shared"
   ]
  },
  {
   "cell_type": "code",
   "execution_count": 2,
   "metadata": {},
   "outputs": [],
   "source": [
    "# Import packages\n",
    "# have to install matplotlib and cmocean in anaconda prompt before modules will work\n",
    "%matplotlib inline  \n",
    "#%matplotlib inline is a magic function that renders the figure in a notebook (instead of displaying a dump of the figure object)\n",
    "from matplotlib import pyplot as plt \n",
    "from matplotlib.offsetbox import AnchoredText\n",
    "from matplotlib.ticker import FuncFormatter, StrMethodFormatter\n",
    "#import cmocean as co # cmocean is part of matplotlib"
   ]
  },
  {
   "cell_type": "code",
   "execution_count": 3,
   "metadata": {},
   "outputs": [
    {
     "data": {
      "text/plain": [
       "'/Users/aaronmacneil/Dropbox/People/Current_grad_students/Taylor_Gorham/Taylor Chapter 3/Analysis/notebook'"
      ]
     },
     "execution_count": 3,
     "metadata": {},
     "output_type": "execute_result"
    }
   ],
   "source": [
    "os.getcwd() # shows current working directory"
   ]
  },
  {
   "cell_type": "code",
   "execution_count": 4,
   "metadata": {},
   "outputs": [],
   "source": [
    "#os.chdir('C:\\\\Users\\\\tmgor\\\\Dropbox\\\\Taylor Chapter 3\\\\Data\\\\for model')\n",
    "#os.listdir() # list files in directory"
   ]
  },
  {
   "cell_type": "code",
   "execution_count": 5,
   "metadata": {},
   "outputs": [
    {
     "name": "stdout",
     "output_type": "stream",
     "text": [
      "Variable             Type                          Data/Info\n",
      "------------------------------------------------------------\n",
      "AnchoredText         type                          <class 'matplotlib.offsetbox.AnchoredText'>\n",
      "Counter              type                          <class 'collections.Counter'>\n",
      "FuncFormatter        type                          <class 'matplotlib.ticker.FuncFormatter'>\n",
      "LabelEncoder         type                          <class 'sklearn.preproces<...>ing._label.LabelEncoder'>\n",
      "StrMethodFormatter   type                          <class 'matplotlib.ticker.StrMethodFormatter'>\n",
      "datetime             module                        <module 'datetime' from '<...>b/python3.8/datetime.py'>\n",
      "isnan                builtin_function_or_method    <built-in function isnan>\n",
      "logging              module                        <module 'logging' from '/<...>3.8/logging/__init__.py'>\n",
      "np                   module                        <module 'numpy' from '/Us<...>kages/numpy/__init__.py'>\n",
      "os                   module                        <module 'os' from '/Users<...>da3/lib/python3.8/os.py'>\n",
      "pd                   module                        <module 'pandas' from '/U<...>ages/pandas/__init__.py'>\n",
      "pickle               module                        <module 'pickle' from '/U<...>lib/python3.8/pickle.py'>\n",
      "plt                  module                        <module 'matplotlib.pyplo<...>es/matplotlib/pyplot.py'>\n",
      "pm                   module                        <module 'pymc3' from '/Us<...>kages/pymc3/__init__.py'>\n",
      "product              type                          <class 'itertools.product'>\n",
      "shared               function                      <function shared at 0x7fe241f5f820>\n",
      "sns                  module                        <module 'seaborn' from '/<...>ges/seaborn/__init__.py'>\n",
      "sp                   module                        <module 'scipy' from '/Us<...>kages/scipy/__init__.py'>\n",
      "tt                   module                        <module 'theano.tensor' f<...>eano/tensor/__init__.py'>\n"
     ]
    }
   ],
   "source": [
    "# check all packages were installed\n",
    "%whos"
   ]
  },
  {
   "cell_type": "code",
   "execution_count": 6,
   "metadata": {},
   "outputs": [],
   "source": [
    "# Aaron Helper function\n",
    "def indexall(L):\n",
    "    poo = []\n",
    "    for p in L:\n",
    "        if not p in poo:\n",
    "            poo.append(p)\n",
    "    Ix = np.array([poo.index(p) for p in L])\n",
    "    return poo,Ix\n",
    "\n",
    "def subindexall(short,long):\n",
    "    poo = []\n",
    "    out = []\n",
    "    for s,l in zip(short,long):\n",
    "        if not l in poo:\n",
    "            poo.append(l)\n",
    "            out.append(s)\n",
    "    return indexall(out)\n",
    "\n",
    "match = lambda a, b: [ b.index(x) if x in b else None for x in a ]\n",
    "grep = lambda s, l: np.array([i for i in l if s in i])\n",
    "\n",
    "# Function to standardize covariates\n",
    "def stdize(x):\n",
    "    return (x-np.mean(x))/(np.std(x)*2)\n",
    "\n",
    "def invlogit(x):\n",
    "    return np.exp(x)/(1+np.exp(x))\n",
    "\n",
    "def gelplot(pj,vector,posy,csize=40,lwd50=7,lwd95=1):\n",
    "    if np.percentile(vector,2.5)<0 and 0<np.percentile(vector,97.5):\n",
    "        pj.plot(np.median(vector),posy,'.',markersize=csize,c='grey')\n",
    "        pj.plot((np.percentile(vector,2.5),np.percentile(vector,97.5)),(posy,posy),linewidth=lwd95,c='grey')\n",
    "        pj.plot((np.percentile(vector,25),np.percentile(vector,75)),(posy,posy),linewidth=lwd50,c='grey')\n",
    "    else:\n",
    "        pj.plot(np.median(vector),posy,'.',markersize=csize,c='black')\n",
    "        pj.plot((np.percentile(vector,2.5),np.percentile(vector,97.5)),(posy,posy),linewidth=lwd95,c='black')\n",
    "        pj.plot((np.percentile(vector,25),np.percentile(vector,75)),(posy,posy),linewidth=lwd50,c='black')\n",
    "        \n",
    "    if np.percentile(vector,25)<0 and 0<np.percentile(vector,75):\n",
    "        pj.plot(np.median(vector),posy,'.',markersize=csize,c='white')"
   ]
  },
  {
   "cell_type": "markdown",
   "metadata": {},
   "source": [
    "### Import and structure data"
   ]
  },
  {
   "cell_type": "code",
   "execution_count": 16,
   "metadata": {},
   "outputs": [
    {
     "data": {
      "text/plain": [
       "array(['species_full', 'genus', 'species', 'species_common', 'LME',\n",
       "       'stock', 'FAO', 'habitat', 'ref_habitat', 'feeding_mode',\n",
       "       'ref_feeding_mode', 'trophic_level', 'ref_troph',\n",
       "       'offspring_size_mm', 'ref_offspring_size', 'litter_size',\n",
       "       'level_litter', 'ref_litter', 'interbirth_interval',\n",
       "       'ref_interbirth', 'age_first_maturity', 'level_age_maturity',\n",
       "       'ref_age_maturity', 'linf', 'ref_linf', 'growth_coeff_k',\n",
       "       'level_growth', 'ref_growth', 'lmax', 'level_length_max',\n",
       "       'ref_lmax', 'age_max', 'level_age_max', 'ref_age_max', 'temp_pref',\n",
       "       'ref_tpref', 'nursery', 'ref_nurs', 'depth_min', 'depth_max',\n",
       "       'depth_ave', 'ref_depth'], dtype=object)"
      ]
     },
     "execution_count": 16,
     "metadata": {},
     "output_type": "execute_result"
    }
   ],
   "source": [
    "# Import data\n",
    "tdata = pd.read_excel('car_trait_covariates.xlsx')\n",
    "tdata.columns.values"
   ]
  },
  {
   "cell_type": "code",
   "execution_count": 17,
   "metadata": {},
   "outputs": [
    {
     "data": {
      "text/html": [
       "<div>\n",
       "<style scoped>\n",
       "    .dataframe tbody tr th:only-of-type {\n",
       "        vertical-align: middle;\n",
       "    }\n",
       "\n",
       "    .dataframe tbody tr th {\n",
       "        vertical-align: top;\n",
       "    }\n",
       "\n",
       "    .dataframe thead th {\n",
       "        text-align: right;\n",
       "    }\n",
       "</style>\n",
       "<table border=\"1\" class=\"dataframe\">\n",
       "  <thead>\n",
       "    <tr style=\"text-align: right;\">\n",
       "      <th></th>\n",
       "      <th>species_full</th>\n",
       "      <th>genus</th>\n",
       "      <th>species</th>\n",
       "      <th>species_common</th>\n",
       "      <th>LME</th>\n",
       "      <th>stock</th>\n",
       "      <th>FAO</th>\n",
       "      <th>habitat</th>\n",
       "      <th>ref_habitat</th>\n",
       "      <th>feeding_mode</th>\n",
       "      <th>...</th>\n",
       "      <th>level_age_max</th>\n",
       "      <th>ref_age_max</th>\n",
       "      <th>temp_pref</th>\n",
       "      <th>ref_tpref</th>\n",
       "      <th>nursery</th>\n",
       "      <th>ref_nurs</th>\n",
       "      <th>depth_min</th>\n",
       "      <th>depth_max</th>\n",
       "      <th>depth_ave</th>\n",
       "      <th>ref_depth</th>\n",
       "    </tr>\n",
       "  </thead>\n",
       "  <tbody>\n",
       "    <tr>\n",
       "      <th>0</th>\n",
       "      <td>Carcharhinus acronotus</td>\n",
       "      <td>Carcharhinus</td>\n",
       "      <td>acronotus</td>\n",
       "      <td>Blacknose shark</td>\n",
       "      <td>5.0</td>\n",
       "      <td>BNOS-GOM</td>\n",
       "      <td>31.0</td>\n",
       "      <td>reef-associated</td>\n",
       "      <td>FishBase2018, OBIS2018</td>\n",
       "      <td>piscivorous</td>\n",
       "      <td>...</td>\n",
       "      <td>spe-LME</td>\n",
       "      <td>FishBase2018</td>\n",
       "      <td>NaN</td>\n",
       "      <td>NaN</td>\n",
       "      <td>NaN</td>\n",
       "      <td>NaN</td>\n",
       "      <td>9.0</td>\n",
       "      <td>64.0</td>\n",
       "      <td>36.5</td>\n",
       "      <td>FishBase2019</td>\n",
       "    </tr>\n",
       "    <tr>\n",
       "      <th>1</th>\n",
       "      <td>Carcharhinus acronotus</td>\n",
       "      <td>Carcharhinus</td>\n",
       "      <td>acronotus</td>\n",
       "      <td>Blacknose shark</td>\n",
       "      <td>7.0</td>\n",
       "      <td>BNOS-NWA</td>\n",
       "      <td>21.0</td>\n",
       "      <td>reef-associated</td>\n",
       "      <td>FishBase2018, OBIS2018</td>\n",
       "      <td>piscivorous</td>\n",
       "      <td>...</td>\n",
       "      <td>spe</td>\n",
       "      <td>FishBase2018</td>\n",
       "      <td>NaN</td>\n",
       "      <td>NaN</td>\n",
       "      <td>NaN</td>\n",
       "      <td>NaN</td>\n",
       "      <td>9.0</td>\n",
       "      <td>64.0</td>\n",
       "      <td>36.5</td>\n",
       "      <td>FishBase2019</td>\n",
       "    </tr>\n",
       "    <tr>\n",
       "      <th>2</th>\n",
       "      <td>Carcharhinus acronotus</td>\n",
       "      <td>Carcharhinus</td>\n",
       "      <td>acronotus</td>\n",
       "      <td>Blacknose shark</td>\n",
       "      <td>6.0</td>\n",
       "      <td>BNOS-NWA</td>\n",
       "      <td>21.0</td>\n",
       "      <td>reef-associated</td>\n",
       "      <td>FishBase2018, OBIS2018</td>\n",
       "      <td>piscivorous</td>\n",
       "      <td>...</td>\n",
       "      <td>spe-LME</td>\n",
       "      <td>FishBase2018</td>\n",
       "      <td>NaN</td>\n",
       "      <td>NaN</td>\n",
       "      <td>NaN</td>\n",
       "      <td>NaN</td>\n",
       "      <td>9.0</td>\n",
       "      <td>64.0</td>\n",
       "      <td>36.5</td>\n",
       "      <td>FishBase2019</td>\n",
       "    </tr>\n",
       "    <tr>\n",
       "      <th>3</th>\n",
       "      <td>Carcharhinus acronotus</td>\n",
       "      <td>Carcharhinus</td>\n",
       "      <td>acronotus</td>\n",
       "      <td>Blacknose shark</td>\n",
       "      <td>6.0</td>\n",
       "      <td>BNOS-NWA</td>\n",
       "      <td>31.0</td>\n",
       "      <td>reef-associated</td>\n",
       "      <td>FishBase2018, OBIS2018</td>\n",
       "      <td>piscivorous</td>\n",
       "      <td>...</td>\n",
       "      <td>spe-LME</td>\n",
       "      <td>FishBase2018</td>\n",
       "      <td>NaN</td>\n",
       "      <td>NaN</td>\n",
       "      <td>NaN</td>\n",
       "      <td>NaN</td>\n",
       "      <td>9.0</td>\n",
       "      <td>64.0</td>\n",
       "      <td>36.5</td>\n",
       "      <td>FishBase2019</td>\n",
       "    </tr>\n",
       "    <tr>\n",
       "      <th>4</th>\n",
       "      <td>Carcharhinus albimarginatus</td>\n",
       "      <td>Carcharhinus</td>\n",
       "      <td>albimargitus</td>\n",
       "      <td>Silvertip shark</td>\n",
       "      <td>NaN</td>\n",
       "      <td>STIP-I</td>\n",
       "      <td>57.0</td>\n",
       "      <td>reef-associated</td>\n",
       "      <td>FishBase2019</td>\n",
       "      <td>NaN</td>\n",
       "      <td>...</td>\n",
       "      <td>NaN</td>\n",
       "      <td>NaN</td>\n",
       "      <td>NaN</td>\n",
       "      <td>NaN</td>\n",
       "      <td>NaN</td>\n",
       "      <td>NaN</td>\n",
       "      <td>1.0</td>\n",
       "      <td>800.0</td>\n",
       "      <td>400.5</td>\n",
       "      <td>FishBase2019</td>\n",
       "    </tr>\n",
       "  </tbody>\n",
       "</table>\n",
       "<p>5 rows × 42 columns</p>\n",
       "</div>"
      ],
      "text/plain": [
       "                  species_full         genus       species   species_common  \\\n",
       "0       Carcharhinus acronotus  Carcharhinus     acronotus  Blacknose shark   \n",
       "1       Carcharhinus acronotus  Carcharhinus     acronotus  Blacknose shark   \n",
       "2       Carcharhinus acronotus  Carcharhinus     acronotus  Blacknose shark   \n",
       "3       Carcharhinus acronotus  Carcharhinus     acronotus  Blacknose shark   \n",
       "4  Carcharhinus albimarginatus  Carcharhinus  albimargitus  Silvertip shark   \n",
       "\n",
       "   LME     stock   FAO          habitat             ref_habitat feeding_mode  \\\n",
       "0  5.0  BNOS-GOM  31.0  reef-associated  FishBase2018, OBIS2018  piscivorous   \n",
       "1  7.0  BNOS-NWA  21.0  reef-associated  FishBase2018, OBIS2018  piscivorous   \n",
       "2  6.0  BNOS-NWA  21.0  reef-associated  FishBase2018, OBIS2018  piscivorous   \n",
       "3  6.0  BNOS-NWA  31.0  reef-associated  FishBase2018, OBIS2018  piscivorous   \n",
       "4  NaN    STIP-I  57.0  reef-associated            FishBase2019          NaN   \n",
       "\n",
       "   ... level_age_max   ref_age_max temp_pref  ref_tpref nursery  ref_nurs  \\\n",
       "0  ...       spe-LME  FishBase2018       NaN        NaN     NaN       NaN   \n",
       "1  ...           spe  FishBase2018       NaN        NaN     NaN       NaN   \n",
       "2  ...       spe-LME  FishBase2018       NaN        NaN     NaN       NaN   \n",
       "3  ...       spe-LME  FishBase2018       NaN        NaN     NaN       NaN   \n",
       "4  ...           NaN           NaN       NaN        NaN     NaN       NaN   \n",
       "\n",
       "  depth_min depth_max  depth_ave     ref_depth  \n",
       "0       9.0      64.0       36.5  FishBase2019  \n",
       "1       9.0      64.0       36.5  FishBase2019  \n",
       "2       9.0      64.0       36.5  FishBase2019  \n",
       "3       9.0      64.0       36.5  FishBase2019  \n",
       "4       1.0     800.0      400.5  FishBase2019  \n",
       "\n",
       "[5 rows x 42 columns]"
      ]
     },
     "execution_count": 17,
     "metadata": {},
     "output_type": "execute_result"
    }
   ],
   "source": [
    "tdata.head()"
   ]
  },
  {
   "cell_type": "code",
   "execution_count": 18,
   "metadata": {},
   "outputs": [
    {
     "data": {
      "text/plain": [
       "array(['Species', 'Stock', 'Stock-Year', 'Age', 'maturity',\n",
       "       'survivorship', 'fecundity (num female pups per year)', 'notes',\n",
       "       'model type', 'source_mat', 'source_sur', 'source_fec',\n",
       "       'source_m_link', 'source_s_link', 'source_f_link', 'Cortes_2018',\n",
       "       'SA_mat', 'SA_sur', 'SA_fec', 'FP_species', 'trait_cov_species'],\n",
       "      dtype=object)"
      ]
     },
     "execution_count": 18,
     "metadata": {},
     "output_type": "execute_result"
    }
   ],
   "source": [
    "# Import data\n",
    "adata = pd.read_excel('age_structured_traits.xlsx')\n",
    "adata.columns.values"
   ]
  },
  {
   "cell_type": "code",
   "execution_count": 19,
   "metadata": {},
   "outputs": [
    {
     "data": {
      "text/html": [
       "<div>\n",
       "<style scoped>\n",
       "    .dataframe tbody tr th:only-of-type {\n",
       "        vertical-align: middle;\n",
       "    }\n",
       "\n",
       "    .dataframe tbody tr th {\n",
       "        vertical-align: top;\n",
       "    }\n",
       "\n",
       "    .dataframe thead th {\n",
       "        text-align: right;\n",
       "    }\n",
       "</style>\n",
       "<table border=\"1\" class=\"dataframe\">\n",
       "  <thead>\n",
       "    <tr style=\"text-align: right;\">\n",
       "      <th></th>\n",
       "      <th>Species</th>\n",
       "      <th>Stock</th>\n",
       "      <th>Stock-Year</th>\n",
       "      <th>Age</th>\n",
       "      <th>maturity</th>\n",
       "      <th>survivorship</th>\n",
       "      <th>fecundity (num female pups per year)</th>\n",
       "      <th>notes</th>\n",
       "      <th>model type</th>\n",
       "      <th>source_mat</th>\n",
       "      <th>...</th>\n",
       "      <th>source_fec</th>\n",
       "      <th>source_m_link</th>\n",
       "      <th>source_s_link</th>\n",
       "      <th>source_f_link</th>\n",
       "      <th>Cortes_2018</th>\n",
       "      <th>SA_mat</th>\n",
       "      <th>SA_sur</th>\n",
       "      <th>SA_fec</th>\n",
       "      <th>FP_species</th>\n",
       "      <th>trait_cov_species</th>\n",
       "    </tr>\n",
       "  </thead>\n",
       "  <tbody>\n",
       "    <tr>\n",
       "      <th>0</th>\n",
       "      <td>Carcharhinus isodon</td>\n",
       "      <td>FTH-GOM</td>\n",
       "      <td>FTH-GOM-03</td>\n",
       "      <td>2.0</td>\n",
       "      <td>-0.000543</td>\n",
       "      <td>0.85-0.607</td>\n",
       "      <td>0.0</td>\n",
       "      <td>also used data from Castro 1993 for fecundity....</td>\n",
       "      <td>NaN</td>\n",
       "      <td>Carlson 2003</td>\n",
       "      <td>...</td>\n",
       "      <td>Carlson 2003</td>\n",
       "      <td>http://aquaticcommons.org/15123/1/06carlso.pdf</td>\n",
       "      <td>http://aquaticcommons.org/15123/1/06carlso.pdf</td>\n",
       "      <td>http://aquaticcommons.org/15123/1/06carlso.pdf</td>\n",
       "      <td>0</td>\n",
       "      <td>A</td>\n",
       "      <td>A</td>\n",
       "      <td>S</td>\n",
       "      <td>NaN</td>\n",
       "      <td>Carcharhinus isodon</td>\n",
       "    </tr>\n",
       "    <tr>\n",
       "      <th>1</th>\n",
       "      <td>Carcharhinus acronotus</td>\n",
       "      <td>BNOS-GOM</td>\n",
       "      <td>BNOS-GOM-11</td>\n",
       "      <td>0.0</td>\n",
       "      <td>0.000000</td>\n",
       "      <td>0.59</td>\n",
       "      <td>0.0</td>\n",
       "      <td>survivorship= 1-M; fecundity = mat*average of ...</td>\n",
       "      <td>age-structured production</td>\n",
       "      <td>NMFS 2011</td>\n",
       "      <td>...</td>\n",
       "      <td>NMFS 2011</td>\n",
       "      <td>http://sedarweb.org/docs/sar/GoM_Blacknose_SAR...</td>\n",
       "      <td>http://sedarweb.org/docs/sar/GoM_Blacknose_SAR...</td>\n",
       "      <td>http://sedarweb.org/docs/sar/GoM_Blacknose_SAR...</td>\n",
       "      <td>1</td>\n",
       "      <td>A</td>\n",
       "      <td>A</td>\n",
       "      <td>S</td>\n",
       "      <td>Carcharhinus acronotus</td>\n",
       "      <td>Carcharhinus acronotus</td>\n",
       "    </tr>\n",
       "    <tr>\n",
       "      <th>2</th>\n",
       "      <td>Carcharhinus acronotus</td>\n",
       "      <td>BNOS-GOM</td>\n",
       "      <td>BNOS-GOM-11</td>\n",
       "      <td>1.0</td>\n",
       "      <td>0.000000</td>\n",
       "      <td>0.7061</td>\n",
       "      <td>0.0</td>\n",
       "      <td>survivorship= 1-M; fecundity = mat*average of ...</td>\n",
       "      <td>age-structured production</td>\n",
       "      <td>NMFS 2011</td>\n",
       "      <td>...</td>\n",
       "      <td>NMFS 2011</td>\n",
       "      <td>http://sedarweb.org/docs/sar/GoM_Blacknose_SAR...</td>\n",
       "      <td>http://sedarweb.org/docs/sar/GoM_Blacknose_SAR...</td>\n",
       "      <td>http://sedarweb.org/docs/sar/GoM_Blacknose_SAR...</td>\n",
       "      <td>1</td>\n",
       "      <td>A</td>\n",
       "      <td>A</td>\n",
       "      <td>S</td>\n",
       "      <td>Carcharhinus acronotus</td>\n",
       "      <td>Carcharhinus acronotus</td>\n",
       "    </tr>\n",
       "    <tr>\n",
       "      <th>3</th>\n",
       "      <td>Carcharhinus acronotus</td>\n",
       "      <td>BNOS-NWA</td>\n",
       "      <td>BNOS-NWA-07</td>\n",
       "      <td>0.0</td>\n",
       "      <td>0.000000</td>\n",
       "      <td>0.72</td>\n",
       "      <td>0.0</td>\n",
       "      <td>age 0 survivorship in Cortes but not in source</td>\n",
       "      <td>age-structured production</td>\n",
       "      <td>NMFS 2007</td>\n",
       "      <td>...</td>\n",
       "      <td>NMFS 2007</td>\n",
       "      <td>http://sedarweb.org/docs/sar/SAR_complete_2.pdf</td>\n",
       "      <td>NaN</td>\n",
       "      <td>http://sedarweb.org/docs/sar/SAR_complete_2.pdf</td>\n",
       "      <td>1</td>\n",
       "      <td>A</td>\n",
       "      <td>NaN</td>\n",
       "      <td>A</td>\n",
       "      <td>Carcharhinus acronotus</td>\n",
       "      <td>Carcharhinus acronotus</td>\n",
       "    </tr>\n",
       "    <tr>\n",
       "      <th>4</th>\n",
       "      <td>Carcharhinus acronotus</td>\n",
       "      <td>BNOS-NWA</td>\n",
       "      <td>BNOS-NWA-07</td>\n",
       "      <td>1.0</td>\n",
       "      <td>0.000000</td>\n",
       "      <td>NaN</td>\n",
       "      <td>0.0</td>\n",
       "      <td>NaN</td>\n",
       "      <td>age-structured production</td>\n",
       "      <td>NMFS 2007</td>\n",
       "      <td>...</td>\n",
       "      <td>NMFS 2007</td>\n",
       "      <td>http://sedarweb.org/docs/sar/SAR_complete_2.pdf</td>\n",
       "      <td>NaN</td>\n",
       "      <td>http://sedarweb.org/docs/sar/SAR_complete_2.pdf</td>\n",
       "      <td>1</td>\n",
       "      <td>A</td>\n",
       "      <td>NaN</td>\n",
       "      <td>A</td>\n",
       "      <td>Carcharhinus acronotus</td>\n",
       "      <td>Carcharhinus acronotus</td>\n",
       "    </tr>\n",
       "  </tbody>\n",
       "</table>\n",
       "<p>5 rows × 21 columns</p>\n",
       "</div>"
      ],
      "text/plain": [
       "                  Species     Stock   Stock-Year  Age  maturity survivorship  \\\n",
       "0     Carcharhinus isodon   FTH-GOM   FTH-GOM-03  2.0 -0.000543   0.85-0.607   \n",
       "1  Carcharhinus acronotus  BNOS-GOM  BNOS-GOM-11  0.0  0.000000         0.59   \n",
       "2  Carcharhinus acronotus  BNOS-GOM  BNOS-GOM-11  1.0  0.000000       0.7061   \n",
       "3  Carcharhinus acronotus  BNOS-NWA  BNOS-NWA-07  0.0  0.000000         0.72   \n",
       "4  Carcharhinus acronotus  BNOS-NWA  BNOS-NWA-07  1.0  0.000000          NaN   \n",
       "\n",
       "   fecundity (num female pups per year)  \\\n",
       "0                                   0.0   \n",
       "1                                   0.0   \n",
       "2                                   0.0   \n",
       "3                                   0.0   \n",
       "4                                   0.0   \n",
       "\n",
       "                                               notes  \\\n",
       "0  also used data from Castro 1993 for fecundity....   \n",
       "1  survivorship= 1-M; fecundity = mat*average of ...   \n",
       "2  survivorship= 1-M; fecundity = mat*average of ...   \n",
       "3     age 0 survivorship in Cortes but not in source   \n",
       "4                                                NaN   \n",
       "\n",
       "                  model type    source_mat  ...    source_fec  \\\n",
       "0                        NaN  Carlson 2003  ...  Carlson 2003   \n",
       "1  age-structured production     NMFS 2011  ...     NMFS 2011   \n",
       "2  age-structured production     NMFS 2011  ...     NMFS 2011   \n",
       "3  age-structured production     NMFS 2007  ...     NMFS 2007   \n",
       "4  age-structured production     NMFS 2007  ...     NMFS 2007   \n",
       "\n",
       "                                       source_m_link  \\\n",
       "0     http://aquaticcommons.org/15123/1/06carlso.pdf   \n",
       "1  http://sedarweb.org/docs/sar/GoM_Blacknose_SAR...   \n",
       "2  http://sedarweb.org/docs/sar/GoM_Blacknose_SAR...   \n",
       "3    http://sedarweb.org/docs/sar/SAR_complete_2.pdf   \n",
       "4    http://sedarweb.org/docs/sar/SAR_complete_2.pdf   \n",
       "\n",
       "                                       source_s_link  \\\n",
       "0     http://aquaticcommons.org/15123/1/06carlso.pdf   \n",
       "1  http://sedarweb.org/docs/sar/GoM_Blacknose_SAR...   \n",
       "2  http://sedarweb.org/docs/sar/GoM_Blacknose_SAR...   \n",
       "3                                                NaN   \n",
       "4                                                NaN   \n",
       "\n",
       "                                       source_f_link Cortes_2018  SA_mat  \\\n",
       "0     http://aquaticcommons.org/15123/1/06carlso.pdf           0       A   \n",
       "1  http://sedarweb.org/docs/sar/GoM_Blacknose_SAR...           1       A   \n",
       "2  http://sedarweb.org/docs/sar/GoM_Blacknose_SAR...           1       A   \n",
       "3    http://sedarweb.org/docs/sar/SAR_complete_2.pdf           1       A   \n",
       "4    http://sedarweb.org/docs/sar/SAR_complete_2.pdf           1       A   \n",
       "\n",
       "  SA_sur SA_fec              FP_species       trait_cov_species  \n",
       "0      A      S                     NaN     Carcharhinus isodon  \n",
       "1      A      S  Carcharhinus acronotus  Carcharhinus acronotus  \n",
       "2      A      S  Carcharhinus acronotus  Carcharhinus acronotus  \n",
       "3    NaN      A  Carcharhinus acronotus  Carcharhinus acronotus  \n",
       "4    NaN      A  Carcharhinus acronotus  Carcharhinus acronotus  \n",
       "\n",
       "[5 rows x 21 columns]"
      ]
     },
     "execution_count": 19,
     "metadata": {},
     "output_type": "execute_result"
    }
   ],
   "source": [
    "adata.head()"
   ]
  },
  {
   "cell_type": "code",
   "execution_count": 20,
   "metadata": {},
   "outputs": [],
   "source": [
    "# make datafame of only age-structured maturity data, by using only stock-years that have maturity data\n",
    "# only data rows where SA-mat is either A or S\n",
    "mdata= adata[adata.maturity.notnull()]\n",
    "\n"
   ]
  },
  {
   "cell_type": "code",
   "execution_count": 21,
   "metadata": {},
   "outputs": [],
   "source": [
    "# first test that there are no empty rows in maturity column\n",
    "#mdata = adata[adata['SA-mat']!='NaN'].sort_values('Stock-Year')\n",
    "#test = adata[adata.maturity.notnull()]\n",
    "#df[['region_name', 'location_name']].drop_duplicates()\n",
    "# mdata[['SA_mat']].drop_duplicates()"
   ]
  },
  {
   "cell_type": "code",
   "execution_count": 22,
   "metadata": {},
   "outputs": [
    {
     "data": {
      "image/png": "[encoded data removed]",
      "text/plain": [
       "<Figure size 864.875x432 with 1 Axes>"
      ]
     },
     "metadata": {
      "needs_background": "light"
     },
     "output_type": "display_data"
    }
   ],
   "source": [
    "sns.catplot(x = \"Age\", y = \"maturity\", hue = \"Stock-Year\", height=6, aspect=1.75,\n",
    "                kind=\"point\", data = mdata);"
   ]
  },
  {
   "cell_type": "markdown",
   "metadata": {},
   "source": [
    "## Format data"
   ]
  },
  {
   "cell_type": "code",
   "execution_count": 23,
   "metadata": {},
   "outputs": [],
   "source": [
    "AGE = mdata.Age.values\n",
    "# AGE is an array of age values\n",
    "nobs = len(AGE)\n",
    "# nobs counts the number of observations in the AGE array"
   ]
  },
  {
   "cell_type": "code",
   "execution_count": 24,
   "metadata": {},
   "outputs": [],
   "source": [
    "# MAT is an array of maturity values\n",
    "MAT = mdata.maturity.values\n",
    "MAT[MAT>1] = 1"
   ]
  },
  {
   "cell_type": "code",
   "execution_count": 25,
   "metadata": {},
   "outputs": [],
   "source": [
    "#Make two new arrays of stock codes and index values for stock codes from adata\n",
    "Stock, Is = indexall(mdata.Stock.values)\n",
    "nstocks = len(Stock)"
   ]
  },
  {
   "cell_type": "code",
   "execution_count": 26,
   "metadata": {},
   "outputs": [
    {
     "data": {
      "text/plain": [
       "['FTH-GOM',\n",
       " 'BNOS-GOM',\n",
       " 'BNOS-NWA',\n",
       " 'GRE-SWP',\n",
       " 'SIL-WCP',\n",
       " 'FTH-NWA',\n",
       " 'BTIP-GOM',\n",
       " 'BTIP-NWA',\n",
       " 'OCW-WCP',\n",
       " 'DUS-NWA',\n",
       " 'SAN-NWA',\n",
       " 'BSH-NP',\n",
       " 'ATSH-NWA',\n",
       " 'DUS-WA',\n",
       " 'OCW-NP']"
      ]
     },
     "execution_count": 26,
     "metadata": {},
     "output_type": "execute_result"
    }
   ],
   "source": [
    "Stock"
   ]
  },
  {
   "cell_type": "code",
   "execution_count": 27,
   "metadata": {},
   "outputs": [
    {
     "data": {
      "text/plain": [
       "array([ 0,  1,  1,  2,  2,  2,  2,  2,  2,  3,  3,  3,  3,  3,  3,  4,  4,\n",
       "        4,  4,  4,  4,  4,  4,  4,  4,  5,  5,  6,  6,  7,  7,  8,  8,  9,\n",
       "        9,  9,  9,  9,  9,  9,  9,  9,  9,  9,  9,  9,  9,  9,  9,  9,  9,\n",
       "        9,  9,  9,  9,  9,  9,  9,  9, 10, 10, 10, 10, 10, 10, 10, 10, 10,\n",
       "       10, 10, 10, 10, 10, 11, 11, 11, 11, 11, 12, 12, 10,  1,  2, 10,  0,\n",
       "        0,  7,  9, 10,  6,  9, 10,  8,  7, 10,  6,  9, 10,  1,  2,  5,  9,\n",
       "       10,  9, 10,  7,  9,  6,  6,  5,  9, 12, 10,  8,  2,  6,  9, 10,  6,\n",
       "        9, 10,  6,  6,  7, 13,  0, 10,  6,  9,  9,  5, 10,  6,  1,  2, 12,\n",
       "       10, 10,  9,  6,  6,  9,  6, 12, 10,  8, 10,  7,  9,  6,  5, 10, 10,\n",
       "        6,  2,  2,  4,  4,  4,  4,  4,  4,  4,  4,  4,  4,  4,  4,  4,  4,\n",
       "        4,  4,  4,  4,  4,  4,  4,  4,  4,  4,  4,  4, 14, 11, 11,  9,  9,\n",
       "        6,  0,  6, 10, 10, 10,  6,  9, 10,  9,  7,  6, 10,  5,  9,  6,  6,\n",
       "        1,  2,  8, 10,  6, 12, 10,  9,  9, 10, 10,  6, 10,  9,  6,  0,  7,\n",
       "        5,  6,  2,  9, 10, 10, 10, 10, 10, 12,  6,  9, 10,  8,  9, 10,  9,\n",
       "        6,  9,  7, 10,  1,  2,  5,  9, 10, 11, 11, 11, 11, 11, 11, 11, 11,\n",
       "       11, 11, 11, 11, 11, 11, 12, 12,  9,  9, 10,  0,  6,  9, 10,  7,  8,\n",
       "        9,  9, 10,  9,  9,  6,  0, 10,  1,  2, 10, 10, 10,  1,  1,  1,  1,\n",
       "        1,  1,  1,  2,  2,  2,  2,  2,  2,  2,  2,  2,  2,  2,  2,  2,  2,\n",
       "        2,  2,  2,  2,  2,  2,  3,  3,  3,  3,  3,  3,  3,  4,  0,  0,  0,\n",
       "        0,  0,  0,  5,  5,  5,  5,  6,  6,  6,  6,  7,  7,  7,  7,  7,  7,\n",
       "        8,  8,  8,  8,  8,  8,  8,  8,  8,  8,  8,  8,  8,  8,  8,  8,  8,\n",
       "        8,  8,  8,  8,  8,  8,  8,  8,  8,  8,  8,  8,  9,  9,  9,  9,  9,\n",
       "        9,  9,  9,  9,  9,  9,  9,  9,  9,  9,  9,  9,  9,  9,  9,  9, 13,\n",
       "       12, 12, 12, 12, 12, 12, 12, 12, 12, 12, 12, 12, 12, 12, 12, 12, 12,\n",
       "       12, 12, 12, 12, 12, 12,  0])"
      ]
     },
     "execution_count": 27,
     "metadata": {},
     "output_type": "execute_result"
    }
   ],
   "source": [
    "Is"
   ]
  },
  {
   "cell_type": "code",
   "execution_count": 28,
   "metadata": {},
   "outputs": [
    {
     "data": {
      "text/plain": [
       "<matplotlib.collections.PathCollection at 0x7fe2466df700>"
      ]
     },
     "execution_count": 28,
     "metadata": {},
     "output_type": "execute_result"
    },
    {
     "data": {
      "image/png": "[encoded data removed]",
      "text/plain": [
       "<Figure size 432x288 with 1 Axes>"
      ]
     },
     "metadata": {
      "needs_background": "light"
     },
     "output_type": "display_data"
    }
   ],
   "source": [
    "plt.scatter(AGE,MAT)"
   ]
  },
  {
   "cell_type": "code",
   "execution_count": 29,
   "metadata": {},
   "outputs": [
    {
     "data": {
      "text/plain": [
       "1.0"
      ]
     },
     "execution_count": 29,
     "metadata": {},
     "output_type": "execute_result"
    }
   ],
   "source": [
    "max(MAT)"
   ]
  },
  {
   "cell_type": "markdown",
   "metadata": {},
   "source": [
    "# Bayes model"
   ]
  },
  {
   "cell_type": "code",
   "execution_count": 30,
   "metadata": {},
   "outputs": [],
   "source": [
    "Model = pm.Model()\n",
    "\n",
    "with Model:\n",
    "    #Ga50 is mean of a50 values for all species\n",
    "    # sigma is standard dev\n",
    "    # Hierarchical a50\n",
    "    Ga50 = pm.Uniform('Ga50', 1.5, 25) #uniform distribution of a50 values from 1.5 to 25\n",
    "    a50_sigma = pm.Exponential('a50_sigma', 1) #exponential distribution of lambda of 1 (?)\n",
    "    a50 = pm.Normal('a50x', Ga50, a50_sigma, shape=nstocks) #likelihood of a50 values given distributions of Ga50 and sigma_a50 (I think... what is shape for?)\n",
    "    \n",
    "    #see notes on exponential dist. here https://en.wikipedia.org/wiki/Exponential_distribution\n",
    "    # lower lambda value, the flatter the curve\n",
    "    \n",
    "    # Hierarchical S\n",
    "    # S is the curve parameter determining steepness/shape of maturity curve\n",
    "    # GS is mean of distribution describing what S is\n",
    "    # S_sigma is standard dev of distribution around GS\n",
    "    GS = pm.Uniform('GS', 0.01, 10) # Uniform distribution of possible S values from 0.01 to 10\n",
    "    S_sigma = pm.Exponential('S_sigma', 3) #Exponential distribution of possible sigma values with lambda of 3\n",
    "    S = pm.Normal('Sx', GS, S_sigma, shape=nstocks)\n",
    "    #\"\"\"\n",
    "    \n",
    "    # Growth model\n",
    "    mu = 1/(1+tt.exp(-S[Is]*(AGE-a50[Is])))\n",
    "    #mu = 1/(1+tt.exp(-GS*(AGE-Ga50)))\n",
    "    # tt=under the hood modelling stuff - tensor flow package. makes exp work\n",
    "    # Is is index values of stock codes\n",
    "\n",
    "    # Likelihood\n",
    "    S2 = pm.Uniform('S2', 0.0, 0.1)\n",
    "    Yi = pm.Normal('Yi', mu, S2, observed=MAT)\n",
    "    "
   ]
  },
  {
   "cell_type": "code",
   "execution_count": 31,
   "metadata": {},
   "outputs": [
    {
     "name": "stdout",
     "output_type": "stream",
     "text": [
      "Ga50_interval__ -1.3862943611198906\n",
      "a50_sigma_log__ -1.0596601002984287\n",
      "a50x -8.286384230562655\n",
      "GS_interval__ -1.3862943611198906\n",
      "S_sigma_log__ -1.0596601002984285\n",
      "Sx 8.192800099458987\n",
      "S2_interval__ -1.3862943611198906\n",
      "Yi -23055.774672239444\n"
     ]
    }
   ],
   "source": [
    "for RV in Model.basic_RVs:\n",
    "    print(RV.name, RV.logp(Model.test_point))"
   ]
  },
  {
   "cell_type": "code",
   "execution_count": null,
   "metadata": {},
   "outputs": [
    {
     "name": "stderr",
     "output_type": "stream",
     "text": [
      "Auto-assigning NUTS sampler...\n",
      "Initializing NUTS using jitter+adapt_diag...\n",
      "Multiprocess sampling (4 chains in 4 jobs)\n",
      "NUTS: [S2, Sx, S_sigma, GS, a50x, a50_sigma, Ga50]\n"
     ]
    },
    {
     "data": {
      "text/html": [
       "\n",
       "    <div>\n",
       "        <style>\n",
       "            /* Turns off some styling */\n",
       "            progress {\n",
       "                /* gets rid of default border in Firefox and Opera. */\n",
       "                border: none;\n",
       "                /* Needs to be in here for Safari polyfill so background images work as expected. */\n",
       "                background-size: auto;\n",
       "            }\n",
       "            .progress-bar-interrupted, .progress-bar-interrupted::-webkit-progress-bar {\n",
       "                background: #F44336;\n",
       "            }\n",
       "        </style>\n",
       "      <progress value='15748' class='' max='24000' style='width:300px; height:20px; vertical-align: middle;'></progress>\n",
       "      65.62% [15748/24000 00:32<00:16 Sampling 4 chains, 292 divergences]\n",
       "    </div>\n",
       "    "
      ],
      "text/plain": [
       "<IPython.core.display.HTML object>"
      ]
     },
     "metadata": {},
     "output_type": "display_data"
    }
   ],
   "source": [
    "# Sampling\n",
    "# why is this breaking my kernel connection?? \n",
    "\n",
    "with Model:\n",
    "    trace = pm.sample(5000)"
   ]
  },
  {
   "cell_type": "code",
   "execution_count": null,
   "metadata": {},
   "outputs": [],
   "source": [
    "pm.traceplot(trace);"
   ]
  },
  {
   "cell_type": "code",
   "execution_count": null,
   "metadata": {},
   "outputs": [],
   "source": [
    "pm.forestplot(trace)\n",
    "# looking for r-hat valeus of 1 - shows that model is converging"
   ]
  },
  {
   "cell_type": "code",
   "execution_count": null,
   "metadata": {},
   "outputs": [],
   "source": [
    "results = pm.backends.tracetab.trace_to_dataframe(trace)"
   ]
  },
  {
   "cell_type": "code",
   "execution_count": null,
   "metadata": {},
   "outputs": [],
   "source": [
    "# Edit column names\n",
    "colnames = np.array(list(results.columns), dtype=object)\n",
    "\n",
    "colnames[np.array([list(colnames).index(x) for x in grep('a50x',colnames)])] = np.array(['a50_'+str(s) for s in Stock])\n",
    "colnames[np.array([list(colnames).index(x) for x in grep('Sx',colnames)])] = np.array(['S_'+str(s) for s in Stock])\n",
    "\n",
    "results.columns = list(colnames)"
   ]
  },
  {
   "cell_type": "code",
   "execution_count": null,
   "metadata": {},
   "outputs": [],
   "source": [
    "results.to_csv('traits_null_model_results.csv')"
   ]
  },
  {
   "cell_type": "code",
   "execution_count": null,
   "metadata": {},
   "outputs": [],
   "source": [
    "results.head()"
   ]
  },
  {
   "cell_type": "markdown",
   "metadata": {},
   "source": [
    "# Plot model fits"
   ]
  },
  {
   "cell_type": "code",
   "execution_count": null,
   "metadata": {},
   "outputs": [],
   "source": [
    "# Grab a50's\n",
    "a50s = np.array([np.median(results[x]) for x in np.array(['a50_'+str(s) for s in Stock])]).T\n",
    "# Grab S's\n",
    "Ss = np.array([np.median(results[x]) for x in np.array(['S_'+str(s) for s in Stock])]).T\n",
    "\n",
    "# xrange\n",
    "xr = np.linspace(0,max(AGE),max(AGE)+1).astype(int)"
   ]
  },
  {
   "cell_type": "code",
   "execution_count": null,
   "metadata": {},
   "outputs": [],
   "source": [
    "plt.figure(figsize=(8, 5))\n",
    "[plt.scatter(AGE[adata.Stock.values==s], MAT[adata.Stock.values==s]) for s in Stock]\n",
    "[plt.plot(xr, 1/(1+np.exp(-s*(xr-a)))) for s,a in zip(Ss,a50s)]\n",
    "plt.xlabel('Age',fontsize=15)\n",
    "plt.ylabel('Proportion mature',fontsize=15)\n",
    "plt.savefig('Traits_null_fits.jpg',dpi=300);"
   ]
  }
 ],
 "metadata": {
  "kernelspec": {
   "display_name": "Python 3",
   "language": "python",
   "name": "python3"
  },
  "language_info": {
   "codemirror_mode": {
    "name": "ipython",
    "version": 3
   },
   "file_extension": ".py",
   "mimetype": "text/x-python",
   "name": "python",
   "nbconvert_exporter": "python",
   "pygments_lexer": "ipython3",
   "version": "3.8.3"
  }
 },
 "nbformat": 4,
 "nbformat_minor": 2
}
