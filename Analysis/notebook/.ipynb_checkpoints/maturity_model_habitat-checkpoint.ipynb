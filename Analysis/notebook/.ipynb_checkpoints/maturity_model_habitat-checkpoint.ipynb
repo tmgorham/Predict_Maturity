{
 "cells": [
  {
   "cell_type": "code",
   "execution_count": 1,
   "metadata": {},
   "outputs": [],
   "source": [
    "#import packages\n",
    "import datetime \n",
    "from itertools import product\n",
    "import logging\n",
    "import pickle\n",
    "import numpy as np\n",
    "import pandas as pd\n",
    "import scipy as sp\n",
    "import os\n",
    "from math import isnan\n",
    "from sklearn.preprocessing import LabelEncoder\n",
    "from collections import Counter\n",
    "import seaborn as sns\n",
    "import pymc3 as pm  \n",
    "from theano import tensor as tt\n",
    "from theano import shared\n",
    "import arviz as az\n",
    "import warnings\n",
    "\n",
    "%matplotlib inline  \n",
    "#%matplotlib inline is a magic function that renders the figure in a notebook (instead of displaying a dump of the figure object)\n",
    "from matplotlib import pyplot as plt \n",
    "from matplotlib.offsetbox import AnchoredText\n",
    "from matplotlib.ticker import FuncFormatter, StrMethodFormatter\n"
   ]
  },
  {
   "cell_type": "code",
   "execution_count": 2,
   "metadata": {},
   "outputs": [],
   "source": [
    "# Aaron Helper function\n",
    "def indexall(L):\n",
    "    poo = []\n",
    "    for p in L:\n",
    "        if not p in poo:\n",
    "            poo.append(p)\n",
    "    Ix = np.array([poo.index(p) for p in L])\n",
    "    return poo,Ix\n",
    "\n",
    "def subindexall(short,long):\n",
    "    poo = []\n",
    "    out = []\n",
    "    for s,l in zip(short,long):\n",
    "        if not l in poo:\n",
    "            poo.append(l)\n",
    "            out.append(s)\n",
    "    return indexall(out)\n",
    "\n",
    "match = lambda a, b: [ b.index(x) if x in b else None for x in a ]\n",
    "grep = lambda s, l: np.array([i for i in l if s in i])\n",
    "\n",
    "# Function to standardize covariates\n",
    "def stdise(x):\n",
    "    return (x-np.mean(x))/(np.std(x)*2)\n",
    "\n",
    "def invlogit(x):\n",
    "    return np.exp(x)/(1+np.exp(x))\n",
    "\n",
    "def gelplot(pj,vector,posy,csize=40,lwd50=7,lwd95=1):\n",
    "    if np.percentile(vector,2.5)<0 and 0<np.percentile(vector,97.5):\n",
    "        pj.plot(np.median(vector),posy,'.',markersize=csize,c='grey')\n",
    "        pj.plot((np.percentile(vector,2.5),np.percentile(vector,97.5)),(posy,posy),linewidth=lwd95,c='grey')\n",
    "        pj.plot((np.percentile(vector,25),np.percentile(vector,75)),(posy,posy),linewidth=lwd50,c='grey')\n",
    "    else:\n",
    "        pj.plot(np.median(vector),posy,'.',markersize=csize,c='black')\n",
    "        pj.plot((np.percentile(vector,2.5),np.percentile(vector,97.5)),(posy,posy),linewidth=lwd95,c='black')\n",
    "        pj.plot((np.percentile(vector,25),np.percentile(vector,75)),(posy,posy),linewidth=lwd50,c='black')\n",
    "        \n",
    "    if np.percentile(vector,25)<0 and 0<np.percentile(vector,75):\n",
    "        pj.plot(np.median(vector),posy,'.',markersize=csize,c='white')"
   ]
  },
  {
   "cell_type": "code",
   "execution_count": 3,
   "metadata": {},
   "outputs": [
    {
     "data": {
      "text/plain": [
       "['age_structured_traits.xlsx',\n",
       " 'car_trait_covariates_v2.xlsx',\n",
       " 'full_dataset.xlsx',\n",
       " 'species_level_traits_v1.xlsx',\n",
       " '~$car_trait_covariates_v2.xlsx',\n",
       " '~$full_dataset.xlsx']"
      ]
     },
     "execution_count": 3,
     "metadata": {},
     "output_type": "execute_result"
    }
   ],
   "source": [
    "os.chdir('C:\\\\Users\\\\tmgor\\\\Dropbox\\\\Taylor Chapter 3\\\\Data\\\\for model\\\\in')"
   ]
  },
  {
   "cell_type": "code",
   "execution_count": null,
   "metadata": {},
   "outputs": [],
   "source": []
  },
  {
   "cell_type": "code",
   "execution_count": 4,
   "metadata": {},
   "outputs": [
    {
     "data": {
      "text/html": [
       "<div>\n",
       "<style scoped>\n",
       "    .dataframe tbody tr th:only-of-type {\n",
       "        vertical-align: middle;\n",
       "    }\n",
       "\n",
       "    .dataframe tbody tr th {\n",
       "        vertical-align: top;\n",
       "    }\n",
       "\n",
       "    .dataframe thead th {\n",
       "        text-align: right;\n",
       "    }\n",
       "</style>\n",
       "<table border=\"1\" class=\"dataframe\">\n",
       "  <thead>\n",
       "    <tr style=\"text-align: right;\">\n",
       "      <th></th>\n",
       "      <th>Species</th>\n",
       "      <th>Stock</th>\n",
       "      <th>Stock_Year</th>\n",
       "      <th>Age</th>\n",
       "      <th>maturity</th>\n",
       "      <th>survivorship</th>\n",
       "      <th>fecundity (num female pups per year)</th>\n",
       "      <th>notes</th>\n",
       "      <th>model type</th>\n",
       "      <th>source_mat</th>\n",
       "      <th>...</th>\n",
       "      <th>age_50_maturity</th>\n",
       "      <th>length_maturity_cm</th>\n",
       "      <th>linf_cm</th>\n",
       "      <th>growth_coeff_k</th>\n",
       "      <th>lmax_cm</th>\n",
       "      <th>age_max_yrs</th>\n",
       "      <th>temp_pref</th>\n",
       "      <th>nursery</th>\n",
       "      <th>depth_ave</th>\n",
       "      <th>param_complete</th>\n",
       "    </tr>\n",
       "  </thead>\n",
       "  <tbody>\n",
       "    <tr>\n",
       "      <th>0</th>\n",
       "      <td>Carcharhinus tilstoni</td>\n",
       "      <td>ABTP-SWP</td>\n",
       "      <td>ABTP-SWP-13</td>\n",
       "      <td>0</td>\n",
       "      <td>0.000000</td>\n",
       "      <td>NaN</td>\n",
       "      <td>NaN</td>\n",
       "      <td>NaN</td>\n",
       "      <td>NaN</td>\n",
       "      <td>Harry 2013</td>\n",
       "      <td>...</td>\n",
       "      <td>6.1</td>\n",
       "      <td>125.0</td>\n",
       "      <td>218.0</td>\n",
       "      <td>0.089</td>\n",
       "      <td>166.0</td>\n",
       "      <td>15.0</td>\n",
       "      <td>0.0</td>\n",
       "      <td>0.0</td>\n",
       "      <td>75.0</td>\n",
       "      <td>0.0</td>\n",
       "    </tr>\n",
       "    <tr>\n",
       "      <th>1</th>\n",
       "      <td>Carcharhinus tilstoni</td>\n",
       "      <td>ABTP-SWP</td>\n",
       "      <td>ABTP-SWP-13</td>\n",
       "      <td>1</td>\n",
       "      <td>0.000000</td>\n",
       "      <td>NaN</td>\n",
       "      <td>NaN</td>\n",
       "      <td>NaN</td>\n",
       "      <td>NaN</td>\n",
       "      <td>Harry 2013</td>\n",
       "      <td>...</td>\n",
       "      <td>6.1</td>\n",
       "      <td>125.0</td>\n",
       "      <td>218.0</td>\n",
       "      <td>0.089</td>\n",
       "      <td>166.0</td>\n",
       "      <td>15.0</td>\n",
       "      <td>0.0</td>\n",
       "      <td>0.0</td>\n",
       "      <td>75.0</td>\n",
       "      <td>0.0</td>\n",
       "    </tr>\n",
       "    <tr>\n",
       "      <th>2</th>\n",
       "      <td>Carcharhinus tilstoni</td>\n",
       "      <td>ABTP-SWP</td>\n",
       "      <td>ABTP-SWP-13</td>\n",
       "      <td>2</td>\n",
       "      <td>0.000000</td>\n",
       "      <td>NaN</td>\n",
       "      <td>NaN</td>\n",
       "      <td>NaN</td>\n",
       "      <td>NaN</td>\n",
       "      <td>Harry 2013</td>\n",
       "      <td>...</td>\n",
       "      <td>6.1</td>\n",
       "      <td>125.0</td>\n",
       "      <td>218.0</td>\n",
       "      <td>0.089</td>\n",
       "      <td>166.0</td>\n",
       "      <td>15.0</td>\n",
       "      <td>0.0</td>\n",
       "      <td>0.0</td>\n",
       "      <td>75.0</td>\n",
       "      <td>0.0</td>\n",
       "    </tr>\n",
       "    <tr>\n",
       "      <th>3</th>\n",
       "      <td>Carcharhinus tilstoni</td>\n",
       "      <td>ABTP-SWP</td>\n",
       "      <td>ABTP-SWP-13</td>\n",
       "      <td>3</td>\n",
       "      <td>0.000000</td>\n",
       "      <td>NaN</td>\n",
       "      <td>NaN</td>\n",
       "      <td>NaN</td>\n",
       "      <td>NaN</td>\n",
       "      <td>Harry 2013</td>\n",
       "      <td>...</td>\n",
       "      <td>6.1</td>\n",
       "      <td>125.0</td>\n",
       "      <td>218.0</td>\n",
       "      <td>0.089</td>\n",
       "      <td>166.0</td>\n",
       "      <td>15.0</td>\n",
       "      <td>0.0</td>\n",
       "      <td>0.0</td>\n",
       "      <td>75.0</td>\n",
       "      <td>0.0</td>\n",
       "    </tr>\n",
       "    <tr>\n",
       "      <th>4</th>\n",
       "      <td>Carcharhinus tilstoni</td>\n",
       "      <td>ABTP-SWP</td>\n",
       "      <td>ABTP-SWP-13</td>\n",
       "      <td>4</td>\n",
       "      <td>0.016088</td>\n",
       "      <td>NaN</td>\n",
       "      <td>NaN</td>\n",
       "      <td>NaN</td>\n",
       "      <td>NaN</td>\n",
       "      <td>Harry 2013</td>\n",
       "      <td>...</td>\n",
       "      <td>6.1</td>\n",
       "      <td>125.0</td>\n",
       "      <td>218.0</td>\n",
       "      <td>0.089</td>\n",
       "      <td>166.0</td>\n",
       "      <td>15.0</td>\n",
       "      <td>0.0</td>\n",
       "      <td>0.0</td>\n",
       "      <td>75.0</td>\n",
       "      <td>0.0</td>\n",
       "    </tr>\n",
       "  </tbody>\n",
       "</table>\n",
       "<p>5 rows × 35 columns</p>\n",
       "</div>"
      ],
      "text/plain": [
       "                 Species     Stock   Stock_Year  Age  maturity survivorship  \\\n",
       "0  Carcharhinus tilstoni  ABTP-SWP  ABTP-SWP-13    0  0.000000          NaN   \n",
       "1  Carcharhinus tilstoni  ABTP-SWP  ABTP-SWP-13    1  0.000000          NaN   \n",
       "2  Carcharhinus tilstoni  ABTP-SWP  ABTP-SWP-13    2  0.000000          NaN   \n",
       "3  Carcharhinus tilstoni  ABTP-SWP  ABTP-SWP-13    3  0.000000          NaN   \n",
       "4  Carcharhinus tilstoni  ABTP-SWP  ABTP-SWP-13    4  0.016088          NaN   \n",
       "\n",
       "   fecundity (num female pups per year) notes model type  source_mat  ...  \\\n",
       "0                                   NaN   NaN        NaN  Harry 2013  ...   \n",
       "1                                   NaN   NaN        NaN  Harry 2013  ...   \n",
       "2                                   NaN   NaN        NaN  Harry 2013  ...   \n",
       "3                                   NaN   NaN        NaN  Harry 2013  ...   \n",
       "4                                   NaN   NaN        NaN  Harry 2013  ...   \n",
       "\n",
       "  age_50_maturity length_maturity_cm linf_cm growth_coeff_k lmax_cm  \\\n",
       "0             6.1              125.0   218.0          0.089   166.0   \n",
       "1             6.1              125.0   218.0          0.089   166.0   \n",
       "2             6.1              125.0   218.0          0.089   166.0   \n",
       "3             6.1              125.0   218.0          0.089   166.0   \n",
       "4             6.1              125.0   218.0          0.089   166.0   \n",
       "\n",
       "   age_max_yrs temp_pref nursery depth_ave param_complete  \n",
       "0         15.0       0.0     0.0      75.0            0.0  \n",
       "1         15.0       0.0     0.0      75.0            0.0  \n",
       "2         15.0       0.0     0.0      75.0            0.0  \n",
       "3         15.0       0.0     0.0      75.0            0.0  \n",
       "4         15.0       0.0     0.0      75.0            0.0  \n",
       "\n",
       "[5 rows x 35 columns]"
      ]
     },
     "execution_count": 4,
     "metadata": {},
     "output_type": "execute_result"
    }
   ],
   "source": [
    "# Import full dataset\n",
    "data = pd.read_excel('full_dataset.xlsx')\n",
    "#get rid of species that don't have full complement of trait data\n",
    "data = data[data.param_complete==0]\n",
    "data.head()"
   ]
  },
  {
   "cell_type": "code",
   "execution_count": 21,
   "metadata": {},
   "outputs": [],
   "source": [
    "# Add  offspring size and  litter size relative to length at maturity\n",
    "data['relative_litter_size'] = data.litter_size/data.length_maturity_cm\n",
    "data['relative_offspring_size'] = (data.offspring_size_mm/10)/data.length_maturity_cm"
   ]
  },
  {
   "cell_type": "code",
   "execution_count": 22,
   "metadata": {},
   "outputs": [
    {
     "data": {
      "text/plain": [
       "(505, 37)"
      ]
     },
     "execution_count": 22,
     "metadata": {},
     "output_type": "execute_result"
    }
   ],
   "source": [
    "# make datafame of only stocks which have age-structured maturity data\n",
    "# only data rows where SA-mat A\n",
    "mdata= data[data.SA_mat=='A']\n",
    "mdata.shape"
   ]
  },
  {
   "cell_type": "code",
   "execution_count": 29,
   "metadata": {},
   "outputs": [],
   "source": [
    "# Sort dataframe so reef associated is the baseline category?\n",
    "mdata = mdata.sort_values(by=['Species'])"
   ]
  },
  {
   "cell_type": "code",
   "execution_count": 24,
   "metadata": {},
   "outputs": [
    {
     "data": {
      "text/plain": [
       "(['reef-associated',\n",
       "  'demersal',\n",
       "  'pelagic',\n",
       "  'benthopelagic',\n",
       "  'pelagic-neritic'],\n",
       " array([0, 0, 0, 0, 0, 0, 0, 0, 0, 0, 0, 0, 0, 0, 0, 0, 0, 0, 0, 0, 0, 0,\n",
       "        0, 0, 0, 0, 0, 0, 0, 0, 0, 0, 0, 0, 0, 0, 0, 0, 0, 0, 0, 0, 0, 0,\n",
       "        0, 0, 0, 0, 0, 0, 0, 0, 0, 0, 0, 0, 0, 0, 0, 0, 0, 0, 0, 0, 0, 0,\n",
       "        0, 0, 0, 0, 0, 0, 0, 0, 0, 0, 0, 0, 0, 0, 0, 0, 0, 0, 0, 0, 0, 0,\n",
       "        0, 0, 0, 0, 0, 0, 0, 0, 0, 0, 0, 0, 0, 0, 0, 0, 0, 0, 0, 0, 0, 0,\n",
       "        0, 0, 0, 0, 0, 0, 0, 0, 0, 0, 0, 0, 0, 0, 0, 0, 0, 0, 0, 0, 0, 0,\n",
       "        0, 0, 0, 0, 0, 0, 0, 0, 0, 0, 0, 0, 0, 0, 0, 0, 0, 0, 0, 0, 1, 1,\n",
       "        1, 1, 1, 1, 1, 1, 1, 1, 1, 1, 1, 1, 1, 1, 1, 1, 1, 1, 1, 1, 1, 1,\n",
       "        1, 1, 1, 1, 0, 0, 0, 0, 0, 0, 0, 0, 0, 0, 0, 0, 0, 0, 0, 0, 0, 0,\n",
       "        0, 0, 0, 0, 0, 0, 0, 0, 0, 0, 0, 0, 0, 0, 0, 0, 0, 0, 0, 0, 0, 0,\n",
       "        0, 0, 0, 0, 0, 0, 0, 0, 0, 0, 0, 0, 2, 2, 2, 2, 2, 2, 2, 2, 2, 2,\n",
       "        2, 2, 2, 2, 2, 2, 2, 2, 2, 2, 2, 2, 2, 2, 2, 2, 2, 2, 2, 2, 2, 2,\n",
       "        2, 2, 2, 2, 2, 0, 0, 0, 0, 0, 0, 0, 0, 0, 0, 0, 0, 0, 0, 0, 0, 0,\n",
       "        0, 0, 0, 0, 0, 0, 0, 0, 0, 0, 0, 0, 0, 0, 0, 0, 0, 0, 0, 0, 0, 0,\n",
       "        0, 0, 0, 0, 0, 0, 0, 0, 0, 0, 0, 0, 0, 0, 0, 0, 0, 0, 0, 0, 0, 0,\n",
       "        0, 0, 0, 0, 0, 0, 0, 0, 0, 0, 0, 0, 0, 0, 0, 0, 0, 0, 0, 0, 0, 3,\n",
       "        3, 3, 3, 3, 3, 3, 3, 3, 3, 3, 3, 3, 3, 3, 3, 3, 3, 3, 3, 3, 3, 3,\n",
       "        3, 3, 3, 3, 3, 3, 3, 3, 3, 3, 3, 3, 3, 3, 3, 3, 3, 3, 3, 3, 3, 3,\n",
       "        3, 3, 3, 3, 3, 3, 3, 3, 3, 3, 3, 3, 3, 3, 0, 0, 0, 0, 0, 0, 0, 0,\n",
       "        0, 0, 0, 0, 0, 0, 0, 4, 4, 4, 4, 4, 4, 4, 4, 4, 4, 4, 4, 4, 4, 4,\n",
       "        4, 1, 1, 1, 1, 1, 1, 1, 1, 1, 1, 1, 1, 1, 1, 1, 1, 1, 1, 1, 1, 1,\n",
       "        1, 1, 1, 1, 1, 1, 1, 1, 1, 1, 1, 1, 1, 1, 1, 1, 1, 1, 1, 1, 1, 1,\n",
       "        0, 0, 0, 0, 0, 0, 0, 0, 0, 0, 0, 0, 0, 0, 0, 0, 0, 0, 0, 0, 0]))"
      ]
     },
     "execution_count": 24,
     "metadata": {},
     "output_type": "execute_result"
    }
   ],
   "source": [
    "# Index habitat types\n",
    "Hab, HI = indexall(mdata.habitat.values)\n",
    "Hab, HI"
   ]
  },
  {
   "cell_type": "code",
   "execution_count": 32,
   "metadata": {},
   "outputs": [
    {
     "data": {
      "text/plain": [
       "array([  0,   1,   8,  50,  70, 111, 133, 152, 165, 180, 182, 190, 232,\n",
       "       269, 277, 351, 369, 410, 425, 441, 442, 447, 484])"
      ]
     },
     "execution_count": 32,
     "metadata": {},
     "output_type": "execute_result"
    }
   ],
   "source": [
    "Sind"
   ]
  },
  {
   "cell_type": "code",
   "execution_count": 25,
   "metadata": {},
   "outputs": [],
   "source": [
    "# Make arrays of response variables\n",
    "AGE = mdata.Age.values\n",
    "nobs = len(AGE)\n",
    "MAT = mdata.maturity.values"
   ]
  },
  {
   "cell_type": "code",
   "execution_count": 26,
   "metadata": {},
   "outputs": [],
   "source": [
    "# Make an index for stock-years \n",
    "# Puts an index value unique to the stock year for each row in df\n",
    "StockYr, Is = indexall(mdata.Stock_Year.values)\n",
    "nstocks = len(StockYr)"
   ]
  },
  {
   "cell_type": "code",
   "execution_count": 27,
   "metadata": {},
   "outputs": [],
   "source": [
    "#Index of covariates\n",
    "Sind = np.array([list(mdata.Stock_Year.values).index(S) for S in StockYr])\n",
    "\n",
    "#make arrays of all the covariates\n",
    "#put Sind after all of these so they match the length of StockYr\n",
    "LMAX = mdata.lmax_cm.values[Sind]\n",
    "HAB = mdata.habitat.values[Sind]\n",
    "TROPH = mdata.trophic_level.values[Sind]\n",
    "OFFSZ = mdata.offspring_size_mm.values[Sind]\n",
    "ROFFSZ = mdata.relative_offspring_size.values[Sind]\n",
    "LITT = mdata.litter_size.values[Sind]\n",
    "RLITT = mdata.relative_litter_size.values[Sind]\n",
    "INTR = mdata.interbirth_interval_yrs.values[Sind]\n",
    "AMAT = mdata.age_50_maturity.values[Sind]\n",
    "LMAT = mdata.length_maturity_cm.values[Sind]\n",
    "LINF = mdata.linf_cm.values[Sind]\n",
    "K = mdata.growth_coeff_k.values[Sind]\n",
    "AMAX = mdata.age_max_yrs.values[Sind]\n",
    "DEP = mdata.depth_ave.values[Sind]"
   ]
  },
  {
   "cell_type": "code",
   "execution_count": 28,
   "metadata": {},
   "outputs": [],
   "source": [
    "# standardise continuous covariates\n",
    "LMAX = stdise(LMAX)\n",
    "TROPH = stdise(TROPH)\n",
    "OFFSZ = stdise(OFFSZ)\n",
    "ROFFSZ = stdise(ROFFSZ)\n",
    "LITT = stdise(LITT)\n",
    "RLITT = stdise(RLITT)\n",
    "INTR = stdise(INTR)\n",
    "LMAT = stdise(LMAT)\n",
    "LINF = stdise(LINF)\n",
    "K = stdise(K)\n",
    "AMAX = stdise(AMAX)\n",
    "DEP = stdise(DEP)\n",
    "#need to transform habitat somehow?"
   ]
  },
  {
   "cell_type": "code",
   "execution_count": 39,
   "metadata": {},
   "outputs": [],
   "source": [
    "#Indices for habitat types\n",
    "REEF = np.array([('reef-associated' in g)*1 for g in mdata.habitat.values.astype(str)])[Sind]\n",
    "DEM = np.array([('demersal' in g)*1 for g in mdata.habitat.values.astype(str)])[Sind]\n",
    "PEL = np.array([('pelagic' in g)*1 for g in mdata.habitat.values.astype(str)])[Sind]\n",
    "BENPEL = np.array([('benthopelagic' in g)*1 for g in mdata.habitat.values.astype(str)])[Sind]\n",
    "PELNER = np.array([('pelagic-neritic' in g)*1 for g in mdata.habitat.values.astype(str)])[Sind]"
   ]
  },
  {
   "cell_type": "code",
   "execution_count": 40,
   "metadata": {},
   "outputs": [
    {
     "data": {
      "text/plain": [
       "array([0, 0, 0, 0, 0, 0, 0, 0, 0, 0, 0, 0, 0, 0, 0, 0, 0, 0, 1, 0, 0, 0,\n",
       "       0])"
      ]
     },
     "execution_count": 40,
     "metadata": {},
     "output_type": "execute_result"
    }
   ],
   "source": [
    "PELNER"
   ]
  },
  {
   "cell_type": "code",
   "execution_count": 57,
   "metadata": {},
   "outputs": [],
   "source": [
    "# random effects model (Aaron model) including habitat as dummy variable?\n",
    "# include limited other covariates for now\n",
    "with pm.Model() as mat3:\n",
    "    \n",
    "    # Hierarchical a50\n",
    "    Ga50 = pm.Uniform('Ga50', 1.5, 25) \n",
    "    a50_sigma = pm.Exponential('a50_sigma', 0.5) \n",
    "    a50 = pm.Normal('a50x', Ga50, a50_sigma, shape=nstocks) #likelihood of a50 values given distributions of Ga50 and sigma_a50 (I think... what is shape for?)\n",
    "    # set up priors for slope values between a50 and covariates\n",
    "    # first argument is just a name not an actual dataset - doesn't need to match name of data array\n",
    "    β1 = pm.Normal('Lmax', 0, 3) \n",
    "   # β2 = pm.Normal('Linf', 0, 3) # don't use Linf bc same thing as Lmax, also effect too similar to K\n",
    "    β3 = pm.Normal('Depth', 0, 3)\n",
    "    β4 = pm.Normal('K', 0, 3)\n",
    "   # β5 = pm.Normal ('Habitat', 0, 3) # How to set this up for a categorical variable?\n",
    "   # β6 = pm.Normal('Interbirth_interval', 0, 3)\n",
    "   # β7 = pm.Normal('Amax', 0, 3)\n",
    "   # β8 = pm.Normal('Litter', 0, 3)\n",
    "   # β9 = pm.Normal('Offspring_size', 0, 3)\n",
    "   # β10 = pm.Normal('Trophic', 0, 3)\n",
    "  #  β11 = pm.Normal('Lmat', 0, 3)  # Don't use Lmat because same thing as a50\n",
    "    # Habitat category priors\n",
    "    # Don't use reef-associated because that's the base case?\n",
    "    βpn = pm.Normal('Pelagic-neritic', 0, 3)\n",
    "    βd = pm.Normal('Demersal', 0,3)\n",
    "    βp = pm.Normal('Pelagic', 0,3)\n",
    "    βbp = pm.Normal('Benthopelagic', 0,3)    \n",
    "\n",
    "    \n",
    "    # Hierarchical S\n",
    "    # S is the curve parameter determining steepness/shape of maturity curve\n",
    "    # GS is mean of distribution describing what S is\n",
    "    # S_sigma is standard dev of distribution around GS\n",
    "    GS = pm.Uniform('GS', 0.01, 10) # Uniform distribution of possible S values from 0.01 to 10\n",
    "    S_sigma = pm.Exponential('S_sigma', 1) #Exponential distribution of possible sigma values with lambda of 1\n",
    "    S = pm.Normal('Sx', GS, S_sigma, shape=nstocks) \n",
    "    \n",
    "    # priors for covariates of S\n",
    "    B1 = pm.Normal('Lmax-S', 0, 3)\n",
    "    B3 = pm.Normal('Depth-S', 0, 3)\n",
    "   # B4 = pm.Normal('K-S', 0, 3)\n",
    "   # β5 = pm.Normal ('Habitat', 0, 3) # How to set this up for a categorical variable?\n",
    "   # B6 = pm.Normal('Interbirth_interval-S', 0, 3)\n",
    "   # B7 = pm.Normal('Amax-S', 0, 3)\n",
    "   # B8 = pm.Normal('Litter-S', 0, 3)\n",
    "   # B9 = pm.Normal('Offspring_size-S', 0, 3)\n",
    "   # B10 = pm.Normal('Trophic-S', 0, 3)\n",
    "   \n",
    "    \n",
    "    # a50 model\n",
    "    # put all parameters that influence a50 here (all the β params from above)\n",
    "   # mu_a50 = pm.Deterministic(\"mu_a50\", a50 + β1*LMAX + β3*DEP + β4*K + β6*INTR + β7*AMAX + β8*LITT + β9*OFFSZ + β10*TROPH)\n",
    "    mu_a50 = pm.Deterministic(\"mu_a50\", a50 + β3*DEP + β4*K + βpn*PELNER + βd*DEM + βp*PEL + βbp*BENPEL)\n",
    "    \n",
    "    # Growth (S) model\n",
    "   # mu_S = pm.Deterministic(\"mu_S\", S + B1*LMAX + B3*DEP + B4*K + B6*INTR + B7*AMAX + B8*LITT + B9*OFFSZ + B10*TROPH)\n",
    "    mu_S = pm.Deterministic(\"mu_S\", S + B1*LMAX + B3*DEP)\n",
    "        \n",
    "    # Growth model\n",
    "    mu = 1/(1+tt.exp(-mu_S[Is]*(AGE-mu_a50[Is])))\n",
    "    #mu = 1/(1+tt.exp(-S[Is]*(AGE-mu_a50[Is])))\n",
    "    #mu = 1/(1+tt.exp(-S[Is]*(AGE-a50[Is])))\n",
    "\n",
    "    # tt=under the hood modelling stuff - tensor flow package. makes exp work\n",
    "    # Is is index values of stock codes\n",
    "\n",
    "    # Likelihood\n",
    "    S2 = pm.Uniform('S2', 0.0, 0.1) #variance for likelihood equation\n",
    "    Yi = pm.Normal('Yi', mu, S2, observed=MAT)\n",
    "    "
   ]
  },
  {
   "cell_type": "code",
   "execution_count": null,
   "metadata": {},
   "outputs": [
    {
     "name": "stderr",
     "output_type": "stream",
     "text": [
      "Auto-assigning NUTS sampler...\n",
      "Initializing NUTS using jitter+adapt_diag...\n",
      "Multiprocess sampling (2 chains in 2 jobs)\n",
      "NUTS: [S2, Depth-S, Lmax-S, Sx, S_sigma, GS, Benthopelagic, Pelagic, Demersal, Pelagic-neritic, K, Depth, Lmax, a50x, a50_sigma, Ga50]\n"
     ]
    },
    {
     "data": {
      "text/html": [
       "\n",
       "    <div>\n",
       "        <style>\n",
       "            /* Turns off some styling */\n",
       "            progress {\n",
       "                /* gets rid of default border in Firefox and Opera. */\n",
       "                border: none;\n",
       "                /* Needs to be in here for Safari polyfill so background images work as expected. */\n",
       "                background-size: auto;\n",
       "            }\n",
       "            .progress-bar-interrupted, .progress-bar-interrupted::-webkit-progress-bar {\n",
       "                background: #F44336;\n",
       "            }\n",
       "        </style>\n",
       "      <progress value='3490' class='' max='4000' style='width:300px; height:20px; vertical-align: middle;'></progress>\n",
       "      87.25% [3490/4000 9:13:57<1:20:57 Sampling 2 chains, 3 divergences]\n",
       "    </div>\n",
       "    "
      ],
      "text/plain": [
       "<IPython.core.display.HTML object>"
      ]
     },
     "metadata": {},
     "output_type": "display_data"
    }
   ],
   "source": [
    "# Sampling\n",
    "# go back to 5000 for final run\n",
    "with mat3:\n",
    "    trace3 = pm.sample(1000)"
   ]
  },
  {
   "cell_type": "code",
   "execution_count": null,
   "metadata": {},
   "outputs": [],
   "source": [
    "#check model performance\n",
    "#warnings.filterwarnings(\"Argument backend_kwargs has not effect in matplotlib.plot_distSupplied value won't be used\", 'once')\n",
    "pm.traceplot(trace3);"
   ]
  },
  {
   "cell_type": "code",
   "execution_count": null,
   "metadata": {},
   "outputs": [],
   "source": [
    "pm.summary(trace3)\n",
    "# looking for r-hat valeus of 1 - shows that model is converging"
   ]
  },
  {
   "cell_type": "code",
   "execution_count": null,
   "metadata": {},
   "outputs": [],
   "source": [
    "#forest plot for single model result\n",
    "pm.forestplot(trace3)\n",
    "plt.axvline(0,linestyle=':'); "
   ]
  }
 ],
 "metadata": {
  "kernelspec": {
   "display_name": "Python 3",
   "language": "python",
   "name": "python3"
  },
  "language_info": {
   "codemirror_mode": {
    "name": "ipython",
    "version": 3
   },
   "file_extension": ".py",
   "mimetype": "text/x-python",
   "name": "python",
   "nbconvert_exporter": "python",
   "pygments_lexer": "ipython3",
   "version": "3.7.6"
  }
 },
 "nbformat": 4,
 "nbformat_minor": 4
}
