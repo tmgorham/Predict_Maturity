{
 "cells": [
  {
   "cell_type": "markdown",
   "metadata": {},
   "source": [
    "# Full model for MacNeil *et al.* 2019 *Global status and conservation potential of reef sharks*"
   ]
  },
  {
   "cell_type": "code",
   "execution_count": 1,
   "metadata": {},
   "outputs": [],
   "source": [
    "# Import packages\n",
    "%matplotlib inline\n",
    "\n",
    "import datetime\n",
    "from itertools import product\n",
    "import logging\n",
    "import pickle\n",
    "import pymc3 as pm\n",
    "from matplotlib import pyplot as plt\n",
    "from matplotlib.offsetbox import AnchoredText\n",
    "from matplotlib.ticker import FuncFormatter, StrMethodFormatter\n",
    "import numpy as np\n",
    "import pandas as pd\n",
    "import scipy as sp\n",
    "import seaborn as sns\n",
    "import os\n",
    "from math import isnan\n",
    "from sklearn.preprocessing import LabelEncoder\n",
    "from theano import tensor as tt\n",
    "from theano import shared\n",
    "from collections import Counter\n",
    "import cmocean as co\n",
    "import datetime as dt\n",
    "import matplotlib as mp\n",
    "import arviz as az\n",
    "mp.rcParams['pdf.fonttype'] = 42\n",
    "mp.rcParams['ps.fonttype'] = 42"
   ]
  },
  {
   "cell_type": "code",
   "execution_count": 2,
   "metadata": {},
   "outputs": [],
   "source": [
    "# Helper function\n",
    "def indexall(L):\n",
    "    poo = []\n",
    "    for p in L:\n",
    "        if not p in poo:\n",
    "            poo.append(p)\n",
    "    Ix = np.array([poo.index(p) for p in L])\n",
    "    return poo,Ix\n",
    "\n",
    "def subindexall(short,long):\n",
    "    poo = []\n",
    "    out = []\n",
    "    for s,l in zip(short,long):\n",
    "        if not l in poo:\n",
    "            poo.append(l)\n",
    "            out.append(s)\n",
    "    return indexall(out)\n",
    "\n",
    "match = lambda a, b: [ b.index(x) if x in b else None for x in a ]\n",
    "grep = lambda s, l: np.array([i for i in l if s in i])\n",
    "\n",
    "# Function to standardize covariates\n",
    "def stdize(x):\n",
    "    return (x-np.mean(x))/(np.std(x)*2)\n",
    "\n",
    "def invlogit(x):\n",
    "    return np.exp(x)/(1+np.exp(x))\n",
    "\n",
    "def gelplot(pj,vector,posy,csize=40,lwd50=7,lwd95=1):\n",
    "    if np.percentile(vector,2.5)<0 and 0<np.percentile(vector,97.5):\n",
    "        pj.plot(np.median(vector),posy,'.',markersize=csize,c='grey')\n",
    "        pj.plot((np.percentile(vector,2.5),np.percentile(vector,97.5)),(posy,posy),linewidth=lwd95,c='grey')\n",
    "        pj.plot((np.percentile(vector,25),np.percentile(vector,75)),(posy,posy),linewidth=lwd50,c='grey')\n",
    "    else:\n",
    "        pj.plot(np.median(vector),posy,'.',markersize=csize,c='black')\n",
    "        pj.plot((np.percentile(vector,2.5),np.percentile(vector,97.5)),(posy,posy),linewidth=lwd95,c='black')\n",
    "        pj.plot((np.percentile(vector,25),np.percentile(vector,75)),(posy,posy),linewidth=lwd50,c='black')\n",
    "        \n",
    "    if np.percentile(vector,25)<0 and 0<np.percentile(vector,75):\n",
    "        pj.plot(np.median(vector),posy,'.',markersize=csize,c='white')"
   ]
  },
  {
   "cell_type": "markdown",
   "metadata": {},
   "source": [
    "# Data"
   ]
  },
  {
   "cell_type": "markdown",
   "metadata": {},
   "source": [
    "### Import FinPrint data"
   ]
  },
  {
   "cell_type": "code",
   "execution_count": 3,
   "metadata": {
    "scrolled": true
   },
   "outputs": [
    {
     "name": "stderr",
     "output_type": "stream",
     "text": [
      "/Users/aaronmacneil/opt/anaconda3/lib/python3.8/site-packages/IPython/core/interactiveshell.py:3071: DtypeWarning: Columns (23,26,57,58) have mixed types.Specify dtype option on import or set low_memory=False.\n",
      "  has_raised = await self.run_ast_nodes(code_ast.body, cell_name,\n"
     ]
    },
    {
     "data": {
      "text/plain": [
       "array(['region_name', 'region_id', 'location_name', 'location_code',\n",
       "       'location_id', 'site_name', 'site_code', 'site_id', 'reef_name',\n",
       "       'reef_type', 'reef_code', 'reef_id', 'trip_year', 'trip_code',\n",
       "       'set_id', 'set_code', 'set_date', 'set_latitude', 'set_longitude',\n",
       "       'maxn', 'functional_group', 'depth', 'drop_time', 'haul_time',\n",
       "       'bait', 'bait_oiled', 'current_flow_estimated',\n",
       "       'current_flow_instrumented', 'visibility', 'field_of_view',\n",
       "       'substrate_relief_sd', 'substrate_relief_mean',\n",
       "       'equipment_frame_type', 'equipment_camera',\n",
       "       'equipment_stereo_camera', 'equipment_camera_height',\n",
       "       'equipment_arm_length', 'ascidians', 'bleached_corals', 'bryozoa',\n",
       "       'consolidated', 'crinoids', 'halimeda', 'hard_coral', 'hydrocoral',\n",
       "       'hydroids', 'invertebrate_complex', 'macroalgae', 'mangrove',\n",
       "       'seagrass', 'soft_coral', 'sponge', 'true_anemones',\n",
       "       'unconsolidated', 'zoanthids', 'video_length_watched',\n",
       "       'video_filename', 'video_source', 'video_filepath',\n",
       "       'splendor_image_url', 'total_assignments', 'reviewed_assignments',\n",
       "       'has_complete_master', 'protection_status', 'mpa_name', 'mpa_area',\n",
       "       'mpa_year_founded', 'mpa_isolation', 'mpa_compliance', 'site_type',\n",
       "       'bait_family', 'PI', 'Remote', 'Shark_Protection_Status',\n",
       "       'Shark_fishing_restrictions', 'Shark_gears', 'Datasheet_Source',\n",
       "       'set_productivity_2017ave', 'local_population_2010',\n",
       "       'local_population_2015',\n",
       "       'population_proporationaldifference_2010.15', 'drop_hr', 'LatLon',\n",
       "       'Grav_NC', 'Grav_Total', 'Grav_Cities', 'Grav_NP'], dtype=object)"
      ]
     },
     "execution_count": 3,
     "metadata": {},
     "output_type": "execute_result"
    }
   ],
   "source": [
    "fpdata = pd.read_csv('FinPrint_Set_Data.csv')\n",
    "fpdata.columns.values"
   ]
  },
  {
   "cell_type": "code",
   "execution_count": 4,
   "metadata": {},
   "outputs": [
    {
     "data": {
      "text/plain": [
       "array([nan], dtype=object)"
      ]
     },
     "execution_count": 4,
     "metadata": {},
     "output_type": "execute_result"
    }
   ],
   "source": [
    "fpdata.Shark_Protection_Status[fpdata.Shark_Protection_Status.isnull()].unique()"
   ]
  },
  {
   "cell_type": "code",
   "execution_count": 5,
   "metadata": {},
   "outputs": [
    {
     "data": {
      "text/plain": [
       "array(['I', 'B', 'A', 'V', 'C', 'O'], dtype=object)"
      ]
     },
     "execution_count": 5,
     "metadata": {},
     "output_type": "execute_result"
    }
   ],
   "source": [
    "fpdata.site_type.unique()"
   ]
  },
  {
   "cell_type": "code",
   "execution_count": 6,
   "metadata": {},
   "outputs": [
    {
     "data": {
      "text/plain": [
       "(171810, 87)"
      ]
     },
     "execution_count": 6,
     "metadata": {},
     "output_type": "execute_result"
    }
   ],
   "source": [
    "fpdata.shape"
   ]
  },
  {
   "cell_type": "code",
   "execution_count": 7,
   "metadata": {},
   "outputs": [
    {
     "data": {
      "text/plain": [
       "array(['Species; Gear; Entrants; Temporal', 'Area; Gear; Species',\n",
       "       'Species; Bag; Entrants; Gear; Area', 'Area', 'Area; Entrants',\n",
       "       'Gear', nan, 'Area; Bag; Entrants', 'Gear; Bag; Area', 'Bag; Area',\n",
       "       'Entrants; Temporal; Gear; Species', 'Entrants; Area',\n",
       "       'Temporal; Entrants; Species', 'Gear; Species',\n",
       "       'Area; Entrants; Species', 'Entrants',\n",
       "       'Temporal; Size; Bag; Entrants; Species', 'Species',\n",
       "       'Size; Bag; Entrants; Species', 'Species; Gear', 'Species; Bag',\n",
       "       'Gear; Bag; Species', 'Gear; Species; Bag',\n",
       "       'Size; Bag; Entrants; Species; Gear', 'Size', 'Entrants; Gear'],\n",
       "      dtype=object)"
      ]
     },
     "execution_count": 7,
     "metadata": {},
     "output_type": "execute_result"
    }
   ],
   "source": [
    "fpdata.Shark_fishing_restrictions.unique()"
   ]
  },
  {
   "cell_type": "code",
   "execution_count": 8,
   "metadata": {},
   "outputs": [
    {
     "data": {
      "text/plain": [
       "array(['FP_location_id', 'FP_location_name', 'CoastLength',\n",
       "       'FP_location_code', 'EPI', 'Ehealth', 'EcoVitality',\n",
       "       'EPI_location_name', 'TradeHub', 'GINI_location_name', 'GINI_year',\n",
       "       'GINI', 'HDI_location_name', 'HDI_year', 'HDI',\n",
       "       'WGI_location_name', 'Voice_Accountability_year',\n",
       "       'Voice_Accountability', 'Government_Effectiveness_year',\n",
       "       'Government_Effectiveness', 'Regulatory_Quality_year',\n",
       "       'Regulatory_Quality', 'Rule_of_Law_year', 'Rule_of_Law',\n",
       "       'Control_Corruption_year', 'Control_Corruption',\n",
       "       'GDP_location_name', 'GDP_year', 'GDP_per_capita_USD',\n",
       "       'Population_location_name', 'Population_year', 'Population',\n",
       "       'SAUP_EEZ_name', 'Catch_year', 'Total_catch_tonnes',\n",
       "       'Total_catch_reported_only', 'Total_catch_value',\n",
       "       'Reef_catch_tonnes', 'Reef_catch_value', 'Tuna_catch_tonnes',\n",
       "       'Tuna_catch_value', 'Reefshark_catch_tonnes',\n",
       "       'Reefshark_catch_value', 'Shark_catch_tonnes', 'Shark_catch_value',\n",
       "       'Bechedemer_catch_tonnes', 'Bechedemer_catch_value',\n",
       "       'colin_SAUP_reef_sharks_catch_2016-2014', 'tax_haven',\n",
       "       'Shark_Sanctuary'], dtype=object)"
      ]
     },
     "execution_count": 8,
     "metadata": {},
     "output_type": "execute_result"
    }
   ],
   "source": [
    "# Import location-scale data\n",
    "ldata = pd.read_csv('Location_Covariates.csv')\n",
    "ldata.columns.values"
   ]
  },
  {
   "cell_type": "code",
   "execution_count": 9,
   "metadata": {},
   "outputs": [],
   "source": [
    "critter = 'sharks'"
   ]
  },
  {
   "cell_type": "code",
   "execution_count": 10,
   "metadata": {},
   "outputs": [
    {
     "data": {
      "text/plain": [
       "array(['apex', 'benthic_rover', 'guitar', 'pelagic', 'reef_meso',\n",
       "       'large_ray', 'small_ray', 'coastal_rover', 'nocturnal_invader'],\n",
       "      dtype=object)"
      ]
     },
     "execution_count": 10,
     "metadata": {},
     "output_type": "execute_result"
    }
   ],
   "source": [
    "fpdata['functional_group'].unique()"
   ]
  },
  {
   "cell_type": "code",
   "execution_count": 11,
   "metadata": {},
   "outputs": [],
   "source": [
    "# Grab only sharks\n",
    "poo = fpdata[fpdata['functional_group'].isin(['reef_meso','apex','coastal_rover','benthic_rover', 'nocturnal_invader'])]"
   ]
  },
  {
   "cell_type": "code",
   "execution_count": 12,
   "metadata": {},
   "outputs": [
    {
     "data": {
      "text/plain": [
       "array(['apex', 'benthic_rover', 'reef_meso', 'coastal_rover',\n",
       "       'nocturnal_invader'], dtype=object)"
      ]
     },
     "execution_count": 12,
     "metadata": {},
     "output_type": "execute_result"
    }
   ],
   "source": [
    "poo.functional_group.unique()"
   ]
  },
  {
   "cell_type": "code",
   "execution_count": 13,
   "metadata": {},
   "outputs": [],
   "source": [
    "# Sum maxn's given set id's\n",
    "tmp = poo.groupby(['set_id'], as_index=False)['maxn'].sum()\n",
    "tmp.columns = ['set_id','MaxN_shark']"
   ]
  },
  {
   "cell_type": "code",
   "execution_count": 14,
   "metadata": {},
   "outputs": [
    {
     "data": {
      "text/plain": [
       "array(['set_id', 'MaxN_shark'], dtype=object)"
      ]
     },
     "execution_count": 14,
     "metadata": {},
     "output_type": "execute_result"
    }
   ],
   "source": [
    "tmp.columns.values"
   ]
  },
  {
   "cell_type": "code",
   "execution_count": 15,
   "metadata": {},
   "outputs": [],
   "source": [
    "xdata = fpdata.merge(tmp, on=['set_id']).drop_duplicates(subset=['set_id'])"
   ]
  },
  {
   "cell_type": "code",
   "execution_count": 16,
   "metadata": {},
   "outputs": [
    {
     "data": {
      "text/plain": [
       "2075    9\n",
       "Name: MaxN_shark, dtype: int64"
      ]
     },
     "execution_count": 16,
     "metadata": {},
     "output_type": "execute_result"
    }
   ],
   "source": [
    "tmp.loc[tmp.set_id==2635].MaxN_shark"
   ]
  },
  {
   "cell_type": "code",
   "execution_count": 17,
   "metadata": {},
   "outputs": [
    {
     "data": {
      "text/plain": [
       "(19090, 88)"
      ]
     },
     "execution_count": 17,
     "metadata": {},
     "output_type": "execute_result"
    }
   ],
   "source": [
    "np.shape(xdata)"
   ]
  },
  {
   "cell_type": "code",
   "execution_count": 18,
   "metadata": {},
   "outputs": [
    {
     "name": "stderr",
     "output_type": "stream",
     "text": [
      "<ipython-input-18-393033fccd7d>:4: SettingWithCopyWarning: \n",
      "A value is trying to be set on a copy of a slice from a DataFrame\n",
      "\n",
      "See the caveats in the documentation: https://pandas.pydata.org/pandas-docs/stable/user_guide/indexing.html#returning-a-view-versus-a-copy\n",
      "  xdata.location_name[xdata.site_name=='Rowley Shoals'] = 'Australia IOT'\n",
      "<ipython-input-18-393033fccd7d>:5: SettingWithCopyWarning: \n",
      "A value is trying to be set on a copy of a slice from a DataFrame\n",
      "\n",
      "See the caveats in the documentation: https://pandas.pydata.org/pandas-docs/stable/user_guide/indexing.html#returning-a-view-versus-a-copy\n",
      "  xdata.location_name[xdata.site_name=='Scott Reef'] = 'Australia IOT'\n",
      "<ipython-input-18-393033fccd7d>:6: SettingWithCopyWarning: \n",
      "A value is trying to be set on a copy of a slice from a DataFrame\n",
      "\n",
      "See the caveats in the documentation: https://pandas.pydata.org/pandas-docs/stable/user_guide/indexing.html#returning-a-view-versus-a-copy\n",
      "  xdata.location_name[xdata.site_name=='Houtman Abrolhos'] = 'Australia IOT'\n",
      "<ipython-input-18-393033fccd7d>:7: SettingWithCopyWarning: \n",
      "A value is trying to be set on a copy of a slice from a DataFrame\n",
      "\n",
      "See the caveats in the documentation: https://pandas.pydata.org/pandas-docs/stable/user_guide/indexing.html#returning-a-view-versus-a-copy\n",
      "  xdata.location_name[xdata.site_name=='Cocos-Keeling'] = 'Australia IOT'\n",
      "<ipython-input-18-393033fccd7d>:8: SettingWithCopyWarning: \n",
      "A value is trying to be set on a copy of a slice from a DataFrame\n",
      "\n",
      "See the caveats in the documentation: https://pandas.pydata.org/pandas-docs/stable/user_guide/indexing.html#returning-a-view-versus-a-copy\n",
      "  xdata.location_name[xdata.site_name=='Christmas Island'] = 'Australia IOT'\n",
      "<ipython-input-18-393033fccd7d>:9: SettingWithCopyWarning: \n",
      "A value is trying to be set on a copy of a slice from a DataFrame\n",
      "\n",
      "See the caveats in the documentation: https://pandas.pydata.org/pandas-docs/stable/user_guide/indexing.html#returning-a-view-versus-a-copy\n",
      "  xdata.location_name[xdata.site_name=='Pedro Bank'] = 'Jamaica PB'\n",
      "<ipython-input-18-393033fccd7d>:10: SettingWithCopyWarning: \n",
      "A value is trying to be set on a copy of a slice from a DataFrame\n",
      "\n",
      "See the caveats in the documentation: https://pandas.pydata.org/pandas-docs/stable/user_guide/indexing.html#returning-a-view-versus-a-copy\n",
      "  xdata.location_name[xdata.site_name=='Cayo Serranilla'] = 'Columbia SF'\n",
      "<ipython-input-18-393033fccd7d>:11: SettingWithCopyWarning: \n",
      "A value is trying to be set on a copy of a slice from a DataFrame\n",
      "\n",
      "See the caveats in the documentation: https://pandas.pydata.org/pandas-docs/stable/user_guide/indexing.html#returning-a-view-versus-a-copy\n",
      "  xdata.location_name[xdata.site_name=='Old Providence Island'] = 'Columbia SF'\n",
      "<ipython-input-18-393033fccd7d>:13: SettingWithCopyWarning: \n",
      "A value is trying to be set on a copy of a slice from a DataFrame\n",
      "\n",
      "See the caveats in the documentation: https://pandas.pydata.org/pandas-docs/stable/user_guide/indexing.html#returning-a-view-versus-a-copy\n",
      "  xdata.location_name[xdata.location_name=='Saudi Arabia'] = 'Saudi Arabia-Red Sea'\n",
      "<ipython-input-18-393033fccd7d>:14: SettingWithCopyWarning: \n",
      "A value is trying to be set on a copy of a slice from a DataFrame\n",
      "\n",
      "See the caveats in the documentation: https://pandas.pydata.org/pandas-docs/stable/user_guide/indexing.html#returning-a-view-versus-a-copy\n",
      "  xdata.location_name[xdata.location_name=='British West Indies '] = 'Montserrat'\n",
      "<ipython-input-18-393033fccd7d>:15: SettingWithCopyWarning: \n",
      "A value is trying to be set on a copy of a slice from a DataFrame\n",
      "\n",
      "See the caveats in the documentation: https://pandas.pydata.org/pandas-docs/stable/user_guide/indexing.html#returning-a-view-versus-a-copy\n",
      "  ldata.FP_location_name[ldata.FP_location_name=='Saudi Arabia'] = 'Saudi Arabia-Red Sea'\n",
      "<ipython-input-18-393033fccd7d>:16: SettingWithCopyWarning: \n",
      "A value is trying to be set on a copy of a slice from a DataFrame\n",
      "\n",
      "See the caveats in the documentation: https://pandas.pydata.org/pandas-docs/stable/user_guide/indexing.html#returning-a-view-versus-a-copy\n",
      "  ldata.FP_location_name[ldata.FP_location_name=='British West Indies '] = 'Montserrat'\n",
      "<ipython-input-18-393033fccd7d>:18: SettingWithCopyWarning: \n",
      "A value is trying to be set on a copy of a slice from a DataFrame\n",
      "\n",
      "See the caveats in the documentation: https://pandas.pydata.org/pandas-docs/stable/user_guide/indexing.html#returning-a-view-versus-a-copy\n",
      "  xdata.location_name[xdata.site_name=='Aruba'] = 'Dutch Antilles Leeward'\n",
      "<ipython-input-18-393033fccd7d>:19: SettingWithCopyWarning: \n",
      "A value is trying to be set on a copy of a slice from a DataFrame\n",
      "\n",
      "See the caveats in the documentation: https://pandas.pydata.org/pandas-docs/stable/user_guide/indexing.html#returning-a-view-versus-a-copy\n",
      "  xdata.location_name[xdata.site_name=='Bonaire'] = 'Dutch Antilles Leeward'\n",
      "<ipython-input-18-393033fccd7d>:20: SettingWithCopyWarning: \n",
      "A value is trying to be set on a copy of a slice from a DataFrame\n",
      "\n",
      "See the caveats in the documentation: https://pandas.pydata.org/pandas-docs/stable/user_guide/indexing.html#returning-a-view-versus-a-copy\n",
      "  xdata.location_name[xdata.site_name=='Curacao'] = 'Dutch Antilles Leeward'\n",
      "<ipython-input-18-393033fccd7d>:21: SettingWithCopyWarning: \n",
      "A value is trying to be set on a copy of a slice from a DataFrame\n",
      "\n",
      "See the caveats in the documentation: https://pandas.pydata.org/pandas-docs/stable/user_guide/indexing.html#returning-a-view-versus-a-copy\n",
      "  xdata.location_name[xdata.site_name=='Saba'] = 'Dutch Antilles Windward'\n",
      "<ipython-input-18-393033fccd7d>:22: SettingWithCopyWarning: \n",
      "A value is trying to be set on a copy of a slice from a DataFrame\n",
      "\n",
      "See the caveats in the documentation: https://pandas.pydata.org/pandas-docs/stable/user_guide/indexing.html#returning-a-view-versus-a-copy\n",
      "  xdata.location_name[xdata.site_name=='Saba Bank'] = 'Dutch Antilles Windward'\n",
      "<ipython-input-18-393033fccd7d>:23: SettingWithCopyWarning: \n",
      "A value is trying to be set on a copy of a slice from a DataFrame\n",
      "\n",
      "See the caveats in the documentation: https://pandas.pydata.org/pandas-docs/stable/user_guide/indexing.html#returning-a-view-versus-a-copy\n",
      "  xdata.location_name[xdata.site_name=='St Eustatius'] = 'Dutch Antilles Windward'\n",
      "<ipython-input-18-393033fccd7d>:24: SettingWithCopyWarning: \n",
      "A value is trying to be set on a copy of a slice from a DataFrame\n",
      "\n",
      "See the caveats in the documentation: https://pandas.pydata.org/pandas-docs/stable/user_guide/indexing.html#returning-a-view-versus-a-copy\n",
      "  xdata.location_name[xdata.site_name=='St Maarten'] = 'Dutch Antilles Windward'\n"
     ]
    }
   ],
   "source": [
    "# Break out Australia IOT and Dutch Antilles Leeward\n",
    "\n",
    "xdata.location_name[xdata.site_name=='Ashmore'] = 'Australia IOT'\n",
    "xdata.location_name[xdata.site_name=='Rowley Shoals'] = 'Australia IOT'\n",
    "xdata.location_name[xdata.site_name=='Scott Reef'] = 'Australia IOT'\n",
    "xdata.location_name[xdata.site_name=='Houtman Abrolhos'] = 'Australia IOT'\n",
    "xdata.location_name[xdata.site_name=='Cocos-Keeling'] = 'Australia IOT'\n",
    "xdata.location_name[xdata.site_name=='Christmas Island'] = 'Australia IOT'\n",
    "xdata.location_name[xdata.site_name=='Pedro Bank'] = 'Jamaica PB'\n",
    "xdata.location_name[xdata.site_name=='Cayo Serranilla'] = 'Columbia SF'\n",
    "xdata.location_name[xdata.site_name=='Old Providence Island'] = 'Columbia SF'\n",
    "\n",
    "xdata.location_name[xdata.location_name=='Saudi Arabia'] = 'Saudi Arabia-Red Sea'\n",
    "xdata.location_name[xdata.location_name=='British West Indies '] = 'Montserrat'\n",
    "ldata.FP_location_name[ldata.FP_location_name=='Saudi Arabia'] = 'Saudi Arabia-Red Sea'\n",
    "ldata.FP_location_name[ldata.FP_location_name=='British West Indies '] = 'Montserrat' \n",
    "\n",
    "xdata.location_name[xdata.site_name=='Aruba'] = 'Dutch Antilles Leeward'\n",
    "xdata.location_name[xdata.site_name=='Bonaire'] = 'Dutch Antilles Leeward'\n",
    "xdata.location_name[xdata.site_name=='Curacao'] = 'Dutch Antilles Leeward'\n",
    "xdata.location_name[xdata.site_name=='Saba'] = 'Dutch Antilles Windward'\n",
    "xdata.location_name[xdata.site_name=='Saba Bank'] = 'Dutch Antilles Windward'\n",
    "xdata.location_name[xdata.site_name=='St Eustatius'] = 'Dutch Antilles Windward'\n",
    "xdata.location_name[xdata.site_name=='St Maarten'] = 'Dutch Antilles Windward'\n"
   ]
  },
  {
   "cell_type": "code",
   "execution_count": 19,
   "metadata": {},
   "outputs": [
    {
     "data": {
      "text/plain": [
       "array(['USA-Western Atlantic', 'Bahamas', 'Australia-Pacific',\n",
       "       'Australia IOT', 'Maldives', 'Malaysia', 'Solomon Islands',\n",
       "       'Indonesia', 'Palau', 'American Samoa', 'New Caledonia', 'Belize',\n",
       "       'Jamaica', 'Trinidad and Tobago', 'Vanuatu', 'British West Indies',\n",
       "       'Fiji', 'Colombia', 'Australia-Indian Ocean', 'South Africa',\n",
       "       'Mozambique', 'Niue', 'Japan', 'Seychelles', 'Taiwan', 'Kiribati',\n",
       "       'Qatar', 'Federated States of Micronesia', 'Vietnam',\n",
       "       'Philippines', 'French Polynesia', 'Samoa', 'Turks and Caicos',\n",
       "       'Antigua and Barbuda', 'Barbados', 'Brazil', 'Columbia SF',\n",
       "       'Jamaica PB', 'Mayotte', 'USA-Pacific', 'Sri Lanka', 'Tanzania',\n",
       "       'Papua New Guinea', 'Tonga', 'New Zealand', 'India', 'Kenya',\n",
       "       'Dutch Antilles Windward', 'Madagascar', 'Saudi Arabia-Red Sea',\n",
       "       'Guam', 'Cook Islands', 'Dominican Republic', 'French West Indies',\n",
       "       'Dutch Antilles Leeward', 'Cuba', 'Bermuda', 'Puerto Rico'],\n",
       "      dtype=object)"
      ]
     },
     "execution_count": 19,
     "metadata": {},
     "output_type": "execute_result"
    }
   ],
   "source": [
    "xdata.location_name.unique()"
   ]
  },
  {
   "cell_type": "code",
   "execution_count": 20,
   "metadata": {},
   "outputs": [
    {
     "data": {
      "text/plain": [
       "(19090, 88)"
      ]
     },
     "execution_count": 20,
     "metadata": {},
     "output_type": "execute_result"
    }
   ],
   "source": [
    "np.shape(xdata)"
   ]
  },
  {
   "cell_type": "code",
   "execution_count": 21,
   "metadata": {},
   "outputs": [],
   "source": [
    "# Cut rows with no visibility values\n",
    "xdata = xdata[np.isfinite(xdata['visibility'])]\n",
    "# Cut rows with no hard coral values\n",
    "xdata = xdata[np.isfinite(xdata['hard_coral'])]\n",
    "# Cut rows with no rugosity values\n",
    "xdata = xdata[np.isfinite(xdata['substrate_relief_mean'])]"
   ]
  },
  {
   "cell_type": "code",
   "execution_count": 22,
   "metadata": {},
   "outputs": [
    {
     "data": {
      "text/plain": [
       "(15176, 88)"
      ]
     },
     "execution_count": 22,
     "metadata": {},
     "output_type": "execute_result"
    }
   ],
   "source": [
    "np.shape(xdata)"
   ]
  },
  {
   "cell_type": "code",
   "execution_count": 23,
   "metadata": {},
   "outputs": [
    {
     "data": {
      "text/plain": [
       "0.00032946758039009705"
      ]
     },
     "execution_count": 23,
     "metadata": {},
     "output_type": "execute_result"
    }
   ],
   "source": [
    "1-15171/15176"
   ]
  },
  {
   "cell_type": "code",
   "execution_count": 24,
   "metadata": {},
   "outputs": [
    {
     "data": {
      "text/plain": [
       "(15165, 88)"
      ]
     },
     "execution_count": 24,
     "metadata": {},
     "output_type": "execute_result"
    }
   ],
   "source": [
    "#\"\"\"\n",
    "# Remove high leverage observations\n",
    "xdata = xdata[xdata.set_id!=6783]\n",
    "xdata = xdata[xdata.set_id!=29122]\n",
    "xdata = xdata[xdata.set_id!=33986]\n",
    "xdata = xdata[xdata.set_id!=20819]\n",
    "xdata = xdata[xdata.set_id!=34989]\n",
    "xdata = xdata[xdata.set_id!=22974]\n",
    "xdata = xdata[xdata.set_id!=10335]\n",
    "xdata = xdata[xdata.set_id!=24488]\n",
    "xdata = xdata[xdata.set_id!=8863]\n",
    "xdata = xdata[xdata.set_id!=7255]\n",
    "xdata = xdata[xdata.set_id!=32874]\n",
    "np.shape(xdata)\n",
    "#\"\"\""
   ]
  },
  {
   "cell_type": "code",
   "execution_count": 25,
   "metadata": {},
   "outputs": [
    {
     "data": {
      "text/plain": [
       "array(['region_name', 'region_id', 'location_name', 'location_code',\n",
       "       'location_id', 'site_name', 'site_code', 'site_id', 'reef_name',\n",
       "       'reef_type', 'reef_code', 'reef_id', 'trip_year', 'trip_code',\n",
       "       'set_id', 'set_code', 'set_date', 'set_latitude', 'set_longitude',\n",
       "       'maxn', 'functional_group', 'depth', 'drop_time', 'haul_time',\n",
       "       'bait', 'bait_oiled', 'current_flow_estimated',\n",
       "       'current_flow_instrumented', 'visibility', 'field_of_view',\n",
       "       'substrate_relief_sd', 'substrate_relief_mean',\n",
       "       'equipment_frame_type', 'equipment_camera',\n",
       "       'equipment_stereo_camera', 'equipment_camera_height',\n",
       "       'equipment_arm_length', 'ascidians', 'bleached_corals', 'bryozoa',\n",
       "       'consolidated', 'crinoids', 'halimeda', 'hard_coral', 'hydrocoral',\n",
       "       'hydroids', 'invertebrate_complex', 'macroalgae', 'mangrove',\n",
       "       'seagrass', 'soft_coral', 'sponge', 'true_anemones',\n",
       "       'unconsolidated', 'zoanthids', 'video_length_watched',\n",
       "       'video_filename', 'video_source', 'video_filepath',\n",
       "       'splendor_image_url', 'total_assignments', 'reviewed_assignments',\n",
       "       'has_complete_master', 'protection_status', 'mpa_name', 'mpa_area',\n",
       "       'mpa_year_founded', 'mpa_isolation', 'mpa_compliance', 'site_type',\n",
       "       'bait_family', 'PI', 'Remote', 'Shark_Protection_Status',\n",
       "       'Shark_fishing_restrictions', 'Shark_gears', 'Datasheet_Source',\n",
       "       'set_productivity_2017ave', 'local_population_2010',\n",
       "       'local_population_2015',\n",
       "       'population_proporationaldifference_2010.15', 'drop_hr', 'LatLon',\n",
       "       'Grav_NC', 'Grav_Total', 'Grav_Cities', 'Grav_NP', 'MaxN_shark'],\n",
       "      dtype=object)"
      ]
     },
     "execution_count": 25,
     "metadata": {},
     "output_type": "execute_result"
    }
   ],
   "source": [
    "xdata.columns.values"
   ]
  },
  {
   "cell_type": "code",
   "execution_count": 26,
   "metadata": {},
   "outputs": [
    {
     "data": {
      "text/plain": [
       "371"
      ]
     },
     "execution_count": 26,
     "metadata": {},
     "output_type": "execute_result"
    }
   ],
   "source": [
    "len(xdata.reef_id.unique())"
   ]
  },
  {
   "cell_type": "code",
   "execution_count": 27,
   "metadata": {},
   "outputs": [],
   "source": [
    "xdata.to_csv('FPstudyFinal.csv')"
   ]
  },
  {
   "cell_type": "markdown",
   "metadata": {},
   "source": [
    "## Models"
   ]
  },
  {
   "cell_type": "code",
   "execution_count": 28,
   "metadata": {},
   "outputs": [],
   "source": [
    "#Responses\n",
    "MaxN = xdata.MaxN_shark.values\n",
    "OCC = (MaxN>0)*1"
   ]
  },
  {
   "cell_type": "code",
   "execution_count": 29,
   "metadata": {},
   "outputs": [
    {
     "data": {
      "text/plain": [
       "(5719, 0.3771183646554566, 15165)"
      ]
     },
     "execution_count": 29,
     "metadata": {},
     "output_type": "execute_result"
    }
   ],
   "source": [
    "sum(OCC),sum(OCC)/len(MaxN),len(OCC)"
   ]
  },
  {
   "cell_type": "markdown",
   "metadata": {},
   "source": [
    "Code up iterator for analysis"
   ]
  },
  {
   "cell_type": "code",
   "execution_count": 30,
   "metadata": {},
   "outputs": [],
   "source": [
    "# Hierarchical levels\n",
    "Reef,Ir = indexall(np.array(xdata.reef_id.values))\n",
    "nreefs = len(Reef)\n",
    "\n",
    "Site,Is = subindexall(xdata.site_name.values,xdata.reef_id.values)\n",
    "nsites = len(Site)\n",
    "\n",
    "LocationR,Ilr = subindexall(xdata.location_name.values,xdata.reef_id.values)\n",
    "\n",
    "LocationS,Ils = indexall(xdata.location_name.values)\n",
    "\n",
    "Location,Il = subindexall(xdata.location_name.values,xdata.site_name.values)\n",
    "nlocs = len(Location)\n",
    "\n",
    "Region,Ig = subindexall(xdata.region_name.values,xdata.location_name.values)\n",
    "nreg = len(Region)\n",
    "\n",
    "Lox,Ilx = indexall(xdata.site_name.values)"
   ]
  },
  {
   "cell_type": "code",
   "execution_count": 31,
   "metadata": {},
   "outputs": [],
   "source": [
    "# Lat/lon - national\n",
    "Lat = np.array([np.mean(xdata.set_latitude.values[xdata.location_name.values==L]) for L in Location])\n",
    "Lon = np.array([np.mean(xdata.set_longitude.values[xdata.location_name.values==L]) for L in Location])"
   ]
  },
  {
   "cell_type": "code",
   "execution_count": 32,
   "metadata": {},
   "outputs": [],
   "source": [
    "# Location key\n",
    "lkey = np.array([list(ldata.FP_location_name.values).index(l) for l in Location])\n",
    "# Site key\n",
    "skey = np.array([list(xdata.site_name.values).index(s) for s in Site])\n",
    "# Reef key\n",
    "rkey = np.array([list(xdata.reef_id.values).index(r) for r in Reef])"
   ]
  },
  {
   "cell_type": "code",
   "execution_count": 33,
   "metadata": {},
   "outputs": [
    {
     "data": {
      "text/plain": [
       "1.0"
      ]
     },
     "execution_count": 33,
     "metadata": {},
     "output_type": "execute_result"
    }
   ],
   "source": [
    "# Check uniqueness\n",
    "len(xdata.reef_id.unique())/len(xdata.reef_id.values[rkey])"
   ]
  },
  {
   "cell_type": "code",
   "execution_count": 34,
   "metadata": {},
   "outputs": [],
   "source": [
    "#\"\"\"\n",
    "# Function to standardize covariates\n",
    "def stdize(x):\n",
    "    return (x-np.mean(x))/(np.std(x)*2)"
   ]
  },
  {
   "cell_type": "code",
   "execution_count": 35,
   "metadata": {},
   "outputs": [
    {
     "data": {
      "text/plain": [
       "Index(['FP_location_id', 'FP_location_name', 'CoastLength', 'FP_location_code',\n",
       "       'EPI', 'Ehealth', 'EcoVitality', 'EPI_location_name', 'TradeHub',\n",
       "       'GINI_location_name', 'GINI_year', 'GINI', 'HDI_location_name',\n",
       "       'HDI_year', 'HDI', 'WGI_location_name', 'Voice_Accountability_year',\n",
       "       'Voice_Accountability', 'Government_Effectiveness_year',\n",
       "       'Government_Effectiveness', 'Regulatory_Quality_year',\n",
       "       'Regulatory_Quality', 'Rule_of_Law_year', 'Rule_of_Law',\n",
       "       'Control_Corruption_year', 'Control_Corruption', 'GDP_location_name',\n",
       "       'GDP_year', 'GDP_per_capita_USD', 'Population_location_name',\n",
       "       'Population_year', 'Population', 'SAUP_EEZ_name', 'Catch_year',\n",
       "       'Total_catch_tonnes', 'Total_catch_reported_only', 'Total_catch_value',\n",
       "       'Reef_catch_tonnes', 'Reef_catch_value', 'Tuna_catch_tonnes',\n",
       "       'Tuna_catch_value', 'Reefshark_catch_tonnes', 'Reefshark_catch_value',\n",
       "       'Shark_catch_tonnes', 'Shark_catch_value', 'Bechedemer_catch_tonnes',\n",
       "       'Bechedemer_catch_value', 'colin_SAUP_reef_sharks_catch_2016-2014',\n",
       "       'tax_haven', 'Shark_Sanctuary'],\n",
       "      dtype='object')"
      ]
     },
     "execution_count": 35,
     "metadata": {},
     "output_type": "execute_result"
    }
   ],
   "source": [
    "ldata.columns"
   ]
  },
  {
   "cell_type": "code",
   "execution_count": 36,
   "metadata": {},
   "outputs": [],
   "source": [
    "## Location-level covariates\n",
    "\n",
    "# Human development index\n",
    "HDI = ldata.HDI.values[lkey]\n",
    "\n",
    "# Voice and accountability\n",
    "VOICE = ldata.Voice_Accountability.values[lkey]\n",
    "\n",
    "# Population size\n",
    "POP = stdize(np.log(ldata.Population.values[lkey]))\n",
    "\n",
    "# Total catch\n",
    "CATCH = stdize(np.log(ldata.Reef_catch_tonnes.values[lkey]))\n",
    "\n",
    "# Shark catch\n",
    "SCAT = stdize(np.log(ldata.Shark_catch_tonnes.values[lkey]+1))\n",
    "\n",
    "# Beche de Mer\n",
    "BDM = stdize(np.log(ldata.Bechedemer_catch_tonnes.values[lkey]+1))\n",
    "\n",
    "# Tax haven\n",
    "TAX = ldata.tax_haven.values[lkey]\n",
    "\n",
    "# Shark sanctuary\n",
    "SSA = ldata.Shark_Sanctuary.values[lkey]\n",
    "\n",
    "# Coastline length\n",
    "CLN = stdize(ldata.CoastLength.values[lkey])"
   ]
  },
  {
   "cell_type": "code",
   "execution_count": 37,
   "metadata": {},
   "outputs": [],
   "source": [
    "# Site type\n",
    "STY,Isty = indexall(xdata.site_type.values[skey])\n",
    "nshabs = len(STY)"
   ]
  },
  {
   "cell_type": "markdown",
   "metadata": {},
   "source": [
    "#### Reef-level covariates"
   ]
  },
  {
   "cell_type": "code",
   "execution_count": 38,
   "metadata": {},
   "outputs": [],
   "source": [
    "# Temporary replacement of unknown protection status\n",
    "xdata['Shark_Protection_Status'] = xdata.Shark_Protection_Status.replace(np.nan, 'Unknown', regex=True)"
   ]
  },
  {
   "cell_type": "code",
   "execution_count": 39,
   "metadata": {},
   "outputs": [],
   "source": [
    "xdata['Shark_Protection_Status'] = xdata.Shark_Protection_Status.replace('Unknown', 'Closed',regex=True)"
   ]
  },
  {
   "cell_type": "code",
   "execution_count": 40,
   "metadata": {},
   "outputs": [
    {
     "name": "stderr",
     "output_type": "stream",
     "text": [
      "<ipython-input-40-e14af38a21ff>:42: UserWarning: Pandas doesn't allow columns to be created via a new attribute name - see https://pandas.pydata.org/pandas-docs/stable/indexing.html#attribute-access\n",
      "  xdata.Sharkgear = xdata.Shark_gears.fillna('None')\n"
     ]
    }
   ],
   "source": [
    "# Reef habitat type\n",
    "RTY,Irty = indexall(xdata.reef_type.values[rkey])\n",
    "nrty = len(RTY)\n",
    "\n",
    "# Shark protection status\n",
    "PRO = ['Open', 'Restricted', 'Closed']\n",
    "Ipro = np.array([PRO.index(x) for x in xdata.Shark_Protection_Status.values[rkey]])\n",
    "npro = len(PRO)\n",
    "\n",
    "# Flags for mutual exclusions\n",
    "CLO = (Ipro==PRO.index('Closed'))*1\n",
    "noCLO = 1-(Ipro==PRO.index('Closed'))*1\n",
    "RES = ((Ipro==PRO.index('Restricted'))*(1-(Ipro==PRO.index('Closed'))*1))*1\n",
    "\n",
    "# MPA size - standardize only places that have area\n",
    "MPS = xdata.mpa_area.fillna(-999).values[rkey]\n",
    "tmp = MPS!=-999\n",
    "#MPS[tmp] = stdize(np.log(MPS[tmp]+1))\n",
    "MPS[tmp] = np.log(MPS[tmp]+1)/max(np.log(MPS[tmp]+1))\n",
    "MPS[MPS==-999] = 0\n",
    "\n",
    "# MPA age - standardize only places that have year\n",
    "MPG = (xdata.mpa_year_founded.fillna(-999+2015).values[rkey]-2015)*-1\n",
    "tmp = MPG!=999\n",
    "#MPG[tmp] = stdize(MPG[tmp])\n",
    "MPG[tmp] = MPG[tmp]/max(MPG[tmp])\n",
    "MPG[MPG==999] = 0\n",
    "\n",
    "# High compliance\n",
    "HIG = (xdata.mpa_compliance.values[rkey]=='high')*1*CLO\n",
    "\n",
    "# Remote\n",
    "REM = (xdata.Remote.values[rkey]=='Yes')*1\n",
    "\n",
    "# Gravity NP\n",
    "GRAV = stdize(np.log(xdata.Grav_NP.values[rkey]+1))\n",
    "\n",
    "# Gravity NC\n",
    "GRAV_NC = stdize(np.log(xdata.Grav_NC.values[rkey]+1))\n",
    "\n",
    "# Shark gear\n",
    "xdata.Sharkgear = xdata.Shark_gears.fillna('None')\n",
    "# Gillnet\n",
    "GNET = np.array([('Gillnet' in g)*1 for g in xdata.Shark_gears.values.astype(str)])[rkey]\n",
    "# Drumline\n",
    "DRUM = np.array([('Drumline' in g)*1 for g in xdata.Shark_gears.values.astype(str)])[rkey]\n",
    "# Hook and line\n",
    "HLIN = np.array([('Hook & Line' in g)*1 for g in xdata.Shark_gears.values.astype(str)])[rkey]\n",
    "# Longline\n",
    "LLIN = np.array([('Longline' in g)*1 for g in xdata.Shark_gears.values.astype(str)])[rkey]\n",
    "# Spear\n",
    "SPE = np.array([('Spear' in g)*1 for g in xdata.Shark_gears.values.astype(str)])[rkey]\n",
    "# Trawl\n",
    "TRA = np.array([('Trawl' in g)*1 for g in xdata.Shark_gears.values.astype(str)])[rkey]\n",
    "# Blast\n",
    "BLA = np.array([('Blast' in g)*1 for g in xdata.Shark_gears.values.astype(str)])[rkey]\n",
    "# Gillnets or longlines\n",
    "GILL = ((GNET+LLIN)>0)*1\n",
    "\n",
    "# Bag\n",
    "BAG = np.array([('Bag' in g)*1 for g in xdata.Shark_fishing_restrictions.values.astype(str)])[rkey]\n",
    "\n",
    "# Temporal\n",
    "TEM = np.array([('Temporal' in g)*1 for g in xdata.Shark_fishing_restrictions.values.astype(str)])[rkey]\n",
    "\n",
    "# Species\n",
    "SPP = np.array([('Species' in g)*1 for g in xdata.Shark_fishing_restrictions.values.astype(str)])[rkey]\n",
    "\n",
    "\n",
    "# Local population growth\n",
    "xdata['proportional_difference'] = xdata['population_proporationaldifference_2010.15'].fillna(0)\n",
    "POPG = stdize(xdata.proportional_difference.values[rkey])"
   ]
  },
  {
   "cell_type": "code",
   "execution_count": 41,
   "metadata": {},
   "outputs": [],
   "source": [
    "# Depth\n",
    "DEPTH = stdize(xdata.depth.values)\n",
    "\n",
    "# Bait\n",
    "tmp = xdata.bait_family.values\n",
    "tmp[tmp=='Palinuridae'] = 'Other'\n",
    "tmp[tmp=='Siluriformes'] = 'Other'\n",
    "tmp[tmp=='Lutjanidae'] = 'Other'\n",
    "tmp[tmp=='Siluriformes'] = 'Other'\n",
    "tmp[tmp=='Carangidae'] = 'Other'\n",
    "tmp[tmp=='Belonidae'] = 'Other'\n",
    "tmp[tmp=='Coryphaenidae'] = 'Other'\n",
    "tmp[tmp=='Scomberesocidae'] = 'Other'\n",
    "tmp[tmp=='Osmeridae'] = 'Other'\n",
    "\n",
    "BAIT,Ib = indexall(tmp)\n",
    "nbait = len(BAIT)\n",
    "\n",
    "# Visibility\n",
    "VIS = stdize(xdata.visibility.values)\n",
    "\n",
    "# Productivity\n",
    "tmp = np.median(xdata.set_productivity_2017ave.values[xdata.set_productivity_2017ave.values>0])\n",
    "xdata.set_productivity_2017ave = xdata.set_productivity_2017ave.fillna(tmp)\n",
    "PROD = stdize(xdata.set_productivity_2017ave.values-np.mean(xdata.set_productivity_2017ave.values))\n",
    "\n",
    "# Hard coral\n",
    "HC = stdize(xdata.hard_coral.values)\n",
    "\n",
    "# Rugosity\n",
    "RUG = stdize(xdata.substrate_relief_mean.values)\n",
    "\n",
    "# Algae\n",
    "tmp = xdata.macroalgae.fillna(0)\n",
    "ALG = stdize(tmp.values)\n",
    "\n",
    "# Noon distance in fractional hours\n",
    "DAY = np.abs(stdize(np.array([(dt.datetime.strptime(x,'%H:%M:%S')-dt.datetime.strptime('12:00:00','%H:%M:%S')).total_seconds()/60**2 for x in xdata.drop_time.values])))\n",
    "\n",
    "# Month\n",
    "MON = np.array([dt.datetime.strptime(x,'%Y-%m-%d').month for x in xdata.set_date.values])\n",
    "\n",
    "# Hemisphere\n",
    "HEM = (xdata.set_latitude.values<0)*1\n",
    "\n",
    "# Seasonality\n",
    "iSEA = [['Winter','Winter','Shoulder','Shoulder','Summer','Summer','Summer','Summer','Shoulder','Shoulder','Winter','Winter'],['Summer','Summer','Shoulder','Shoulder','Winter','Winter','Winter','Winter','Shoulder','Shoulder','Summer','Summer']]\n",
    "SEA,Ic = indexall(np.array([iSEA[h][m-1] for h,m in zip(HEM,MON)]))\n",
    "nsea = len(SEA)\n",
    "\n",
    "# Number of observations\n",
    "nobs = len(ALG)"
   ]
  },
  {
   "cell_type": "code",
   "execution_count": 130,
   "metadata": {},
   "outputs": [
    {
     "data": {
      "text/plain": [
       "['Clupeidae', 'Scombridae', 'Mixed', 'Other', 'Sphyraenidae']"
      ]
     },
     "execution_count": 130,
     "metadata": {},
     "output_type": "execute_result"
    }
   ],
   "source": [
    "BAIT"
   ]
  },
  {
   "cell_type": "code",
   "execution_count": 104,
   "metadata": {},
   "outputs": [
    {
     "data": {
      "image/png": "[encoded data removed]",
      "text/plain": [
       "<Figure size 432x288 with 1 Axes>"
      ]
     },
     "metadata": {
      "needs_background": "light"
     },
     "output_type": "display_data"
    }
   ],
   "source": [
    "plt.hist(DEPTH);"
   ]
  },
  {
   "cell_type": "markdown",
   "metadata": {},
   "source": [
    "Proportion of zeros"
   ]
  },
  {
   "cell_type": "code",
   "execution_count": 42,
   "metadata": {},
   "outputs": [
    {
     "data": {
      "text/plain": [
       "0.3771183646554566"
      ]
     },
     "execution_count": 42,
     "metadata": {},
     "output_type": "execute_result"
    }
   ],
   "source": [
    "sum(OCC)/len(OCC)"
   ]
  },
  {
   "cell_type": "code",
   "execution_count": 43,
   "metadata": {},
   "outputs": [
    {
     "data": {
      "image/png": "[encoded data removed]",
      "text/plain": [
       "<Figure size 432x288 with 1 Axes>"
      ]
     },
     "metadata": {
      "needs_background": "light"
     },
     "output_type": "display_data"
    }
   ],
   "source": [
    "plt.hist(MaxN,bins=100)\n",
    "plt.xlim(0,10);"
   ]
  },
  {
   "cell_type": "code",
   "execution_count": 44,
   "metadata": {},
   "outputs": [
    {
     "data": {
      "text/plain": [
       "58"
      ]
     },
     "execution_count": 44,
     "metadata": {},
     "output_type": "execute_result"
    }
   ],
   "source": [
    "nlocs"
   ]
  },
  {
   "cell_type": "code",
   "execution_count": 45,
   "metadata": {},
   "outputs": [],
   "source": [
    "NSamples = 5000"
   ]
  },
  {
   "cell_type": "code",
   "execution_count": 46,
   "metadata": {},
   "outputs": [],
   "source": [
    "NPR = 3\n",
    "NPR_z = 3"
   ]
  },
  {
   "cell_type": "markdown",
   "metadata": {},
   "source": [
    "### Null model"
   ]
  },
  {
   "cell_type": "code",
   "execution_count": 47,
   "metadata": {},
   "outputs": [],
   "source": [
    "with pm.Model() as Null:\n",
    "    # = = = = = = = = = = = COUNTS = = = = = = = = = = = = = = #\n",
    "    # Global count model\n",
    "    π0 = pm.Normal('Global_rate', 0, 3)\n",
    "    μ_ = π0\n",
    "    μ = tt.exp(μ_)\n",
    "    \n",
    "    # = = = = = = = = = = = ZEROS = = = = = = = = = = = = = = #\n",
    "    # Global zeros model\n",
    "    π0_z = pm.Normal('Global_zeros', 0, 3)\n",
    "    \n",
    "    # Proportion of non-zeros\n",
    "    ψ = pm.invlogit(π0_z)\n",
    "\n",
    "    # = = = = = = = = = = = Likelihood = = = = = = = = = = = = = = #\n",
    "    α = pm.Gamma('alpha', 0.001, 0.001)\n",
    "    Yi = pm.ZeroInflatedNegativeBinomial('Yi', ψ, μ, α, observed=MaxN)"
   ]
  },
  {
   "cell_type": "code",
   "execution_count": 48,
   "metadata": {},
   "outputs": [
    {
     "name": "stderr",
     "output_type": "stream",
     "text": [
      "Auto-assigning NUTS sampler...\n",
      "Initializing NUTS using jitter+adapt_diag...\n",
      "Multiprocess sampling (4 chains in 4 jobs)\n",
      "NUTS: [alpha, Global_zeros, Global_rate]\n"
     ]
    },
    {
     "data": {
      "text/html": [
       "\n",
       "    <div>\n",
       "        <style>\n",
       "            /* Turns off some styling */\n",
       "            progress {\n",
       "                /* gets rid of default border in Firefox and Opera. */\n",
       "                border: none;\n",
       "                /* Needs to be in here for Safari polyfill so background images work as expected. */\n",
       "                background-size: auto;\n",
       "            }\n",
       "            .progress-bar-interrupted, .progress-bar-interrupted::-webkit-progress-bar {\n",
       "                background: #F44336;\n",
       "            }\n",
       "        </style>\n",
       "      <progress value='24000' class='' max='24000' style='width:300px; height:20px; vertical-align: middle;'></progress>\n",
       "      100.00% [24000/24000 01:04<00:00 Sampling 4 chains, 196 divergences]\n",
       "    </div>\n",
       "    "
      ],
      "text/plain": [
       "<IPython.core.display.HTML object>"
      ]
     },
     "metadata": {},
     "output_type": "display_data"
    },
    {
     "name": "stderr",
     "output_type": "stream",
     "text": [
      "Sampling 4 chains for 1_000 tune and 5_000 draw iterations (4_000 + 20_000 draws total) took 77 seconds.\n",
      "There were 19 divergences after tuning. Increase `target_accept` or reparameterize.\n",
      "There were 10 divergences after tuning. Increase `target_accept` or reparameterize.\n",
      "There were 80 divergences after tuning. Increase `target_accept` or reparameterize.\n",
      "There were 87 divergences after tuning. Increase `target_accept` or reparameterize.\n",
      "The number of effective samples is smaller than 25% for some parameters.\n"
     ]
    }
   ],
   "source": [
    "# Sampling\n",
    "with Null:\n",
    "    Null_trace = pm.sample(NSamples, target_accept=.9)"
   ]
  },
  {
   "cell_type": "code",
   "execution_count": 49,
   "metadata": {},
   "outputs": [],
   "source": [
    "with pm.Model() as non_ZI_full:\n",
    "    # = = = = = = = = = = = COUNTS = = = = = = = = = = = = = = #\n",
    "    # Global count model\n",
    "    π0 = pm.Normal('Global_rate', 0, NPR)\n",
    "    σ0_υ = pm.Uniform('σ0_υ', 0, 10)\n",
    "    pi_tilde = pm.Normal('pi_t', 0, 1, shape=nreg)\n",
    "    υ0 = pm.Deterministic('Regional_rate', π0 + σ0_υ*pi_tilde)\n",
    "\n",
    "    # National count model\n",
    "    η2 = pm.Normal('Sanctuary', 0, NPR)\n",
    "    η3 = pm.Normal('CoastLength', 0, NPR)\n",
    "    η4 = pm.Normal('HDI', 0, NPR)\n",
    "    η5 = pm.Normal('VOICE', 0, NPR)\n",
    "    η6 = pm.Normal('POP', 0, NPR)\n",
    "    \n",
    "    η = υ0[Ig]+η2*SSA+η3*CLN+η4*HDI+η5*VOICE+η6*POP\n",
    "    σ0_η = pm.Exponential('σ0_η', 1)\n",
    "    η0 = pm.Normal('η0', η, σ0_η, shape=nlocs)\n",
    "    \n",
    "    # Reef-level count model\n",
    "    κ1_ = pm.Normal('Reef_type', 0, NPR, shape=nrty-1)\n",
    "    κ1 = tt.set_subtensor(tt.zeros(shape=nrty)[1:], κ1_)\n",
    "    \n",
    "    κ3 = pm.Normal('Closed', 0, NPR)\n",
    "    κ3a = pm.Normal('MPA_size', 0, NPR)\n",
    "    κ3b = pm.Normal('High_compliance', 0, NPR)\n",
    "    \n",
    "    κ4 = pm.Normal('Gillnet_longline', 0, NPR)\n",
    "    κ5 = pm.Normal('Drumline', 0, NPR)\n",
    "    κ6 = pm.Normal('HookLine', 0, NPR)\n",
    "    \n",
    "    κ7 = pm.Normal('Catch', 0, NPR)\n",
    "    κ7b = pm.Normal('Temporal', 0, NPR)\n",
    "    κ7c = pm.Normal('Species', 0, NPR)\n",
    "    \n",
    "    κ8 = pm.Normal('Remote', 0, NPR)\n",
    "    κ9 = pm.Normal('Gravity_NP', 0, NPR)\n",
    "    κ10 = pm.Normal('Gravity_NC', 0, NPR)\n",
    "    \n",
    "    # Reef model\n",
    "    κ = η0[Ilr]+κ1[Irty]+κ3*CLO+κ3a*MPS+κ3b*HIG+κ4*GILL+κ5*DRUM+κ6*HLIN+κ7*BAG+κ7b*TEM+κ7c*SPP+κ8*REM+κ9*GRAV+κ10*GRAV_NC\n",
    "    \n",
    "    σ0_κ = pm.Uniform('σ0_κ',0 , 100)\n",
    "    κ0 = pm.Normal('κ0', κ, σ0_κ, shape=nreefs)\n",
    "\n",
    "    # = = = Observation model\n",
    "    ρ1 = pm.Normal('Depth', 0, NPR)\n",
    "    \n",
    "    ρ4 = pm.Normal('Visibililty', 0, NPR)\n",
    "    ρ5 = pm.Normal('Hard_coral', 0, NPR)\n",
    "    ρ6 = pm.Normal('Rugosity', 0, NPR)\n",
    "    ρ7 = pm.Normal('TimeODay', 0, NPR)\n",
    "    ρ8_ = pm.Normal('Bait_type', 0, NPR, shape=nbait-1)\n",
    "    ρ8 = tt.set_subtensor(tt.zeros(shape=nbait)[1:], ρ8_)\n",
    "    ρ9_ = pm.Normal('Seasonality', 0, NPR, shape=nsea-1)\n",
    "    ρ9 = tt.set_subtensor(tt.zeros(shape=nsea)[1:], ρ9_)\n",
    "    \n",
    "    μ_ = κ0[Ir]+ρ1*DEPTH+ρ4*VIS+ρ5*HC+ρ6*RUG+ρ7*DAY+ρ8[Ib]+ρ9[Ic]\n",
    "    μ = tt.exp(μ_)\n",
    "\n",
    "    # = = = = = = = = = = = Likelihood = = = = = = = = = = = = = = #\n",
    "    α = pm.Gamma('alpha', 0.001, 0.001)\n",
    "    Yi = pm.NegativeBinomial('Yi', μ, α, observed=MaxN)"
   ]
  },
  {
   "cell_type": "code",
   "execution_count": 50,
   "metadata": {},
   "outputs": [
    {
     "name": "stderr",
     "output_type": "stream",
     "text": [
      "Auto-assigning NUTS sampler...\n",
      "Initializing NUTS using jitter+adapt_diag...\n",
      "Multiprocess sampling (4 chains in 4 jobs)\n",
      "NUTS: [alpha, Seasonality, Bait_type, TimeODay, Rugosity, Hard_coral, Visibililty, Depth, κ0, σ0_κ, Gravity_NC, Gravity_NP, Remote, Species, Temporal, Catch, HookLine, Drumline, Gillnet_longline, High_compliance, MPA_size, Closed, Reef_type, η0, σ0_η, POP, VOICE, HDI, CoastLength, Sanctuary, pi_t, σ0_υ, Global_rate]\n"
     ]
    },
    {
     "data": {
      "text/html": [
       "\n",
       "    <div>\n",
       "        <style>\n",
       "            /* Turns off some styling */\n",
       "            progress {\n",
       "                /* gets rid of default border in Firefox and Opera. */\n",
       "                border: none;\n",
       "                /* Needs to be in here for Safari polyfill so background images work as expected. */\n",
       "                background-size: auto;\n",
       "            }\n",
       "            .progress-bar-interrupted, .progress-bar-interrupted::-webkit-progress-bar {\n",
       "                background: #F44336;\n",
       "            }\n",
       "        </style>\n",
       "      <progress value='24000' class='' max='24000' style='width:300px; height:20px; vertical-align: middle;'></progress>\n",
       "      100.00% [24000/24000 12:01<00:00 Sampling 4 chains, 32 divergences]\n",
       "    </div>\n",
       "    "
      ],
      "text/plain": [
       "<IPython.core.display.HTML object>"
      ]
     },
     "metadata": {},
     "output_type": "display_data"
    },
    {
     "name": "stderr",
     "output_type": "stream",
     "text": [
      "Sampling 4 chains for 1_000 tune and 5_000 draw iterations (4_000 + 20_000 draws total) took 732 seconds.\n",
      "There were 10 divergences after tuning. Increase `target_accept` or reparameterize.\n",
      "There was 1 divergence after tuning. Increase `target_accept` or reparameterize.\n",
      "There were 15 divergences after tuning. Increase `target_accept` or reparameterize.\n",
      "There were 6 divergences after tuning. Increase `target_accept` or reparameterize.\n",
      "The number of effective samples is smaller than 10% for some parameters.\n"
     ]
    }
   ],
   "source": [
    "# Sampling\n",
    "with non_ZI_full:\n",
    "    non_ZI_full_trace = pm.sample(NSamples, target_accept=.9)"
   ]
  },
  {
   "cell_type": "code",
   "execution_count": 51,
   "metadata": {},
   "outputs": [],
   "source": [
    "with pm.Model() as non_ZI_partial_null:\n",
    "    # = = = = = = = = = = = COUNTS = = = = = = = = = = = = = = #\n",
    "    # Global count model\n",
    "    π0 = pm.Normal('Global_rate', 0, NPR)\n",
    "    σ0_υ = pm.Uniform('σ0_υ', 0, 10)\n",
    "    pi_tilde = pm.Normal('pi_t', 0, 1, shape=nreg)\n",
    "    υ0 = pm.Deterministic('Regional_rate', π0 + σ0_υ*pi_tilde)\n",
    "\n",
    "    # National count model\n",
    "    σ0_η = pm.Exponential('σ0_η', 1)\n",
    "    η0 = pm.Normal('η0', υ0[Ig], σ0_η, shape=nlocs)\n",
    "    \n",
    "    # Reef-level count model\n",
    "    κ1_ = pm.Normal('Reef_type', 0, NPR, shape=nrty-1)\n",
    "    κ1 = tt.set_subtensor(tt.zeros(shape=nrty)[1:], κ1_)\n",
    "    \n",
    "    # Reef model\n",
    "    κ = η0[Ilr]+κ1[Irty]\n",
    "    σ0_κ = pm.Uniform('σ0_κ',0 , 100)\n",
    "    κ0 = pm.Normal('κ0', κ, σ0_κ, shape=nreefs)\n",
    "\n",
    "\n",
    "    # = = = Observation model\n",
    "    #\"\"\"\n",
    "    ρ1 = pm.Normal('Depth', 0, NPR)\n",
    "    \n",
    "    ρ4 = pm.Normal('Visibililty', 0, NPR)\n",
    "    ρ5 = pm.Normal('Hard_coral', 0, NPR)\n",
    "    ρ6 = pm.Normal('Rugosity', 0, NPR)\n",
    "    ρ7 = pm.Normal('TimeODay', 0, NPR)\n",
    "    ρ8_ = pm.Normal('Bait_type', 0, NPR, shape=nbait-1)\n",
    "    ρ8 = tt.set_subtensor(tt.zeros(shape=nbait)[1:], ρ8_)\n",
    "    ρ9_ = pm.Normal('Seasonality', 0, NPR, shape=nsea-1)\n",
    "    ρ9 = tt.set_subtensor(tt.zeros(shape=nsea)[1:], ρ9_)\n",
    "    \n",
    "    μ_ = κ0[Ir]+ρ1*DEPTH+ρ4*VIS+ρ5*HC+ρ6*RUG+ρ7*DAY+ρ8[Ib]+ρ9[Ic]\n",
    "    #μ_ = κ0[Ir]\n",
    "    μ = tt.exp(μ_)\n",
    "\n",
    "    # = = = = = = = = = = = Likelihood = = = = = = = = = = = = = = #\n",
    "    α = pm.Gamma('alpha', 0.001, 0.001)\n",
    "    Yi = pm.NegativeBinomial('Yi', μ, α, observed=MaxN)"
   ]
  },
  {
   "cell_type": "code",
   "execution_count": 52,
   "metadata": {},
   "outputs": [
    {
     "name": "stderr",
     "output_type": "stream",
     "text": [
      "Auto-assigning NUTS sampler...\n",
      "Initializing NUTS using jitter+adapt_diag...\n",
      "Multiprocess sampling (4 chains in 4 jobs)\n",
      "NUTS: [alpha, Seasonality, Bait_type, TimeODay, Rugosity, Hard_coral, Visibililty, Depth, κ0, σ0_κ, Reef_type, η0, σ0_η, pi_t, σ0_υ, Global_rate]\n"
     ]
    },
    {
     "data": {
      "text/html": [
       "\n",
       "    <div>\n",
       "        <style>\n",
       "            /* Turns off some styling */\n",
       "            progress {\n",
       "                /* gets rid of default border in Firefox and Opera. */\n",
       "                border: none;\n",
       "                /* Needs to be in here for Safari polyfill so background images work as expected. */\n",
       "                background-size: auto;\n",
       "            }\n",
       "            .progress-bar-interrupted, .progress-bar-interrupted::-webkit-progress-bar {\n",
       "                background: #F44336;\n",
       "            }\n",
       "        </style>\n",
       "      <progress value='24000' class='' max='24000' style='width:300px; height:20px; vertical-align: middle;'></progress>\n",
       "      100.00% [24000/24000 10:12<00:00 Sampling 4 chains, 18 divergences]\n",
       "    </div>\n",
       "    "
      ],
      "text/plain": [
       "<IPython.core.display.HTML object>"
      ]
     },
     "metadata": {},
     "output_type": "display_data"
    },
    {
     "name": "stderr",
     "output_type": "stream",
     "text": [
      "Sampling 4 chains for 1_000 tune and 5_000 draw iterations (4_000 + 20_000 draws total) took 623 seconds.\n",
      "There was 1 divergence after tuning. Increase `target_accept` or reparameterize.\n",
      "There were 4 divergences after tuning. Increase `target_accept` or reparameterize.\n",
      "There were 6 divergences after tuning. Increase `target_accept` or reparameterize.\n",
      "There were 7 divergences after tuning. Increase `target_accept` or reparameterize.\n",
      "The number of effective samples is smaller than 10% for some parameters.\n"
     ]
    }
   ],
   "source": [
    "# Sampling\n",
    "with non_ZI_partial_null:\n",
    "    non_ZI_partial_null_trace = pm.sample(NSamples, target_accept=.9)"
   ]
  },
  {
   "cell_type": "markdown",
   "metadata": {},
   "source": [
    "### Hierarchical null model"
   ]
  },
  {
   "cell_type": "code",
   "execution_count": 53,
   "metadata": {},
   "outputs": [],
   "source": [
    "with pm.Model() as ZINB_partial_null:\n",
    "    # = = = = = = = = = = = COUNTS = = = = = = = = = = = = = = #\n",
    "    # Global count model\n",
    "    π0 = pm.Normal('Global_rate', 0, NPR)\n",
    "    σ0_υ = pm.Uniform('σ0_υ', 0, 10)\n",
    "    pi_tilde = pm.Normal('pi_t', 0, 1, shape=nreg)\n",
    "    υ0 = pm.Deterministic('Regional_rate', π0 + σ0_υ*pi_tilde)\n",
    "\n",
    "    # National count model\n",
    "    σ0_η = pm.Exponential('σ0_η', 1)\n",
    "    η0 = pm.Normal('η0', υ0[Ig], σ0_η, shape=nlocs)\n",
    "    \n",
    "    # Reef-level count model\n",
    "    κ1_ = pm.Normal('Reef_type', 0, NPR, shape=nrty-1)\n",
    "    κ1 = tt.set_subtensor(tt.zeros(shape=nrty)[1:], κ1_)\n",
    "    \n",
    "    # Reef model\n",
    "    κ = η0[Ilr]+κ1[Irty]\n",
    "    σ0_κ = pm.Uniform('σ0_κ',0 , 100)\n",
    "    κ0 = pm.Normal('κ0', κ, σ0_κ, shape=nreefs)\n",
    "\n",
    "\n",
    "    # = = = Observation model\n",
    "    #\"\"\"\n",
    "    ρ1 = pm.Normal('Depth', 0, NPR)\n",
    "    ρ4 = pm.Normal('Visibililty', 0, NPR)\n",
    "    ρ5 = pm.Normal('Hard_coral', 0, NPR)\n",
    "    ρ6 = pm.Normal('Rugosity', 0, NPR)\n",
    "    ρ7 = pm.Normal('TimeODay', 0, NPR)\n",
    "    ρ8_ = pm.Normal('Bait_type', 0, NPR, shape=nbait-1)\n",
    "    ρ8 = tt.set_subtensor(tt.zeros(shape=nbait)[1:], ρ8_)\n",
    "    #\"\"\"\n",
    "    ρ9_ = pm.Normal('Seasonality', 0, NPR, shape=nsea-1)\n",
    "    ρ9 = tt.set_subtensor(tt.zeros(shape=nsea)[1:], ρ9_)\n",
    "    \n",
    "    μ_ = κ0[Ir]+ρ1*DEPTH+ρ4*VIS+ρ5*HC+ρ6*RUG+ρ7*DAY+ρ8[Ib]+ρ9[Ic]\n",
    "    #μ_ = κ0[Ir]\n",
    "    μ = tt.exp(μ_)\n",
    "    \n",
    "    # = = = = = = = = = = = ZEROS = = = = = = = = = = = = = = #\n",
    "    # Global zeros model\n",
    "    π0_z = pm.Cauchy('Global_zeros', 0, 10)\n",
    "    σ0_υ_z = pm.Exponential('σ0_υ_z', .5)\n",
    "    pi0_tilde = pm.Normal('pi0_t', 0, 1, shape=nreg)\n",
    "    υ0_z = pm.Deterministic('Regional_zeros', π0_z + σ0_υ_z*pi0_tilde)\n",
    "    σ0_η_z = pm.Exponential('σ0_η_z', .5)\n",
    "\n",
    "    # National zeros model\n",
    "    η_z = υ0_z[Ig]\n",
    "    η0_z = pm.Normal('η0_z', η_z, σ0_η_z, shape=nlocs)\n",
    "    \n",
    "    # Proportion of non-zeros\n",
    "    ψ = pm.invlogit(η0_z[Ils])\n",
    "\n",
    "    # = = = = = = = = = = = Likelihood = = = = = = = = = = = = = = #\n",
    "    α = pm.Gamma('alpha', 0.001, 0.001)\n",
    "    Yi = pm.ZeroInflatedNegativeBinomial('Yi', ψ, μ, α, observed=MaxN)"
   ]
  },
  {
   "cell_type": "code",
   "execution_count": 54,
   "metadata": {
    "scrolled": false
   },
   "outputs": [
    {
     "name": "stderr",
     "output_type": "stream",
     "text": [
      "Auto-assigning NUTS sampler...\n",
      "Initializing NUTS using jitter+adapt_diag...\n",
      "Multiprocess sampling (4 chains in 4 jobs)\n",
      "NUTS: [alpha, η0_z, σ0_η_z, pi0_t, σ0_υ_z, Global_zeros, Seasonality, Bait_type, TimeODay, Rugosity, Hard_coral, Visibililty, Depth, κ0, σ0_κ, Reef_type, η0, σ0_η, pi_t, σ0_υ, Global_rate]\n"
     ]
    },
    {
     "data": {
      "text/html": [
       "\n",
       "    <div>\n",
       "        <style>\n",
       "            /* Turns off some styling */\n",
       "            progress {\n",
       "                /* gets rid of default border in Firefox and Opera. */\n",
       "                border: none;\n",
       "                /* Needs to be in here for Safari polyfill so background images work as expected. */\n",
       "                background-size: auto;\n",
       "            }\n",
       "            .progress-bar-interrupted, .progress-bar-interrupted::-webkit-progress-bar {\n",
       "                background: #F44336;\n",
       "            }\n",
       "        </style>\n",
       "      <progress value='24000' class='' max='24000' style='width:300px; height:20px; vertical-align: middle;'></progress>\n",
       "      100.00% [24000/24000 4:49:45<00:00 Sampling 4 chains, 10 divergences]\n",
       "    </div>\n",
       "    "
      ],
      "text/plain": [
       "<IPython.core.display.HTML object>"
      ]
     },
     "metadata": {},
     "output_type": "display_data"
    },
    {
     "name": "stderr",
     "output_type": "stream",
     "text": [
      "Sampling 4 chains for 1_000 tune and 5_000 draw iterations (4_000 + 20_000 draws total) took 17397 seconds.\n",
      "There was 1 divergence after tuning. Increase `target_accept` or reparameterize.\n",
      "There were 9 divergences after tuning. Increase `target_accept` or reparameterize.\n",
      "The number of effective samples is smaller than 10% for some parameters.\n"
     ]
    }
   ],
   "source": [
    "# Sampling\n",
    "with ZINB_partial_null:\n",
    "    ZINB_partial_null_trace = pm.sample(NSamples, target_accept=.9)\n"
   ]
  },
  {
   "cell_type": "code",
   "execution_count": 58,
   "metadata": {},
   "outputs": [],
   "source": [
    "import arviz as az"
   ]
  },
  {
   "cell_type": "code",
   "execution_count": 60,
   "metadata": {},
   "outputs": [],
   "source": [
    "tmp = ZINB_partial_null_trace.η0_z"
   ]
  },
  {
   "cell_type": "code",
   "execution_count": 66,
   "metadata": {},
   "outputs": [
    {
     "data": {
      "image/png": "[encoded data removed]",
      "text/plain": [
       "<Figure size 432x288 with 1 Axes>"
      ]
     },
     "metadata": {
      "needs_background": "light"
     },
     "output_type": "display_data"
    }
   ],
   "source": [
    "plt.hist(invlogit(tmp.T[19]));"
   ]
  },
  {
   "cell_type": "code",
   "execution_count": 67,
   "metadata": {},
   "outputs": [
    {
     "data": {
      "text/plain": [
       "'South Africa'"
      ]
     },
     "execution_count": 67,
     "metadata": {},
     "output_type": "execute_result"
    }
   ],
   "source": [
    "Location[19]"
   ]
  },
  {
   "cell_type": "code",
   "execution_count": 68,
   "metadata": {},
   "outputs": [
    {
     "data": {
      "text/plain": [
       "['Western Atlantic', 'Central Pacific', 'Indian Ocean', 'Western Pacific']"
      ]
     },
     "execution_count": 68,
     "metadata": {},
     "output_type": "execute_result"
    }
   ],
   "source": [
    "Region"
   ]
  },
  {
   "cell_type": "code",
   "execution_count": 96,
   "metadata": {},
   "outputs": [
    {
     "data": {
      "image/png": "[encoded data removed]",
      "text/plain": [
       "<Figure size 432x288 with 1 Axes>"
      ]
     },
     "metadata": {
      "needs_background": "light"
     },
     "output_type": "display_data"
    }
   ],
   "source": [
    "plt.hist(invlogit(ZINB_partial_null_trace.pi0_t.T[0]));"
   ]
  },
  {
   "cell_type": "code",
   "execution_count": 97,
   "metadata": {},
   "outputs": [],
   "source": [
    "tmp = ZINB_partial_null_trace.Regional_zeros"
   ]
  },
  {
   "cell_type": "code",
   "execution_count": 103,
   "metadata": {},
   "outputs": [
    {
     "data": {
      "image/png": "[encoded data removed]",
      "text/plain": [
       "<Figure size 432x288 with 1 Axes>"
      ]
     },
     "metadata": {
      "needs_background": "light"
     },
     "output_type": "display_data"
    }
   ],
   "source": [
    "plt.hist(invlogit(tmp.T[3]));"
   ]
  },
  {
   "cell_type": "code",
   "execution_count": 126,
   "metadata": {},
   "outputs": [
    {
     "data": {
      "image/png": "[encoded data removed]",
      "text/plain": [
       "<Figure size 432x288 with 1 Axes>"
      ]
     },
     "metadata": {
      "needs_background": "light"
     },
     "output_type": "display_data"
    }
   ],
   "source": [
    "plt.hist(ZINB_partial_null_trace.Depth);"
   ]
  },
  {
   "cell_type": "code",
   "execution_count": null,
   "metadata": {},
   "outputs": [],
   "source": []
  },
  {
   "cell_type": "code",
   "execution_count": null,
   "metadata": {},
   "outputs": [],
   "source": []
  },
  {
   "cell_type": "code",
   "execution_count": null,
   "metadata": {},
   "outputs": [],
   "source": []
  },
  {
   "cell_type": "markdown",
   "metadata": {},
   "source": [
    "### Full model"
   ]
  },
  {
   "cell_type": "code",
   "execution_count": 55,
   "metadata": {},
   "outputs": [],
   "source": [
    "with pm.Model() as ZINB_full:\n",
    "    # = = = = = = = = = = = COUNTS = = = = = = = = = = = = = = #\n",
    "    # Global count model\n",
    "    π0 = pm.Normal('Global_rate', 0, NPR)\n",
    "    σ0_υ = pm.Uniform('σ0_υ', 0, 100)\n",
    "    pi_tilde = pm.Normal('pi_t', 0, 1, shape=nreg)\n",
    "    υ0 = pm.Deterministic('Regional_rate', π0 + σ0_υ*pi_tilde)\n",
    "\n",
    "    # National count model\n",
    "    η2 = pm.Normal('Sanctuary', 0, NPR)\n",
    "    η3 = pm.Normal('CoastLength', 0, NPR)\n",
    "    \n",
    "    η = υ0[Ig]+η2*SSA+η3*CLN\n",
    "    σ0_η = pm.Uniform('σ0_η', 0, 100)\n",
    "    η0 = pm.Normal('η0', η, σ0_η, shape=nlocs)\n",
    "    \n",
    "    # Reef-level count model\n",
    "    κ1_ = pm.Normal('Reef_type', 0, NPR, shape=nrty-1)\n",
    "    κ1 = tt.set_subtensor(tt.zeros(shape=nrty)[1:], κ1_)\n",
    "    \n",
    "    κ3 = pm.Normal('Closed', 0, NPR)\n",
    "    κ3a = pm.Normal('MPA_size', 0, NPR)\n",
    "    κ3b = pm.Normal('High_compliance', 0, NPR)\n",
    "    \n",
    "    κ4 = pm.Normal('Gillnet_longline', 0, NPR)\n",
    "    κ5 = pm.Normal('Drumline', 0, NPR)\n",
    "    κ6 = pm.Normal('HookLine', 0, NPR)\n",
    "    \n",
    "    κ7 = pm.Normal('Catch', 0, NPR)\n",
    "    κ7b = pm.Normal('Temporal', 0, NPR)\n",
    "    κ7c = pm.Normal('Species', 0, NPR)\n",
    "    \n",
    "    κ8 = pm.Normal('Remote', 0, NPR)\n",
    "    κ9 = pm.Normal('Gravity_NP', 0, NPR)\n",
    "    κ10 = pm.Normal('Gravity_NC', 0, NPR)\n",
    "    \n",
    "    # Reef model\n",
    "    κ = η0[Ilr]+κ1[Irty]+κ3*CLO+κ3a*MPS+κ3b*HIG+κ4*GILL+κ5*DRUM+κ6*HLIN+κ7*BAG+κ7b*TEM+κ7c*SPP+κ8*REM+κ9*GRAV+κ10*GRAV_NC\n",
    "    \n",
    "    σ0_κ = pm.Uniform('σ0_κ',0 , 100)\n",
    "    κ0 = pm.Normal('κ0', κ, σ0_κ, shape=nreefs)\n",
    "\n",
    "    # = = = Observation model\n",
    "    ρ1 = pm.Normal('Depth', 0, NPR)\n",
    "    \n",
    "    ρ4 = pm.Normal('Visibililty', 0, NPR)\n",
    "    ρ5 = pm.Normal('Hard_coral', 0, NPR)\n",
    "    ρ6 = pm.Normal('Rugosity', 0, NPR)\n",
    "    ρ7 = pm.Normal('TimeODay', 0, NPR)\n",
    "    ρ8_ = pm.Normal('Bait_type', 0, NPR, shape=nbait-1)\n",
    "    ρ8 = tt.set_subtensor(tt.zeros(shape=nbait)[1:], ρ8_)\n",
    "    ρ9_ = pm.Normal('Seasonality', 0, NPR, shape=nsea-1)\n",
    "    ρ9 = tt.set_subtensor(tt.zeros(shape=nsea)[1:], ρ9_)\n",
    "    \n",
    "    μ_ = κ0[Ir]+ρ1*DEPTH+ρ4*VIS+ρ5*HC+ρ6*RUG+ρ7*DAY+ρ8[Ib]+ρ9[Ic]\n",
    "\n",
    "    μ = tt.exp(μ_)\n",
    "    \n",
    "    # = = = = = = = = = = = ZEROS = = = = = = = = = = = = = = #\n",
    "    # Global zeros model\n",
    "    π0_z = pm.Cauchy('Global_zeros', 0, 10)\n",
    "    σ0_υ_z = pm.Exponential('σ0_υ_z', .5)\n",
    "    pi0_tilde = pm.Normal('pi0_t', 0, 1, shape=nreg)\n",
    "    υ0_z = pm.Deterministic('Regional_zeros', π0_z + σ0_υ_z*pi0_tilde)\n",
    "    σ0_η_z = pm.Exponential('σ0_η_z', .5)\n",
    "\n",
    "    # National zeros model\n",
    "    η1_z = pm.Cauchy('HDI', 0, NPR)\n",
    "    η2_z = pm.Cauchy('VOICE', 0, NPR)\n",
    "    η3_z = pm.Cauchy('POP', 0, NPR)\n",
    "    η_z = υ0_z[Ig]+η1_z*HDI+η2_z*VOICE+η3_z*POP\n",
    "    η0_z = pm.Normal('η0_z', η_z, σ0_η_z, shape=nlocs)\n",
    "    \n",
    "    # Proportion of non-zeros\n",
    "    ψ = pm.invlogit(η0_z[Ils])\n",
    "\n",
    "    # = = = = = = = = = = = Likelihood = = = = = = = = = = = = = = #\n",
    "    α = pm.Gamma('alpha', 0.001, 0.001)\n",
    "    Yi = pm.ZeroInflatedNegativeBinomial('Yi', ψ, μ, α, observed=MaxN)\n",
    "\n"
   ]
  },
  {
   "cell_type": "code",
   "execution_count": 56,
   "metadata": {},
   "outputs": [
    {
     "name": "stderr",
     "output_type": "stream",
     "text": [
      "Auto-assigning NUTS sampler...\n",
      "Initializing NUTS using jitter+adapt_diag...\n"
     ]
    },
    {
     "ename": "KeyboardInterrupt",
     "evalue": "",
     "output_type": "error",
     "traceback": [
      "\u001b[0;31m---------------------------------------------------------------------------\u001b[0m",
      "\u001b[0;31mKeyboardInterrupt\u001b[0m                         Traceback (most recent call last)",
      "\u001b[0;32m<ipython-input-56-f644f9a26d18>\u001b[0m in \u001b[0;36m<module>\u001b[0;34m\u001b[0m\n\u001b[1;32m      1\u001b[0m \u001b[0;31m# Sampling\u001b[0m\u001b[0;34m\u001b[0m\u001b[0;34m\u001b[0m\u001b[0;34m\u001b[0m\u001b[0m\n\u001b[1;32m      2\u001b[0m \u001b[0;32mwith\u001b[0m \u001b[0mZINB_full\u001b[0m\u001b[0;34m:\u001b[0m\u001b[0;34m\u001b[0m\u001b[0;34m\u001b[0m\u001b[0m\n\u001b[0;32m----> 3\u001b[0;31m     \u001b[0mZINB_full_trace\u001b[0m \u001b[0;34m=\u001b[0m \u001b[0mpm\u001b[0m\u001b[0;34m.\u001b[0m\u001b[0msample\u001b[0m\u001b[0;34m(\u001b[0m\u001b[0mNSamples\u001b[0m\u001b[0;34m,\u001b[0m \u001b[0mtarget_accept\u001b[0m\u001b[0;34m=\u001b[0m\u001b[0;36m.9\u001b[0m\u001b[0;34m)\u001b[0m\u001b[0;34m\u001b[0m\u001b[0;34m\u001b[0m\u001b[0m\n\u001b[0m",
      "\u001b[0;32m~/opt/anaconda3/lib/python3.8/site-packages/pymc3/sampling.py\u001b[0m in \u001b[0;36msample\u001b[0;34m(draws, step, init, n_init, start, trace, chain_idx, chains, cores, tune, progressbar, model, random_seed, discard_tuned_samples, compute_convergence_checks, callback, return_inferencedata, idata_kwargs, mp_ctx, pickle_backend, **kwargs)\u001b[0m\n\u001b[1;32m    479\u001b[0m             \u001b[0;31m# By default, try to use NUTS\u001b[0m\u001b[0;34m\u001b[0m\u001b[0;34m\u001b[0m\u001b[0;34m\u001b[0m\u001b[0m\n\u001b[1;32m    480\u001b[0m             \u001b[0m_log\u001b[0m\u001b[0;34m.\u001b[0m\u001b[0minfo\u001b[0m\u001b[0;34m(\u001b[0m\u001b[0;34m\"Auto-assigning NUTS sampler...\"\u001b[0m\u001b[0;34m)\u001b[0m\u001b[0;34m\u001b[0m\u001b[0;34m\u001b[0m\u001b[0m\n\u001b[0;32m--> 481\u001b[0;31m             start_, step = init_nuts(\n\u001b[0m\u001b[1;32m    482\u001b[0m                 \u001b[0minit\u001b[0m\u001b[0;34m=\u001b[0m\u001b[0minit\u001b[0m\u001b[0;34m,\u001b[0m\u001b[0;34m\u001b[0m\u001b[0;34m\u001b[0m\u001b[0m\n\u001b[1;32m    483\u001b[0m                 \u001b[0mchains\u001b[0m\u001b[0;34m=\u001b[0m\u001b[0mchains\u001b[0m\u001b[0;34m,\u001b[0m\u001b[0;34m\u001b[0m\u001b[0;34m\u001b[0m\u001b[0m\n",
      "\u001b[0;32m~/opt/anaconda3/lib/python3.8/site-packages/pymc3/sampling.py\u001b[0m in \u001b[0;36minit_nuts\u001b[0;34m(init, chains, n_init, model, random_seed, progressbar, **kwargs)\u001b[0m\n\u001b[1;32m   2168\u001b[0m         \u001b[0;32mraise\u001b[0m \u001b[0mValueError\u001b[0m\u001b[0;34m(\u001b[0m\u001b[0;34m\"Unknown initializer: {}.\"\u001b[0m\u001b[0;34m.\u001b[0m\u001b[0mformat\u001b[0m\u001b[0;34m(\u001b[0m\u001b[0minit\u001b[0m\u001b[0;34m)\u001b[0m\u001b[0;34m)\u001b[0m\u001b[0;34m\u001b[0m\u001b[0;34m\u001b[0m\u001b[0m\n\u001b[1;32m   2169\u001b[0m \u001b[0;34m\u001b[0m\u001b[0m\n\u001b[0;32m-> 2170\u001b[0;31m     \u001b[0mstep\u001b[0m \u001b[0;34m=\u001b[0m \u001b[0mpm\u001b[0m\u001b[0;34m.\u001b[0m\u001b[0mNUTS\u001b[0m\u001b[0;34m(\u001b[0m\u001b[0mpotential\u001b[0m\u001b[0;34m=\u001b[0m\u001b[0mpotential\u001b[0m\u001b[0;34m,\u001b[0m \u001b[0mmodel\u001b[0m\u001b[0;34m=\u001b[0m\u001b[0mmodel\u001b[0m\u001b[0;34m,\u001b[0m \u001b[0;34m**\u001b[0m\u001b[0mkwargs\u001b[0m\u001b[0;34m)\u001b[0m\u001b[0;34m\u001b[0m\u001b[0;34m\u001b[0m\u001b[0m\n\u001b[0m\u001b[1;32m   2171\u001b[0m \u001b[0;34m\u001b[0m\u001b[0m\n\u001b[1;32m   2172\u001b[0m     \u001b[0;32mreturn\u001b[0m \u001b[0mstart\u001b[0m\u001b[0;34m,\u001b[0m \u001b[0mstep\u001b[0m\u001b[0;34m\u001b[0m\u001b[0;34m\u001b[0m\u001b[0m\n",
      "\u001b[0;32m~/opt/anaconda3/lib/python3.8/site-packages/pymc3/step_methods/hmc/nuts.py\u001b[0m in \u001b[0;36m__init__\u001b[0;34m(self, vars, max_treedepth, early_max_treedepth, **kwargs)\u001b[0m\n\u001b[1;32m    166\u001b[0m         \u001b[0;31m`\u001b[0m\u001b[0mpm\u001b[0m\u001b[0;34m.\u001b[0m\u001b[0msample\u001b[0m\u001b[0;31m`\u001b[0m \u001b[0mto\u001b[0m \u001b[0mthe\u001b[0m \u001b[0mdesired\u001b[0m \u001b[0mnumber\u001b[0m \u001b[0mof\u001b[0m \u001b[0mtuning\u001b[0m \u001b[0msteps\u001b[0m\u001b[0;34m.\u001b[0m\u001b[0;34m\u001b[0m\u001b[0;34m\u001b[0m\u001b[0m\n\u001b[1;32m    167\u001b[0m         \"\"\"\n\u001b[0;32m--> 168\u001b[0;31m         \u001b[0msuper\u001b[0m\u001b[0;34m(\u001b[0m\u001b[0;34m)\u001b[0m\u001b[0;34m.\u001b[0m\u001b[0m__init__\u001b[0m\u001b[0;34m(\u001b[0m\u001b[0mvars\u001b[0m\u001b[0;34m,\u001b[0m \u001b[0;34m**\u001b[0m\u001b[0mkwargs\u001b[0m\u001b[0;34m)\u001b[0m\u001b[0;34m\u001b[0m\u001b[0;34m\u001b[0m\u001b[0m\n\u001b[0m\u001b[1;32m    169\u001b[0m \u001b[0;34m\u001b[0m\u001b[0m\n\u001b[1;32m    170\u001b[0m         \u001b[0mself\u001b[0m\u001b[0;34m.\u001b[0m\u001b[0mmax_treedepth\u001b[0m \u001b[0;34m=\u001b[0m \u001b[0mmax_treedepth\u001b[0m\u001b[0;34m\u001b[0m\u001b[0;34m\u001b[0m\u001b[0m\n",
      "\u001b[0;32m~/opt/anaconda3/lib/python3.8/site-packages/pymc3/step_methods/hmc/base_hmc.py\u001b[0m in \u001b[0;36m__init__\u001b[0;34m(self, vars, scaling, step_scale, is_cov, model, blocked, potential, dtype, Emax, target_accept, gamma, k, t0, adapt_step_size, step_rand, **theano_kwargs)\u001b[0m\n\u001b[1;32m     91\u001b[0m         \u001b[0mvars\u001b[0m \u001b[0;34m=\u001b[0m \u001b[0minputvars\u001b[0m\u001b[0;34m(\u001b[0m\u001b[0mvars\u001b[0m\u001b[0;34m)\u001b[0m\u001b[0;34m\u001b[0m\u001b[0;34m\u001b[0m\u001b[0m\n\u001b[1;32m     92\u001b[0m \u001b[0;34m\u001b[0m\u001b[0m\n\u001b[0;32m---> 93\u001b[0;31m         \u001b[0msuper\u001b[0m\u001b[0;34m(\u001b[0m\u001b[0;34m)\u001b[0m\u001b[0;34m.\u001b[0m\u001b[0m__init__\u001b[0m\u001b[0;34m(\u001b[0m\u001b[0mvars\u001b[0m\u001b[0;34m,\u001b[0m \u001b[0mblocked\u001b[0m\u001b[0;34m=\u001b[0m\u001b[0mblocked\u001b[0m\u001b[0;34m,\u001b[0m \u001b[0mmodel\u001b[0m\u001b[0;34m=\u001b[0m\u001b[0mmodel\u001b[0m\u001b[0;34m,\u001b[0m \u001b[0mdtype\u001b[0m\u001b[0;34m=\u001b[0m\u001b[0mdtype\u001b[0m\u001b[0;34m,\u001b[0m \u001b[0;34m**\u001b[0m\u001b[0mtheano_kwargs\u001b[0m\u001b[0;34m)\u001b[0m\u001b[0;34m\u001b[0m\u001b[0;34m\u001b[0m\u001b[0m\n\u001b[0m\u001b[1;32m     94\u001b[0m \u001b[0;34m\u001b[0m\u001b[0m\n\u001b[1;32m     95\u001b[0m         \u001b[0mself\u001b[0m\u001b[0;34m.\u001b[0m\u001b[0madapt_step_size\u001b[0m \u001b[0;34m=\u001b[0m \u001b[0madapt_step_size\u001b[0m\u001b[0;34m\u001b[0m\u001b[0;34m\u001b[0m\u001b[0m\n",
      "\u001b[0;32m~/opt/anaconda3/lib/python3.8/site-packages/pymc3/step_methods/arraystep.py\u001b[0m in \u001b[0;36m__init__\u001b[0;34m(self, vars, model, blocked, dtype, **theano_kwargs)\u001b[0m\n\u001b[1;32m    241\u001b[0m         \u001b[0mself\u001b[0m\u001b[0;34m.\u001b[0m\u001b[0mblocked\u001b[0m \u001b[0;34m=\u001b[0m \u001b[0mblocked\u001b[0m\u001b[0;34m\u001b[0m\u001b[0;34m\u001b[0m\u001b[0m\n\u001b[1;32m    242\u001b[0m \u001b[0;34m\u001b[0m\u001b[0m\n\u001b[0;32m--> 243\u001b[0;31m         func = model.logp_dlogp_function(\n\u001b[0m\u001b[1;32m    244\u001b[0m             vars, dtype=dtype, **theano_kwargs)\n\u001b[1;32m    245\u001b[0m \u001b[0;34m\u001b[0m\u001b[0m\n",
      "\u001b[0;32m~/opt/anaconda3/lib/python3.8/site-packages/pymc3/model.py\u001b[0m in \u001b[0;36mlogp_dlogp_function\u001b[0;34m(self, grad_vars, **kwargs)\u001b[0m\n\u001b[1;32m    933\u001b[0m         \u001b[0mvarnames\u001b[0m \u001b[0;34m=\u001b[0m \u001b[0;34m[\u001b[0m\u001b[0mvar\u001b[0m\u001b[0;34m.\u001b[0m\u001b[0mname\u001b[0m \u001b[0;32mfor\u001b[0m \u001b[0mvar\u001b[0m \u001b[0;32min\u001b[0m \u001b[0mgrad_vars\u001b[0m\u001b[0;34m]\u001b[0m\u001b[0;34m\u001b[0m\u001b[0;34m\u001b[0m\u001b[0m\n\u001b[1;32m    934\u001b[0m         \u001b[0mextra_vars\u001b[0m \u001b[0;34m=\u001b[0m \u001b[0;34m[\u001b[0m\u001b[0mvar\u001b[0m \u001b[0;32mfor\u001b[0m \u001b[0mvar\u001b[0m \u001b[0;32min\u001b[0m \u001b[0mself\u001b[0m\u001b[0;34m.\u001b[0m\u001b[0mfree_RVs\u001b[0m \u001b[0;32mif\u001b[0m \u001b[0mvar\u001b[0m\u001b[0;34m.\u001b[0m\u001b[0mname\u001b[0m \u001b[0;32mnot\u001b[0m \u001b[0;32min\u001b[0m \u001b[0mvarnames\u001b[0m\u001b[0;34m]\u001b[0m\u001b[0;34m\u001b[0m\u001b[0;34m\u001b[0m\u001b[0m\n\u001b[0;32m--> 935\u001b[0;31m         \u001b[0;32mreturn\u001b[0m \u001b[0mValueGradFunction\u001b[0m\u001b[0;34m(\u001b[0m\u001b[0mself\u001b[0m\u001b[0;34m.\u001b[0m\u001b[0mlogpt\u001b[0m\u001b[0;34m,\u001b[0m \u001b[0mgrad_vars\u001b[0m\u001b[0;34m,\u001b[0m \u001b[0mextra_vars\u001b[0m\u001b[0;34m,\u001b[0m \u001b[0;34m**\u001b[0m\u001b[0mkwargs\u001b[0m\u001b[0;34m)\u001b[0m\u001b[0;34m\u001b[0m\u001b[0;34m\u001b[0m\u001b[0m\n\u001b[0m\u001b[1;32m    936\u001b[0m \u001b[0;34m\u001b[0m\u001b[0m\n\u001b[1;32m    937\u001b[0m     \u001b[0;34m@\u001b[0m\u001b[0mproperty\u001b[0m\u001b[0;34m\u001b[0m\u001b[0;34m\u001b[0m\u001b[0m\n",
      "\u001b[0;32m~/opt/anaconda3/lib/python3.8/site-packages/pymc3/model.py\u001b[0m in \u001b[0;36m__init__\u001b[0;34m(self, cost, grad_vars, extra_vars, dtype, casting, **kwargs)\u001b[0m\n\u001b[1;32m    652\u001b[0m         \u001b[0minputs\u001b[0m \u001b[0;34m=\u001b[0m \u001b[0;34m[\u001b[0m\u001b[0mself\u001b[0m\u001b[0;34m.\u001b[0m\u001b[0m_vars_joined\u001b[0m\u001b[0;34m]\u001b[0m\u001b[0;34m\u001b[0m\u001b[0;34m\u001b[0m\u001b[0m\n\u001b[1;32m    653\u001b[0m \u001b[0;34m\u001b[0m\u001b[0m\n\u001b[0;32m--> 654\u001b[0;31m         self._theano_function = theano.function(\n\u001b[0m\u001b[1;32m    655\u001b[0m             \u001b[0minputs\u001b[0m\u001b[0;34m,\u001b[0m \u001b[0;34m[\u001b[0m\u001b[0mself\u001b[0m\u001b[0;34m.\u001b[0m\u001b[0m_cost_joined\u001b[0m\u001b[0;34m,\u001b[0m \u001b[0mgrad\u001b[0m\u001b[0;34m]\u001b[0m\u001b[0;34m,\u001b[0m \u001b[0mgivens\u001b[0m\u001b[0;34m=\u001b[0m\u001b[0mgivens\u001b[0m\u001b[0;34m,\u001b[0m \u001b[0;34m**\u001b[0m\u001b[0mkwargs\u001b[0m\u001b[0;34m\u001b[0m\u001b[0;34m\u001b[0m\u001b[0m\n\u001b[1;32m    656\u001b[0m         )\n",
      "\u001b[0;32m~/opt/anaconda3/lib/python3.8/site-packages/theano/compile/function.py\u001b[0m in \u001b[0;36mfunction\u001b[0;34m(inputs, outputs, mode, updates, givens, no_default_updates, accept_inplace, name, rebuild_strict, allow_input_downcast, profile, on_unused_input)\u001b[0m\n\u001b[1;32m    304\u001b[0m         \u001b[0;31m# note: pfunc will also call orig_function -- orig_function is\u001b[0m\u001b[0;34m\u001b[0m\u001b[0;34m\u001b[0m\u001b[0;34m\u001b[0m\u001b[0m\n\u001b[1;32m    305\u001b[0m         \u001b[0;31m#      a choke point that all compilation must pass through\u001b[0m\u001b[0;34m\u001b[0m\u001b[0;34m\u001b[0m\u001b[0;34m\u001b[0m\u001b[0m\n\u001b[0;32m--> 306\u001b[0;31m         fn = pfunc(params=inputs,\n\u001b[0m\u001b[1;32m    307\u001b[0m                    \u001b[0moutputs\u001b[0m\u001b[0;34m=\u001b[0m\u001b[0moutputs\u001b[0m\u001b[0;34m,\u001b[0m\u001b[0;34m\u001b[0m\u001b[0;34m\u001b[0m\u001b[0m\n\u001b[1;32m    308\u001b[0m                    \u001b[0mmode\u001b[0m\u001b[0;34m=\u001b[0m\u001b[0mmode\u001b[0m\u001b[0;34m,\u001b[0m\u001b[0;34m\u001b[0m\u001b[0;34m\u001b[0m\u001b[0m\n",
      "\u001b[0;32m~/opt/anaconda3/lib/python3.8/site-packages/theano/compile/pfunc.py\u001b[0m in \u001b[0;36mpfunc\u001b[0;34m(params, outputs, mode, updates, givens, no_default_updates, accept_inplace, name, rebuild_strict, allow_input_downcast, profile, on_unused_input, output_keys)\u001b[0m\n\u001b[1;32m    481\u001b[0m         \u001b[0minputs\u001b[0m\u001b[0;34m.\u001b[0m\u001b[0mappend\u001b[0m\u001b[0;34m(\u001b[0m\u001b[0msi\u001b[0m\u001b[0;34m)\u001b[0m\u001b[0;34m\u001b[0m\u001b[0;34m\u001b[0m\u001b[0m\n\u001b[1;32m    482\u001b[0m \u001b[0;34m\u001b[0m\u001b[0m\n\u001b[0;32m--> 483\u001b[0;31m     return orig_function(inputs, cloned_outputs, mode,\n\u001b[0m\u001b[1;32m    484\u001b[0m                          \u001b[0maccept_inplace\u001b[0m\u001b[0;34m=\u001b[0m\u001b[0maccept_inplace\u001b[0m\u001b[0;34m,\u001b[0m \u001b[0mname\u001b[0m\u001b[0;34m=\u001b[0m\u001b[0mname\u001b[0m\u001b[0;34m,\u001b[0m\u001b[0;34m\u001b[0m\u001b[0;34m\u001b[0m\u001b[0m\n\u001b[1;32m    485\u001b[0m                          \u001b[0mprofile\u001b[0m\u001b[0;34m=\u001b[0m\u001b[0mprofile\u001b[0m\u001b[0;34m,\u001b[0m \u001b[0mon_unused_input\u001b[0m\u001b[0;34m=\u001b[0m\u001b[0mon_unused_input\u001b[0m\u001b[0;34m,\u001b[0m\u001b[0;34m\u001b[0m\u001b[0;34m\u001b[0m\u001b[0m\n",
      "\u001b[0;32m~/opt/anaconda3/lib/python3.8/site-packages/theano/compile/function_module.py\u001b[0m in \u001b[0;36morig_function\u001b[0;34m(inputs, outputs, mode, accept_inplace, name, profile, on_unused_input, output_keys)\u001b[0m\n\u001b[1;32m   1839\u001b[0m                   name=name)\n\u001b[1;32m   1840\u001b[0m         \u001b[0;32mwith\u001b[0m \u001b[0mtheano\u001b[0m\u001b[0;34m.\u001b[0m\u001b[0mchange_flags\u001b[0m\u001b[0;34m(\u001b[0m\u001b[0mcompute_test_value\u001b[0m\u001b[0;34m=\u001b[0m\u001b[0;34m\"off\"\u001b[0m\u001b[0;34m)\u001b[0m\u001b[0;34m:\u001b[0m\u001b[0;34m\u001b[0m\u001b[0;34m\u001b[0m\u001b[0m\n\u001b[0;32m-> 1841\u001b[0;31m             \u001b[0mfn\u001b[0m \u001b[0;34m=\u001b[0m \u001b[0mm\u001b[0m\u001b[0;34m.\u001b[0m\u001b[0mcreate\u001b[0m\u001b[0;34m(\u001b[0m\u001b[0mdefaults\u001b[0m\u001b[0;34m)\u001b[0m\u001b[0;34m\u001b[0m\u001b[0;34m\u001b[0m\u001b[0m\n\u001b[0m\u001b[1;32m   1842\u001b[0m     \u001b[0;32mfinally\u001b[0m\u001b[0;34m:\u001b[0m\u001b[0;34m\u001b[0m\u001b[0;34m\u001b[0m\u001b[0m\n\u001b[1;32m   1843\u001b[0m         \u001b[0mt2\u001b[0m \u001b[0;34m=\u001b[0m \u001b[0mtime\u001b[0m\u001b[0;34m.\u001b[0m\u001b[0mtime\u001b[0m\u001b[0;34m(\u001b[0m\u001b[0;34m)\u001b[0m\u001b[0;34m\u001b[0m\u001b[0;34m\u001b[0m\u001b[0m\n",
      "\u001b[0;32m~/opt/anaconda3/lib/python3.8/site-packages/theano/compile/function_module.py\u001b[0m in \u001b[0;36mcreate\u001b[0;34m(self, input_storage, trustme, storage_map)\u001b[0m\n\u001b[1;32m   1712\u001b[0m         \u001b[0;32mtry\u001b[0m\u001b[0;34m:\u001b[0m\u001b[0;34m\u001b[0m\u001b[0;34m\u001b[0m\u001b[0m\n\u001b[1;32m   1713\u001b[0m             \u001b[0mtheano\u001b[0m\u001b[0;34m.\u001b[0m\u001b[0mconfig\u001b[0m\u001b[0;34m.\u001b[0m\u001b[0mtraceback\u001b[0m\u001b[0;34m.\u001b[0m\u001b[0mlimit\u001b[0m \u001b[0;34m=\u001b[0m \u001b[0mtheano\u001b[0m\u001b[0;34m.\u001b[0m\u001b[0mconfig\u001b[0m\u001b[0;34m.\u001b[0m\u001b[0mtraceback\u001b[0m\u001b[0;34m.\u001b[0m\u001b[0mcompile_limit\u001b[0m\u001b[0;34m\u001b[0m\u001b[0;34m\u001b[0m\u001b[0m\n\u001b[0;32m-> 1714\u001b[0;31m             _fn, _i, _o = self.linker.make_thunk(\n\u001b[0m\u001b[1;32m   1715\u001b[0m                 input_storage=input_storage_lists, storage_map=storage_map)\n\u001b[1;32m   1716\u001b[0m         \u001b[0;32mfinally\u001b[0m\u001b[0;34m:\u001b[0m\u001b[0;34m\u001b[0m\u001b[0;34m\u001b[0m\u001b[0m\n",
      "\u001b[0;32m~/opt/anaconda3/lib/python3.8/site-packages/theano/gof/link.py\u001b[0m in \u001b[0;36mmake_thunk\u001b[0;34m(self, input_storage, output_storage, storage_map)\u001b[0m\n\u001b[1;32m    695\u001b[0m \u001b[0;34m\u001b[0m\u001b[0m\n\u001b[1;32m    696\u001b[0m     \u001b[0;32mdef\u001b[0m \u001b[0mmake_thunk\u001b[0m\u001b[0;34m(\u001b[0m\u001b[0mself\u001b[0m\u001b[0;34m,\u001b[0m \u001b[0minput_storage\u001b[0m\u001b[0;34m=\u001b[0m\u001b[0;32mNone\u001b[0m\u001b[0;34m,\u001b[0m \u001b[0moutput_storage\u001b[0m\u001b[0;34m=\u001b[0m\u001b[0;32mNone\u001b[0m\u001b[0;34m,\u001b[0m \u001b[0mstorage_map\u001b[0m\u001b[0;34m=\u001b[0m\u001b[0;32mNone\u001b[0m\u001b[0;34m)\u001b[0m\u001b[0;34m:\u001b[0m\u001b[0;34m\u001b[0m\u001b[0;34m\u001b[0m\u001b[0m\n\u001b[0;32m--> 697\u001b[0;31m         return self.make_all(input_storage=input_storage,\n\u001b[0m\u001b[1;32m    698\u001b[0m                              \u001b[0moutput_storage\u001b[0m\u001b[0;34m=\u001b[0m\u001b[0moutput_storage\u001b[0m\u001b[0;34m,\u001b[0m\u001b[0;34m\u001b[0m\u001b[0;34m\u001b[0m\u001b[0m\n\u001b[1;32m    699\u001b[0m                              storage_map=storage_map)[:3]\n",
      "\u001b[0;32m~/opt/anaconda3/lib/python3.8/site-packages/theano/gof/vm.py\u001b[0m in \u001b[0;36mmake_all\u001b[0;34m(self, profiler, input_storage, output_storage, storage_map)\u001b[0m\n\u001b[1;32m   1085\u001b[0m                 \u001b[0;31m# no need to cause duplicate c code by passing\u001b[0m\u001b[0;34m\u001b[0m\u001b[0;34m\u001b[0m\u001b[0;34m\u001b[0m\u001b[0m\n\u001b[1;32m   1086\u001b[0m                 \u001b[0;31m# no_recycling here.\u001b[0m\u001b[0;34m\u001b[0m\u001b[0;34m\u001b[0m\u001b[0;34m\u001b[0m\u001b[0m\n\u001b[0;32m-> 1087\u001b[0;31m                 thunks.append(node.op.make_thunk(node,\n\u001b[0m\u001b[1;32m   1088\u001b[0m                                                  \u001b[0mstorage_map\u001b[0m\u001b[0;34m,\u001b[0m\u001b[0;34m\u001b[0m\u001b[0;34m\u001b[0m\u001b[0m\n\u001b[1;32m   1089\u001b[0m                                                  \u001b[0mcompute_map\u001b[0m\u001b[0;34m,\u001b[0m\u001b[0;34m\u001b[0m\u001b[0;34m\u001b[0m\u001b[0m\n",
      "\u001b[0;32m~/opt/anaconda3/lib/python3.8/site-packages/theano/gof/op.py\u001b[0m in \u001b[0;36mmake_thunk\u001b[0;34m(self, node, storage_map, compute_map, no_recycling, impl)\u001b[0m\n\u001b[1;32m    952\u001b[0m                               compute_map=compute_map, impl='c')\n\u001b[1;32m    953\u001b[0m             \u001b[0;32mtry\u001b[0m\u001b[0;34m:\u001b[0m\u001b[0;34m\u001b[0m\u001b[0;34m\u001b[0m\u001b[0m\n\u001b[0;32m--> 954\u001b[0;31m                 return self.make_c_thunk(node, storage_map, compute_map,\n\u001b[0m\u001b[1;32m    955\u001b[0m                                          no_recycling)\n\u001b[1;32m    956\u001b[0m             \u001b[0;32mexcept\u001b[0m \u001b[0;34m(\u001b[0m\u001b[0mNotImplementedError\u001b[0m\u001b[0;34m,\u001b[0m \u001b[0mutils\u001b[0m\u001b[0;34m.\u001b[0m\u001b[0mMethodNotDefined\u001b[0m\u001b[0;34m)\u001b[0m\u001b[0;34m:\u001b[0m\u001b[0;34m\u001b[0m\u001b[0;34m\u001b[0m\u001b[0m\n",
      "\u001b[0;32m~/opt/anaconda3/lib/python3.8/site-packages/theano/gof/op.py\u001b[0m in \u001b[0;36mmake_c_thunk\u001b[0;34m(self, node, storage_map, compute_map, no_recycling)\u001b[0m\n\u001b[1;32m    855\u001b[0m                 \u001b[0;32mraise\u001b[0m \u001b[0mNotImplementedError\u001b[0m\u001b[0;34m(\u001b[0m\u001b[0;34m\"float16\"\u001b[0m\u001b[0;34m)\u001b[0m\u001b[0;34m\u001b[0m\u001b[0;34m\u001b[0m\u001b[0m\n\u001b[1;32m    856\u001b[0m         \u001b[0m_logger\u001b[0m\u001b[0;34m.\u001b[0m\u001b[0mdebug\u001b[0m\u001b[0;34m(\u001b[0m\u001b[0;34m'Trying CLinker.make_thunk'\u001b[0m\u001b[0;34m)\u001b[0m\u001b[0;34m\u001b[0m\u001b[0;34m\u001b[0m\u001b[0m\n\u001b[0;32m--> 857\u001b[0;31m         outputs = cl.make_thunk(input_storage=node_input_storage,\n\u001b[0m\u001b[1;32m    858\u001b[0m                                 output_storage=node_output_storage)\n\u001b[1;32m    859\u001b[0m         \u001b[0mthunk\u001b[0m\u001b[0;34m,\u001b[0m \u001b[0mnode_input_filters\u001b[0m\u001b[0;34m,\u001b[0m \u001b[0mnode_output_filters\u001b[0m \u001b[0;34m=\u001b[0m \u001b[0moutputs\u001b[0m\u001b[0;34m\u001b[0m\u001b[0;34m\u001b[0m\u001b[0m\n",
      "\u001b[0;32m~/opt/anaconda3/lib/python3.8/site-packages/theano/gof/cc.py\u001b[0m in \u001b[0;36mmake_thunk\u001b[0;34m(self, input_storage, output_storage, storage_map, keep_lock)\u001b[0m\n\u001b[1;32m   1213\u001b[0m         \"\"\"\n\u001b[1;32m   1214\u001b[0m         \u001b[0minit_tasks\u001b[0m\u001b[0;34m,\u001b[0m \u001b[0mtasks\u001b[0m \u001b[0;34m=\u001b[0m \u001b[0mself\u001b[0m\u001b[0;34m.\u001b[0m\u001b[0mget_init_tasks\u001b[0m\u001b[0;34m(\u001b[0m\u001b[0;34m)\u001b[0m\u001b[0;34m\u001b[0m\u001b[0;34m\u001b[0m\u001b[0m\n\u001b[0;32m-> 1215\u001b[0;31m         cthunk, module, in_storage, out_storage, error_storage = self.__compile__(\n\u001b[0m\u001b[1;32m   1216\u001b[0m             \u001b[0minput_storage\u001b[0m\u001b[0;34m,\u001b[0m \u001b[0moutput_storage\u001b[0m\u001b[0;34m,\u001b[0m \u001b[0mstorage_map\u001b[0m\u001b[0;34m,\u001b[0m\u001b[0;34m\u001b[0m\u001b[0;34m\u001b[0m\u001b[0m\n\u001b[1;32m   1217\u001b[0m             keep_lock=keep_lock)\n",
      "\u001b[0;32m~/opt/anaconda3/lib/python3.8/site-packages/theano/gof/cc.py\u001b[0m in \u001b[0;36m__compile__\u001b[0;34m(self, input_storage, output_storage, storage_map, keep_lock)\u001b[0m\n\u001b[1;32m   1151\u001b[0m         \u001b[0minput_storage\u001b[0m \u001b[0;34m=\u001b[0m \u001b[0mtuple\u001b[0m\u001b[0;34m(\u001b[0m\u001b[0minput_storage\u001b[0m\u001b[0;34m)\u001b[0m\u001b[0;34m\u001b[0m\u001b[0;34m\u001b[0m\u001b[0m\n\u001b[1;32m   1152\u001b[0m         \u001b[0moutput_storage\u001b[0m \u001b[0;34m=\u001b[0m \u001b[0mtuple\u001b[0m\u001b[0;34m(\u001b[0m\u001b[0moutput_storage\u001b[0m\u001b[0;34m)\u001b[0m\u001b[0;34m\u001b[0m\u001b[0;34m\u001b[0m\u001b[0m\n\u001b[0;32m-> 1153\u001b[0;31m         thunk, module = self.cthunk_factory(error_storage,\n\u001b[0m\u001b[1;32m   1154\u001b[0m                                             \u001b[0minput_storage\u001b[0m\u001b[0;34m,\u001b[0m\u001b[0;34m\u001b[0m\u001b[0;34m\u001b[0m\u001b[0m\n\u001b[1;32m   1155\u001b[0m                                             \u001b[0moutput_storage\u001b[0m\u001b[0;34m,\u001b[0m\u001b[0;34m\u001b[0m\u001b[0;34m\u001b[0m\u001b[0m\n",
      "\u001b[0;32m~/opt/anaconda3/lib/python3.8/site-packages/theano/gof/cc.py\u001b[0m in \u001b[0;36mcthunk_factory\u001b[0;34m(self, error_storage, in_storage, out_storage, storage_map, keep_lock)\u001b[0m\n\u001b[1;32m   1621\u001b[0m             \u001b[0;32mfor\u001b[0m \u001b[0mnode\u001b[0m \u001b[0;32min\u001b[0m \u001b[0mself\u001b[0m\u001b[0;34m.\u001b[0m\u001b[0mnode_order\u001b[0m\u001b[0;34m:\u001b[0m\u001b[0;34m\u001b[0m\u001b[0;34m\u001b[0m\u001b[0m\n\u001b[1;32m   1622\u001b[0m                 \u001b[0mnode\u001b[0m\u001b[0;34m.\u001b[0m\u001b[0mop\u001b[0m\u001b[0;34m.\u001b[0m\u001b[0mprepare_node\u001b[0m\u001b[0;34m(\u001b[0m\u001b[0mnode\u001b[0m\u001b[0;34m,\u001b[0m \u001b[0mstorage_map\u001b[0m\u001b[0;34m,\u001b[0m \u001b[0;32mNone\u001b[0m\u001b[0;34m,\u001b[0m \u001b[0;34m'c'\u001b[0m\u001b[0;34m)\u001b[0m\u001b[0;34m\u001b[0m\u001b[0;34m\u001b[0m\u001b[0m\n\u001b[0;32m-> 1623\u001b[0;31m             module = get_module_cache().module_from_key(\n\u001b[0m\u001b[1;32m   1624\u001b[0m                 key=key, lnk=self, keep_lock=keep_lock)\n\u001b[1;32m   1625\u001b[0m \u001b[0;34m\u001b[0m\u001b[0m\n",
      "\u001b[0;32m~/opt/anaconda3/lib/python3.8/site-packages/theano/gof/cmodule.py\u001b[0m in \u001b[0;36mmodule_from_key\u001b[0;34m(self, key, lnk, keep_lock)\u001b[0m\n\u001b[1;32m   1187\u001b[0m             \u001b[0;32mtry\u001b[0m\u001b[0;34m:\u001b[0m\u001b[0;34m\u001b[0m\u001b[0;34m\u001b[0m\u001b[0m\n\u001b[1;32m   1188\u001b[0m                 \u001b[0mlocation\u001b[0m \u001b[0;34m=\u001b[0m \u001b[0mdlimport_workdir\u001b[0m\u001b[0;34m(\u001b[0m\u001b[0mself\u001b[0m\u001b[0;34m.\u001b[0m\u001b[0mdirname\u001b[0m\u001b[0;34m)\u001b[0m\u001b[0;34m\u001b[0m\u001b[0;34m\u001b[0m\u001b[0m\n\u001b[0;32m-> 1189\u001b[0;31m                 \u001b[0mmodule\u001b[0m \u001b[0;34m=\u001b[0m \u001b[0mlnk\u001b[0m\u001b[0;34m.\u001b[0m\u001b[0mcompile_cmodule\u001b[0m\u001b[0;34m(\u001b[0m\u001b[0mlocation\u001b[0m\u001b[0;34m)\u001b[0m\u001b[0;34m\u001b[0m\u001b[0;34m\u001b[0m\u001b[0m\n\u001b[0m\u001b[1;32m   1190\u001b[0m                 \u001b[0mname\u001b[0m \u001b[0;34m=\u001b[0m \u001b[0mmodule\u001b[0m\u001b[0;34m.\u001b[0m\u001b[0m__file__\u001b[0m\u001b[0;34m\u001b[0m\u001b[0;34m\u001b[0m\u001b[0m\n\u001b[1;32m   1191\u001b[0m                 \u001b[0;32massert\u001b[0m \u001b[0mname\u001b[0m\u001b[0;34m.\u001b[0m\u001b[0mstartswith\u001b[0m\u001b[0;34m(\u001b[0m\u001b[0mlocation\u001b[0m\u001b[0;34m)\u001b[0m\u001b[0;34m\u001b[0m\u001b[0;34m\u001b[0m\u001b[0m\n",
      "\u001b[0;32m~/opt/anaconda3/lib/python3.8/site-packages/theano/gof/cc.py\u001b[0m in \u001b[0;36mcompile_cmodule\u001b[0;34m(self, location)\u001b[0m\n\u001b[1;32m   1518\u001b[0m         \u001b[0;32mtry\u001b[0m\u001b[0;34m:\u001b[0m\u001b[0;34m\u001b[0m\u001b[0;34m\u001b[0m\u001b[0m\n\u001b[1;32m   1519\u001b[0m             \u001b[0m_logger\u001b[0m\u001b[0;34m.\u001b[0m\u001b[0mdebug\u001b[0m\u001b[0;34m(\u001b[0m\u001b[0;34m\"LOCATION %s\"\u001b[0m\u001b[0;34m,\u001b[0m \u001b[0mstr\u001b[0m\u001b[0;34m(\u001b[0m\u001b[0mlocation\u001b[0m\u001b[0;34m)\u001b[0m\u001b[0;34m)\u001b[0m\u001b[0;34m\u001b[0m\u001b[0;34m\u001b[0m\u001b[0m\n\u001b[0;32m-> 1520\u001b[0;31m             module = c_compiler.compile_str(\n\u001b[0m\u001b[1;32m   1521\u001b[0m                 \u001b[0mmodule_name\u001b[0m\u001b[0;34m=\u001b[0m\u001b[0mmod\u001b[0m\u001b[0;34m.\u001b[0m\u001b[0mcode_hash\u001b[0m\u001b[0;34m,\u001b[0m\u001b[0;34m\u001b[0m\u001b[0;34m\u001b[0m\u001b[0m\n\u001b[1;32m   1522\u001b[0m                 \u001b[0msrc_code\u001b[0m\u001b[0;34m=\u001b[0m\u001b[0msrc_code\u001b[0m\u001b[0;34m,\u001b[0m\u001b[0;34m\u001b[0m\u001b[0;34m\u001b[0m\u001b[0m\n",
      "\u001b[0;32m~/opt/anaconda3/lib/python3.8/site-packages/theano/gof/cmodule.py\u001b[0m in \u001b[0;36mcompile_str\u001b[0;34m(module_name, src_code, location, include_dirs, lib_dirs, libs, preargs, py_module, hide_symbols)\u001b[0m\n\u001b[1;32m   2364\u001b[0m \u001b[0;34m\u001b[0m\u001b[0m\n\u001b[1;32m   2365\u001b[0m         \u001b[0;32mtry\u001b[0m\u001b[0;34m:\u001b[0m\u001b[0;34m\u001b[0m\u001b[0;34m\u001b[0m\u001b[0m\n\u001b[0;32m-> 2366\u001b[0;31m             \u001b[0mp_out\u001b[0m \u001b[0;34m=\u001b[0m \u001b[0moutput_subprocess_Popen\u001b[0m\u001b[0;34m(\u001b[0m\u001b[0mcmd\u001b[0m\u001b[0;34m)\u001b[0m\u001b[0;34m\u001b[0m\u001b[0;34m\u001b[0m\u001b[0m\n\u001b[0m\u001b[1;32m   2367\u001b[0m             \u001b[0mcompile_stderr\u001b[0m \u001b[0;34m=\u001b[0m \u001b[0mdecode\u001b[0m\u001b[0;34m(\u001b[0m\u001b[0mp_out\u001b[0m\u001b[0;34m[\u001b[0m\u001b[0;36m1\u001b[0m\u001b[0;34m]\u001b[0m\u001b[0;34m)\u001b[0m\u001b[0;34m\u001b[0m\u001b[0;34m\u001b[0m\u001b[0m\n\u001b[1;32m   2368\u001b[0m         \u001b[0;32mexcept\u001b[0m \u001b[0mException\u001b[0m\u001b[0;34m:\u001b[0m\u001b[0;34m\u001b[0m\u001b[0;34m\u001b[0m\u001b[0m\n",
      "\u001b[0;32m~/opt/anaconda3/lib/python3.8/site-packages/theano/misc/windows.py\u001b[0m in \u001b[0;36moutput_subprocess_Popen\u001b[0;34m(command, **params)\u001b[0m\n\u001b[1;32m     78\u001b[0m     \u001b[0;31m# we need to use communicate to make sure we don't deadlock around\u001b[0m\u001b[0;34m\u001b[0m\u001b[0;34m\u001b[0m\u001b[0;34m\u001b[0m\u001b[0m\n\u001b[1;32m     79\u001b[0m     \u001b[0;31m# the stdout/stderr pipe.\u001b[0m\u001b[0;34m\u001b[0m\u001b[0;34m\u001b[0m\u001b[0;34m\u001b[0m\u001b[0m\n\u001b[0;32m---> 80\u001b[0;31m     \u001b[0mout\u001b[0m \u001b[0;34m=\u001b[0m \u001b[0mp\u001b[0m\u001b[0;34m.\u001b[0m\u001b[0mcommunicate\u001b[0m\u001b[0;34m(\u001b[0m\u001b[0;34m)\u001b[0m\u001b[0;34m\u001b[0m\u001b[0;34m\u001b[0m\u001b[0m\n\u001b[0m\u001b[1;32m     81\u001b[0m     \u001b[0;32mreturn\u001b[0m \u001b[0mout\u001b[0m \u001b[0;34m+\u001b[0m \u001b[0;34m(\u001b[0m\u001b[0mp\u001b[0m\u001b[0;34m.\u001b[0m\u001b[0mreturncode\u001b[0m\u001b[0;34m,\u001b[0m\u001b[0;34m)\u001b[0m\u001b[0;34m\u001b[0m\u001b[0;34m\u001b[0m\u001b[0m\n",
      "\u001b[0;32m~/opt/anaconda3/lib/python3.8/subprocess.py\u001b[0m in \u001b[0;36mcommunicate\u001b[0;34m(self, input, timeout)\u001b[0m\n\u001b[1;32m   1022\u001b[0m \u001b[0;34m\u001b[0m\u001b[0m\n\u001b[1;32m   1023\u001b[0m             \u001b[0;32mtry\u001b[0m\u001b[0;34m:\u001b[0m\u001b[0;34m\u001b[0m\u001b[0;34m\u001b[0m\u001b[0m\n\u001b[0;32m-> 1024\u001b[0;31m                 \u001b[0mstdout\u001b[0m\u001b[0;34m,\u001b[0m \u001b[0mstderr\u001b[0m \u001b[0;34m=\u001b[0m \u001b[0mself\u001b[0m\u001b[0;34m.\u001b[0m\u001b[0m_communicate\u001b[0m\u001b[0;34m(\u001b[0m\u001b[0minput\u001b[0m\u001b[0;34m,\u001b[0m \u001b[0mendtime\u001b[0m\u001b[0;34m,\u001b[0m \u001b[0mtimeout\u001b[0m\u001b[0;34m)\u001b[0m\u001b[0;34m\u001b[0m\u001b[0;34m\u001b[0m\u001b[0m\n\u001b[0m\u001b[1;32m   1025\u001b[0m             \u001b[0;32mexcept\u001b[0m \u001b[0mKeyboardInterrupt\u001b[0m\u001b[0;34m:\u001b[0m\u001b[0;34m\u001b[0m\u001b[0;34m\u001b[0m\u001b[0m\n\u001b[1;32m   1026\u001b[0m                 \u001b[0;31m# https://bugs.python.org/issue25942\u001b[0m\u001b[0;34m\u001b[0m\u001b[0;34m\u001b[0m\u001b[0;34m\u001b[0m\u001b[0m\n",
      "\u001b[0;32m~/opt/anaconda3/lib/python3.8/subprocess.py\u001b[0m in \u001b[0;36m_communicate\u001b[0;34m(self, input, endtime, orig_timeout)\u001b[0m\n\u001b[1;32m   1864\u001b[0m                             'failed to raise TimeoutExpired.')\n\u001b[1;32m   1865\u001b[0m \u001b[0;34m\u001b[0m\u001b[0m\n\u001b[0;32m-> 1866\u001b[0;31m                     \u001b[0mready\u001b[0m \u001b[0;34m=\u001b[0m \u001b[0mselector\u001b[0m\u001b[0;34m.\u001b[0m\u001b[0mselect\u001b[0m\u001b[0;34m(\u001b[0m\u001b[0mtimeout\u001b[0m\u001b[0;34m)\u001b[0m\u001b[0;34m\u001b[0m\u001b[0;34m\u001b[0m\u001b[0m\n\u001b[0m\u001b[1;32m   1867\u001b[0m                     \u001b[0mself\u001b[0m\u001b[0;34m.\u001b[0m\u001b[0m_check_timeout\u001b[0m\u001b[0;34m(\u001b[0m\u001b[0mendtime\u001b[0m\u001b[0;34m,\u001b[0m \u001b[0morig_timeout\u001b[0m\u001b[0;34m,\u001b[0m \u001b[0mstdout\u001b[0m\u001b[0;34m,\u001b[0m \u001b[0mstderr\u001b[0m\u001b[0;34m)\u001b[0m\u001b[0;34m\u001b[0m\u001b[0;34m\u001b[0m\u001b[0m\n\u001b[1;32m   1868\u001b[0m \u001b[0;34m\u001b[0m\u001b[0m\n",
      "\u001b[0;32m~/opt/anaconda3/lib/python3.8/selectors.py\u001b[0m in \u001b[0;36mselect\u001b[0;34m(self, timeout)\u001b[0m\n\u001b[1;32m    413\u001b[0m         \u001b[0mready\u001b[0m \u001b[0;34m=\u001b[0m \u001b[0;34m[\u001b[0m\u001b[0;34m]\u001b[0m\u001b[0;34m\u001b[0m\u001b[0;34m\u001b[0m\u001b[0m\n\u001b[1;32m    414\u001b[0m         \u001b[0;32mtry\u001b[0m\u001b[0;34m:\u001b[0m\u001b[0;34m\u001b[0m\u001b[0;34m\u001b[0m\u001b[0m\n\u001b[0;32m--> 415\u001b[0;31m             \u001b[0mfd_event_list\u001b[0m \u001b[0;34m=\u001b[0m \u001b[0mself\u001b[0m\u001b[0;34m.\u001b[0m\u001b[0m_selector\u001b[0m\u001b[0;34m.\u001b[0m\u001b[0mpoll\u001b[0m\u001b[0;34m(\u001b[0m\u001b[0mtimeout\u001b[0m\u001b[0;34m)\u001b[0m\u001b[0;34m\u001b[0m\u001b[0;34m\u001b[0m\u001b[0m\n\u001b[0m\u001b[1;32m    416\u001b[0m         \u001b[0;32mexcept\u001b[0m \u001b[0mInterruptedError\u001b[0m\u001b[0;34m:\u001b[0m\u001b[0;34m\u001b[0m\u001b[0;34m\u001b[0m\u001b[0m\n\u001b[1;32m    417\u001b[0m             \u001b[0;32mreturn\u001b[0m \u001b[0mready\u001b[0m\u001b[0;34m\u001b[0m\u001b[0;34m\u001b[0m\u001b[0m\n",
      "\u001b[0;31mKeyboardInterrupt\u001b[0m: "
     ]
    }
   ],
   "source": [
    "# Sampling\n",
    "with ZINB_full:\n",
    "    ZINB_full_trace = pm.sample(NSamples, target_accept=.9)"
   ]
  },
  {
   "cell_type": "code",
   "execution_count": null,
   "metadata": {},
   "outputs": [],
   "source": [
    "with pm.Model() as ZINB_full_count:\n",
    "    # = = = = = = = = = = = COUNTS = = = = = = = = = = = = = = #\n",
    "    # Global count model\n",
    "    π0 = pm.Normal('Global_rate', 0, NPR)\n",
    "    σ0_υ = pm.Uniform('σ0_υ', 0, 10)\n",
    "    pi_tilde = pm.Normal('pi_t', 0, 1, shape=nreg)\n",
    "    υ0 = pm.Deterministic('Regional_rate', π0 + σ0_υ*pi_tilde)\n",
    "\n",
    "    # National count model\n",
    "    η2 = pm.Normal('Sanctuary', 0, NPR)\n",
    "    η3 = pm.Normal('CoastLength', 0, NPR)\n",
    "    η4 = pm.Normal('HDI', 0, NPR)\n",
    "    η5 = pm.Normal('VOICE', 0, NPR)\n",
    "    η6 = pm.Normal('POP', 0, NPR)\n",
    "    \n",
    "    η = υ0[Ig]+η2*SSA+η3*CLN+η4*HDI+η5*VOICE+η6*POP\n",
    "    σ0_η = pm.Exponential('σ0_η', 1)\n",
    "    η0 = pm.Normal('η0', η, σ0_η, shape=nlocs)\n",
    "    \n",
    "    # Reef-level count model\n",
    "    κ1_ = pm.Normal('Reef_type', 0, NPR, shape=nrty-1)\n",
    "    κ1 = tt.set_subtensor(tt.zeros(shape=nrty)[1:], κ1_)\n",
    "    \n",
    "    κ3 = pm.Normal('Closed', 0, NPR)\n",
    "    κ3a = pm.Normal('MPA_size', 0, NPR)\n",
    "    κ3b = pm.Normal('High_compliance', 0, NPR)\n",
    "    \n",
    "    κ4 = pm.Normal('Gillnet_longline', 0, NPR)\n",
    "    κ5 = pm.Normal('Drumline', 0, NPR)\n",
    "    κ6 = pm.Normal('HookLine', 0, NPR)\n",
    "    \n",
    "    κ7 = pm.Normal('Catch', 0, NPR)\n",
    "    κ7b = pm.Normal('Temporal', 0, NPR)\n",
    "    κ7c = pm.Normal('Species', 0, NPR)\n",
    "    \n",
    "    κ8 = pm.Normal('Remote', 0, NPR)\n",
    "    κ9 = pm.Normal('Gravity_NP', 0, NPR)\n",
    "    κ10 = pm.Normal('Gravity_NC', 0, NPR)\n",
    "    \n",
    "    # Reef model\n",
    "    κ = η0[Ilr]+κ1[Irty]+κ3*CLO+κ3a*MPS+κ3b*HIG+κ4*GILL+κ5*DRUM+κ6*HLIN+κ7*BAG+κ7b*TEM+κ7c*SPP+κ8*REM+κ9*GRAV+κ10*GRAV_NC\n",
    "    \n",
    "    σ0_κ = pm.Uniform('σ0_κ',0 , 100)\n",
    "    κ0 = pm.Normal('κ0', κ, σ0_κ, shape=nreefs)\n",
    "\n",
    "    # = = = Observation model\n",
    "    ρ1 = pm.Normal('Depth', 0, NPR)\n",
    "    \n",
    "    ρ4 = pm.Normal('Visibililty', 0, NPR)\n",
    "    ρ5 = pm.Normal('Hard_coral', 0, NPR)\n",
    "    ρ6 = pm.Normal('Rugosity', 0, NPR)\n",
    "    ρ7 = pm.Normal('TimeODay', 0, NPR)\n",
    "    ρ8_ = pm.Normal('Bait_type', 0, NPR, shape=nbait-1)\n",
    "    ρ8 = tt.set_subtensor(tt.zeros(shape=nbait)[1:], ρ8_)\n",
    "    ρ9_ = pm.Normal('Seasonality', 0, NPR, shape=nsea-1)\n",
    "    ρ9 = tt.set_subtensor(tt.zeros(shape=nsea)[1:], ρ9_)\n",
    "    \n",
    "    μ_ = κ0[Ir]+ρ1*DEPTH+ρ4*VIS+ρ5*HC+ρ6*RUG+ρ7*DAY+ρ8[Ib]+ρ9[Ic]\n",
    "    μ = tt.exp(μ_)\n",
    "    \n",
    "    # = = = = = = = = = = = ZEROS = = = = = = = = = = = = = = #\n",
    "    # Global zeros model\n",
    "    π0_z = pm.Cauchy('Global_zeros', 0, 10)\n",
    "    σ0_υ_z = pm.Exponential('σ0_υ_z', 1)\n",
    "    pi0_tilde = pm.Normal('pi0_t', 0, 1, shape=nreg)\n",
    "    υ0_z = pm.Deterministic('Regional_zeros', π0_z + σ0_υ_z*pi0_tilde)\n",
    "    σ0_η_z = pm.Exponential('σ0_η_z', 1)\n",
    "\n",
    "    # National zeros model\n",
    "    η_z = υ0_z[Ig]\n",
    "    η0_z = pm.Normal('η0_z', η_z, σ0_η_z, shape=nlocs)\n",
    "    \n",
    "    # Proportion of non-zeros\n",
    "    ψ = pm.invlogit(η0_z[Ils])\n",
    "\n",
    "    # = = = = = = = = = = = Likelihood = = = = = = = = = = = = = = #\n",
    "    α = pm.Gamma('alpha', 0.001, 0.001)\n",
    "    Yi = pm.ZeroInflatedNegativeBinomial('Yi', ψ, μ, α, observed=MaxN)"
   ]
  },
  {
   "cell_type": "code",
   "execution_count": null,
   "metadata": {},
   "outputs": [],
   "source": [
    "# Sampling\n",
    "with ZINB_full_count:\n",
    "    ZINB_full_count_trace = pm.sample(NSamples, target_accept=.9)"
   ]
  },
  {
   "cell_type": "markdown",
   "metadata": {},
   "source": [
    "## Model comparison"
   ]
  },
  {
   "cell_type": "code",
   "execution_count": null,
   "metadata": {},
   "outputs": [],
   "source": [
    "df_comp_LOO = az.compare({'Null': Null_trace, 'non_ZI_partial_null':non_ZI_partial_null_trace,\n",
    "                          'non_ZI_full':non_ZI_full_trace, 'ZINB_partial_null': ZINB_partial_null_trace,\n",
    "                          'ZINB_full_count':ZINB_full_count_trace, 'ZINB_full': ZINB_full_trace,}, ic='LOO')\n",
    "\n"
   ]
  },
  {
   "cell_type": "code",
   "execution_count": null,
   "metadata": {},
   "outputs": [],
   "source": [
    "df_comp_LOO"
   ]
  },
  {
   "cell_type": "code",
   "execution_count": null,
   "metadata": {},
   "outputs": [],
   "source": [
    "ZINB_full_loo_p = pm.stats.loo(ZINB_full_trace, ZINB_full, pointwise=True, progressbar=True)\n",
    "xdata.set_id[ZINB_full_loo_p.ks>0.7].values"
   ]
  },
  {
   "cell_type": "code",
   "execution_count": null,
   "metadata": {},
   "outputs": [],
   "source": [
    "ZINB_full_count_loo_p = pm.stats.loo(ZINB_full_count_trace, ZINB_full_count, pointwise=True, progressbar=True)\n",
    "xdata.set_id[ZINB_full_count_loo_p.ks>0.7].values"
   ]
  },
  {
   "cell_type": "code",
   "execution_count": null,
   "metadata": {},
   "outputs": [],
   "source": [
    "ZINB_partial_null_loo_p = pm.stats.loo(ZINB_partial_null_trace, ZINB_partial_null, pointwise=True, progressbar=True)\n",
    "xdata.set_id[ZINB_partial_null_loo_p.ks>0.7].values"
   ]
  },
  {
   "cell_type": "code",
   "execution_count": null,
   "metadata": {},
   "outputs": [],
   "source": [
    "df_comp_LOO.to_csv('ModelCompLoo.csv')"
   ]
  },
  {
   "cell_type": "markdown",
   "metadata": {},
   "source": [
    "## Figures"
   ]
  },
  {
   "cell_type": "code",
   "execution_count": null,
   "metadata": {},
   "outputs": [],
   "source": [
    "trace = ZINB_full_trace"
   ]
  },
  {
   "cell_type": "code",
   "execution_count": null,
   "metadata": {},
   "outputs": [],
   "source": [
    "np.quantile(trace['alpha'],(.025,.50,.975))"
   ]
  },
  {
   "cell_type": "code",
   "execution_count": null,
   "metadata": {},
   "outputs": [],
   "source": [
    "varset = ['Global_rate',\n",
    " 'Regional_rate',\n",
    " 'CoastLength',\n",
    " 'Sanctuary',\n",
    " 'Reef_type',\n",
    " 'Closed',\n",
    " 'MPA_size',\n",
    " 'High_compliance',\n",
    " 'Gillnet_longline',\n",
    " 'Drumline',\n",
    " 'HookLine',\n",
    " 'Catch',\n",
    " 'Temporal',\n",
    " 'Species',\n",
    " 'Remote',\n",
    " 'Gravity_NP',\n",
    " 'Gravity_NC',\n",
    " 'Depth',\n",
    " 'Visibililty',\n",
    " 'Hard_coral',\n",
    " 'Rugosity',\n",
    " 'TimeODay',\n",
    " 'Bait_type',\n",
    " 'Seasonality',\n",
    " 'Global_zeros',\n",
    " 'Regional_zeros',\n",
    " 'HDI',\n",
    " 'VOICE',\n",
    " 'POP']"
   ]
  },
  {
   "cell_type": "code",
   "execution_count": null,
   "metadata": {
    "scrolled": false
   },
   "outputs": [],
   "source": [
    "pm.traceplot(trace, varnames=varset)\n",
    "plt.savefig('Figure_S3_'+critter+'.jpg',dpi=300);"
   ]
  },
  {
   "cell_type": "code",
   "execution_count": null,
   "metadata": {},
   "outputs": [],
   "source": [
    "mp.style.use('default')"
   ]
  },
  {
   "cell_type": "code",
   "execution_count": null,
   "metadata": {},
   "outputs": [],
   "source": [
    "varset"
   ]
  },
  {
   "cell_type": "code",
   "execution_count": null,
   "metadata": {
    "scrolled": false
   },
   "outputs": [],
   "source": [
    "pm.forestplot(trace, varnames=varset[:12],figsize=(5, 12))\n",
    "plt.axvline(0, linestyle=\":\", color=\"black\")\n",
    "plt.savefig('Figure_S2a_'+critter+'.pdf');"
   ]
  },
  {
   "cell_type": "code",
   "execution_count": null,
   "metadata": {},
   "outputs": [],
   "source": [
    "pm.forestplot(trace, varnames=varset[12:24],figsize=(5, 12))\n",
    "plt.axvline(0, linestyle=\":\", color=\"black\")\n",
    "plt.savefig('Figure_S2b_'+critter+'.pdf');"
   ]
  },
  {
   "cell_type": "code",
   "execution_count": null,
   "metadata": {},
   "outputs": [],
   "source": [
    "pm.forestplot(trace, varnames=varset[24:],figsize=(5, 12))\n",
    "plt.axvline(0, linestyle=\":\", color=\"black\")\n",
    "plt.savefig('Figure_S2c_'+critter+'.pdf');"
   ]
  },
  {
   "cell_type": "markdown",
   "metadata": {},
   "source": [
    "## Export other models"
   ]
  },
  {
   "cell_type": "code",
   "execution_count": null,
   "metadata": {},
   "outputs": [],
   "source": [
    "# Export partial null model results\n",
    "results = pm.backends.tracetab.trace_to_dataframe(ZINB_partial_null_trace)\n",
    "colnames = np.array(list(results.columns), dtype=object)\n",
    "colnames[np.array([list(colnames).index(x) for x in grep('κ0',colnames)])] = np.array(['κ0_'+str(r) for r in Reef])\n",
    "colnames[np.array([list(colnames).index(x) for x in grep('η0_z',colnames)])] = np.array(['η0z_'+l for l in Location])\n",
    "colnames[np.array([list(colnames).index(x) for x in grep('η0_',colnames)])] = np.array(['η0_'+l for l in Location])\n",
    "colnames[np.array([list(colnames).index(x) for x in grep('Reef_type',colnames)])] = np.array(['Reef_type_'+r for r in RTY[1:]])\n",
    "colnames[np.array([list(colnames).index(x) for x in grep('Regional_rate',colnames)])] = np.array(['Regional_rate_'+r for r in Region])\n",
    "results.columns = list(colnames)\n",
    "# Drop reef-specific columns\n",
    "results = results.drop(list(colnames[np.array([list(colnames).index(x) for x in grep('κ0',colnames)])]),axis=1)\n",
    "# Export posteriors\n",
    "results.to_csv(critter+'_ZINB_partial_null_results_.csv')\n",
    "# Export summary statistics \n",
    "results.quantile((0.5,.25,.975)).rename(index={0.5: 'Median',0.25: 'Low 95',0.975: 'Upp 95'}).to_csv(critter+'_ZINB_partial_null_summary_stats_.csv')"
   ]
  },
  {
   "cell_type": "code",
   "execution_count": null,
   "metadata": {},
   "outputs": [],
   "source": [
    "# Export partial null model results\n",
    "results = pm.backends.tracetab.trace_to_dataframe(ZINB_full_count_trace)\n",
    "colnames = np.array(list(results.columns), dtype=object)\n",
    "colnames[np.array([list(colnames).index(x) for x in grep('κ0',colnames)])] = np.array(['κ0_'+str(r) for r in Reef])\n",
    "colnames[np.array([list(colnames).index(x) for x in grep('η0_z',colnames)])] = np.array(['η0z_'+l for l in Location])\n",
    "colnames[np.array([list(colnames).index(x) for x in grep('η0_',colnames)])] = np.array(['η0_'+l for l in Location])\n",
    "colnames[np.array([list(colnames).index(x) for x in grep('Reef_type',colnames)])] = np.array(['Reef_type_'+r for r in RTY[1:]])\n",
    "colnames[np.array([list(colnames).index(x) for x in grep('Regional_rate',colnames)])] = np.array(['Regional_rate_'+r for r in Region])\n",
    "results.columns = list(colnames)\n",
    "# Drop reef-specific columns\n",
    "results = results.drop(list(colnames[np.array([list(colnames).index(x) for x in grep('κ0',colnames)])]),axis=1)\n",
    "# Export posteriors\n",
    "results.to_csv(critter+'_ZINB_full_count_results_.csv')\n",
    "# Export summary statistics \n",
    "results.quantile((0.5,.25,.975)).rename(index={0.5: 'Median',0.25: 'Low 95',0.975: 'Upp 95'}).to_csv(critter+'_ZINB_full_count_summary_stats_.csv')"
   ]
  },
  {
   "cell_type": "markdown",
   "metadata": {},
   "source": [
    "## Export full model"
   ]
  },
  {
   "cell_type": "code",
   "execution_count": null,
   "metadata": {},
   "outputs": [],
   "source": [
    "results = pm.backends.tracetab.trace_to_dataframe(trace)"
   ]
  },
  {
   "cell_type": "code",
   "execution_count": null,
   "metadata": {},
   "outputs": [],
   "source": [
    "# Edit column names\n",
    "colnames = np.array(list(results.columns), dtype=object)\n",
    "\n",
    "colnames[np.array([list(colnames).index(x) for x in grep('κ0',colnames)])] = np.array(['κ0_'+str(r) for r in Reef])\n",
    "colnames[np.array([list(colnames).index(x) for x in grep('η0_z',colnames)])] = np.array(['η0z_'+l for l in Location])\n",
    "colnames[np.array([list(colnames).index(x) for x in grep('η0_',colnames)])] = np.array(['η0_'+l for l in Location])\n",
    "\n",
    "#colnames[np.array([list(colnames).index(x) for x in grep('Site_type',colnames)])] = np.array(['Site_type_'+s for s in STY[1:]])\n",
    "\n",
    "#colnames[np.array([list(colnames).index(x) for x in grep('Bait_type',colnames)])] = np.array(['Bait_type'+b for b in BAIT[1:]])\n",
    "\n",
    "colnames[np.array([list(colnames).index(x) for x in grep('Reef_type',colnames)])] = np.array(['Reef_type_'+r for r in RTY[1:]])\n",
    "\n",
    "colnames[np.array([list(colnames).index(x) for x in grep('Regional_rate',colnames)])] = np.array(['Regional_rate_'+r for r in Region])\n",
    "\n",
    "results.columns = list(colnames)"
   ]
  },
  {
   "cell_type": "code",
   "execution_count": null,
   "metadata": {},
   "outputs": [],
   "source": [
    "# Drop reef-specific columns\n",
    "results = results.drop(list(colnames[np.array([list(colnames).index(x) for x in grep('κ0',colnames)])]),axis=1)\n",
    "# Export posteriors\n",
    "results.to_csv(critter+'_ZINB_results_.csv')\n",
    "# Export summary statistics \n",
    "results.quantile((0.5,.25,.975)).rename(index={0.5: 'Median',0.25: 'Low 95',0.975: 'Upp 95'}).to_csv(critter+'_ZINB_summary_stats_.csv')"
   ]
  },
  {
   "cell_type": "markdown",
   "metadata": {},
   "source": [
    "## Posterior predictive checks"
   ]
  },
  {
   "cell_type": "code",
   "execution_count": null,
   "metadata": {},
   "outputs": [],
   "source": [
    "ppc = pm.sample_posterior_predictive(ZINB_full_trace, model=ZINB_full)"
   ]
  },
  {
   "cell_type": "code",
   "execution_count": null,
   "metadata": {},
   "outputs": [],
   "source": [
    "_, ax = plt.subplots(figsize=(12, 6))\n",
    "ax.hist([n.mean() for n in ppc['Yi']], bins=19, alpha=0.5)\n",
    "ax.axvline(MaxN.mean())\n",
    "ax.set(title='Posterior predictive of the mean', xlabel='mean(x)', ylabel='Frequency')\n",
    "plt.savefig('Figure_S4_Ex_'+critter+'.pdf');"
   ]
  },
  {
   "cell_type": "code",
   "execution_count": null,
   "metadata": {},
   "outputs": [],
   "source": [
    "# Setup multipanel figure\n",
    "nrows, ncols = 5, 5\n",
    "fig, axes = plt.subplots(nrows=nrows, ncols=ncols, figsize=(12,8))\n",
    "ax_ = axes.flatten()\n",
    "\n",
    "# Transform ppc\n",
    "PPC = ppc['Yi'].T\n",
    "# Index random observations\n",
    "indx = np.random.randint(0,len(PPC),size=nrows*ncols)\n",
    "\n",
    "# Iterate over random samples from ppc\n",
    "for i in range(nrows*ncols):\n",
    "    ax1 = ax_[i]\n",
    "    ax1.hist(PPC[indx[i]], bins=19, alpha=0.5)\n",
    "    ax1.axvline(MaxN[indx[i]],c='red')\n",
    "\n",
    "fig.tight_layout()\n",
    "fig.suptitle('Posterior predictive distributions', fontsize=14)\n",
    "fig.subplots_adjust(top=0.95)\n",
    "plt.savefig('Figure_S5_Ex'+critter+'.pdf');"
   ]
  },
  {
   "cell_type": "code",
   "execution_count": null,
   "metadata": {},
   "outputs": [],
   "source": [
    "tmp = 0\n",
    "for i in range(nobs):\n",
    "    #if MaxN[i]>np.mean(PPC[i]):\n",
    "    if MaxN[i]>np.quantile(PPC[i],.95):\n",
    "        tmp += 1\n",
    "    else:\n",
    "        pass"
   ]
  },
  {
   "cell_type": "code",
   "execution_count": null,
   "metadata": {},
   "outputs": [],
   "source": [
    "# Outside prediction rate\n",
    "tmp/len(MaxN)*2"
   ]
  },
  {
   "cell_type": "code",
   "execution_count": null,
   "metadata": {},
   "outputs": [],
   "source": [
    "# Create tmp dataframe to sort observed MaxN values\n",
    "tmpsort = pd.DataFrame({'indx':np.arange(len(MaxN)),'maxn':MaxN}).sort_values('maxn')"
   ]
  },
  {
   "cell_type": "code",
   "execution_count": null,
   "metadata": {},
   "outputs": [],
   "source": [
    "tmp = []\n",
    "for i in range(nobs):\n",
    "    #if MaxN[i]>np.mean(PPC[i]):\n",
    "    if MaxN[i]>np.quantile(PPC[i],.95) or MaxN[i]<np.quantile(PPC[i],.05):\n",
    "        tmp += [list(xdata.iloc[i].values)]\n",
    "    else:\n",
    "        pass\n",
    "deets = np.array(tmp)\n",
    "# Outside prediction rate\n",
    "len(deets)/len(MaxN)"
   ]
  },
  {
   "cell_type": "code",
   "execution_count": null,
   "metadata": {},
   "outputs": [],
   "source": [
    "tmp = []\n",
    "for i in range(nobs):\n",
    "    #if MaxN[i]>np.mean(PPC[i]):\n",
    "    if MaxN[i]>np.quantile(PPC[i],.975) or MaxN[i]<np.quantile(PPC[i],.025):\n",
    "        tmp += [list(xdata.iloc[i].values)]\n",
    "    else:\n",
    "        pass\n",
    "deets = np.array(tmp)\n",
    "# Outside prediction rate\n",
    "len(deets)/len(MaxN)"
   ]
  },
  {
   "cell_type": "code",
   "execution_count": null,
   "metadata": {},
   "outputs": [],
   "source": [
    "tmp = []\n",
    "for i in range(nobs):\n",
    "    #if MaxN[i]>np.mean(PPC[i]):\n",
    "    if MaxN[i]>np.quantile(PPC[i],.75) or MaxN[i]<np.quantile(PPC[i],.25):\n",
    "        tmp += [list(xdata.iloc[i].values)]\n",
    "    else:\n",
    "        pass\n",
    "deets = np.array(tmp)\n",
    "# Outside prediction rate\n",
    "\n",
    "len(deets)/len(MaxN)"
   ]
  },
  {
   "cell_type": "code",
   "execution_count": null,
   "metadata": {},
   "outputs": [],
   "source": [
    "xs = np.linspace(0,10,100)"
   ]
  },
  {
   "cell_type": "code",
   "execution_count": null,
   "metadata": {},
   "outputs": [],
   "source": [
    "for p in PPC.T:\n",
    "    plt.plot(xs,sp.stats.gaussian_kde(p)(xs),c='lightgrey')\n",
    "plt.plot(xs,sp.stats.gaussian_kde(MaxN)(xs),c='black');\n",
    "plt.savefig('Figure_ppdfit.jpg',dpi=300);"
   ]
  },
  {
   "cell_type": "code",
   "execution_count": null,
   "metadata": {},
   "outputs": [],
   "source": [
    "from collections import Counter"
   ]
  },
  {
   "cell_type": "code",
   "execution_count": null,
   "metadata": {},
   "outputs": [],
   "source": [
    "np.shape(tmp)[0]*np.shape(tmp)[1]"
   ]
  },
  {
   "cell_type": "code",
   "execution_count": null,
   "metadata": {},
   "outputs": [],
   "source": [
    "# Get bin proportions from PPDs\n",
    "tmp = PPC\n",
    "\n",
    "out = []\n",
    "maxmaxn = 10\n",
    "xbin = np.linspace(0,maxmaxn,maxmaxn+1).astype(int)\n"
   ]
  },
  {
   "cell_type": "code",
   "execution_count": null,
   "metadata": {},
   "outputs": [],
   "source": [
    "for t in tmp:\n",
    "    poo = [sum(t==i) for i in xbin]\n",
    "    out += [poo/sum(poo)]\n",
    "\n",
    "\n",
    "PlotBin = np.array([xbin]*len(tmp)).reshape(1,len(xbin)*len(tmp))[0]\n",
    "PlotOut = np.array(out).reshape(PlotBin.shape)\n",
    "\n",
    "PPDplot = pd.DataFrame({'Freq':PlotOut,'Count':PlotBin})"
   ]
  },
  {
   "cell_type": "code",
   "execution_count": null,
   "metadata": {},
   "outputs": [],
   "source": [
    "PPDplot.to_csv('PPD_bins.csv')"
   ]
  },
  {
   "cell_type": "code",
   "execution_count": null,
   "metadata": {},
   "outputs": [],
   "source": [
    "PPDplot = pd.read_csv('PPD_bins.csv')"
   ]
  },
  {
   "cell_type": "code",
   "execution_count": null,
   "metadata": {},
   "outputs": [],
   "source": [
    "# Get observed proportions for MaxN\n",
    "ObsBin = np.array([sum(MaxN==i) for i in xbin])\n",
    "# Adjust for zero-inflation\n",
    "ObsBin[0] = ObsBin[0]*(invlogit(np.median(trace['Global_zeros'])))\n",
    "# Get corrected proportions\n",
    "ObsOut = ObsBin/sum(ObsBin)"
   ]
  },
  {
   "cell_type": "code",
   "execution_count": null,
   "metadata": {},
   "outputs": [],
   "source": []
  },
  {
   "cell_type": "code",
   "execution_count": null,
   "metadata": {},
   "outputs": [],
   "source": [
    "PPDplot.boxplot(column='Freq', by='Count', grid=False)\n",
    "plt.plot(xbin+1,ObsOut,'r.')\n",
    "#plt.title('Posterior predictive distribution')\n",
    "plt.savefig('Figure_ppdfit_box.pdf');"
   ]
  },
  {
   "cell_type": "markdown",
   "metadata": {},
   "source": [
    "# Results plots"
   ]
  },
  {
   "cell_type": "code",
   "execution_count": null,
   "metadata": {},
   "outputs": [],
   "source": [
    "# Rename parameters\n",
    "p_presence = invlogit(results[colnames[np.array([list(colnames).index(x) for x in grep('η0z',colnames)])]])\n",
    "p_presence.columns = list(Location)\n",
    "p_presence = p_presence[p_presence.median().sort_values().index.values]\n",
    "Plocation = p_presence.columns.values"
   ]
  },
  {
   "cell_type": "markdown",
   "metadata": {},
   "source": [
    "### P(counts)"
   ]
  },
  {
   "cell_type": "code",
   "execution_count": null,
   "metadata": {},
   "outputs": [],
   "source": [
    "# Add sample sizes (nreefs) per country\n",
    "Plocationz = [c+\" (\"+str(list(np.array(LocationR)[Ilr]).count(c))+\")\" for c in Plocation]"
   ]
  },
  {
   "cell_type": "code",
   "execution_count": null,
   "metadata": {},
   "outputs": [],
   "source": [
    "mp.style.use('seaborn')"
   ]
  },
  {
   "cell_type": "code",
   "execution_count": null,
   "metadata": {},
   "outputs": [],
   "source": [
    "fig = plt.figure(figsize=(8, 15))\n",
    "ax = fig.add_subplot(111)\n",
    "[gelplot(ax,p_presence[Plocation[i]],i,csize=20,lwd50=5,lwd95=2) for i in range(nlocs)]\n",
    "ax.set_yticks(range(nlocs))\n",
    "ax.set_yticklabels(Plocationz,fontsize=17)\n",
    "ax.set_xlabel('P(sharks observed)')\n",
    "plt.tight_layout()\n",
    "plt.savefig('ED_Figure_2x.pdf');"
   ]
  },
  {
   "cell_type": "markdown",
   "metadata": {},
   "source": [
    "### Ex(MaxN|pressence)"
   ]
  },
  {
   "cell_type": "code",
   "execution_count": null,
   "metadata": {},
   "outputs": [],
   "source": [
    "ex_abu = np.exp(results[colnames[np.array([list(colnames).index(x) for x in grep('η0_',colnames)])]])\n",
    "ex_abu.columns = list(Location)\n",
    "ex_abu = ex_abu[ex_abu.median().sort_values().index.values]\n",
    "Elocation = ex_abu.columns.values"
   ]
  },
  {
   "cell_type": "code",
   "execution_count": null,
   "metadata": {},
   "outputs": [],
   "source": [
    "# Add sample sizes (nreefs) per country\n",
    "Elocationz = [c+\" (\"+str(list(np.array(LocationR)[Ilr]).count(c))+\")\" for c in Elocation]"
   ]
  },
  {
   "cell_type": "code",
   "execution_count": null,
   "metadata": {},
   "outputs": [],
   "source": [
    "fig = plt.figure(figsize=(8, 15))\n",
    "ax = fig.add_subplot(111)\n",
    "[gelplot(ax,ex_abu[Elocation[i]],i,csize=20,lwd50=5,lwd95=2) for i in range(nlocs)]\n",
    "ax.set_yticks(range(nlocs))\n",
    "ax.set_xlim(0,2.5)\n",
    "ax.set_yticklabels(Elocationz,fontsize=17)\n",
    "ax.set_xlabel('E(MaxN|observed)')\n",
    "plt.tight_layout()\n",
    "plt.savefig('ED_Figure_3.pdf');"
   ]
  },
  {
   "cell_type": "code",
   "execution_count": null,
   "metadata": {},
   "outputs": [],
   "source": [
    "np.exp(np.percentile(results['Regional_rate_Western Pacific'].values, (50,25,97.5)))"
   ]
  },
  {
   "cell_type": "code",
   "execution_count": null,
   "metadata": {},
   "outputs": [],
   "source": [
    "np.exp(np.percentile(results['Regional_rate_Western Atlantic'].values, (50,25,97.5)))"
   ]
  },
  {
   "cell_type": "code",
   "execution_count": null,
   "metadata": {},
   "outputs": [],
   "source": [
    "np.exp(np.percentile(results['Regional_rate_Central Pacific'].values, (50,25,97.5)))"
   ]
  },
  {
   "cell_type": "code",
   "execution_count": null,
   "metadata": {},
   "outputs": [],
   "source": [
    "np.exp(np.percentile(results['Regional_rate_Indian Ocean'].values, (50,25,97.5)))"
   ]
  }
 ],
 "metadata": {
  "kernelspec": {
   "display_name": "Python 3",
   "language": "python",
   "name": "python3"
  },
  "language_info": {
   "codemirror_mode": {
    "name": "ipython",
    "version": 3
   },
   "file_extension": ".py",
   "mimetype": "text/x-python",
   "name": "python",
   "nbconvert_exporter": "python",
   "pygments_lexer": "ipython3",
   "version": "3.7.6"
  }
 },
 "nbformat": 4,
 "nbformat_minor": 2
}
