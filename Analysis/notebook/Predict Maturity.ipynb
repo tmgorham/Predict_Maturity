{
 "cells": [
  {
   "cell_type": "markdown",
   "metadata": {},
   "source": [
    "# Predict Maturity\n",
    "\n",
    "Script to predict a50 and s parameters for carcharhinid species using outputs of maturity model\n",
    "\n",
    "currently based on maturity model #11. change to model 14 when results are ready.\n",
    "\n",
    "The primary model to describe the shape of maturity ogives uses z-transformed covariates in order to see the effects of each covariate relative to the others (using all z-scores makes effect sizes comparable).  However, to predict new a50 and s values using this model, we need model outputs that allow for the new values to be expressed on teh same scale as the raw data (ie a50 values should be 0-20 and S values 0-10).  Therefore have to run the a secondary model using mean-centred covariates that can be transformed back into the raw data scale.  Can't interpret the results from this model as easily as for the primary model, but more useful for prediction.  \n",
    "\n"
   ]
  },
  {
   "cell_type": "code",
   "execution_count": 1,
   "metadata": {},
   "outputs": [],
   "source": [
    "# Import python packages\n",
    "%matplotlib inline\n",
    "import pandas as pd\n",
    "import numpy as np\n",
    "import matplotlib.pyplot as plt\n",
    "import matplotlib as mp\n",
    "import pymc3 as pm\n",
    "import theano as T\n",
    "import theano.tensor as tt\n",
    "import seaborn as sns\n",
    "import scipy as sp\n",
    "import pdb\n",
    "import os as os\n",
    "\n",
    "# Helper functions\n",
    "def indexall(L):\n",
    "    poo = []\n",
    "    for p in L:\n",
    "        if not p in poo:\n",
    "            poo.append(p)\n",
    "    Ix = np.array([poo.index(p) for p in L])\n",
    "    return poo,Ix\n",
    "\n",
    "def subindexall(short,long):\n",
    "    poo = []\n",
    "    out = []\n",
    "    for s,l in zip(short,long):\n",
    "        if not l in poo:\n",
    "            poo.append(l)\n",
    "            out.append(s)\n",
    "    return indexall(out)\n",
    "\n",
    "match = lambda a, b: np.array([ b.index(x) if x in b else None for x in a ])\n",
    "grep = lambda s, l: np.array([i for i in l if s in i])\n",
    "\n",
    "# Function to standardize covariates\n",
    "def stdize(x):\n",
    "    return (x-np.mean(x))/(2*np.std(x))\n",
    "\n",
    "# Function to mean-centre covariates\n",
    "def centre(x):\n",
    "    return (x-np.mean(x))\n",
    "\n",
    "def spanzero(pair):\n",
    "    out = True\n",
    "    if all(pair<0) or all(pair>0):\n",
    "        out = False\n",
    "    return out"
   ]
  },
  {
   "cell_type": "code",
   "execution_count": 12,
   "metadata": {},
   "outputs": [
    {
     "data": {
      "text/html": [
       "<div>\n",
       "<style scoped>\n",
       "    .dataframe tbody tr th:only-of-type {\n",
       "        vertical-align: middle;\n",
       "    }\n",
       "\n",
       "    .dataframe tbody tr th {\n",
       "        vertical-align: top;\n",
       "    }\n",
       "\n",
       "    .dataframe thead th {\n",
       "        text-align: right;\n",
       "    }\n",
       "</style>\n",
       "<table border=\"1\" class=\"dataframe\">\n",
       "  <thead>\n",
       "    <tr style=\"text-align: right;\">\n",
       "      <th></th>\n",
       "      <th>Unnamed: 0</th>\n",
       "      <th>a50x__0</th>\n",
       "      <th>a50x__1</th>\n",
       "      <th>a50x__2</th>\n",
       "      <th>a50x__3</th>\n",
       "      <th>a50x__4</th>\n",
       "      <th>a50x__5</th>\n",
       "      <th>a50x__6</th>\n",
       "      <th>a50x__7</th>\n",
       "      <th>a50x__8</th>\n",
       "      <th>...</th>\n",
       "      <th>mu_S__14</th>\n",
       "      <th>mu_S__15</th>\n",
       "      <th>mu_S__16</th>\n",
       "      <th>mu_S__17</th>\n",
       "      <th>mu_S__18</th>\n",
       "      <th>mu_S__19</th>\n",
       "      <th>mu_S__20</th>\n",
       "      <th>mu_S__21</th>\n",
       "      <th>mu_S__22</th>\n",
       "      <th>S2</th>\n",
       "    </tr>\n",
       "  </thead>\n",
       "  <tbody>\n",
       "    <tr>\n",
       "      <th>0</th>\n",
       "      <td>0</td>\n",
       "      <td>9.984563</td>\n",
       "      <td>8.979059</td>\n",
       "      <td>10.521007</td>\n",
       "      <td>9.558511</td>\n",
       "      <td>5.736421</td>\n",
       "      <td>6.227350</td>\n",
       "      <td>5.736626</td>\n",
       "      <td>5.110483</td>\n",
       "      <td>9.308766</td>\n",
       "      <td>...</td>\n",
       "      <td>1.580194</td>\n",
       "      <td>4.921629</td>\n",
       "      <td>2.049159</td>\n",
       "      <td>2.195520</td>\n",
       "      <td>0.480826</td>\n",
       "      <td>0.657893</td>\n",
       "      <td>2.641485</td>\n",
       "      <td>4.661991</td>\n",
       "      <td>1.212468</td>\n",
       "      <td>0.008492</td>\n",
       "    </tr>\n",
       "    <tr>\n",
       "      <th>1</th>\n",
       "      <td>1</td>\n",
       "      <td>10.952929</td>\n",
       "      <td>10.410918</td>\n",
       "      <td>12.532705</td>\n",
       "      <td>11.607398</td>\n",
       "      <td>6.023008</td>\n",
       "      <td>6.520874</td>\n",
       "      <td>6.024673</td>\n",
       "      <td>4.705973</td>\n",
       "      <td>8.957436</td>\n",
       "      <td>...</td>\n",
       "      <td>1.573971</td>\n",
       "      <td>5.989139</td>\n",
       "      <td>2.082327</td>\n",
       "      <td>2.294670</td>\n",
       "      <td>0.490724</td>\n",
       "      <td>0.659519</td>\n",
       "      <td>2.646619</td>\n",
       "      <td>4.963443</td>\n",
       "      <td>1.168644</td>\n",
       "      <td>0.008138</td>\n",
       "    </tr>\n",
       "    <tr>\n",
       "      <th>2</th>\n",
       "      <td>2</td>\n",
       "      <td>11.660102</td>\n",
       "      <td>9.330967</td>\n",
       "      <td>11.573590</td>\n",
       "      <td>10.649569</td>\n",
       "      <td>5.819290</td>\n",
       "      <td>6.318266</td>\n",
       "      <td>5.793849</td>\n",
       "      <td>4.441637</td>\n",
       "      <td>8.646411</td>\n",
       "      <td>...</td>\n",
       "      <td>1.464369</td>\n",
       "      <td>4.623351</td>\n",
       "      <td>2.094468</td>\n",
       "      <td>2.247941</td>\n",
       "      <td>0.485734</td>\n",
       "      <td>0.656903</td>\n",
       "      <td>2.645075</td>\n",
       "      <td>5.384801</td>\n",
       "      <td>1.246982</td>\n",
       "      <td>0.008830</td>\n",
       "    </tr>\n",
       "    <tr>\n",
       "      <th>3</th>\n",
       "      <td>3</td>\n",
       "      <td>10.999409</td>\n",
       "      <td>8.002221</td>\n",
       "      <td>9.895039</td>\n",
       "      <td>8.972655</td>\n",
       "      <td>4.960838</td>\n",
       "      <td>5.436183</td>\n",
       "      <td>4.919793</td>\n",
       "      <td>4.924834</td>\n",
       "      <td>9.146514</td>\n",
       "      <td>...</td>\n",
       "      <td>1.478065</td>\n",
       "      <td>5.373716</td>\n",
       "      <td>2.157571</td>\n",
       "      <td>2.187386</td>\n",
       "      <td>0.475879</td>\n",
       "      <td>0.648985</td>\n",
       "      <td>2.568008</td>\n",
       "      <td>5.153458</td>\n",
       "      <td>1.213265</td>\n",
       "      <td>0.008360</td>\n",
       "    </tr>\n",
       "    <tr>\n",
       "      <th>4</th>\n",
       "      <td>4</td>\n",
       "      <td>10.473783</td>\n",
       "      <td>7.507916</td>\n",
       "      <td>9.332089</td>\n",
       "      <td>8.405431</td>\n",
       "      <td>5.281453</td>\n",
       "      <td>5.797712</td>\n",
       "      <td>5.280965</td>\n",
       "      <td>4.916506</td>\n",
       "      <td>9.196792</td>\n",
       "      <td>...</td>\n",
       "      <td>1.520017</td>\n",
       "      <td>5.286538</td>\n",
       "      <td>2.096564</td>\n",
       "      <td>2.221617</td>\n",
       "      <td>0.469207</td>\n",
       "      <td>0.647865</td>\n",
       "      <td>2.696296</td>\n",
       "      <td>4.442462</td>\n",
       "      <td>1.169357</td>\n",
       "      <td>0.008292</td>\n",
       "    </tr>\n",
       "  </tbody>\n",
       "</table>\n",
       "<p>5 rows × 108 columns</p>\n",
       "</div>"
      ],
      "text/plain": [
       "   Unnamed: 0    a50x__0    a50x__1    a50x__2    a50x__3   a50x__4   a50x__5  \\\n",
       "0           0   9.984563   8.979059  10.521007   9.558511  5.736421  6.227350   \n",
       "1           1  10.952929  10.410918  12.532705  11.607398  6.023008  6.520874   \n",
       "2           2  11.660102   9.330967  11.573590  10.649569  5.819290  6.318266   \n",
       "3           3  10.999409   8.002221   9.895039   8.972655  4.960838  5.436183   \n",
       "4           4  10.473783   7.507916   9.332089   8.405431  5.281453  5.797712   \n",
       "\n",
       "    a50x__6   a50x__7   a50x__8  ...  mu_S__14  mu_S__15  mu_S__16  mu_S__17  \\\n",
       "0  5.736626  5.110483  9.308766  ...  1.580194  4.921629  2.049159  2.195520   \n",
       "1  6.024673  4.705973  8.957436  ...  1.573971  5.989139  2.082327  2.294670   \n",
       "2  5.793849  4.441637  8.646411  ...  1.464369  4.623351  2.094468  2.247941   \n",
       "3  4.919793  4.924834  9.146514  ...  1.478065  5.373716  2.157571  2.187386   \n",
       "4  5.280965  4.916506  9.196792  ...  1.520017  5.286538  2.096564  2.221617   \n",
       "\n",
       "   mu_S__18  mu_S__19  mu_S__20  mu_S__21  mu_S__22        S2  \n",
       "0  0.480826  0.657893  2.641485  4.661991  1.212468  0.008492  \n",
       "1  0.490724  0.659519  2.646619  4.963443  1.168644  0.008138  \n",
       "2  0.485734  0.656903  2.645075  5.384801  1.246982  0.008830  \n",
       "3  0.475879  0.648985  2.568008  5.153458  1.213265  0.008360  \n",
       "4  0.469207  0.647865  2.696296  4.442462  1.169357  0.008292  \n",
       "\n",
       "[5 rows x 108 columns]"
      ]
     },
     "execution_count": 12,
     "metadata": {},
     "output_type": "execute_result"
    }
   ],
   "source": [
    "# upload results from model 14\n",
    "# upload csv file\n",
    "os.chdir('C:\\\\Users\\\\tmgor\\\\Dropbox\\\\Taylor Chapter 3\\\\Predict_Maturity\\\\Data\\\\for model\\\\out')\n",
    "mat = pd.read_csv('mat14_model_results.csv')\n",
    "mat.head()"
   ]
  },
  {
   "cell_type": "code",
   "execution_count": 13,
   "metadata": {},
   "outputs": [
    {
     "data": {
      "text/plain": [
       "array(['Unnamed: 0', 'a50x__0', 'a50x__1', 'a50x__2', 'a50x__3',\n",
       "       'a50x__4', 'a50x__5', 'a50x__6', 'a50x__7', 'a50x__8', 'a50x__9',\n",
       "       'a50x__10', 'a50x__11', 'a50x__12', 'a50x__13', 'a50x__14',\n",
       "       'a50x__15', 'a50x__16', 'a50x__17', 'a50x__18', 'a50x__19',\n",
       "       'a50x__20', 'a50x__21', 'a50x__22', 'Lmax', 'Depth',\n",
       "       'Interbirth_interval', 'Amax', 'Litter', 'Offspring_size',\n",
       "       'Trophic', 'Sx__0', 'Sx__1', 'Sx__2', 'Sx__3', 'Sx__4', 'Sx__5',\n",
       "       'Sx__6', 'Sx__7', 'Sx__8', 'Sx__9', 'Sx__10', 'Sx__11', 'Sx__12',\n",
       "       'Sx__13', 'Sx__14', 'Sx__15', 'Sx__16', 'Sx__17', 'Sx__18',\n",
       "       'Sx__19', 'Sx__20', 'Sx__21', 'Sx__22', 'K-S', 'Amax-S',\n",
       "       'Trophic-S', 'Ga50', 'a50_sigma', 'GS', 'S_sigma', 'mu_a50__0',\n",
       "       'mu_a50__1', 'mu_a50__2', 'mu_a50__3', 'mu_a50__4', 'mu_a50__5',\n",
       "       'mu_a50__6', 'mu_a50__7', 'mu_a50__8', 'mu_a50__9', 'mu_a50__10',\n",
       "       'mu_a50__11', 'mu_a50__12', 'mu_a50__13', 'mu_a50__14',\n",
       "       'mu_a50__15', 'mu_a50__16', 'mu_a50__17', 'mu_a50__18',\n",
       "       'mu_a50__19', 'mu_a50__20', 'mu_a50__21', 'mu_a50__22', 'mu_S__0',\n",
       "       'mu_S__1', 'mu_S__2', 'mu_S__3', 'mu_S__4', 'mu_S__5', 'mu_S__6',\n",
       "       'mu_S__7', 'mu_S__8', 'mu_S__9', 'mu_S__10', 'mu_S__11',\n",
       "       'mu_S__12', 'mu_S__13', 'mu_S__14', 'mu_S__15', 'mu_S__16',\n",
       "       'mu_S__17', 'mu_S__18', 'mu_S__19', 'mu_S__20', 'mu_S__21',\n",
       "       'mu_S__22', 'S2'], dtype=object)"
      ]
     },
     "execution_count": 13,
     "metadata": {},
     "output_type": "execute_result"
    }
   ],
   "source": [
    "mat.columns.values"
   ]
  },
  {
   "cell_type": "code",
   "execution_count": 14,
   "metadata": {},
   "outputs": [],
   "source": [
    "#choose just mat11 columns we want so easier to read\n",
    "\n",
    "mat = mat.filter(['Ga50', 'Lmax', 'Depth',\n",
    "       'Interbirth_interval', 'Amax', 'Litter', 'Offspring_size',\n",
    "       'Trophic', 'GS', 'K-S', 'Amax-S',\n",
    "       'Trophic-S'], axis=1)\n"
   ]
  },
  {
   "cell_type": "code",
   "execution_count": 6,
   "metadata": {},
   "outputs": [],
   "source": [
    "# upload trace\n",
    "# do I need to do this?\n",
    "os.chdir('C:\\\\Users\\\\tmgor\\\\Dropbox\\\\Taylor Chapter 3\\\\Predict_Maturity\\\\Data\\\\for model\\\\out\\\\traces')"
   ]
  },
  {
   "cell_type": "markdown",
   "metadata": {},
   "source": [
    "### Model Input Traits Data  \n",
    "\n",
    "Upload data that was used for maturity model so can calculate mean values for each covariate and use those to transform new data.  New trait data has to be expressed on the same scale as that of the model, so that the effect sizes make sense.  "
   ]
  },
  {
   "cell_type": "code",
   "execution_count": 16,
   "metadata": {},
   "outputs": [],
   "source": [
    "#upload data\n",
    "os.chdir('C:\\\\Users\\\\tmgor\\\\Dropbox\\\\Taylor Chapter 3\\\\Predict_Maturity\\\\Data\\\\for model\\\\in')\n",
    "adata = pd.read_excel('full_dataset.xlsx')\n",
    "#get rid of species that don't have full complement of trait data\n",
    "adata = adata[adata.param_complete==0]\n",
    "# only species with age-structured data\n",
    "mdata= adata[adata.SA_mat=='A']\n",
    "# make an index for stock assessment\n",
    "StockYr, Is = indexall(mdata.Stock_Year.values)\n",
    "nstocks = len(StockYr)\n",
    "\n",
    "#take species level traits"
   ]
  },
  {
   "cell_type": "code",
   "execution_count": 17,
   "metadata": {},
   "outputs": [],
   "source": [
    "#Index of covariates\n",
    "Sind = np.array([list(mdata.Stock_Year.values).index(S) for S in StockYr])\n",
    "\n",
    "#make arrays of all the covariates\n",
    "#put Sind after all of these so they match the length of StockYr\n",
    "rLMAX = mdata.lmax_cm.values[Sind]\n",
    "rHAB = mdata.habitat.values[Sind]\n",
    "rTROPH = mdata.trophic_level.values[Sind]\n",
    "rOFFSZ = mdata.offspring_size_mm.values[Sind]\n",
    "#rROFFSZ = mdata.relative_offspring_size.values[Sind]\n",
    "rLITT = mdata.litter_size.values[Sind]\n",
    "#RLITT = mdata.relative_litter_size.values[Sind]\n",
    "rINTR = mdata.interbirth_interval_yrs.values[Sind]\n",
    "rAMAT = mdata.age_50_maturity.values[Sind]\n",
    "rLMAT = mdata.length_maturity_cm.values[Sind]\n",
    "rLINF = mdata.linf_cm.values[Sind]\n",
    "rK = mdata.growth_coeff_k.values[Sind]\n",
    "rAMAX = mdata.age_max_yrs.values[Sind]\n",
    "rDEP = mdata.depth_ave.values[Sind]\n",
    "rDEPMAX = mdata.depth_max.values[Sind]\n",
    "#rTEMP"
   ]
  },
  {
   "cell_type": "code",
   "execution_count": 18,
   "metadata": {},
   "outputs": [],
   "source": [
    "# get mean values for each covariate\n",
    "# remember to use correct scale because some were transfromed before centred in model\n",
    "mLMAX = np.mean(np.log(rLMAX))\n",
    "mTROPH = np.mean(rTROPH)\n",
    "mAMAX = np.mean(np.log(rAMAX))\n",
    "mOFFSZ = np.mean(rOFFSZ/100)\n",
    "mLITT = np.mean(np.log(rLITT))\n",
    "mDEP = np.mean(np.log(rDEP))\n",
    "mK = np.mean(rK)\n",
    "mINTR = np.mean(rINTR)"
   ]
  },
  {
   "cell_type": "code",
   "execution_count": 8,
   "metadata": {},
   "outputs": [
    {
     "data": {
      "text/plain": [
       "4.316521739130435"
      ]
     },
     "execution_count": 8,
     "metadata": {},
     "output_type": "execute_result"
    }
   ],
   "source": [
    "mTROPH"
   ]
  },
  {
   "cell_type": "code",
   "execution_count": 9,
   "metadata": {},
   "outputs": [
    {
     "data": {
      "text/plain": [
       "2.8562644409601403"
      ]
     },
     "execution_count": 9,
     "metadata": {},
     "output_type": "execute_result"
    }
   ],
   "source": [
    "mAMAX"
   ]
  },
  {
   "cell_type": "markdown",
   "metadata": {},
   "source": [
    "### New Species Traits Data  \n",
    "\n",
    "Now transform the trait data for the new species (species we want to predict what their ogives are) in the same way the covariate data was transformed in the model. This way the effect sizes spit out by the model will match the scale of values in the new dataset."
   ]
  },
  {
   "cell_type": "code",
   "execution_count": 19,
   "metadata": {
    "scrolled": true
   },
   "outputs": [
    {
     "data": {
      "text/html": [
       "<div>\n",
       "<style scoped>\n",
       "    .dataframe tbody tr th:only-of-type {\n",
       "        vertical-align: middle;\n",
       "    }\n",
       "\n",
       "    .dataframe tbody tr th {\n",
       "        vertical-align: top;\n",
       "    }\n",
       "\n",
       "    .dataframe thead th {\n",
       "        text-align: right;\n",
       "    }\n",
       "</style>\n",
       "<table border=\"1\" class=\"dataframe\">\n",
       "  <thead>\n",
       "    <tr style=\"text-align: right;\">\n",
       "      <th></th>\n",
       "      <th>species_full</th>\n",
       "      <th>Trophic</th>\n",
       "      <th>Offspring_size</th>\n",
       "      <th>Litter</th>\n",
       "      <th>Amax</th>\n",
       "      <th>K</th>\n",
       "      <th>temp_pref</th>\n",
       "      <th>Depth</th>\n",
       "      <th>Interbirth_Interval</th>\n",
       "      <th>Lmax</th>\n",
       "    </tr>\n",
       "  </thead>\n",
       "  <tbody>\n",
       "    <tr>\n",
       "      <th>0</th>\n",
       "      <td>Galeocerdo cuvier</td>\n",
       "      <td>4.54</td>\n",
       "      <td>821.666667</td>\n",
       "      <td>41.666667</td>\n",
       "      <td>50.0</td>\n",
       "      <td>0.160847</td>\n",
       "      <td>18.1</td>\n",
       "      <td>575.0</td>\n",
       "      <td>2.0</td>\n",
       "      <td>442.5</td>\n",
       "    </tr>\n",
       "    <tr>\n",
       "      <th>1</th>\n",
       "      <td>Carcharhinus obscurus</td>\n",
       "      <td>4.28</td>\n",
       "      <td>820.333333</td>\n",
       "      <td>8.833333</td>\n",
       "      <td>37.8</td>\n",
       "      <td>0.041731</td>\n",
       "      <td>19.0</td>\n",
       "      <td>200.0</td>\n",
       "      <td>3.0</td>\n",
       "      <td>348.0</td>\n",
       "    </tr>\n",
       "    <tr>\n",
       "      <th>2</th>\n",
       "      <td>Carcharhinus albimarginatus</td>\n",
       "      <td>4.21</td>\n",
       "      <td>737.500000</td>\n",
       "      <td>6.000000</td>\n",
       "      <td>32.0</td>\n",
       "      <td>0.020000</td>\n",
       "      <td>27.1</td>\n",
       "      <td>400.5</td>\n",
       "      <td>1.0</td>\n",
       "      <td>287.5</td>\n",
       "    </tr>\n",
       "    <tr>\n",
       "      <th>3</th>\n",
       "      <td>Carcharhinus falciformis</td>\n",
       "      <td>4.51</td>\n",
       "      <td>704.000000</td>\n",
       "      <td>7.100000</td>\n",
       "      <td>30.5</td>\n",
       "      <td>0.098929</td>\n",
       "      <td>21.0</td>\n",
       "      <td>250.0</td>\n",
       "      <td>2.0</td>\n",
       "      <td>313.4</td>\n",
       "    </tr>\n",
       "    <tr>\n",
       "      <th>4</th>\n",
       "      <td>Carcharhinus amboinensis</td>\n",
       "      <td>4.28</td>\n",
       "      <td>630.000000</td>\n",
       "      <td>7.666667</td>\n",
       "      <td>30.0</td>\n",
       "      <td>0.145000</td>\n",
       "      <td>27.7</td>\n",
       "      <td>75.0</td>\n",
       "      <td>2.0</td>\n",
       "      <td>243.0</td>\n",
       "    </tr>\n",
       "  </tbody>\n",
       "</table>\n",
       "</div>"
      ],
      "text/plain": [
       "                  species_full  Trophic  Offspring_size     Litter  Amax  \\\n",
       "0            Galeocerdo cuvier     4.54      821.666667  41.666667  50.0   \n",
       "1        Carcharhinus obscurus     4.28      820.333333   8.833333  37.8   \n",
       "2  Carcharhinus albimarginatus     4.21      737.500000   6.000000  32.0   \n",
       "3     Carcharhinus falciformis     4.51      704.000000   7.100000  30.5   \n",
       "4     Carcharhinus amboinensis     4.28      630.000000   7.666667  30.0   \n",
       "\n",
       "          K  temp_pref  Depth  Interbirth_Interval   Lmax  \n",
       "0  0.160847       18.1  575.0                  2.0  442.5  \n",
       "1  0.041731       19.0  200.0                  3.0  348.0  \n",
       "2  0.020000       27.1  400.5                  1.0  287.5  \n",
       "3  0.098929       21.0  250.0                  2.0  313.4  \n",
       "4  0.145000       27.7   75.0                  2.0  243.0  "
      ]
     },
     "execution_count": 19,
     "metadata": {},
     "output_type": "execute_result"
    }
   ],
   "source": [
    "# upload trait values for new species\n",
    "tcdata = pd.read_excel('tmp_car_traits.xlsx')\n",
    "# take out incomplete rows\n",
    "tcdata = tcdata.dropna()\n",
    "# rename columns\n",
    "tcdata = tcdata.rename(columns={'lmax':'Lmax'})\n",
    "tcdata.head()"
   ]
  },
  {
   "cell_type": "code",
   "execution_count": 20,
   "metadata": {},
   "outputs": [
    {
     "data": {
      "text/html": [
       "<div>\n",
       "<style scoped>\n",
       "    .dataframe tbody tr th:only-of-type {\n",
       "        vertical-align: middle;\n",
       "    }\n",
       "\n",
       "    .dataframe tbody tr th {\n",
       "        vertical-align: top;\n",
       "    }\n",
       "\n",
       "    .dataframe thead th {\n",
       "        text-align: right;\n",
       "    }\n",
       "</style>\n",
       "<table border=\"1\" class=\"dataframe\">\n",
       "  <thead>\n",
       "    <tr style=\"text-align: right;\">\n",
       "      <th></th>\n",
       "      <th>species_full</th>\n",
       "      <th>Trophic</th>\n",
       "      <th>Offspring_size</th>\n",
       "      <th>Litter</th>\n",
       "      <th>Amax</th>\n",
       "      <th>K</th>\n",
       "      <th>temp_pref</th>\n",
       "      <th>Depth</th>\n",
       "      <th>Interbirth_Interval</th>\n",
       "      <th>Lmax</th>\n",
       "    </tr>\n",
       "  </thead>\n",
       "  <tbody>\n",
       "    <tr>\n",
       "      <th>0</th>\n",
       "      <td>Galeocerdo cuvier</td>\n",
       "      <td>0.223478</td>\n",
       "      <td>2.613188</td>\n",
       "      <td>1.931287</td>\n",
       "      <td>1.055759</td>\n",
       "      <td>-0.034787</td>\n",
       "      <td>18.1</td>\n",
       "      <td>2.012510</td>\n",
       "      <td>0.130435</td>\n",
       "      <td>0.949893</td>\n",
       "    </tr>\n",
       "    <tr>\n",
       "      <th>1</th>\n",
       "      <td>Carcharhinus obscurus</td>\n",
       "      <td>-0.036522</td>\n",
       "      <td>2.599855</td>\n",
       "      <td>0.380118</td>\n",
       "      <td>0.776045</td>\n",
       "      <td>-0.153902</td>\n",
       "      <td>19.0</td>\n",
       "      <td>0.956458</td>\n",
       "      <td>1.130435</td>\n",
       "      <td>0.709655</td>\n",
       "    </tr>\n",
       "    <tr>\n",
       "      <th>2</th>\n",
       "      <td>Carcharhinus albimarginatus</td>\n",
       "      <td>-0.106522</td>\n",
       "      <td>1.771522</td>\n",
       "      <td>-0.006655</td>\n",
       "      <td>0.609471</td>\n",
       "      <td>-0.175634</td>\n",
       "      <td>27.1</td>\n",
       "      <td>1.650854</td>\n",
       "      <td>-0.869565</td>\n",
       "      <td>0.518675</td>\n",
       "    </tr>\n",
       "    <tr>\n",
       "      <th>3</th>\n",
       "      <td>Carcharhinus falciformis</td>\n",
       "      <td>0.193478</td>\n",
       "      <td>1.436522</td>\n",
       "      <td>0.161680</td>\n",
       "      <td>0.561462</td>\n",
       "      <td>-0.096705</td>\n",
       "      <td>21.0</td>\n",
       "      <td>1.179601</td>\n",
       "      <td>0.130435</td>\n",
       "      <td>0.604933</td>\n",
       "    </tr>\n",
       "    <tr>\n",
       "      <th>4</th>\n",
       "      <td>Carcharhinus amboinensis</td>\n",
       "      <td>-0.036522</td>\n",
       "      <td>0.696522</td>\n",
       "      <td>0.238467</td>\n",
       "      <td>0.544933</td>\n",
       "      <td>-0.050634</td>\n",
       "      <td>27.7</td>\n",
       "      <td>-0.024372</td>\n",
       "      <td>0.130435</td>\n",
       "      <td>0.350514</td>\n",
       "    </tr>\n",
       "  </tbody>\n",
       "</table>\n",
       "</div>"
      ],
      "text/plain": [
       "                  species_full   Trophic  Offspring_size    Litter      Amax  \\\n",
       "0            Galeocerdo cuvier  0.223478        2.613188  1.931287  1.055759   \n",
       "1        Carcharhinus obscurus -0.036522        2.599855  0.380118  0.776045   \n",
       "2  Carcharhinus albimarginatus -0.106522        1.771522 -0.006655  0.609471   \n",
       "3     Carcharhinus falciformis  0.193478        1.436522  0.161680  0.561462   \n",
       "4     Carcharhinus amboinensis -0.036522        0.696522  0.238467  0.544933   \n",
       "\n",
       "          K  temp_pref     Depth  Interbirth_Interval      Lmax  \n",
       "0 -0.034787       18.1  2.012510             0.130435  0.949893  \n",
       "1 -0.153902       19.0  0.956458             1.130435  0.709655  \n",
       "2 -0.175634       27.1  1.650854            -0.869565  0.518675  \n",
       "3 -0.096705       21.0  1.179601             0.130435  0.604933  \n",
       "4 -0.050634       27.7 -0.024372             0.130435  0.350514  "
      ]
     },
     "execution_count": 20,
     "metadata": {},
     "output_type": "execute_result"
    }
   ],
   "source": [
    "# make a new dataframe with transformed values\n",
    "tdata = tcdata\n",
    "tdata.Trophic = tdata.Trophic-mTROPH\n",
    "tdata.Offspring_size = (tdata.Offspring_size/100)-mOFFSZ \n",
    "tdata.Litter = np.log(tdata.Litter)- mLITT\n",
    "tdata.Amax = np.log(tdata.Amax) - mAMAX\n",
    "tdata.K = tdata.K - mK\n",
    "tdata.Depth = np.log(tdata.Depth) - mDEP\n",
    "tdata.Interbirth_Interval = tdata.Interbirth_Interval - mINTR\n",
    "tdata.Lmax = np.log(tdata.Lmax)- mLMAX\n",
    "tdata.head()"
   ]
  },
  {
   "cell_type": "markdown",
   "metadata": {},
   "source": [
    "## Species Predictions  \n",
    "\n",
    "Combine model results with new species trait data to predict new species a50 and s"
   ]
  },
  {
   "cell_type": "code",
   "execution_count": 21,
   "metadata": {},
   "outputs": [],
   "source": [
    "nrows = tdata.shape[0]"
   ]
  },
  {
   "cell_type": "code",
   "execution_count": 22,
   "metadata": {},
   "outputs": [],
   "source": [
    "# Create empty containers to hold results from combining model with new data\n",
    "# note that np.empty doesn't fill the array with 0s, it just puts random values in that you then have to replace\n",
    "\n",
    "#info on a50\n",
    "a50mu = np.empty(nrows)\n",
    "a50l95 = np.empty(nrows)\n",
    "a50l50 = np.empty(nrows)\n",
    "a50u95 = np.empty(nrows)\n",
    "a50u50 = np.empty(nrows)\n",
    "\n",
    "# info on s\n",
    "smu = np.empty(nrows)\n",
    "sl95 = np.empty(nrows)\n",
    "sl50 = np.empty(nrows)\n",
    "su95 = np.empty(nrows)\n",
    "su50 = np.empty(nrows)\n",
    "\n",
    "AGE = list(range(0,51))\n",
    "\n",
    "# empty matrices for age structured data\n",
    "matmu = np.zeros((nrows, len(AGE)))\n",
    "matl95 = np.zeros((nrows, len(AGE)))\n",
    "matl50 = np.zeros((nrows, len(AGE)))\n",
    "matu95 = np.zeros((nrows, len(AGE)))\n",
    "matu50 = np.zeros((nrows, len(AGE)))"
   ]
  },
  {
   "cell_type": "code",
   "execution_count": 25,
   "metadata": {},
   "outputs": [],
   "source": [
    "for i in range(nrows):\n",
    "\n",
    "    # make temporary object with data from just one species at a time\n",
    "    tmp = tdata.iloc[i]\n",
    "    # create vectors of a50 and S values for each species\n",
    "    Exa50 = mat['Ga50'].values + mat['Amax'].values*tmp['Amax'] + mat['Trophic'].values*tmp['Trophic'] + mat['Lmax'].values*tmp['Lmax'] + mat['Depth'].values*tmp['Depth'] + mat['Interbirth_interval'].values*tmp['Interbirth_Interval'] + mat['Litter'].values*tmp['Litter'] + mat['Offspring_size'].values*tmp['Offspring_size']\n",
    "    ExS = mat['GS'] + mat['K-S'].values*tmp['K'] + mat['Trophic-S'].values*tmp['Trophic'] + mat['Amax-S'].values*tmp['Amax']\n",
    "    \n",
    "    # create age structured data\n",
    "    mu = np.array([1/(1+np.exp(-s*(AGE-a))) for s,a in zip(ExS, Exa50)])\n",
    "        \n",
    "        \n",
    "    # a50 values to empty a50 objects\n",
    "    a50mu[i] = np.median(Exa50)\n",
    "    a50l95[i] = np.percentile(Exa50, 2.5)\n",
    "    a50l50[i] = np.percentile(Exa50, 25)\n",
    "    a50u95[i] = np.percentile(Exa50, 97.5)\n",
    "    a50u50[i] = np.percentile(Exa50, 50)\n",
    "    \n",
    "      # add S values to empty S objects\n",
    "    smu[i] = np.median(ExS)\n",
    "    sl95[i] = np.percentile(ExS, 2.5)\n",
    "    sl50[i] = np.percentile(ExS, 25)\n",
    "    su95[i] = np.percentile(ExS, 97.5)\n",
    "    su50[i] = np.percentile(ExS, 50)\n",
    "    \n",
    "    # add age-structured maturity data to empty objects\n",
    "    # note choosing to calculate along 0 axis is like calculate a total row at the bottom of a spreadsheet\n",
    "    matmu[i] = np.median(mu, axis=0)\n",
    "    matl95[i] = np.percentile(mu,2.5, axis=0)\n",
    "    matl50[i] = np.percentile(mu, 25, axis=0)\n",
    "    matu95[i] = np.percentile(mu, 97.5, axis=0)\n",
    "    matu50[i] = np.percentile(mu, 50, axis=0)"
   ]
  },
  {
   "cell_type": "code",
   "execution_count": 33,
   "metadata": {},
   "outputs": [
    {
     "data": {
      "text/plain": [
       "[<matplotlib.lines.Line2D at 0x1b286283148>]"
      ]
     },
     "execution_count": 33,
     "metadata": {},
     "output_type": "execute_result"
    },
    {
     "data": {
      "image/png": "[encoded data removed]",
      "text/plain": [
       "<Figure size 432x288 with 1 Axes>"
      ]
     },
     "metadata": {
      "needs_background": "light"
     },
     "output_type": "display_data"
    }
   ],
   "source": [
    "# Check for loop results\n",
    "# species 21 is oceanic whitetip shark\n",
    "plt.plot(AGE, matl95[21])\n",
    "plt.plot(AGE, matmu[21])\n",
    "plt.plot(AGE, matl50[21])\n",
    "plt.plot(AGE, matu50[21])\n",
    "plt.plot(AGE, matu95[21])"
   ]
  },
  {
   "cell_type": "code",
   "execution_count": 32,
   "metadata": {},
   "outputs": [
    {
     "data": {
      "text/plain": [
       "species_full           Carcharhinus longimanus\n",
       "Trophic                              -0.156522\n",
       "Offspring_size                       0.0965217\n",
       "Litter                                0.478853\n",
       "Amax                                 -0.217207\n",
       "K                                       0.1917\n",
       "temp_pref                                 27.5\n",
       "Depth                                 0.403072\n",
       "Interbirth_Interval                   0.130435\n",
       "Lmax                                  0.433401\n",
       "Name: 22, dtype: object"
      ]
     },
     "execution_count": 32,
     "metadata": {},
     "output_type": "execute_result"
    }
   ],
   "source": [
    "tdata.iloc[21]"
   ]
  },
  {
   "cell_type": "code",
   "execution_count": 39,
   "metadata": {},
   "outputs": [
    {
     "data": {
      "text/plain": [
       "array([5.08144137e-18, 3.16596221e-16, 2.31079530e-14, 1.46790178e-12,\n",
       "       8.83155116e-11, 5.27528178e-09, 3.44901554e-07, 2.21332752e-05,\n",
       "       1.20054073e-03, 6.77474952e-02, 7.98611113e-01, 9.95637117e-01,\n",
       "       9.99925608e-01, 9.99998787e-01, 9.99999980e-01, 1.00000000e+00,\n",
       "       1.00000000e+00, 1.00000000e+00, 1.00000000e+00, 1.00000000e+00,\n",
       "       1.00000000e+00, 1.00000000e+00, 1.00000000e+00, 1.00000000e+00,\n",
       "       1.00000000e+00, 1.00000000e+00, 1.00000000e+00, 1.00000000e+00,\n",
       "       1.00000000e+00, 1.00000000e+00, 1.00000000e+00, 1.00000000e+00,\n",
       "       1.00000000e+00, 1.00000000e+00, 1.00000000e+00, 1.00000000e+00,\n",
       "       1.00000000e+00, 1.00000000e+00, 1.00000000e+00, 1.00000000e+00,\n",
       "       1.00000000e+00, 1.00000000e+00, 1.00000000e+00, 1.00000000e+00,\n",
       "       1.00000000e+00, 1.00000000e+00, 1.00000000e+00, 1.00000000e+00,\n",
       "       1.00000000e+00, 1.00000000e+00, 1.00000000e+00])"
      ]
     },
     "execution_count": 39,
     "metadata": {},
     "output_type": "execute_result"
    }
   ],
   "source": [
    "matmu[21]"
   ]
  },
  {
   "cell_type": "code",
   "execution_count": 40,
   "metadata": {},
   "outputs": [
    {
     "data": {
      "image/png": "[encoded data removed]",
      "text/plain": [
       "<Figure size 432x288 with 1 Axes>"
      ]
     },
     "metadata": {
      "needs_background": "light"
     },
     "output_type": "display_data"
    }
   ],
   "source": [
    "# Plot all new ogives & save figure\n",
    "\n",
    "for i in range(nrows):\n",
    "    plt.plot(AGE, matmu[i])\n",
    "    \n",
    "\n",
    "os.chdir('C:\\\\Users\\\\tmgor\\\\Dropbox\\\\Taylor Chapter 3\\\\Predict_Maturity\\\\Data\\\\for model\\\\out')\n",
    "plt.savefig('predicted-ogives.jpg')"
   ]
  },
  {
   "cell_type": "code",
   "execution_count": null,
   "metadata": {},
   "outputs": [],
   "source": [
    "# save results \n"
   ]
  }
 ],
 "metadata": {
  "kernelspec": {
   "display_name": "Python 3",
   "language": "python",
   "name": "python3"
  },
  "language_info": {
   "codemirror_mode": {
    "name": "ipython",
    "version": 3
   },
   "file_extension": ".py",
   "mimetype": "text/x-python",
   "name": "python",
   "nbconvert_exporter": "python",
   "pygments_lexer": "ipython3",
   "version": "3.7.6"
  }
 },
 "nbformat": 4,
 "nbformat_minor": 4
}
