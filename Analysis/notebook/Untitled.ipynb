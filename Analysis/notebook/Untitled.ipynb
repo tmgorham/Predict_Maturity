{
 "cells": [
  {
   "cell_type": "code",
   "execution_count": 2,
   "metadata": {},
   "outputs": [],
   "source": [
    "#import packages\n",
    "import datetime \n",
    "from itertools import product\n",
    "import logging\n",
    "import pickle\n",
    "import numpy as np\n",
    "import pandas as pd\n",
    "import scipy as sp\n",
    "import os\n",
    "from math import isnan\n",
    "from sklearn.preprocessing import LabelEncoder\n",
    "from collections import Counter\n",
    "import seaborn as sns\n",
    "import pymc3 as pm  \n",
    "from theano import tensor as tt\n",
    "from theano import shared\n",
    "import arviz as az\n",
    "import warnings\n",
    "\n",
    "%matplotlib inline  \n",
    "#%matplotlib inline is a magic function that renders the figure in a notebook (instead of displaying a dump of the figure object)\n",
    "from matplotlib import pyplot as plt \n",
    "from matplotlib.offsetbox import AnchoredText\n",
    "from matplotlib.ticker import FuncFormatter, StrMethodFormatter\n"
   ]
  },
  {
   "cell_type": "code",
   "execution_count": 3,
   "metadata": {},
   "outputs": [],
   "source": [
    "# Aaron Helper function\n",
    "def indexall(L):\n",
    "    poo = []\n",
    "    for p in L:\n",
    "        if not p in poo:\n",
    "            poo.append(p)\n",
    "    Ix = np.array([poo.index(p) for p in L])\n",
    "    return poo,Ix\n",
    "\n",
    "def subindexall(short,long):\n",
    "    poo = []\n",
    "    out = []\n",
    "    for s,l in zip(short,long):\n",
    "        if not l in poo:\n",
    "            poo.append(l)\n",
    "            out.append(s)\n",
    "    return indexall(out)\n",
    "\n",
    "match = lambda a, b: [ b.index(x) if x in b else None for x in a ]\n",
    "grep = lambda s, l: np.array([i for i in l if s in i])\n",
    "\n",
    "# Function to standardize covariates\n",
    "def stdise(x):\n",
    "    return (x-np.mean(x))/(np.std(x)*2)\n",
    "\n",
    "# Function to mean-centre covariates\n",
    "def centre(x):\n",
    "    return (x-np.mean(x))\n",
    "\n",
    "def invlogit(x):\n",
    "    return np.exp(x)/(1+np.exp(x))\n",
    "\n",
    "def gelplot(pj,vector,posy,csize=40,lwd50=7,lwd95=1):\n",
    "    if np.percentile(vector,2.5)<0 and 0<np.percentile(vector,97.5):\n",
    "        pj.plot(np.median(vector),posy,'.',markersize=csize,c='grey')\n",
    "        pj.plot((np.percentile(vector,2.5),np.percentile(vector,97.5)),(posy,posy),linewidth=lwd95,c='grey')\n",
    "        pj.plot((np.percentile(vector,25),np.percentile(vector,75)),(posy,posy),linewidth=lwd50,c='grey')\n",
    "    else:\n",
    "        pj.plot(np.median(vector),posy,'.',markersize=csize,c='black')\n",
    "        pj.plot((np.percentile(vector,2.5),np.percentile(vector,97.5)),(posy,posy),linewidth=lwd95,c='black')\n",
    "        pj.plot((np.percentile(vector,25),np.percentile(vector,75)),(posy,posy),linewidth=lwd50,c='black')\n",
    "        \n",
    "    if np.percentile(vector,25)<0 and 0<np.percentile(vector,75):\n",
    "        pj.plot(np.median(vector),posy,'.',markersize=csize,c='white')"
   ]
  },
  {
   "cell_type": "code",
   "execution_count": 4,
   "metadata": {},
   "outputs": [
    {
     "data": {
      "text/plain": [
       "['age_structured_traits.xlsx',\n",
       " 'car_trait_covariates_v2.xlsx',\n",
       " 'full_dataset.xlsx',\n",
       " 'species_level_traits_v1.xlsx',\n",
       " 'tmp_car_traits.xlsx',\n",
       " '~$car_trait_covariates_v2.xlsx',\n",
       " '~$full_dataset.xlsx',\n",
       " '~$tmp_car_traits.xlsx']"
      ]
     },
     "execution_count": 4,
     "metadata": {},
     "output_type": "execute_result"
    }
   ],
   "source": [
    "os.chdir('C:\\\\Users\\\\tmgor\\\\Dropbox\\\\Taylor Chapter 3\\\\Predict_Maturity\\\\Data\\\\for model\\\\in')\n",
    "os.listdir() # list files in directory"
   ]
  },
  {
   "cell_type": "code",
   "execution_count": 6,
   "metadata": {},
   "outputs": [
    {
     "data": {
      "text/html": [
       "<div>\n",
       "<style scoped>\n",
       "    .dataframe tbody tr th:only-of-type {\n",
       "        vertical-align: middle;\n",
       "    }\n",
       "\n",
       "    .dataframe tbody tr th {\n",
       "        vertical-align: top;\n",
       "    }\n",
       "\n",
       "    .dataframe thead th {\n",
       "        text-align: right;\n",
       "    }\n",
       "</style>\n",
       "<table border=\"1\" class=\"dataframe\">\n",
       "  <thead>\n",
       "    <tr style=\"text-align: right;\">\n",
       "      <th></th>\n",
       "      <th>Species</th>\n",
       "      <th>Stock</th>\n",
       "      <th>Stock_Year</th>\n",
       "      <th>Age</th>\n",
       "      <th>maturity</th>\n",
       "      <th>survivorship</th>\n",
       "      <th>fecundity (num female pups per year)</th>\n",
       "      <th>notes</th>\n",
       "      <th>model type</th>\n",
       "      <th>source_mat</th>\n",
       "      <th>...</th>\n",
       "      <th>linf_cm</th>\n",
       "      <th>growth_coeff_k</th>\n",
       "      <th>lmax_cm</th>\n",
       "      <th>age_max_yrs</th>\n",
       "      <th>temp_pref</th>\n",
       "      <th>nursery</th>\n",
       "      <th>depth_min</th>\n",
       "      <th>depth_max</th>\n",
       "      <th>depth_ave</th>\n",
       "      <th>param_complete</th>\n",
       "    </tr>\n",
       "  </thead>\n",
       "  <tbody>\n",
       "    <tr>\n",
       "      <th>0</th>\n",
       "      <td>Carcharhinus tilstoni</td>\n",
       "      <td>ABTP-SWP</td>\n",
       "      <td>ABTP-SWP-13</td>\n",
       "      <td>0</td>\n",
       "      <td>0.000000</td>\n",
       "      <td>NaN</td>\n",
       "      <td>NaN</td>\n",
       "      <td>NaN</td>\n",
       "      <td>NaN</td>\n",
       "      <td>Harry 2013</td>\n",
       "      <td>...</td>\n",
       "      <td>218.0</td>\n",
       "      <td>0.089</td>\n",
       "      <td>166.0</td>\n",
       "      <td>15.0</td>\n",
       "      <td>23.0</td>\n",
       "      <td>0.0</td>\n",
       "      <td>0.0</td>\n",
       "      <td>150.0</td>\n",
       "      <td>75.0</td>\n",
       "      <td>0.0</td>\n",
       "    </tr>\n",
       "    <tr>\n",
       "      <th>1</th>\n",
       "      <td>Carcharhinus tilstoni</td>\n",
       "      <td>ABTP-SWP</td>\n",
       "      <td>ABTP-SWP-13</td>\n",
       "      <td>1</td>\n",
       "      <td>0.000000</td>\n",
       "      <td>NaN</td>\n",
       "      <td>NaN</td>\n",
       "      <td>NaN</td>\n",
       "      <td>NaN</td>\n",
       "      <td>Harry 2013</td>\n",
       "      <td>...</td>\n",
       "      <td>218.0</td>\n",
       "      <td>0.089</td>\n",
       "      <td>166.0</td>\n",
       "      <td>15.0</td>\n",
       "      <td>23.0</td>\n",
       "      <td>0.0</td>\n",
       "      <td>0.0</td>\n",
       "      <td>150.0</td>\n",
       "      <td>75.0</td>\n",
       "      <td>0.0</td>\n",
       "    </tr>\n",
       "    <tr>\n",
       "      <th>2</th>\n",
       "      <td>Carcharhinus tilstoni</td>\n",
       "      <td>ABTP-SWP</td>\n",
       "      <td>ABTP-SWP-13</td>\n",
       "      <td>2</td>\n",
       "      <td>0.000000</td>\n",
       "      <td>NaN</td>\n",
       "      <td>NaN</td>\n",
       "      <td>NaN</td>\n",
       "      <td>NaN</td>\n",
       "      <td>Harry 2013</td>\n",
       "      <td>...</td>\n",
       "      <td>218.0</td>\n",
       "      <td>0.089</td>\n",
       "      <td>166.0</td>\n",
       "      <td>15.0</td>\n",
       "      <td>23.0</td>\n",
       "      <td>0.0</td>\n",
       "      <td>0.0</td>\n",
       "      <td>150.0</td>\n",
       "      <td>75.0</td>\n",
       "      <td>0.0</td>\n",
       "    </tr>\n",
       "    <tr>\n",
       "      <th>3</th>\n",
       "      <td>Carcharhinus tilstoni</td>\n",
       "      <td>ABTP-SWP</td>\n",
       "      <td>ABTP-SWP-13</td>\n",
       "      <td>3</td>\n",
       "      <td>0.000000</td>\n",
       "      <td>NaN</td>\n",
       "      <td>NaN</td>\n",
       "      <td>NaN</td>\n",
       "      <td>NaN</td>\n",
       "      <td>Harry 2013</td>\n",
       "      <td>...</td>\n",
       "      <td>218.0</td>\n",
       "      <td>0.089</td>\n",
       "      <td>166.0</td>\n",
       "      <td>15.0</td>\n",
       "      <td>23.0</td>\n",
       "      <td>0.0</td>\n",
       "      <td>0.0</td>\n",
       "      <td>150.0</td>\n",
       "      <td>75.0</td>\n",
       "      <td>0.0</td>\n",
       "    </tr>\n",
       "    <tr>\n",
       "      <th>4</th>\n",
       "      <td>Carcharhinus tilstoni</td>\n",
       "      <td>ABTP-SWP</td>\n",
       "      <td>ABTP-SWP-13</td>\n",
       "      <td>4</td>\n",
       "      <td>0.016088</td>\n",
       "      <td>NaN</td>\n",
       "      <td>NaN</td>\n",
       "      <td>NaN</td>\n",
       "      <td>NaN</td>\n",
       "      <td>Harry 2013</td>\n",
       "      <td>...</td>\n",
       "      <td>218.0</td>\n",
       "      <td>0.089</td>\n",
       "      <td>166.0</td>\n",
       "      <td>15.0</td>\n",
       "      <td>23.0</td>\n",
       "      <td>0.0</td>\n",
       "      <td>0.0</td>\n",
       "      <td>150.0</td>\n",
       "      <td>75.0</td>\n",
       "      <td>0.0</td>\n",
       "    </tr>\n",
       "  </tbody>\n",
       "</table>\n",
       "<p>5 rows × 37 columns</p>\n",
       "</div>"
      ],
      "text/plain": [
       "                 Species     Stock   Stock_Year  Age  maturity survivorship  \\\n",
       "0  Carcharhinus tilstoni  ABTP-SWP  ABTP-SWP-13    0  0.000000          NaN   \n",
       "1  Carcharhinus tilstoni  ABTP-SWP  ABTP-SWP-13    1  0.000000          NaN   \n",
       "2  Carcharhinus tilstoni  ABTP-SWP  ABTP-SWP-13    2  0.000000          NaN   \n",
       "3  Carcharhinus tilstoni  ABTP-SWP  ABTP-SWP-13    3  0.000000          NaN   \n",
       "4  Carcharhinus tilstoni  ABTP-SWP  ABTP-SWP-13    4  0.016088          NaN   \n",
       "\n",
       "   fecundity (num female pups per year) notes model type  source_mat  ...  \\\n",
       "0                                   NaN   NaN        NaN  Harry 2013  ...   \n",
       "1                                   NaN   NaN        NaN  Harry 2013  ...   \n",
       "2                                   NaN   NaN        NaN  Harry 2013  ...   \n",
       "3                                   NaN   NaN        NaN  Harry 2013  ...   \n",
       "4                                   NaN   NaN        NaN  Harry 2013  ...   \n",
       "\n",
       "  linf_cm growth_coeff_k lmax_cm age_max_yrs temp_pref  nursery depth_min  \\\n",
       "0   218.0          0.089   166.0        15.0      23.0      0.0       0.0   \n",
       "1   218.0          0.089   166.0        15.0      23.0      0.0       0.0   \n",
       "2   218.0          0.089   166.0        15.0      23.0      0.0       0.0   \n",
       "3   218.0          0.089   166.0        15.0      23.0      0.0       0.0   \n",
       "4   218.0          0.089   166.0        15.0      23.0      0.0       0.0   \n",
       "\n",
       "  depth_max depth_ave param_complete  \n",
       "0     150.0      75.0            0.0  \n",
       "1     150.0      75.0            0.0  \n",
       "2     150.0      75.0            0.0  \n",
       "3     150.0      75.0            0.0  \n",
       "4     150.0      75.0            0.0  \n",
       "\n",
       "[5 rows x 37 columns]"
      ]
     },
     "execution_count": 6,
     "metadata": {},
     "output_type": "execute_result"
    }
   ],
   "source": [
    "# Import full dataset\n",
    "data = pd.read_excel('full_dataset.xlsx')\n",
    "#get rid of species that don't have full complement of trait data\n",
    "data = data[data.param_complete==0]\n",
    "data.head()"
   ]
  },
  {
   "cell_type": "code",
   "execution_count": 7,
   "metadata": {},
   "outputs": [
    {
     "data": {
      "text/plain": [
       "(505, 37)"
      ]
     },
     "execution_count": 7,
     "metadata": {},
     "output_type": "execute_result"
    }
   ],
   "source": [
    "# make datafame of only stocks which have age-structured maturity data\n",
    "# only data rows where SA-mat A\n",
    "mdata= data[data.SA_mat=='A']\n",
    "mdata.shape"
   ]
  },
  {
   "cell_type": "code",
   "execution_count": 8,
   "metadata": {},
   "outputs": [
    {
     "data": {
      "text/plain": [
       "['ABTP-SWP-13',\n",
       " 'ATSH-GOM-03',\n",
       " 'ATSH-NWA-07',\n",
       " 'ATSH-NWA-13',\n",
       " 'BNOS-GOM-11',\n",
       " 'BNOS-NWA-07',\n",
       " 'BNOS-NWA-11',\n",
       " 'BTIP-GOM-05',\n",
       " 'BTIP-GOM-12',\n",
       " 'BTIP-NWA-06',\n",
       " 'COP-SWA-03',\n",
       " 'DUS-NWA-06',\n",
       " 'DUS-NWA-11',\n",
       " 'FTH-GOM-03',\n",
       " 'FTH-NWA-07',\n",
       " 'GRE-SWP-06',\n",
       " 'NER-I-02',\n",
       " 'OCW-WCP-12',\n",
       " 'SAN-NWA-06',\n",
       " 'SAN-NWA-11',\n",
       " 'SPIN-WP-05',\n",
       " 'SPT-SWP-13',\n",
       " 'WTIP-SWP-06']"
      ]
     },
     "execution_count": 8,
     "metadata": {},
     "output_type": "execute_result"
    }
   ],
   "source": [
    "# Make an index for stock-years \n",
    "# Puts an index value unique to the stock year for each row in df\n",
    "StockYr, Is = indexall(mdata.Stock_Year.values)\n",
    "nstocks = len(StockYr)\n",
    "StockYr"
   ]
  },
  {
   "cell_type": "code",
   "execution_count": 9,
   "metadata": {},
   "outputs": [],
   "source": [
    "#Index of covariates\n",
    "Sind = np.array([list(mdata.Stock_Year.values).index(S) for S in StockYr])\n",
    "\n",
    "#make arrays of all the covariates\n",
    "#put Sind after all of these so they match the length of StockYr\n",
    "rLMAX = mdata.lmax_cm.values[Sind]\n",
    "rHAB = mdata.habitat.values[Sind]\n",
    "rTROPH = mdata.trophic_level.values[Sind]\n",
    "rOFFSZ = mdata.offspring_size_mm.values[Sind]\n",
    "#rROFFSZ = mdata.relative_offspring_size.values[Sind]\n",
    "rLITT = mdata.litter_size.values[Sind]\n",
    "#RLITT = mdata.relative_litter_size.values[Sind]\n",
    "rINTR = mdata.interbirth_interval_yrs.values[Sind]\n",
    "rAMAT = mdata.age_50_maturity.values[Sind]\n",
    "rLMAT = mdata.length_maturity_cm.values[Sind]\n",
    "rLINF = mdata.linf_cm.values[Sind]\n",
    "rK = mdata.growth_coeff_k.values[Sind]\n",
    "rAMAX = mdata.age_max_yrs.values[Sind]\n",
    "rDEP = mdata.depth_ave.values[Sind]\n",
    "rDEPMAX = mdata.depth_max.values[Sind]"
   ]
  },
  {
   "cell_type": "code",
   "execution_count": 11,
   "metadata": {},
   "outputs": [
    {
     "data": {
      "text/plain": [
       "array([ 150.,  280.,  280.,  280.,   64.,   64.,   64.,  100.,  100.,\n",
       "        100.,  360.,  400.,  400.,   10.,   10., 1000.,    0.,  230.,\n",
       "        500.,  500.,  100.,  140.,  330.])"
      ]
     },
     "execution_count": 11,
     "metadata": {},
     "output_type": "execute_result"
    }
   ],
   "source": [
    "rDEPMAX"
   ]
  },
  {
   "cell_type": "code",
   "execution_count": 19,
   "metadata": {},
   "outputs": [],
   "source": [
    "# mean centre all covariates\n",
    "\n",
    "LMAX = centre(np.log(rLMAX))\n",
    "TROPH = centre(rTROPH)\n",
    "OFFSZ = centre(rOFFSZ/100)\n",
    "LITT = centre(np.log(rLITT))\n",
    "INTR = centre(rINTR)\n",
    "LMAT = centre(rLMAT)\n",
    "LINF = centre(np.log(rLINF))\n",
    "K = centre(rK)\n",
    "AMAX = centre(np.log(rAMAX))\n",
    "DEP = centre(np.log(rDEP))\n",
    "DEPMAX = centre(np.log(rDEPMAX))\n"
   ]
  },
  {
   "cell_type": "code",
   "execution_count": 28,
   "metadata": {},
   "outputs": [
    {
     "data": {
      "text/plain": [
       "array([-0.10663356,  0.43436644,  0.06348635,  0.06348635,  0.09268867,\n",
       "       -0.01200015, -0.01200015,  0.01588091,  0.01588091,  0.02568212,\n",
       "       -0.14663356, -0.16143356, -0.16143356,  0.04436644,  0.04436644,\n",
       "        0.09836644,  0.10236644, -0.09463356, -0.13013437, -0.13013437,\n",
       "       -0.04463356,  0.14436644, -0.14563356])"
      ]
     },
     "execution_count": 28,
     "metadata": {},
     "output_type": "execute_result"
    }
   ],
   "source": [
    "K"
   ]
  },
  {
   "cell_type": "code",
   "execution_count": 23,
   "metadata": {},
   "outputs": [
    {
     "data": {
      "text/plain": [
       "array([5.11198779, 4.70048037, 4.39814602, 4.39814602, 4.86753445,\n",
       "       4.86753445, 4.86753445, 5.25227343, 5.25227343, 5.25227343,\n",
       "       5.6167711 , 5.79605775, 5.79605775, 5.01063529, 5.01063529,\n",
       "       5.24702407, 4.89034913, 5.65248918, 5.31811999, 5.31811999,\n",
       "       5.70378247, 4.87519732, 5.07517382])"
      ]
     },
     "execution_count": 23,
     "metadata": {},
     "output_type": "execute_result"
    }
   ],
   "source": [
    "np.log(rLMAX)"
   ]
  },
  {
   "cell_type": "code",
   "execution_count": 24,
   "metadata": {},
   "outputs": [
    {
     "data": {
      "text/plain": [
       "array([-0.03055991, -0.44206733, -0.74440168, -0.74440168, -0.27501324,\n",
       "       -0.27501324, -0.27501324,  0.10972573,  0.10972573,  0.10972573,\n",
       "        0.4742234 ,  0.65351006,  0.65351006, -0.1319124 , -0.1319124 ,\n",
       "        0.10447638, -0.25219857,  0.50994148,  0.1755723 ,  0.1755723 ,\n",
       "        0.56123478, -0.26735037, -0.06737388])"
      ]
     },
     "execution_count": 24,
     "metadata": {},
     "output_type": "execute_result"
    }
   ],
   "source": [
    "np.log(rLMAX) - np.mean(np.log(rLMAX))"
   ]
  },
  {
   "cell_type": "code",
   "execution_count": 25,
   "metadata": {},
   "outputs": [
    {
     "data": {
      "text/plain": [
       "5.142547695286238"
      ]
     },
     "execution_count": 25,
     "metadata": {},
     "output_type": "execute_result"
    }
   ],
   "source": [
    "np.mean(np.log(rLMAX))"
   ]
  }
 ],
 "metadata": {
  "kernelspec": {
   "display_name": "Python 3",
   "language": "python",
   "name": "python3"
  },
  "language_info": {
   "codemirror_mode": {
    "name": "ipython",
    "version": 3
   },
   "file_extension": ".py",
   "mimetype": "text/x-python",
   "name": "python",
   "nbconvert_exporter": "python",
   "pygments_lexer": "ipython3",
   "version": "3.7.6"
  }
 },
 "nbformat": 4,
 "nbformat_minor": 4
}
