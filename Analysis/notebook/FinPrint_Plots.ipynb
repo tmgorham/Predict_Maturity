{
 "cells": [
  {
   "cell_type": "code",
   "execution_count": 2,
   "metadata": {},
   "outputs": [],
   "source": [
    "# Import python packages\n",
    "%matplotlib inline\n",
    "import pandas as pd\n",
    "import numpy as np\n",
    "import matplotlib.pyplot as plt\n",
    "import pymc3 as pm\n",
    "#import theano as T\n",
    "#import theano.tensor as tt\n",
    "import seaborn as sns\n",
    "import matplotlib as mp\n",
    "import numpy.random as npr\n",
    "import matplotlib.patches as mpatches\n",
    "from scipy.interpolate import interp1d\n",
    "import mpl_toolkits as mpl\n",
    "import datetime as dt\n",
    "from scipy.stats.kde import gaussian_kde\n",
    "import matplotlib.path as mpath\n",
    "import scipy as sp\n",
    "from theano import shared\n",
    "import sqlite3\n",
    "import cmocean as co\n",
    "#import joypy as jp\n",
    "from matplotlib.patches import Rectangle\n",
    "import palettable\n",
    "import os\n",
    "import pdb\n",
    "#mp.pyplot.style.use('ggplot')\n",
    "mp.pyplot.style.use('seaborn-darkgrid')\n"
   ]
  },
  {
   "cell_type": "code",
   "execution_count": 3,
   "metadata": {},
   "outputs": [],
   "source": [
    "os.environ['PROJ_LIB'] = '/anaconda3/share/proj'"
   ]
  },
  {
   "cell_type": "code",
   "execution_count": 4,
   "metadata": {},
   "outputs": [
    {
     "data": {
      "text/plain": [
       "0.029936098947162537"
      ]
     },
     "execution_count": 4,
     "metadata": {},
     "output_type": "execute_result"
    }
   ],
   "source": [
    "(1-0.026*(50/34))**90"
   ]
  },
  {
   "cell_type": "code",
   "execution_count": 5,
   "metadata": {},
   "outputs": [],
   "source": [
    "#from mpl_toolkits.basemap import Basemap"
   ]
  },
  {
   "cell_type": "code",
   "execution_count": 6,
   "metadata": {},
   "outputs": [],
   "source": [
    "# Helper functions\n",
    "def indexall(L):\n",
    "    poo = []\n",
    "    for p in L:\n",
    "        if not p in poo:\n",
    "            poo.append(p)\n",
    "    Ix = np.array([poo.index(p) for p in L])\n",
    "    return poo,Ix\n",
    "\n",
    "def subindexall(short,long):\n",
    "    poo = []\n",
    "    out = []\n",
    "    for s,l in zip(short,long):\n",
    "        if not l in poo:\n",
    "            poo.append(l)\n",
    "            out.append(s)\n",
    "    return indexall(out)\n",
    "\n",
    "match = lambda a, b: np.array([ b.index(x) if x in b else None for x in a ])\n",
    "grep = lambda s, l: np.array([i for i in l if s in i])\n",
    "npm = np.median\n",
    "\n",
    "# Function to standardize covariates\n",
    "def stdize(x):\n",
    "    return (x-np.mean(x))/(2*np.std(x))\n",
    "\n",
    "def SMA(array):\n",
    "    return npr.choice(array)\n",
    "\n",
    "def SMX(matrix,indx):\n",
    "    return npr.choice(matrix[matrix.columns[indx]].values)\n",
    "\n",
    "def gelplot(pj,vector,posy,csize=40,lwd50=7,lwd95=1,lui=5,uli=95):\n",
    "    if np.percentile(vector,lui)<0 and 0<np.percentile(vector,uli):\n",
    "        pj.plot(np.median(vector),posy,'.',markersize=csize,c='grey')\n",
    "        pj.plot((np.percentile(vector,lui),np.percentile(vector,uli)),(posy,posy),linewidth=lwd95,c='grey')\n",
    "        pj.plot((np.percentile(vector,25),np.percentile(vector,75)),(posy,posy),linewidth=lwd50,c='grey')\n",
    "    else:\n",
    "        pj.plot(np.median(vector),posy,'.',markersize=csize,c='black')\n",
    "        pj.plot((np.percentile(vector,lui),np.percentile(vector,uli)),(posy,posy),linewidth=lwd95,c='black')\n",
    "        pj.plot((np.percentile(vector,25),np.percentile(vector,75)),(posy,posy),linewidth=lwd50,c='black')\n",
    "        \n",
    "    if np.percentile(vector,25)<0 and 0<np.percentile(vector,75):\n",
    "        pj.plot(np.median(vector),posy,'.',markersize=csize,c='white')\n",
    "def invlogit(x):\n",
    "    return np.exp(x)/(1+np.exp(x))\n",
    "\n",
    "# Summary functions\n",
    "def CB(new,vec,obs,base,indx,valx=0):\n",
    "    maxd = (base-obs)\n",
    "    newd = (base-new)\n",
    "    return 100-(newd/maxd)[vec[indx]!=valx]*100\n",
    "\n",
    "def CBx(new,obs,base):\n",
    "    maxd = (base-obs)\n",
    "    newd = (base-new)\n",
    "    return 100-(newd/maxd)*100\n",
    "\n",
    "# Function to standardize covariates\n",
    "def stdize(x):\n",
    "    return (x-np.mean(x))/(np.std(x)*2)\n",
    "\n",
    "def abline(intercept,slope,col='black',alpha=1):\n",
    "    \"\"\"Plot a line from slope and intercept\"\"\"\n",
    "    axes = plt.gca()\n",
    "    x_vals = np.array(axes.get_xlim())\n",
    "    y_vals = intercept + slope * x_vals\n",
    "    plt.plot(x_vals, y_vals, '--',c='black',alpha=alpha)"
   ]
  },
  {
   "cell_type": "markdown",
   "metadata": {},
   "source": [
    "## Import data"
   ]
  },
  {
   "cell_type": "code",
   "execution_count": 7,
   "metadata": {},
   "outputs": [],
   "source": [
    "# go to FinPrint folder\n",
    "os.chdir('C:\\\\Users\\\\tmgor\\\\Dropbox\\\\NATURE_FINPRINT\\\\revised_notebook2')"
   ]
  },
  {
   "cell_type": "code",
   "execution_count": 8,
   "metadata": {},
   "outputs": [
    {
     "name": "stderr",
     "output_type": "stream",
     "text": [
      "C:\\ProgramData\\Anaconda3\\lib\\site-packages\\IPython\\core\\interactiveshell.py:3063: DtypeWarning: Columns (23,26,57,58) have mixed types.Specify dtype option on import or set low_memory=False.\n",
      "  interactivity=interactivity, compiler=compiler, result=result)\n",
      "C:\\ProgramData\\Anaconda3\\lib\\site-packages\\ipykernel_launcher.py:13: SettingWithCopyWarning: \n",
      "A value is trying to be set on a copy of a slice from a DataFrame\n",
      "\n",
      "See the caveats in the documentation: https://pandas.pydata.org/pandas-docs/stable/user_guide/indexing.html#returning-a-view-versus-a-copy\n",
      "  del sys.path[0]\n",
      "C:\\ProgramData\\Anaconda3\\lib\\site-packages\\ipykernel_launcher.py:14: SettingWithCopyWarning: \n",
      "A value is trying to be set on a copy of a slice from a DataFrame\n",
      "\n",
      "See the caveats in the documentation: https://pandas.pydata.org/pandas-docs/stable/user_guide/indexing.html#returning-a-view-versus-a-copy\n",
      "  \n",
      "C:\\ProgramData\\Anaconda3\\lib\\site-packages\\ipykernel_launcher.py:15: SettingWithCopyWarning: \n",
      "A value is trying to be set on a copy of a slice from a DataFrame\n",
      "\n",
      "See the caveats in the documentation: https://pandas.pydata.org/pandas-docs/stable/user_guide/indexing.html#returning-a-view-versus-a-copy\n",
      "  from ipykernel import kernelapp as app\n",
      "C:\\ProgramData\\Anaconda3\\lib\\site-packages\\ipykernel_launcher.py:16: SettingWithCopyWarning: \n",
      "A value is trying to be set on a copy of a slice from a DataFrame\n",
      "\n",
      "See the caveats in the documentation: https://pandas.pydata.org/pandas-docs/stable/user_guide/indexing.html#returning-a-view-versus-a-copy\n",
      "  app.launch_new_instance()\n",
      "C:\\ProgramData\\Anaconda3\\lib\\site-packages\\ipykernel_launcher.py:17: SettingWithCopyWarning: \n",
      "A value is trying to be set on a copy of a slice from a DataFrame\n",
      "\n",
      "See the caveats in the documentation: https://pandas.pydata.org/pandas-docs/stable/user_guide/indexing.html#returning-a-view-versus-a-copy\n",
      "C:\\ProgramData\\Anaconda3\\lib\\site-packages\\ipykernel_launcher.py:18: SettingWithCopyWarning: \n",
      "A value is trying to be set on a copy of a slice from a DataFrame\n",
      "\n",
      "See the caveats in the documentation: https://pandas.pydata.org/pandas-docs/stable/user_guide/indexing.html#returning-a-view-versus-a-copy\n",
      "C:\\ProgramData\\Anaconda3\\lib\\site-packages\\ipykernel_launcher.py:19: SettingWithCopyWarning: \n",
      "A value is trying to be set on a copy of a slice from a DataFrame\n",
      "\n",
      "See the caveats in the documentation: https://pandas.pydata.org/pandas-docs/stable/user_guide/indexing.html#returning-a-view-versus-a-copy\n",
      "C:\\ProgramData\\Anaconda3\\lib\\site-packages\\ipykernel_launcher.py:20: SettingWithCopyWarning: \n",
      "A value is trying to be set on a copy of a slice from a DataFrame\n",
      "\n",
      "See the caveats in the documentation: https://pandas.pydata.org/pandas-docs/stable/user_guide/indexing.html#returning-a-view-versus-a-copy\n",
      "C:\\ProgramData\\Anaconda3\\lib\\site-packages\\ipykernel_launcher.py:22: SettingWithCopyWarning: \n",
      "A value is trying to be set on a copy of a slice from a DataFrame\n",
      "\n",
      "See the caveats in the documentation: https://pandas.pydata.org/pandas-docs/stable/user_guide/indexing.html#returning-a-view-versus-a-copy\n",
      "C:\\ProgramData\\Anaconda3\\lib\\site-packages\\ipykernel_launcher.py:23: SettingWithCopyWarning: \n",
      "A value is trying to be set on a copy of a slice from a DataFrame\n",
      "\n",
      "See the caveats in the documentation: https://pandas.pydata.org/pandas-docs/stable/user_guide/indexing.html#returning-a-view-versus-a-copy\n",
      "C:\\ProgramData\\Anaconda3\\lib\\site-packages\\ipykernel_launcher.py:24: SettingWithCopyWarning: \n",
      "A value is trying to be set on a copy of a slice from a DataFrame\n",
      "\n",
      "See the caveats in the documentation: https://pandas.pydata.org/pandas-docs/stable/user_guide/indexing.html#returning-a-view-versus-a-copy\n",
      "C:\\ProgramData\\Anaconda3\\lib\\site-packages\\ipykernel_launcher.py:25: SettingWithCopyWarning: \n",
      "A value is trying to be set on a copy of a slice from a DataFrame\n",
      "\n",
      "See the caveats in the documentation: https://pandas.pydata.org/pandas-docs/stable/user_guide/indexing.html#returning-a-view-versus-a-copy\n",
      "C:\\ProgramData\\Anaconda3\\lib\\site-packages\\ipykernel_launcher.py:27: SettingWithCopyWarning: \n",
      "A value is trying to be set on a copy of a slice from a DataFrame\n",
      "\n",
      "See the caveats in the documentation: https://pandas.pydata.org/pandas-docs/stable/user_guide/indexing.html#returning-a-view-versus-a-copy\n",
      "C:\\ProgramData\\Anaconda3\\lib\\site-packages\\ipykernel_launcher.py:28: SettingWithCopyWarning: \n",
      "A value is trying to be set on a copy of a slice from a DataFrame\n",
      "\n",
      "See the caveats in the documentation: https://pandas.pydata.org/pandas-docs/stable/user_guide/indexing.html#returning-a-view-versus-a-copy\n",
      "C:\\ProgramData\\Anaconda3\\lib\\site-packages\\ipykernel_launcher.py:29: SettingWithCopyWarning: \n",
      "A value is trying to be set on a copy of a slice from a DataFrame\n",
      "\n",
      "See the caveats in the documentation: https://pandas.pydata.org/pandas-docs/stable/user_guide/indexing.html#returning-a-view-versus-a-copy\n",
      "C:\\ProgramData\\Anaconda3\\lib\\site-packages\\ipykernel_launcher.py:30: SettingWithCopyWarning: \n",
      "A value is trying to be set on a copy of a slice from a DataFrame\n",
      "\n",
      "See the caveats in the documentation: https://pandas.pydata.org/pandas-docs/stable/user_guide/indexing.html#returning-a-view-versus-a-copy\n",
      "C:\\ProgramData\\Anaconda3\\lib\\site-packages\\ipykernel_launcher.py:31: SettingWithCopyWarning: \n",
      "A value is trying to be set on a copy of a slice from a DataFrame\n",
      "\n",
      "See the caveats in the documentation: https://pandas.pydata.org/pandas-docs/stable/user_guide/indexing.html#returning-a-view-versus-a-copy\n",
      "C:\\ProgramData\\Anaconda3\\lib\\site-packages\\ipykernel_launcher.py:32: SettingWithCopyWarning: \n",
      "A value is trying to be set on a copy of a slice from a DataFrame\n",
      "\n",
      "See the caveats in the documentation: https://pandas.pydata.org/pandas-docs/stable/user_guide/indexing.html#returning-a-view-versus-a-copy\n",
      "C:\\ProgramData\\Anaconda3\\lib\\site-packages\\ipykernel_launcher.py:33: SettingWithCopyWarning: \n",
      "A value is trying to be set on a copy of a slice from a DataFrame\n",
      "\n",
      "See the caveats in the documentation: https://pandas.pydata.org/pandas-docs/stable/user_guide/indexing.html#returning-a-view-versus-a-copy\n"
     ]
    }
   ],
   "source": [
    "# Import FP data\n",
    "fpdata = pd.read_csv('FinPrint_Set_Data.csv')\n",
    "# Import location-scale data\n",
    "ldata = pd.read_csv('Location_Covariates.csv')\n",
    "# Grab only sharks\n",
    "poo = fpdata[fpdata['functional_group'].isin(['reef_meso','apex','coastal_rover','benthic_rover', 'nocturnal_invader'])]\n",
    "# Sum maxn's given set id's\n",
    "tmp = poo.groupby(['set_id'], as_index=False)['maxn'].sum()\n",
    "tmp.columns = ['set_id','MaxN_shark']\n",
    "xdata = fpdata.merge(tmp, on=['set_id']).drop_duplicates(subset=['set_id'])\n",
    "\n",
    "xdata.location_name[xdata.site_name=='Ashmore'] = 'Australia IOT'\n",
    "xdata.location_name[xdata.site_name=='Rowley Shoals'] = 'Australia IOT'\n",
    "xdata.location_name[xdata.site_name=='Scott Reef'] = 'Australia IOT'\n",
    "xdata.location_name[xdata.site_name=='Houtman Abrolhos'] = 'Australia IOT'\n",
    "xdata.location_name[xdata.site_name=='Cocos-Keeling'] = 'Australia IOT'\n",
    "xdata.location_name[xdata.site_name=='Christmas Island'] = 'Australia IOT'\n",
    "xdata.location_name[xdata.site_name=='Pedro Bank'] = 'Jamaica PB'\n",
    "xdata.location_name[xdata.site_name=='Cayo Serranilla'] = 'Columbia SF'\n",
    "xdata.location_name[xdata.site_name=='Old Providence Island'] = 'Columbia SF'\n",
    "\n",
    "xdata.location_name[xdata.location_name=='Saudi Arabia'] = 'Saudi Arabia-Red Sea'\n",
    "xdata.location_name[xdata.location_name=='British West Indies '] = 'Montserrat'\n",
    "ldata.FP_location_name[ldata.FP_location_name=='Saudi Arabia'] = 'Saudi Arabia-Red Sea'\n",
    "ldata.FP_location_name[ldata.FP_location_name=='British West Indies '] = 'Montserrat' \n",
    "\n",
    "xdata.location_name[xdata.site_name=='Aruba'] = 'Dutch Antilles Leeward'\n",
    "xdata.location_name[xdata.site_name=='Bonaire'] = 'Dutch Antilles Leeward'\n",
    "xdata.location_name[xdata.site_name=='Curacao'] = 'Dutch Antilles Leeward'\n",
    "xdata.location_name[xdata.site_name=='Saba'] = 'Dutch Antilles Windward'\n",
    "xdata.location_name[xdata.site_name=='Saba Bank'] = 'Dutch Antilles Windward'\n",
    "xdata.location_name[xdata.site_name=='St Eustatius'] = 'Dutch Antilles Windward'\n",
    "xdata.location_name[xdata.site_name=='St Maarten'] = 'Dutch Antilles Windward'\n"
   ]
  },
  {
   "cell_type": "code",
   "execution_count": 9,
   "metadata": {},
   "outputs": [],
   "source": [
    "# Cut rows with no visibility values\n",
    "xdata = xdata[np.isfinite(xdata['visibility'])]\n",
    "# Cut rows with no hard coral values\n",
    "xdata = xdata[np.isfinite(xdata['hard_coral'])]\n",
    "# Cut rows with no rugosity values\n",
    "xdata = xdata[np.isfinite(xdata['substrate_relief_mean'])]"
   ]
  },
  {
   "cell_type": "code",
   "execution_count": 10,
   "metadata": {},
   "outputs": [],
   "source": [
    "xdata.loc[xdata['set_id'].isin(np.array([6783,29122,33986,20819,34989,22974,10335,24488,8863,7255]))].to_csv('highlev.csv')"
   ]
  },
  {
   "cell_type": "code",
   "execution_count": 11,
   "metadata": {},
   "outputs": [],
   "source": [
    "# Remove high leverage observations\n",
    "xdata = xdata[xdata.set_id!=6783]\n",
    "xdata = xdata[xdata.set_id!=29122]\n",
    "xdata = xdata[xdata.set_id!=33986]\n",
    "xdata = xdata[xdata.set_id!=20819]\n",
    "xdata = xdata[xdata.set_id!=34989]\n",
    "xdata = xdata[xdata.set_id!=22974]\n",
    "xdata = xdata[xdata.set_id!=10335]\n",
    "xdata = xdata[xdata.set_id!=24488]\n",
    "xdata = xdata[xdata.set_id!=8863]\n",
    "xdata = xdata[xdata.set_id!=7255]\n",
    "xdata = xdata[xdata.set_id!=32874]"
   ]
  },
  {
   "cell_type": "code",
   "execution_count": 12,
   "metadata": {},
   "outputs": [],
   "source": [
    "# Hierarchical levels\n",
    "Reef,Ir = indexall(np.array(xdata.reef_id.values))\n",
    "nreefs = len(Reef)\n",
    "\n",
    "Site,Is = subindexall(xdata.site_name.values,xdata.reef_id.values)\n",
    "nsites = len(Site)\n",
    "\n",
    "LocationR,Ilr = subindexall(xdata.location_name.values,xdata.reef_id.values)\n",
    "\n",
    "RegionL,Irl = subindexall(xdata.region_name.values,xdata.location_name.values)\n",
    "\n",
    "LocationS,Ils = indexall(xdata.location_name.values)\n",
    "\n",
    "Location,Il = subindexall(xdata.location_name.values,xdata.site_name.values)\n",
    "nlocs = len(Location)\n",
    "\n",
    "Region,Ig = subindexall(xdata.region_name.values,xdata.location_name.values)\n",
    "nreg = len(Region)\n",
    "\n",
    "Lox,Ilx = indexall(xdata.site_name.values)"
   ]
  },
  {
   "cell_type": "code",
   "execution_count": 13,
   "metadata": {},
   "outputs": [
    {
     "data": {
      "text/plain": [
       "Index(['region_name', 'region_id', 'location_name', 'location_code',\n",
       "       'location_id', 'site_name', 'site_code', 'site_id', 'reef_name',\n",
       "       'reef_type', 'reef_code', 'reef_id', 'trip_year', 'trip_code', 'set_id',\n",
       "       'set_code', 'set_date', 'set_latitude', 'set_longitude', 'maxn',\n",
       "       'functional_group', 'depth', 'drop_time', 'haul_time', 'bait',\n",
       "       'bait_oiled', 'current_flow_estimated', 'current_flow_instrumented',\n",
       "       'visibility', 'field_of_view', 'substrate_relief_sd',\n",
       "       'substrate_relief_mean', 'equipment_frame_type', 'equipment_camera',\n",
       "       'equipment_stereo_camera', 'equipment_camera_height',\n",
       "       'equipment_arm_length', 'ascidians', 'bleached_corals', 'bryozoa',\n",
       "       'consolidated', 'crinoids', 'halimeda', 'hard_coral', 'hydrocoral',\n",
       "       'hydroids', 'invertebrate_complex', 'macroalgae', 'mangrove',\n",
       "       'seagrass', 'soft_coral', 'sponge', 'true_anemones', 'unconsolidated',\n",
       "       'zoanthids', 'video_length_watched', 'video_filename', 'video_source',\n",
       "       'video_filepath', 'splendor_image_url', 'total_assignments',\n",
       "       'reviewed_assignments', 'has_complete_master', 'protection_status',\n",
       "       'mpa_name', 'mpa_area', 'mpa_year_founded', 'mpa_isolation',\n",
       "       'mpa_compliance', 'site_type', 'bait_family', 'PI', 'Remote',\n",
       "       'Shark_Protection_Status', 'Shark_fishing_restrictions', 'Shark_gears',\n",
       "       'Datasheet_Source', 'set_productivity_2017ave', 'local_population_2010',\n",
       "       'local_population_2015', 'population_proporationaldifference_2010.15',\n",
       "       'drop_hr', 'LatLon', 'Grav_NC', 'Grav_Total', 'Grav_Cities', 'Grav_NP',\n",
       "       'MaxN_shark'],\n",
       "      dtype='object')"
      ]
     },
     "execution_count": 13,
     "metadata": {},
     "output_type": "execute_result"
    }
   ],
   "source": [
    "xdata.columns\n"
   ]
  },
  {
   "cell_type": "code",
   "execution_count": 14,
   "metadata": {},
   "outputs": [
    {
     "data": {
      "text/plain": [
       "0.46794871794871795"
      ]
     },
     "execution_count": 14,
     "metadata": {},
     "output_type": "execute_result"
    }
   ],
   "source": [
    "np.mean(xdata.loc[Ils==LocationS.index('South Africa'),]['MaxN_shark'].values)"
   ]
  },
  {
   "cell_type": "code",
   "execution_count": 15,
   "metadata": {
    "scrolled": false
   },
   "outputs": [
    {
     "data": {
      "text/plain": [
       "array([0, 0, 0, 0, 0, 0, 0, 0, 0, 0, 0, 0, 0, 0, 0, 0, 0, 0, 0, 0, 0, 0,\n",
       "       0, 0, 0, 1, 0, 1, 0, 0, 1, 0, 0, 0, 0, 0, 0, 0, 0, 0, 0, 0, 0, 0,\n",
       "       0, 0, 0, 1, 0, 0, 0, 0, 0, 0, 0, 0, 0, 0, 0, 0, 0, 0, 0, 0, 0, 0,\n",
       "       0, 0, 0, 0, 0, 1, 0, 0, 0, 0, 0, 0, 0, 0, 0, 0, 1, 0, 0, 0, 0, 0,\n",
       "       0, 0, 0, 0, 0, 0, 0, 0, 0, 0, 1, 0, 0, 1, 0, 0, 0], dtype=int64)"
      ]
     },
     "execution_count": 15,
     "metadata": {},
     "output_type": "execute_result"
    }
   ],
   "source": [
    "xdata.loc[Ils==LocationS.index('Japan'),]['MaxN_shark'].values"
   ]
  },
  {
   "cell_type": "code",
   "execution_count": null,
   "metadata": {},
   "outputs": [],
   "source": []
  },
  {
   "cell_type": "code",
   "execution_count": 16,
   "metadata": {},
   "outputs": [
    {
     "data": {
      "text/plain": [
       "371"
      ]
     },
     "execution_count": 16,
     "metadata": {},
     "output_type": "execute_result"
    }
   ],
   "source": [
    "len(Ilr)"
   ]
  },
  {
   "cell_type": "code",
   "execution_count": 17,
   "metadata": {},
   "outputs": [
    {
     "data": {
      "text/plain": [
       "1976000.0"
      ]
     },
     "execution_count": 17,
     "metadata": {},
     "output_type": "execute_result"
    }
   ],
   "source": [
    "max(xdata.mpa_area.values[np.isnan(xdata.mpa_area.values)==False])"
   ]
  },
  {
   "cell_type": "code",
   "execution_count": 18,
   "metadata": {},
   "outputs": [
    {
     "name": "stderr",
     "output_type": "stream",
     "text": [
      "C:\\ProgramData\\Anaconda3\\lib\\site-packages\\ipykernel_launcher.py:90: UserWarning: Pandas doesn't allow columns to be created via a new attribute name - see https://pandas.pydata.org/pandas-docs/stable/indexing.html#attribute-access\n"
     ]
    }
   ],
   "source": [
    "# Lat/lon - national\n",
    "Lat = np.array([np.mean(xdata.set_latitude.values[xdata.location_name.values==L]) for L in Location])\n",
    "Lon = np.array([np.mean(xdata.set_longitude.values[xdata.location_name.values==L]) for L in Location])\n",
    "\n",
    "# Location key\n",
    "lkey = np.array([list(ldata.FP_location_name.values).index(l) for l in Location])\n",
    "# Site key\n",
    "skey = np.array([list(xdata.site_name.values).index(s) for s in Site])\n",
    "# Reef key\n",
    "rkey = np.array([list(xdata.reef_id.values).index(r) for r in Reef])\n",
    "\n",
    "## Location-level covariates\n",
    "\n",
    "# Human development index\n",
    "HDI = ldata.HDI.values[lkey]\n",
    "\n",
    "# Voice and accountability\n",
    "VOICE = ldata.Voice_Accountability.values[lkey]\n",
    "\n",
    "# Population size\n",
    "POP = stdize(np.log(ldata.Population.values[lkey]))\n",
    "\n",
    "# Total catch\n",
    "CATCH = stdize(np.log(ldata.Reef_catch_tonnes.values[lkey]))\n",
    "\n",
    "# Shark catch\n",
    "SCAT = stdize(np.log(ldata.Shark_catch_tonnes.values[lkey]+1))\n",
    "\n",
    "# Beche de Mer\n",
    "BDM = stdize(np.log(ldata.Bechedemer_catch_tonnes.values[lkey]+1))\n",
    "\n",
    "# Tax haven\n",
    "TAX = ldata.tax_haven.values[lkey]\n",
    "\n",
    "# Shark sanctuary\n",
    "SSA = ldata.Shark_Sanctuary.values[lkey]\n",
    "\n",
    "# Coastline length\n",
    "CLN = stdize(ldata.CoastLength.values[lkey])\n",
    "\n",
    "# Site type\n",
    "STY,Isty = indexall(xdata.site_type.values[skey])\n",
    "nshabs = len(STY)\n",
    "\n",
    "# Temporary replacement of unknown protection status\n",
    "xdata['Shark_Protection_Status'] = xdata.Shark_Protection_Status.replace(np.nan, 'Unknown', regex=True)\n",
    "xdata['Shark_Protection_Status'] = xdata.Shark_Protection_Status.replace('Unknown', 'Closed',regex=True)\n",
    "\n",
    "# Reef habitat type\n",
    "RTY,Irty = indexall(xdata.reef_type.values[rkey])\n",
    "nrty = len(RTY)\n",
    "\n",
    "# Shark protection status\n",
    "PRO = ['Open', 'Restricted', 'Closed']\n",
    "Ipro = np.array([PRO.index(x) for x in xdata.Shark_Protection_Status.values[rkey]])\n",
    "npro = len(PRO)\n",
    "\n",
    "# Flags for mutual exclusions\n",
    "CLO = (Ipro==PRO.index('Closed'))*1\n",
    "noCLO = 1-(Ipro==PRO.index('Closed'))*1\n",
    "RES = ((Ipro==PRO.index('Restricted'))*(1-(Ipro==PRO.index('Closed'))*1))*1\n",
    "\n",
    "# MPA size - standardize only places that have area\n",
    "MPS = xdata.mpa_area.fillna(-999).values[rkey]\n",
    "tmp = MPS!=-999\n",
    "#MPS[tmp] = stdize(np.log(MPS[tmp]+1))\n",
    "MPS[tmp] = np.log(MPS[tmp]+1)/max(np.log(MPS[tmp]+1))\n",
    "MPS[MPS==-999] = 0\n",
    "\n",
    "# MPA age - standardize only places that have year\n",
    "MPG = (xdata.mpa_year_founded.fillna(-999+2015).values[rkey]-2015)*-1\n",
    "tmp = MPG!=999\n",
    "#MPG[tmp] = stdize(MPG[tmp])\n",
    "MPG[tmp] = MPG[tmp]/max(MPG[tmp])\n",
    "MPG[MPG==999] = 0\n",
    "\n",
    "# High compliance\n",
    "HIG = (xdata.mpa_compliance.values[rkey]=='high')*1*CLO\n",
    "\n",
    "# Remote\n",
    "REM = (xdata.Remote.values[rkey]=='Yes')*1\n",
    "\n",
    "# Gravity NP\n",
    "GRAV = stdize(np.log(xdata.Grav_NP.values[rkey]+1))\n",
    "\n",
    "# Gravity NC\n",
    "GRAV_NC = stdize(np.log(xdata.Grav_NC.values[rkey]+1))\n",
    "\n",
    "# Shark gear\n",
    "xdata.Sharkgear = xdata.Shark_gears.fillna('None')\n",
    "# Gillnet\n",
    "GNET = np.array([('Gillnet' in g)*1 for g in xdata.Shark_gears.values.astype(str)])[rkey]\n",
    "# Drumline\n",
    "DRUM = np.array([('Drumline' in g)*1 for g in xdata.Shark_gears.values.astype(str)])[rkey]\n",
    "# Hook and line\n",
    "HLIN = np.array([('Hook & Line' in g)*1 for g in xdata.Shark_gears.values.astype(str)])[rkey]\n",
    "# Longline\n",
    "LLIN = np.array([('Longline' in g)*1 for g in xdata.Shark_gears.values.astype(str)])[rkey]\n",
    "# Spear\n",
    "SPE = np.array([('Spear' in g)*1 for g in xdata.Shark_gears.values.astype(str)])[rkey]\n",
    "# Trawl\n",
    "TRA = np.array([('Trawl' in g)*1 for g in xdata.Shark_gears.values.astype(str)])[rkey]\n",
    "# Blast\n",
    "BLA = np.array([('Blast' in g)*1 for g in xdata.Shark_gears.values.astype(str)])[rkey]\n",
    "# Gillnets or longlines\n",
    "GILL = ((GNET+LLIN)>0)*1\n",
    "\n",
    "# Bag\n",
    "BAG = np.array([('Bag' in g)*1 for g in xdata.Shark_fishing_restrictions.values.astype(str)])[rkey]\n",
    "\n",
    "# Temporal\n",
    "TEM = np.array([('Temporal' in g)*1 for g in xdata.Shark_fishing_restrictions.values.astype(str)])[rkey]\n",
    "\n",
    "# Species\n",
    "SPP = np.array([('Species' in g)*1 for g in xdata.Shark_fishing_restrictions.values.astype(str)])[rkey]\n",
    "\n",
    "\n",
    "# Month\n",
    "MON = np.array([dt.datetime.strptime(x,'%Y-%m-%d').month for x in xdata.set_date.values])\n",
    "xdata['Month'] = MON\n",
    "\n",
    "# Hemisphere\n",
    "HEM = (xdata.set_latitude.values<0)*1\n",
    "\n",
    "# Seasonality\n",
    "iSEA = [['Winter','Winter','Shoulder','Shoulder','Summer','Summer','Summer','Summer','Shoulder','Shoulder','Winter','Winter'],['Summer','Summer','Shoulder','Shoulder','Winter','Winter','Winter','Winter','Shoulder','Shoulder','Summer','Summer']]\n",
    "SEA,Ic = indexall(np.array([iSEA[h][m-1] for h,m in zip(HEM,MON)]))\n",
    "nsea = len(SEA)\n",
    "xdata['Season'] = np.array(SEA)[Ic]\n",
    "\n",
    "# Bait\n",
    "tmp = xdata.bait_family.values\n",
    "tmp[tmp=='Palinuridae'] = 'Other'\n",
    "tmp[tmp=='Siluriformes'] = 'Other'\n",
    "tmp[tmp=='Lutjanidae'] = 'Other'\n",
    "tmp[tmp=='Siluriformes'] = 'Other'\n",
    "tmp[tmp=='Carangidae'] = 'Other'\n",
    "tmp[tmp=='Belonidae'] = 'Other'\n",
    "tmp[tmp=='Coryphaenidae'] = 'Other'\n",
    "tmp[tmp=='Scomberesocidae'] = 'Other'\n",
    "tmp[tmp=='Osmeridae'] = 'Other'\n",
    "\n",
    "BAIT,Ib = indexall(tmp)\n",
    "nbait = len(BAIT)\n",
    "\n",
    "# Local population growth\n",
    "xdata['proportional_difference'] = xdata['population_proporationaldifference_2010.15'].fillna(0)\n",
    "POPG = stdize(xdata.proportional_difference.values[rkey])"
   ]
  },
  {
   "cell_type": "code",
   "execution_count": 19,
   "metadata": {},
   "outputs": [],
   "source": [
    "#Responses\n",
    "MaxN = xdata.MaxN_shark.values\n",
    "OCC = (MaxN>0)*1"
   ]
  },
  {
   "cell_type": "code",
   "execution_count": 20,
   "metadata": {},
   "outputs": [
    {
     "data": {
      "text/plain": [
       "0.3771183646554566"
      ]
     },
     "execution_count": 20,
     "metadata": {},
     "output_type": "execute_result"
    }
   ],
   "source": [
    "np.mean(OCC)"
   ]
  },
  {
   "cell_type": "code",
   "execution_count": 21,
   "metadata": {},
   "outputs": [
    {
     "data": {
      "text/plain": [
       "0.8059299191374663"
      ]
     },
     "execution_count": 21,
     "metadata": {},
     "output_type": "execute_result"
    }
   ],
   "source": [
    "np.array([sum(OCC[Ir==r])>0 for r in np.unique(Ir)]).sum()/nreefs"
   ]
  },
  {
   "cell_type": "code",
   "execution_count": 22,
   "metadata": {},
   "outputs": [
    {
     "data": {
      "text/plain": [
       "['Clupeidae', 'Scombridae', 'Mixed', 'Other', 'Sphyraenidae']"
      ]
     },
     "execution_count": 22,
     "metadata": {},
     "output_type": "execute_result"
    }
   ],
   "source": [
    "BAIT"
   ]
  },
  {
   "cell_type": "code",
   "execution_count": 23,
   "metadata": {},
   "outputs": [
    {
     "data": {
      "text/plain": [
       "array([array([1, 0, 1, 0, 0, 0, 1, 1, 0, 0, 1, 0, 1, 0, 0, 0, 0, 0, 1, 0, 1, 0,\n",
       "       0, 0, 0, 1, 0, 0], dtype=int64),\n",
       "       array([0, 0, 0, 0, 1, 2, 2, 1, 0, 0, 0, 0, 0, 0, 0, 0, 1, 0, 0, 1, 0, 0,\n",
       "       0, 1, 2, 1, 0, 0, 0, 0, 1, 1, 2, 0, 0, 1, 0, 0, 0, 0, 0, 0, 0, 0],\n",
       "      dtype=int64),\n",
       "       array([2, 4, 2, 0, 0, 1, 0, 3, 2, 0, 2, 2, 2, 1, 3, 3, 1, 8, 6, 0, 2, 0,\n",
       "       0, 1, 1, 0, 2, 2, 0, 0, 0, 2, 2, 1, 0, 2, 2, 1, 0, 2, 1, 3, 1, 2,\n",
       "       4, 3, 1, 5, 1, 0, 2, 9, 2, 2, 0, 2, 1, 1, 1, 1, 1, 3, 3, 2, 5, 2,\n",
       "       4, 0, 2, 1, 2, 4, 1, 0, 1, 3, 3, 3, 2, 3, 3, 2, 2, 0, 0, 0, 1, 1,\n",
       "       0, 1, 2, 1, 0, 1, 0], dtype=int64),\n",
       "       array([0, 1, 0, 1, 1, 1, 1, 0, 1, 0, 1, 1, 0, 3, 1, 1, 1, 0, 0, 2, 2, 3,\n",
       "       0, 1, 2, 1, 2, 1, 1, 1, 0, 5, 2, 0, 0, 1, 0, 0, 0, 0, 0, 3, 1, 0,\n",
       "       2], dtype=int64),\n",
       "       array([0, 0, 0, 0, 0, 0, 0, 0, 1, 0, 0, 1, 2, 0, 0, 0, 0, 1, 0, 0, 0, 0,\n",
       "       0, 1, 0, 1, 0, 0, 1, 0, 0, 0, 0, 0, 0], dtype=int64),\n",
       "       array([0, 0, 1, 2, 2, 1, 3, 0, 0, 3, 1, 0, 0, 1, 0, 1, 1, 2, 1, 2, 0, 1,\n",
       "       0, 2, 5, 3, 1, 0, 0, 0], dtype=int64),\n",
       "       array([1, 0, 0, 0, 0, 0, 0, 0, 0, 0, 0, 0, 0, 2, 1, 0, 0, 0, 0, 0, 0, 0,\n",
       "       0, 0, 0, 0, 0, 0, 0, 0, 0, 0, 0, 0, 0, 0, 0, 0, 0, 0, 0, 0, 0, 0,\n",
       "       1, 0, 0, 0, 0, 0, 2, 0, 0, 0, 0, 0, 0, 0, 0, 0, 0, 0, 0, 0, 0, 0,\n",
       "       0, 0, 0, 0, 0, 0, 0, 0, 0, 0, 0, 0, 0, 0, 0, 0, 0, 0, 0, 0, 0, 0,\n",
       "       0, 0, 1, 0, 0], dtype=int64),\n",
       "       array([0, 0, 0, 0, 0, 0, 0, 0, 0, 0, 0, 0, 0, 0, 0, 0, 0, 0, 0, 0, 0, 0,\n",
       "       0, 1, 0, 0, 0, 0, 0, 0, 0, 0, 0, 0, 0, 0, 0, 0, 0, 0, 0, 0, 0, 0,\n",
       "       0, 0, 0, 0, 0, 0, 0, 0, 0, 0, 0, 0, 0, 0, 0, 0, 0, 0, 0, 0, 0, 0,\n",
       "       0, 0, 0, 0, 0, 0, 0, 0, 0, 0, 0, 0, 0, 0, 0, 0, 0, 0, 0, 0, 0, 0,\n",
       "       0, 0, 0, 0, 0, 0, 0], dtype=int64),\n",
       "       array([3, 0, 0, 1, 2, 0, 1, 1, 3, 0, 2, 1, 1, 1, 0, 0, 1, 1, 0, 5, 0, 2,\n",
       "       1, 1, 0, 0, 0, 1, 0, 1, 1, 2, 0, 2, 2, 1, 1, 1, 0, 0, 1, 1, 1, 3,\n",
       "       1, 0, 0, 0, 1, 0, 1], dtype=int64),\n",
       "       array([0, 0, 1, 1, 1, 1, 1, 1, 1, 1, 1, 0, 0, 2, 1, 2, 0, 1, 1, 2, 1, 1,\n",
       "       2, 2, 1, 2, 1, 3, 0, 1, 0, 0, 1, 0, 1, 0, 1, 0, 0, 1, 1, 0, 1, 2,\n",
       "       1, 1, 0, 1, 1, 1, 1, 1, 2, 0, 1, 4, 2, 0, 0, 0, 0, 0, 1, 1, 0],\n",
       "      dtype=int64),\n",
       "       array([2, 0, 2, 2, 1, 2, 2, 1, 0, 1, 1, 0, 0, 0, 1, 1, 2, 2, 0, 1, 3, 0,\n",
       "       2, 1, 0, 1, 1, 0, 0, 0, 2, 1, 1, 0, 1, 2, 1, 2, 0, 0, 3, 0, 0, 1,\n",
       "       2, 1], dtype=int64),\n",
       "       array([2, 2, 1, 0, 0, 2, 1, 3, 1, 1, 2, 1, 1, 3, 2, 2, 0, 1, 1, 2, 1, 0,\n",
       "       1, 1, 2, 0, 2, 0, 1, 2, 1, 1, 2, 1, 1, 4, 1, 2, 0, 3, 1, 3, 1],\n",
       "      dtype=int64),\n",
       "       array([0, 0, 0, 1, 0, 0, 0, 0, 1, 1, 2, 1, 0, 0, 0, 0, 0, 0, 0, 0, 3, 0,\n",
       "       0, 0, 2, 0, 0, 0, 1, 0, 0, 1, 0, 0, 0, 0, 1, 0, 0], dtype=int64),\n",
       "       array([0, 0, 0, 0, 0, 0, 0, 1, 0, 0, 0, 0, 0, 0, 0, 0, 0, 0, 0, 0, 0, 0,\n",
       "       0, 0, 1, 0, 0, 0, 0, 0, 0, 1, 0, 0, 0, 0, 0, 0, 0, 0, 0, 1, 0, 1,\n",
       "       0, 0, 1, 0, 0, 0, 0, 0, 0, 0], dtype=int64),\n",
       "       array([0, 0, 0, 0, 0, 1, 0, 1, 0, 0, 0, 0, 0, 0, 0, 1, 0, 0, 0, 1, 1, 0,\n",
       "       0, 0, 0, 0, 0, 0, 0, 0, 0, 0, 0, 0, 0, 0, 0, 0, 0, 0, 0, 0, 0, 0,\n",
       "       0, 0, 0, 0, 0, 0, 0, 0, 0, 0, 0], dtype=int64),\n",
       "       array([0, 0, 0, 0, 0, 0, 0, 0, 0, 0, 0, 0], dtype=int64),\n",
       "       array([0, 0, 0, 0, 0, 0, 0, 0, 0, 0, 0, 1, 0, 0, 0, 0, 0, 1, 1, 1, 1, 0,\n",
       "       0, 0, 0, 0, 0, 0, 0, 0, 0, 0, 0, 0, 0, 0, 0, 0, 0, 0, 1, 1, 0, 0,\n",
       "       0, 0, 0, 0, 0, 0, 1, 0, 0, 0, 0, 1, 0, 0, 2, 0, 0, 0, 1, 0, 0, 1,\n",
       "       1, 1, 0, 0, 0, 0, 0, 0, 0, 0, 0, 1, 0, 1, 0, 0, 0, 0, 0, 0, 0, 0,\n",
       "       0, 0, 0, 0, 0, 0, 0, 0, 0, 0, 0, 0, 0, 0, 0, 0, 0, 0, 0, 0, 0, 0,\n",
       "       0, 0, 0, 0, 0, 0, 0, 0, 0, 0, 0, 0, 0, 0, 0, 0, 1, 0, 0, 0, 0, 0,\n",
       "       0, 0, 0, 0, 0, 0, 0, 0, 0, 0, 0, 0, 0, 0, 0, 0, 0, 0, 0, 0, 1, 0,\n",
       "       0, 0, 0, 0, 0, 1, 0, 0, 0, 0, 0, 0, 0, 0, 0, 0, 0, 0], dtype=int64),\n",
       "       array([0, 0, 0, 0, 0, 0, 0, 0, 0, 0, 0, 0, 0, 0, 0, 0, 0, 0, 0, 0, 0, 0,\n",
       "       0, 0, 0, 0, 0, 0, 0, 0, 0, 0, 0, 0, 0, 0, 0, 0, 0, 0, 0, 0, 0, 0,\n",
       "       0, 0, 0, 0, 0, 0, 0, 0, 0, 0, 0, 0, 0, 0, 0, 0, 0, 0, 0, 0, 0, 0,\n",
       "       0], dtype=int64),\n",
       "       array([1, 1, 1, 1, 0, 0, 2, 1, 2, 0, 0, 2, 1, 4, 1, 0, 1, 0, 2, 2],\n",
       "      dtype=int64),\n",
       "       array([ 2,  0,  4,  2,  0,  3, 10,  3,  1,  1,  2,  1,  6,  1,  3,  1,  0,\n",
       "        2,  0,  1,  6,  1,  0,  0,  0,  3,  2,  2,  6,  2], dtype=int64),\n",
       "       array([0, 0, 1, 1, 2, 3, 6, 5, 3, 2], dtype=int64),\n",
       "       array([1, 1, 1, 1, 1, 0, 0, 0, 3, 2, 1, 0, 0, 1, 1, 1, 2, 1, 0, 1, 2, 1,\n",
       "       0, 2, 2, 1, 1, 2, 1, 1, 0, 2, 1, 0, 1, 0, 0, 0, 2, 2, 1, 3, 1, 2],\n",
       "      dtype=int64),\n",
       "       array([1, 1, 1, 0, 2, 0, 1, 2, 1, 1, 2, 1, 2, 1, 1, 0, 2, 2, 2, 0, 1, 1,\n",
       "       1, 1, 1, 3, 1, 0, 0, 2, 3, 2, 1, 1, 1, 1, 0, 1, 2, 0, 1, 0],\n",
       "      dtype=int64),\n",
       "       array([1, 2, 1, 1, 0, 1, 0, 0, 0, 0, 0, 0, 3, 0, 1, 4, 1, 1, 0, 0, 2, 2,\n",
       "       0, 2, 0, 1, 2, 0, 0, 0, 0, 0, 1, 0, 1, 1, 1, 1, 0], dtype=int64),\n",
       "       array([0, 0, 0, 0, 1, 3, 1, 1, 4, 0, 0, 0, 0, 1, 0, 1, 1, 1, 0, 0, 0, 0,\n",
       "       0, 1, 1, 2, 0, 1, 2, 0, 0, 1, 0, 0, 0, 1, 3, 2, 0, 1, 1],\n",
       "      dtype=int64),\n",
       "       array([0, 1, 2, 1, 0, 0, 3, 0, 0, 0, 0, 1, 9, 2, 2, 0, 1, 0, 0, 2, 1, 0,\n",
       "       1, 0, 2, 3, 1, 1, 0, 0, 1, 0, 0, 0, 0, 0, 1, 0, 0, 1, 0, 1, 2, 3,\n",
       "       2, 0, 0, 1], dtype=int64),\n",
       "       array([2, 0, 1, 0, 0, 0, 0, 3, 0, 1, 0, 1, 1, 0, 0, 2, 1, 2, 0, 1, 1, 2,\n",
       "       0, 1, 2, 0, 0, 0, 0, 2, 0, 0, 0, 1, 2, 1, 1, 0, 1, 0, 2, 2, 0, 0,\n",
       "       1, 0, 0, 0, 0], dtype=int64),\n",
       "       array([0, 2, 1, 1, 1, 1, 1, 2, 2, 0, 0, 2, 1, 2, 0, 0, 1, 0, 1, 0, 0, 3,\n",
       "       1, 1, 0, 2, 2, 0, 2, 1, 2, 4, 0, 0, 0, 0, 0, 0, 0, 2, 0, 1, 2, 3,\n",
       "       0, 0, 1, 1, 1, 1, 0, 2, 2, 1, 1, 2, 0, 0, 1], dtype=int64),\n",
       "       array([2, 2, 1, 1, 0, 0, 1, 3, 1, 2, 3, 1, 1, 0, 0, 3, 1, 1, 0, 2, 1, 0,\n",
       "       1, 3, 2, 0, 0, 3, 4, 1, 2, 1, 8, 1, 0, 3, 1, 1, 2, 2, 0, 2, 2, 1,\n",
       "       0, 3, 1, 1, 1, 0, 2, 2, 2, 1, 0, 0], dtype=int64),\n",
       "       array([1, 2, 1, 2, 2, 0, 1, 1, 0, 2, 2, 2, 1, 1, 0, 1, 0, 1, 1, 2, 1, 2,\n",
       "       3, 1, 0, 0, 1, 1, 0, 0, 1, 1, 2, 2, 1, 1, 0, 1, 1, 1, 1, 0, 1, 1,\n",
       "       0, 2, 1, 0, 1, 1], dtype=int64),\n",
       "       array([0, 1, 1, 2, 3, 3, 0, 2, 1, 3, 1, 1, 5, 0, 5, 1, 0, 2, 1, 1, 1, 1,\n",
       "       1, 3, 2, 0, 1, 1, 3, 2, 1, 3, 2, 3, 2, 2, 4, 2, 1, 0, 0, 5, 1, 2,\n",
       "       1, 1, 2, 0, 1, 2], dtype=int64),\n",
       "       array([0, 0, 0, 1, 0, 3, 1, 0, 1, 2, 0, 1, 2, 1, 4, 4, 2, 1, 1, 0, 3, 3,\n",
       "       1, 1, 0, 0, 0, 1, 2, 2, 0, 0, 1, 3, 1, 1, 2, 2, 3, 3, 3, 1, 1, 1,\n",
       "       1, 2, 2, 1, 2, 1, 2, 2, 1, 2, 1, 0, 2, 1, 2, 0, 1, 1, 2, 0, 1, 2],\n",
       "      dtype=int64),\n",
       "       array([7, 2, 3, 4, 6, 0, 1, 1, 1, 0, 2, 2, 0, 3, 0, 0, 1, 0, 1, 0, 4, 1,\n",
       "       6, 1, 2, 3, 1, 3], dtype=int64),\n",
       "       array([5, 1, 0, 1, 3, 3, 1, 1, 0, 2, 3, 3, 3, 2, 1, 6, 2, 2, 3, 2, 2, 1,\n",
       "       0, 1, 2, 2, 2, 0, 2, 1], dtype=int64),\n",
       "       array([1, 0, 1, 2, 1, 0, 0, 1, 3, 0, 0, 1, 1, 1, 2, 2, 2, 2, 2, 1, 1, 2,\n",
       "       1, 0, 1, 0, 0, 0, 0, 0, 2, 0, 1, 1, 1, 2, 1, 2, 0, 0, 0, 1, 1, 0,\n",
       "       0, 2, 0, 0, 0, 2, 0], dtype=int64),\n",
       "       array([1, 2, 3, 1, 1, 0, 2, 1, 1, 2, 1, 0, 2, 0, 1], dtype=int64),\n",
       "       array([3, 2, 4, 2, 0, 0, 2, 3, 1, 1, 3, 2, 2, 0, 1, 1, 2, 2, 1, 1, 2, 3,\n",
       "       6, 4, 2, 2, 6, 1, 4, 1, 3, 1, 0, 0, 2, 4, 2, 1, 2, 0, 1, 2, 1, 3,\n",
       "       6, 4, 2, 3, 2, 1], dtype=int64),\n",
       "       array([2, 0, 0, 0, 1, 3, 0, 1, 2, 1, 0, 5, 0, 0, 2, 1, 0, 1, 0, 0, 0, 0,\n",
       "       0, 1, 1, 1, 0, 1, 0, 1, 1, 1, 0, 1, 2, 2, 2, 1, 0, 1, 2, 2, 1, 1,\n",
       "       0, 1], dtype=int64),\n",
       "       array([0, 0, 1, 1, 0, 1, 2, 1, 0, 1, 0, 2, 1, 0, 0, 1, 1, 1, 1, 0, 0, 0,\n",
       "       0, 0, 0, 1, 1, 0, 0, 0, 0, 0, 0, 0, 0, 0, 0, 0, 0, 1, 2, 0, 0, 1,\n",
       "       0, 2], dtype=int64),\n",
       "       array([1, 0, 1, 0, 0, 0, 0, 0, 0, 0, 0, 0, 1, 0, 0, 1, 1, 0, 1, 0, 2, 1,\n",
       "       2, 1, 0, 1, 0, 1, 0, 0, 0, 0, 0, 0, 0, 0, 1, 0, 0, 0, 0, 1, 0, 1,\n",
       "       1, 0, 0, 1, 0, 0, 0, 0, 0, 0, 0, 0, 1], dtype=int64),\n",
       "       array([ 1,  3,  6,  3,  2,  2,  1,  3,  1,  3,  2,  2,  5, 11,  2,  3,  1,\n",
       "        0,  1,  2,  0,  4], dtype=int64),\n",
       "       array([2, 1, 0, 0, 0, 1, 1, 0, 0, 1, 1, 0, 0, 0, 0, 0, 1, 1, 1, 1, 0, 0,\n",
       "       1, 0, 0, 1, 0, 0, 2, 0, 2], dtype=int64),\n",
       "       array([6, 8, 2, 6, 2, 3, 4, 3, 0, 4, 1, 1, 1, 4, 2, 2, 9, 3, 3, 2, 2, 2,\n",
       "       0, 4, 1, 1, 3, 0, 5, 2, 3, 2, 3, 2, 3, 2], dtype=int64),\n",
       "       array([ 3,  5,  1,  1,  0,  0,  0,  0,  0,  2,  0,  2,  0,  0,  7, 16,  7,\n",
       "        9,  5, 13,  2,  2,  0,  3,  9,  2,  0,  5,  7,  6,  8],\n",
       "      dtype=int64),\n",
       "       array([5, 2, 2, 4, 7, 5, 1, 3, 3, 0, 8, 4, 2, 8, 9, 6, 3, 6, 1, 1, 2, 1,\n",
       "       8, 3, 1, 3, 2], dtype=int64),\n",
       "       array([1, 0, 1, 1, 0, 0, 0, 1, 0, 1, 0, 0, 1, 0, 2, 1, 0, 1, 2, 0, 0, 3,\n",
       "       1, 0, 1, 0, 0, 1, 0, 0, 0, 0, 0, 0, 0, 2, 1, 0], dtype=int64),\n",
       "       array([0, 1, 0, 3, 0, 1, 0, 1, 0, 1, 0, 0, 1, 1, 1, 0, 0, 1, 1, 1, 0, 1,\n",
       "       2, 1, 2, 0, 1, 1, 1, 2], dtype=int64),\n",
       "       array([0, 0, 1, 1, 1, 1, 1, 0, 2, 0, 2, 0, 1, 1, 0, 1, 1, 0, 0, 3, 0, 2,\n",
       "       1, 1, 0, 0, 1, 2, 0, 0], dtype=int64),\n",
       "       array([2, 0, 3, 3, 1, 1, 1, 0, 7, 2, 0, 4, 0, 0, 0, 3, 3, 4, 1, 0, 1, 2,\n",
       "       5, 3, 2, 2, 3, 1, 0], dtype=int64),\n",
       "       array([1, 1, 3, 3, 3, 4, 1, 0, 1, 4, 4, 2, 0, 0, 3, 1, 0, 2, 2, 2, 5, 4,\n",
       "       2, 5, 3, 2, 5, 3, 3, 2, 1, 3], dtype=int64),\n",
       "       array([1, 2, 2, 2, 0, 0, 0, 2, 4, 2, 0, 2, 2, 2, 3, 2, 1, 0, 2, 1, 0, 1,\n",
       "       1, 0, 0, 2, 0, 1, 2, 2, 4, 1], dtype=int64),\n",
       "       array([1, 0, 1, 0, 1, 3, 1, 0, 0, 1, 0, 0, 0, 0, 1, 1, 1, 1, 1, 1, 0, 1,\n",
       "       1, 0, 0, 2, 0, 1, 0, 1, 0, 1, 2, 1, 0, 1, 1, 2, 3, 1, 1, 0, 1, 1,\n",
       "       2, 0, 2, 1, 2, 2, 0, 1], dtype=int64),\n",
       "       array([3, 0, 2, 1, 1, 2, 0, 0, 0, 0, 0, 3, 1, 4, 2, 0, 0, 1, 1, 2, 2, 2,\n",
       "       2, 0, 0, 1, 3, 1, 2, 3, 1, 2, 1, 2, 2, 0], dtype=int64),\n",
       "       array([3, 0, 1, 1, 0, 0, 2, 0, 2, 0, 1, 0, 2, 1, 1, 0, 2, 0, 1, 0, 0, 0,\n",
       "       0, 1, 0, 0, 1], dtype=int64),\n",
       "       array([0, 0, 0, 0, 0, 0, 0, 0, 0, 0, 0, 0, 0, 0, 0, 0, 0, 0, 0, 0, 0, 0,\n",
       "       0, 0, 0, 0, 0, 0, 0, 0, 0, 0, 0, 0, 0, 0, 0, 0, 0], dtype=int64),\n",
       "       array([1, 1, 0, 0, 0, 0, 1, 1, 2, 0, 0, 0, 1, 1, 0, 0, 0, 0, 0, 0, 0, 1,\n",
       "       0, 0, 0, 1, 0, 0], dtype=int64),\n",
       "       array([2, 1, 1, 0, 1, 1, 1, 2, 0, 2, 0, 2, 1, 1, 1, 0, 1, 1, 0, 1, 2, 3,\n",
       "       0, 1, 1, 3, 1, 1, 1, 4, 1, 1], dtype=int64),\n",
       "       array([1, 0, 2, 0, 0, 0, 0, 0, 0, 3, 1, 1, 1, 3, 1, 0, 1, 0, 4, 3, 1, 0,\n",
       "       2, 4, 1, 1, 1, 2, 1, 0, 0, 3, 2, 0, 0, 1, 1, 0, 0, 1, 3, 3, 1, 0,\n",
       "       1, 0, 1, 1, 0, 0, 2, 2, 0, 1, 1, 1, 2, 1, 1], dtype=int64),\n",
       "       array([1, 0, 0, 0, 0, 0, 0, 1, 0, 1, 0, 1, 0, 0, 1, 0, 0, 1, 0, 0, 0, 1,\n",
       "       0, 0, 1, 1, 0, 0, 0, 0, 0, 0, 0, 0, 0, 0, 0, 0, 0, 0, 1, 0, 1, 0,\n",
       "       0, 0, 1, 1, 1, 0, 1, 1, 1, 2, 0, 0, 0, 0, 0, 0, 0, 0, 0, 1, 0, 0,\n",
       "       0, 0, 0, 1, 0, 1, 0, 0, 0, 0, 0, 0, 0, 0, 0, 1, 0, 0, 0, 0, 0, 0,\n",
       "       0, 0, 0, 0, 0, 0, 0, 0, 0, 1, 0, 0, 0, 0, 0, 0], dtype=int64),\n",
       "       array([0, 0, 0, 0, 0, 0, 0, 0, 0, 0, 0, 0, 0, 0, 0, 0, 0, 0, 0, 0, 0, 0,\n",
       "       0], dtype=int64),\n",
       "       array([0, 0, 0, 0, 0, 0, 0, 0, 0, 0, 0, 0, 0, 0, 0, 0, 0, 0, 0, 0, 0, 0,\n",
       "       0, 0], dtype=int64),\n",
       "       array([1, 1, 0, 0, 0, 0, 0, 0, 0, 0, 0, 0, 0, 0, 0, 0, 1, 0, 0, 2, 0, 0,\n",
       "       0, 0], dtype=int64),\n",
       "       array([0, 0, 1, 0, 0, 0, 1, 0, 0, 0, 0, 0, 1, 0, 0, 0, 1, 0, 0, 0, 0, 0,\n",
       "       0, 0, 0, 0, 0, 1, 1, 0, 0, 0, 0, 0, 0, 0, 0, 0, 0, 0, 0, 0, 1, 0,\n",
       "       1, 1, 0, 0, 0, 0, 0, 0, 0, 0, 0, 0, 0, 0, 0, 0, 0, 0, 0, 0, 0, 0,\n",
       "       0, 0, 0, 0, 0, 0, 0, 0, 0, 0, 0, 1, 0, 0, 0], dtype=int64),\n",
       "       array([0, 0, 0, 0, 0, 0, 0, 0, 0, 0, 0, 0, 0, 0, 0, 0, 0, 0, 0, 0, 0, 0,\n",
       "       0, 0, 0, 0, 0, 0, 0, 0, 0, 0, 0, 0, 0, 0, 0, 0, 1, 0, 0, 0, 0, 0,\n",
       "       0, 0, 0, 0, 0, 0, 0, 0, 0, 0, 0, 0, 0, 0, 1, 0, 0, 1], dtype=int64),\n",
       "       array([0, 0, 0, 0, 0, 0, 0, 0, 0, 0, 1, 0, 0, 1, 0, 1, 0, 0, 0, 0, 0, 0,\n",
       "       0, 0, 0, 1, 0, 0, 0, 0, 1, 0, 0, 0, 0, 0], dtype=int64),\n",
       "       array([0, 0, 1, 0, 0, 0, 0, 0, 0, 0, 0, 0, 0, 0, 0, 0, 0, 0, 0, 0, 0, 0,\n",
       "       0, 0], dtype=int64),\n",
       "       array([0, 0, 0, 0, 0, 0, 0, 0, 0, 0, 0, 0, 0, 0, 0, 0, 0, 0, 0, 0, 0, 0,\n",
       "       0, 0, 0, 1, 0, 0, 0, 0, 0, 0, 0, 0, 0, 0, 0, 0, 0, 0, 0, 0, 0, 0,\n",
       "       0, 0, 0, 0, 0, 0, 0], dtype=int64),\n",
       "       array([0, 0, 1, 0, 0, 0, 0, 1, 0, 0, 0, 1, 0, 0, 0, 0, 0, 0, 0, 0, 0, 0,\n",
       "       0, 0, 0, 1, 1, 0, 1, 0, 0, 0, 0, 0, 1, 0, 1, 0, 0, 0, 0, 0, 0, 0,\n",
       "       0, 0, 0, 0, 0, 0], dtype=int64),\n",
       "       array([0, 0, 0, 0, 0, 0, 0, 0, 0, 0, 0, 0, 0, 1, 1, 0, 0, 0, 1, 0, 0, 0,\n",
       "       0, 1, 1, 1, 2, 0, 0, 0, 0, 0, 0, 1, 0, 0, 0, 0, 0, 0, 1, 0, 0, 1,\n",
       "       0, 0, 0, 0, 0, 0], dtype=int64),\n",
       "       array([0, 0, 0, 0, 0, 1, 1, 0, 0, 0, 0, 4, 0, 0, 0, 0, 0, 0, 0, 0, 0, 1,\n",
       "       0, 1, 2, 0, 0, 0, 0, 0, 0, 0, 0, 0, 1, 1, 2, 2, 2, 0, 0, 1, 0, 0,\n",
       "       2, 0, 0, 0, 0, 1, 1, 2, 1], dtype=int64),\n",
       "       array([2, 1, 2, 2, 0, 2, 1, 3, 0, 0, 2, 0, 1, 0, 0, 0, 0, 1, 0, 0, 0, 0,\n",
       "       0, 0, 0, 1, 0, 2, 0, 0, 1, 0, 2, 1, 0, 0, 1, 2, 0, 1, 0, 1, 0, 0,\n",
       "       1, 0, 1, 0, 0, 0, 0, 0, 0, 0, 0], dtype=int64),\n",
       "       array([0, 0, 0, 0, 0, 0, 0, 0, 0, 0, 0, 0, 0, 0, 0, 0, 0, 0, 0, 0, 0, 0,\n",
       "       0, 0, 0, 0, 0, 0, 0, 0, 0, 0, 0, 0, 0], dtype=int64),\n",
       "       array([3, 1, 1, 3, 3, 2, 2, 0, 4, 1, 2, 0, 1, 1, 2, 0, 2, 1, 2, 0, 4, 0,\n",
       "       1, 4, 1, 1, 1, 1, 1, 1, 2, 2, 2, 1, 1, 2, 2, 1, 1, 1, 2, 1, 0, 0,\n",
       "       0, 1, 0, 2, 3, 0, 0, 1], dtype=int64),\n",
       "       array([0, 0, 2, 0, 1, 0, 0, 1, 0, 0, 3, 0, 0, 0, 0, 2, 1, 0, 0, 0, 0, 0,\n",
       "       1, 1, 0, 0, 1, 1, 2, 0, 1, 0, 1, 0, 0, 0, 1, 1, 0, 0, 2, 2, 0, 0,\n",
       "       0, 1, 0, 1, 1, 0, 1], dtype=int64),\n",
       "       array([2, 4, 3, 2, 0, 0, 1, 1, 2, 1, 2, 1, 1, 2, 0, 1, 2, 3, 1, 2, 0, 1,\n",
       "       0, 0, 0, 2, 1, 2, 1, 2, 0, 2, 1, 1, 2, 2, 1, 1, 2, 1, 1, 3, 1, 1,\n",
       "       1, 0, 0, 1, 2, 0, 1], dtype=int64),\n",
       "       array([0, 0, 0, 0, 0, 0, 0, 0, 0, 0, 0, 0, 0, 1, 0, 0, 0, 0, 0, 0, 0, 0,\n",
       "       0, 1, 0, 0, 0, 0, 0, 0, 0, 0, 0, 0, 0, 0, 0, 0, 0, 0, 0, 0, 0, 0,\n",
       "       0, 0, 0, 0, 0, 0, 0, 0, 2, 0, 1, 0, 1], dtype=int64),\n",
       "       array([0, 0, 0, 0, 0, 0, 0, 0, 0, 0, 0, 0, 2, 0, 0, 0, 0, 1, 0, 0, 0, 0,\n",
       "       0, 0, 0, 1, 1, 0, 0, 1, 0, 0, 0, 4, 0, 0, 1, 0, 2, 1, 1, 0, 0, 0,\n",
       "       0], dtype=int64),\n",
       "       array([0, 0, 0, 1, 0, 0, 1, 0, 0, 0, 0, 0, 0, 1, 0, 0, 0, 1, 0, 0, 0, 0,\n",
       "       0, 0, 0, 1, 1, 1, 0, 0, 0, 0, 1, 0, 0, 0, 0, 0, 0, 0, 0, 0],\n",
       "      dtype=int64),\n",
       "       array([2, 0, 2, 2, 2, 0, 0, 2, 3, 1, 1, 2, 0, 0, 1, 3, 4, 0, 3, 2, 0, 2,\n",
       "       1, 2, 1, 1, 2, 0, 1, 0, 1, 0, 0, 1, 0, 0, 1, 0, 0, 2, 1, 0, 1, 1,\n",
       "       2, 3, 0, 1, 0, 0, 3, 0, 1, 1, 0, 1, 0, 1, 1, 0, 4, 0, 0, 0, 0, 0,\n",
       "       0, 0, 1, 1, 0, 0, 0, 1, 2, 0], dtype=int64),\n",
       "       array([0, 0, 0, 1, 0, 1, 1, 0, 0, 0, 0, 0, 0, 0, 2, 1, 1, 0, 0, 0, 0, 0,\n",
       "       0, 0, 0, 0, 0, 0, 0, 0, 0, 0, 0, 0, 0, 1, 0, 0, 0, 0, 1, 0, 1, 1,\n",
       "       2, 0, 0, 0, 0, 0, 0, 0, 0, 0, 0, 1, 0, 1, 0, 0, 1], dtype=int64),\n",
       "       array([0, 0, 0, 0, 1, 0, 0, 0, 0, 0, 1, 1, 0, 0, 0, 0, 0, 0, 0, 0, 1, 0,\n",
       "       0, 0, 0, 0, 0, 0, 0, 0, 0, 0, 0, 0, 0, 0, 0, 0, 0, 0, 0, 1, 0, 0,\n",
       "       0, 0, 0, 0, 0, 0, 0, 0, 0, 0, 0, 0, 0, 0, 0, 0], dtype=int64),\n",
       "       array([0, 0, 0, 0, 0, 0, 0, 0, 0, 1, 1, 0, 0, 0, 0, 1, 0, 1, 0, 0, 0, 0,\n",
       "       0, 0, 0, 0, 0, 0, 0, 0, 0, 0, 0, 0, 0, 0, 1, 0, 0, 0, 0, 1, 2, 0],\n",
       "      dtype=int64),\n",
       "       array([0, 0, 0, 0, 0, 0, 1, 0, 0, 0, 0, 0, 0, 0, 0, 0, 1, 0, 0, 0, 0, 0,\n",
       "       0, 0, 0, 0, 0, 0, 0, 0, 0, 0, 0, 0, 0, 0, 0, 0, 0, 0, 0, 0, 0, 0,\n",
       "       0, 0, 0, 0], dtype=int64),\n",
       "       array([0, 0, 0, 0, 1, 0, 0, 0, 1, 0, 0, 0, 0, 0, 0, 0, 0, 0, 0, 0, 0, 0,\n",
       "       1, 0, 0, 0, 0, 0, 0, 0, 0, 0, 0, 1, 0, 1, 0, 0, 0, 0, 0, 0, 1, 0,\n",
       "       0, 1, 0, 0, 0], dtype=int64),\n",
       "       array([0, 0, 0, 0, 0, 0, 0, 0, 0, 0, 0, 0, 0, 0, 0, 0, 0, 0, 0, 0, 0, 0,\n",
       "       0, 0, 0, 0, 0, 0, 0, 0, 0, 0, 0, 0, 0, 0, 0, 0, 0, 0, 0, 0, 0],\n",
       "      dtype=int64),\n",
       "       array([0, 0, 0, 0, 0, 0, 0, 0, 0, 0, 0, 0, 0, 0, 0, 0, 0, 0, 0, 0, 0, 0,\n",
       "       0, 0, 0, 0, 0, 0, 0, 0, 0, 0, 0, 0, 0, 0, 0, 0, 0, 0, 0, 0, 0, 0,\n",
       "       0, 0, 0, 0, 0], dtype=int64),\n",
       "       array([0, 0, 0, 0, 0, 0, 0, 0, 0, 0, 0, 1, 0, 0, 0, 0, 0, 0, 2, 0, 0, 0,\n",
       "       0, 1, 1, 0, 0, 0, 1, 3, 0, 0, 0, 0, 1, 1, 0, 0, 1, 1, 1, 1, 2, 0,\n",
       "       1, 0, 1, 0, 0, 0, 0, 0, 0, 0, 0, 0, 0, 0, 0, 0, 0, 0, 1, 1, 1, 1,\n",
       "       1, 1, 0, 1, 0, 0, 0, 0, 0, 0, 0, 0, 0, 0, 0, 0, 0, 1, 0, 0, 0, 0,\n",
       "       0, 0, 0, 2, 0, 0, 0, 0, 0, 0, 0, 0, 0, 0, 0, 0, 0, 0, 0, 0, 0, 0,\n",
       "       0, 0, 0, 0, 0, 1, 0, 0, 0, 0, 0, 0, 1, 0, 3, 1, 2, 0], dtype=int64),\n",
       "       array([0, 0, 0, 1, 0, 0, 1, 1, 1, 0, 0, 1, 0, 0, 0, 0, 0, 0, 0, 0, 1, 4,\n",
       "       1, 1, 1, 1, 0, 0, 0, 0, 0, 0, 1, 0, 1, 0, 0, 2, 0, 0, 1, 1, 0, 1,\n",
       "       0, 0, 1, 0, 0, 1, 0, 0, 0, 0, 0, 0, 0, 0, 0, 0, 0, 0, 1, 0, 0, 0,\n",
       "       0, 0, 0, 0, 0, 0, 0, 0, 0, 0, 0, 0, 0, 0, 1, 0, 0, 0, 0, 0, 0, 0,\n",
       "       2, 0, 1, 0, 1, 1, 0, 0, 0, 0, 0, 0, 0, 1, 0, 1, 0, 0, 0, 1, 1, 0,\n",
       "       0, 1, 0, 0, 1, 2, 1, 2, 1, 3, 1, 2, 0, 3, 1, 1, 1, 1, 0, 2, 3, 2,\n",
       "       2, 1, 0, 0, 0, 0, 0, 0, 1, 1, 0, 1, 1, 0, 0, 0, 0, 0, 0, 0, 1, 0],\n",
       "      dtype=int64),\n",
       "       array([2, 0, 0, 0, 0, 0, 0, 0, 0, 0, 0, 0, 0, 0, 0, 0, 0, 0, 0, 0, 0, 1,\n",
       "       1, 1, 1, 1, 0, 0, 1, 2, 0, 0, 1, 0, 0, 2, 1, 0, 0, 1, 0, 0, 0, 1,\n",
       "       3, 2, 0, 0, 0, 1, 0, 0], dtype=int64),\n",
       "       array([0, 0, 1, 0, 0, 0, 0, 0, 0, 0, 0, 0, 0, 1, 0, 0, 0, 1, 0, 0, 0, 0,\n",
       "       0, 0, 0, 0, 0, 0, 0, 1, 0, 0, 0, 0, 0, 1, 0, 1, 0, 0, 1, 0, 0, 0,\n",
       "       0, 0, 0, 0, 0, 0, 0, 0, 0, 0], dtype=int64),\n",
       "       array([0, 0, 0, 0, 0, 0, 0, 0, 0, 0, 0, 0, 0, 1, 0, 0, 0, 0, 0, 1, 0, 0,\n",
       "       0, 0, 0, 1, 1, 0, 0, 0, 0, 0, 0, 0, 0, 0, 0, 0, 0, 0, 0, 0, 0, 0,\n",
       "       0, 0], dtype=int64),\n",
       "       array([1, 0, 0, 0, 0, 0, 0, 0, 0, 0, 2, 0, 0, 0, 0, 0, 1, 0, 0, 0, 0, 0,\n",
       "       0, 0, 0, 0, 1, 0, 1, 0, 0, 0, 1, 0, 0, 0, 0, 0, 0, 0, 1, 0, 0, 0,\n",
       "       1, 0, 0, 0, 0, 0, 1, 0], dtype=int64),\n",
       "       array([1, 0, 0, 0, 0, 0, 0, 0, 0, 1, 0, 0, 1, 0, 0, 0, 0, 4, 0, 0, 2, 0,\n",
       "       1, 0, 0, 0, 0, 0], dtype=int64),\n",
       "       array([1, 0, 0, 3, 0, 1, 0, 0, 0, 0, 0, 1, 0, 0, 1, 0, 1, 0, 0, 2, 0, 2,\n",
       "       0, 0, 1, 4, 0, 1, 0, 0, 1, 0, 0, 1, 0, 0, 0, 0, 0, 0, 0, 0, 0, 0,\n",
       "       0, 0, 0, 0, 0, 0, 0, 0, 0, 0, 0, 0, 0, 0, 0], dtype=int64),\n",
       "       array([0, 0, 0, 0, 0, 0, 0, 0, 0, 0, 0, 0, 0, 0, 0, 0], dtype=int64),\n",
       "       array([0, 1, 1, 4, 0, 1, 3, 0, 2, 1, 2, 1, 0, 0, 0, 0, 1, 0, 3, 0, 0, 3,\n",
       "       0, 1, 0, 0, 0, 0, 0, 0, 0, 0, 0, 0, 0, 0, 0, 0, 0, 0, 1, 1, 0, 0,\n",
       "       0, 0, 0, 0, 0, 0, 0, 0, 0, 1, 0, 0, 1, 1, 0, 0, 0, 0, 0, 1, 0, 2,\n",
       "       2, 1, 4, 3, 2, 0, 0, 0, 2, 0, 0, 0, 0, 0, 0, 0, 0, 0, 0, 0, 0, 0,\n",
       "       0, 0, 0, 0, 0, 0, 0, 0, 0, 0, 0, 0, 0, 0, 0, 0, 0, 0, 0, 0, 0, 0,\n",
       "       0, 0, 0, 0, 0, 0, 0, 0], dtype=int64),\n",
       "       array([0, 2, 0, 1, 0, 0, 0, 1, 2, 0, 3, 0, 0, 0, 0, 2, 1, 1, 1, 0, 0, 2,\n",
       "       2, 1, 0, 0, 0, 0, 0, 0, 1, 0, 2, 0, 2, 0, 0, 3], dtype=int64),\n",
       "       array([3, 3, 2, 1, 1, 1, 0, 0, 2, 0, 1, 1, 0, 2, 0, 2, 0, 1, 1, 0, 1, 0,\n",
       "       1, 3, 5, 2, 1, 4, 0, 0, 1, 0, 2, 1, 2, 0, 2], dtype=int64),\n",
       "       array([1, 5, 0, 4, 3, 1, 1, 2, 1, 2, 3, 0, 2, 1, 2, 8, 1], dtype=int64),\n",
       "       array([1, 1, 2, 0, 2, 2, 0, 1, 2, 2, 3, 1, 0, 1, 0, 0, 1, 3, 1, 1, 1, 2,\n",
       "       1, 1, 0, 0, 0, 1, 2, 0, 1, 0, 0, 2, 1, 0, 0, 1, 0, 1, 1, 1, 2, 2,\n",
       "       1, 2, 1, 1], dtype=int64),\n",
       "       array([0, 0, 0, 2, 1, 1, 0, 0, 0, 1, 0, 0, 0, 1, 2, 2, 2, 1, 2, 0, 0, 0,\n",
       "       0, 1, 0, 1, 0, 1, 2, 0, 1, 1, 0, 1, 0, 1, 0, 0, 0, 0, 0, 0, 0, 0,\n",
       "       0, 0], dtype=int64),\n",
       "       array([0, 0], dtype=int64),\n",
       "       array([0, 0, 0, 0, 1, 1, 0, 0, 0, 0, 0, 0, 0, 0, 0, 0, 0, 1, 0, 0, 0, 1,\n",
       "       0, 1, 0, 0, 0], dtype=int64),\n",
       "       array([0, 0, 0, 0, 0, 0, 0, 0, 0, 0], dtype=int64),\n",
       "       array([0, 0, 0, 1, 4, 0, 0, 0, 0, 1, 0, 0, 0, 0, 0, 0, 0, 0, 1, 0, 0, 2,\n",
       "       1, 0, 0, 0, 0, 0, 0, 0, 2, 1, 0, 0, 1, 1, 2, 2, 0, 0, 0],\n",
       "      dtype=int64),\n",
       "       array([0, 0, 2, 1, 0, 0, 1, 2, 0, 0, 1, 1, 0, 1, 0, 1, 1, 0, 0, 0, 0, 0,\n",
       "       0, 0, 0, 0, 0, 0, 0, 0, 0, 0, 0, 0, 0, 0, 0, 0, 0, 0, 0, 0, 2, 0,\n",
       "       1, 0], dtype=int64),\n",
       "       array([3, 0, 0, 0, 0, 0, 0, 0, 0, 0, 0, 0, 1, 0, 0, 1, 0, 1, 1, 0, 0, 0,\n",
       "       0, 0], dtype=int64),\n",
       "       array([2, 0, 0, 0, 2, 1, 1, 0, 0, 0, 0, 0, 1, 0, 0, 0, 0, 0, 2, 0, 0, 0,\n",
       "       0, 1, 1, 0, 3, 2, 1, 0, 0, 0, 0, 0, 0, 0, 1, 1, 0, 0, 0, 1, 1],\n",
       "      dtype=int64),\n",
       "       array([ 3,  5,  6,  1,  9,  9, 12,  7, 17,  7,  3,  6,  4,  3, 14,  8, 13,\n",
       "       10,  4,  9,  8,  4,  3,  3,  3,  3,  8,  5,  3,  6,  6,  5,  2,  4,\n",
       "        4,  6,  6,  9, 11,  1,  5,  0,  1,  2,  5,  6], dtype=int64),\n",
       "       array([0, 0, 0, 0, 0, 0, 0, 0, 0, 0, 0, 0, 0, 0, 0, 0, 0, 0, 0, 0, 0, 0,\n",
       "       0, 0, 0, 1, 0, 1, 0, 0, 1, 0, 0, 0, 0, 0, 0, 0, 0, 0, 0, 0, 1, 0,\n",
       "       0, 1, 0, 0, 1, 0, 0, 0], dtype=int64),\n",
       "       array([1, 0, 0, 0, 0, 0, 0, 0, 0, 0, 0, 0, 0, 0, 0, 0, 0, 0, 0, 0, 0, 0,\n",
       "       0, 0, 0, 0, 0, 0, 0, 0, 1, 0, 0, 0, 0, 0, 0, 0, 0, 0, 0, 0, 0, 0,\n",
       "       0, 0, 0, 0, 0, 0, 0, 0, 0], dtype=int64),\n",
       "       array([0, 1, 2, 1, 1, 0, 3, 1, 0, 3, 0, 1, 1, 0, 3, 2, 8, 0, 0, 0, 0, 2,\n",
       "       0, 2, 0, 0, 0, 1, 1, 1, 1, 2, 1, 0, 0, 3, 0, 0, 0, 0, 1, 0, 0, 2,\n",
       "       3, 0, 0, 1, 1, 0, 0], dtype=int64),\n",
       "       array([2, 1, 5, 2, 5, 1, 2, 3, 0, 1, 0, 0, 0, 0, 4, 1, 0, 1, 1, 1, 0, 3,\n",
       "       0, 1, 2, 1, 0, 2, 2, 4, 1, 1, 4, 0, 1, 1, 2, 0, 1, 4, 2, 1, 0, 0,\n",
       "       0, 0], dtype=int64),\n",
       "       array([0, 0, 0, 0, 0, 0, 0, 0, 0, 0, 0, 0, 0, 0, 0, 0, 0, 0, 0, 0, 0, 0,\n",
       "       0, 0, 0, 0, 0, 0, 0, 0, 0, 0, 0, 0, 0, 0, 0, 0, 0, 0, 0, 0, 0, 0],\n",
       "      dtype=int64),\n",
       "       array([0, 0, 0, 0, 0, 0, 0, 0, 0, 0, 0, 0, 0, 0, 0, 0, 0, 0, 0, 0, 0, 0,\n",
       "       0, 0, 0, 0, 0, 0, 0, 0, 0, 0, 0, 0, 0, 0, 0, 0, 0, 0, 0, 0, 0, 0,\n",
       "       0, 0, 0, 0, 0, 0, 0], dtype=int64),\n",
       "       array([0, 0, 1, 0, 0, 0, 0, 0, 0, 0, 0, 0, 0, 4, 0, 0, 0, 0, 0, 0, 0, 0,\n",
       "       0, 1, 4, 0, 0, 0, 0, 0, 1, 0, 0, 0], dtype=int64),\n",
       "       array([0, 0, 1, 0, 1, 0, 0, 0, 0, 0, 0, 0, 0, 0, 0, 0, 0, 2, 1, 0, 0, 1,\n",
       "       0, 0, 0, 0, 0, 0, 0, 1, 0, 0, 0, 0, 0, 0, 0, 0, 0, 0, 0, 0, 0, 0,\n",
       "       1, 0, 0, 0, 0, 1, 0], dtype=int64),\n",
       "       array([1, 0, 0, 0, 1, 0, 2, 0, 0, 0, 0, 0, 0, 1, 1, 0, 2, 1, 0, 1, 0, 1,\n",
       "       0, 0, 0, 1, 0, 1, 1, 0, 1, 1, 2, 0], dtype=int64),\n",
       "       array([1, 0, 0, 1, 0, 1, 0, 1, 0, 1, 0, 0, 0, 1, 0, 0], dtype=int64),\n",
       "       array([2, 0, 0, 1, 0, 1, 1, 2, 1, 0, 0, 1, 1, 2, 0, 1, 1, 0, 1, 2, 2, 0,\n",
       "       1, 0, 0, 1, 0, 0, 0, 1, 0, 0, 1, 1, 0, 0, 1, 0, 0, 0, 0, 0, 0, 1,\n",
       "       0, 0, 1, 1, 1, 0, 1, 1, 0, 0, 2, 1, 1, 0, 0, 1, 0], dtype=int64),\n",
       "       array([0, 4, 2, 2, 1, 0, 1, 1, 3, 0, 1, 0, 2, 1, 0, 0, 4, 1, 0, 2, 1, 0,\n",
       "       4, 6, 1, 1, 2, 0, 1, 3, 0, 1, 2, 1, 0, 1, 0, 1, 0, 4, 1, 1, 2, 1,\n",
       "       2, 3, 4], dtype=int64),\n",
       "       array([0, 0, 0, 0, 0, 0, 0, 0, 0, 0, 0, 0, 0, 0, 0, 0, 0, 0, 0, 0, 0, 0,\n",
       "       0, 0, 0, 0, 0, 0, 0, 0, 0, 0, 0, 0, 0, 0, 0, 0, 0], dtype=int64),\n",
       "       array([0, 0, 0, 0, 0, 0, 0, 0, 0, 0, 0, 0, 0, 0, 0, 0, 0, 0, 0, 0, 0, 0,\n",
       "       0, 0, 0, 0, 0, 0, 0, 0, 0, 0, 0, 0, 0, 0, 0, 0, 0, 0, 0, 0, 0, 0,\n",
       "       0, 0, 0], dtype=int64),\n",
       "       array([1, 3, 0, 8, 2, 4, 4, 1, 1, 2, 2, 0, 6, 6, 3, 2, 2, 2, 4, 2, 0, 3,\n",
       "       2, 5, 1, 1, 3, 3, 2, 1, 2, 3, 4, 2, 5, 3, 2, 1, 1, 8, 2, 3, 4, 3,\n",
       "       3, 7, 5, 4, 2], dtype=int64),\n",
       "       array([1, 1, 7, 1, 1, 2, 1, 4, 1, 1, 3, 7, 1, 1, 2, 0, 0, 0, 0, 2, 0, 1,\n",
       "       3, 2, 2, 1, 3, 0, 1, 1, 1, 1, 0, 0, 0, 1, 1, 3, 2, 2, 3, 0, 2, 2,\n",
       "       0, 0, 5], dtype=int64),\n",
       "       array([9, 5, 2, 1, 2, 0, 2, 6, 1, 1, 6, 1, 2, 6, 2, 1, 1, 4, 2, 2, 2, 3,\n",
       "       6, 3, 4, 1, 3, 1, 4, 5, 2, 6, 4, 6, 4, 4, 6, 3, 7, 1, 3, 6, 3, 3,\n",
       "       5, 4], dtype=int64),\n",
       "       array([1, 2, 1, 2, 7, 3, 1, 3, 1, 0, 2, 0, 1, 2, 0, 2, 2, 2, 1, 1, 3, 1,\n",
       "       0, 1, 0, 1, 1, 2, 1, 1, 1, 1, 4, 3, 1, 0, 0, 4, 0, 0, 0, 2, 1, 1,\n",
       "       2, 3, 0], dtype=int64),\n",
       "       array([0, 0, 0, 0, 0, 0, 0, 0, 0, 0, 0, 0, 0, 0, 0, 0, 0, 0, 0, 0, 0, 0,\n",
       "       0, 0, 0, 0, 0, 0, 0, 0, 0, 0, 0, 0, 0, 0], dtype=int64),\n",
       "       array([0, 0, 0, 0, 0, 0, 0, 0, 0, 0, 0, 0, 0, 0, 0, 0, 0, 0, 0, 0, 0, 0,\n",
       "       0, 0, 0, 0, 0, 0, 0, 0, 0, 0, 0, 0], dtype=int64),\n",
       "       array([0, 0, 0, 0, 0, 0, 0, 0, 0, 0, 0, 1, 0, 1, 1, 1, 0, 0, 1, 0, 2, 0,\n",
       "       0, 0, 0, 3, 0, 0, 0, 0, 0, 0, 0, 0, 0, 0, 0, 0, 0, 1, 0, 0, 0, 0,\n",
       "       0, 2, 0, 0, 0, 0, 0, 0, 0], dtype=int64),\n",
       "       array([0, 0, 0, 0, 0, 0, 0, 0, 0, 0, 0, 0, 0, 0, 0, 0, 0, 0, 0, 0, 0],\n",
       "      dtype=int64),\n",
       "       array([0, 0, 0, 0, 0, 0, 0, 0, 0, 0, 0, 0, 0, 0, 0, 0, 0], dtype=int64),\n",
       "       array([0, 0, 0, 0, 0, 0, 0, 0, 0, 0, 0, 0, 0, 0, 0, 0, 0, 0, 0, 0, 0, 0,\n",
       "       0, 0, 0, 0, 0, 0, 0, 0, 0], dtype=int64),\n",
       "       array([0, 0, 0, 0, 0, 0, 0, 0, 0, 0, 0, 0, 0, 0, 0, 0, 0, 0, 0, 0, 0, 0,\n",
       "       0, 0, 0, 0, 0, 0, 0, 0, 0, 0, 0, 0, 0, 0, 0, 0, 0, 0, 0, 0, 0],\n",
       "      dtype=int64),\n",
       "       array([1, 0, 2, 4, 1, 1, 2, 5, 9, 0, 0, 0, 1, 0, 0, 0, 0, 0, 0, 0, 0, 1,\n",
       "       0, 0, 0, 0, 2, 0, 0, 0, 0, 0, 0, 1, 0, 2, 1, 0, 4, 0, 4, 0, 0, 0,\n",
       "       0, 0, 2, 2, 1, 1, 2, 2, 1, 2, 1, 6, 1, 0, 0, 0, 0, 1, 1, 1, 2, 0,\n",
       "       0, 0, 0, 4, 0, 0, 0, 1, 1, 1, 0, 2, 4, 1, 1, 1, 2, 2, 2, 5],\n",
       "      dtype=int64),\n",
       "       array([0, 0, 0, 0, 0, 0, 0, 0, 0, 0, 0, 0, 0], dtype=int64),\n",
       "       array([0, 0, 0, 0, 0, 0, 0, 0, 0, 0, 0, 0, 0, 0, 0, 0, 0, 0, 0, 0, 0, 0,\n",
       "       0, 0, 0, 0, 0, 0, 0, 1, 0, 0, 0, 0, 0, 0, 0, 0, 0, 0, 0, 0, 0],\n",
       "      dtype=int64),\n",
       "       array([2, 7, 2, 5, 4, 3, 2, 1, 2, 1, 3, 4, 0, 0, 1, 0, 2, 2, 2, 3, 4, 7,\n",
       "       3, 5, 2, 5, 4, 8, 2, 3, 0, 2, 2, 2, 2, 1, 2, 4, 2], dtype=int64),\n",
       "       array([2, 5, 1, 2, 5, 3, 3, 5, 4, 3, 2, 2, 2, 2, 4, 2, 5, 5, 2, 0, 2, 2,\n",
       "       2, 3, 3, 2, 2, 3, 3, 2, 4, 4, 0, 3, 1, 2, 2, 3, 3, 1], dtype=int64),\n",
       "       array([2, 2, 7, 6, 1, 2, 0, 2, 2, 1, 2, 4, 2, 3, 4, 1, 4, 7, 1, 0, 1, 3,\n",
       "       0, 1, 2, 1, 1, 2, 2, 3, 1, 4, 0, 0, 1, 1, 1, 1, 3, 2], dtype=int64),\n",
       "       array([3, 1, 2, 2, 2, 1, 2, 1, 1, 0, 1, 0, 0, 1, 0, 0, 0, 0, 1, 1, 1, 2,\n",
       "       1, 2, 1, 2, 1, 1, 2, 4, 1, 3, 1, 1, 1, 0, 0, 1, 2, 0, 1],\n",
       "      dtype=int64),\n",
       "       array([2, 4, 4, 0, 4, 1, 1, 2, 0, 2, 1, 1, 1, 0, 1, 2, 2, 1, 1, 1, 1, 1,\n",
       "       4, 3, 2, 3, 1, 2, 6, 5, 4, 2, 1, 1, 1], dtype=int64),\n",
       "       array([ 5,  9,  4,  2,  3,  0,  6,  4,  4,  5,  3, 11,  3,  3,  1,  2,  5,\n",
       "        3,  6,  6,  9,  6,  3,  4,  3,  2,  3,  6,  6,  2,  2,  7,  3,  5,\n",
       "        3,  3,  4,  3,  6], dtype=int64),\n",
       "       array([0, 3, 2, 1, 1, 3, 1, 1, 1, 2, 1, 1, 0, 0, 1, 1, 2, 1, 1, 4, 1, 2,\n",
       "       2, 2, 0, 4, 2, 2, 2, 1, 0, 0, 1, 0, 1, 1, 1, 1, 2, 1], dtype=int64),\n",
       "       array([0, 1, 4, 1, 2, 0, 1, 1, 2, 1, 1, 2, 3, 0, 0, 3, 2, 1, 1, 1, 2, 4,\n",
       "       2, 1, 1, 2, 1, 2, 4, 4, 1, 2, 5, 2, 0, 4, 2, 5, 1], dtype=int64),\n",
       "       array([1, 2, 1, 1, 3, 3, 0, 5, 4, 2, 3, 2, 1, 0, 2, 2, 1, 1, 2, 5, 2, 1,\n",
       "       0, 4, 3, 1, 3, 2, 2, 2, 1, 4, 4, 1], dtype=int64),\n",
       "       array([ 2,  3,  3,  4,  2,  4,  5,  3,  3,  6,  6,  4,  3, 11,  5,  3,  6,\n",
       "        4,  3,  2,  2,  3,  4,  1,  0,  0,  3,  1,  2,  2,  4,  5,  5,  3,\n",
       "        7,  3,  3,  1], dtype=int64),\n",
       "       array([10, 10,  5,  5, 12,  7,  6,  0,  4,  2,  7,  4,  2,  6,  4,  8,  4,\n",
       "        7,  5,  3,  3,  2,  6,  4,  3,  3,  2,  8,  2,  6,  2,  4,  6,  4,\n",
       "        6,  4], dtype=int64),\n",
       "       array([1, 2, 1, 2, 1, 2, 4, 1, 2, 5, 1, 1, 3, 2, 0, 2, 0, 2, 3, 2, 0, 0,\n",
       "       1, 1, 1, 1, 1, 0, 1, 1, 2], dtype=int64),\n",
       "       array([3, 3, 2, 2, 2, 1, 2, 2, 1, 1, 2, 2, 2, 1, 0, 1, 2, 2, 3, 2, 2, 2,\n",
       "       1, 1, 2, 1, 0, 0, 1, 0, 0, 1, 3, 1, 1, 1, 1, 1, 1], dtype=int64),\n",
       "       array([0, 1, 0, 1, 1, 0, 0, 0, 0, 1, 0, 0, 0, 0, 0, 0, 0, 2, 4, 1, 3, 0,\n",
       "       0, 0, 0, 1, 2, 0, 0, 0, 0, 0, 2, 1, 0, 1, 0, 0, 0, 0, 2, 0, 1, 0,\n",
       "       1, 1, 1, 3, 0], dtype=int64),\n",
       "       array([1, 0, 0, 0, 0, 0, 0, 0, 0, 0, 0, 0, 1, 0, 0, 0, 0, 1, 0, 0, 0, 0,\n",
       "       0, 0, 0, 0, 0, 0, 0, 1, 0, 0, 1, 0, 0, 0, 0, 1, 0, 0, 1, 0, 0, 0,\n",
       "       0, 0, 0, 0, 0], dtype=int64),\n",
       "       array([2, 1, 2, 1, 3, 1, 9, 0, 0, 1, 2, 2, 1, 4, 1, 1, 1, 3, 1, 2, 0, 2,\n",
       "       2, 2, 2, 0, 1, 2, 1, 2, 5, 1, 2, 1, 1, 2, 1, 1, 3, 1], dtype=int64),\n",
       "       array([0, 0, 0, 0, 0, 1, 1, 0, 0, 0, 0, 0, 0, 1, 0, 1, 1, 0, 0, 1, 0, 2,\n",
       "       0, 2, 0, 0, 1, 0, 0], dtype=int64),\n",
       "       array([1, 0, 0, 1, 1, 0, 1, 1, 0, 1, 2, 0, 0, 0, 0, 0, 0, 1, 0, 0, 0, 0,\n",
       "       0, 0], dtype=int64),\n",
       "       array([0, 1, 1, 1, 2, 0, 1, 1, 2, 1, 0, 1, 1], dtype=int64),\n",
       "       array([0, 0, 0, 0, 2, 0, 1, 0, 0, 2, 1, 0, 1, 1, 1, 1, 0, 0, 0, 1, 0, 0,\n",
       "       0, 0, 0, 0, 0, 0, 1, 0, 1, 0, 0, 2, 0, 0, 2, 0, 0], dtype=int64),\n",
       "       array([0, 0, 0, 1, 0, 0, 0, 0, 0, 1, 2, 0, 0, 0, 1, 0, 0, 0, 0, 1, 0, 1,\n",
       "       1, 0, 0, 0, 0, 2, 0, 0, 0, 1, 0, 1, 1, 0, 0, 1], dtype=int64),\n",
       "       array([0, 0, 0, 0, 1, 0, 0, 0, 0, 0, 0, 0, 0, 0, 0, 0, 0, 0, 0, 0, 0, 1,\n",
       "       0, 0, 0, 0, 0, 0, 0, 1, 0, 0, 1, 1, 0, 0, 0, 0, 2], dtype=int64),\n",
       "       array([0, 0, 1, 0], dtype=int64),\n",
       "       array([0, 1, 0, 0, 0, 0, 0, 0, 0, 0, 0, 0, 0, 1, 0, 0, 0, 1, 0, 0, 1, 0,\n",
       "       0, 0, 0, 1, 0, 0, 0, 0, 0, 1, 0, 0, 0, 0, 0, 1, 0, 1, 0, 0, 0, 1,\n",
       "       0, 0, 0, 0, 0], dtype=int64),\n",
       "       array([0, 0, 0, 0, 0, 0, 0, 0, 0, 0, 0, 0, 0, 0, 0, 0, 0, 0, 0, 0, 0, 0,\n",
       "       0, 0, 0, 0, 0, 0, 0, 0, 0, 0, 0], dtype=int64),\n",
       "       array([0, 0, 0, 0, 1, 0, 0, 0, 0, 0, 0, 0, 0, 0, 0, 0, 0, 0, 0, 0, 0, 0,\n",
       "       0, 1, 0, 0, 0, 0, 0], dtype=int64),\n",
       "       array([1, 1, 0, 1, 0, 0, 1, 0, 1, 0, 1, 1, 0, 1, 1, 0, 0, 0, 0, 0, 0, 1,\n",
       "       0, 0, 0, 0, 0, 0], dtype=int64),\n",
       "       array([0, 0, 0, 1, 0, 0, 1, 0, 0, 0, 0, 0, 0, 2, 1, 0, 0, 0, 0, 0],\n",
       "      dtype=int64),\n",
       "       array([1, 0, 1, 3, 1, 2, 0, 0, 1, 0, 1, 0, 0, 0, 0, 0, 0, 0, 1, 1, 0, 1,\n",
       "       0], dtype=int64),\n",
       "       array([4, 3, 2, 3, 1, 0, 1, 0, 1], dtype=int64),\n",
       "       array([1, 1, 7, 3, 5, 1, 2, 2, 1, 5, 4, 1, 3, 1, 1, 0, 0, 2, 0, 1, 1, 0,\n",
       "       0, 1, 1, 0, 2, 3, 2, 2, 2, 6, 1, 4, 2, 3, 2, 0, 2, 7], dtype=int64),\n",
       "       array([1, 1, 0, 1, 2, 1, 0, 0, 0, 1, 1, 0, 0, 0, 1, 0, 0, 0, 0, 1, 1, 1,\n",
       "       1, 1, 1, 1, 1, 0, 1, 0, 0, 0, 1, 0, 1, 0, 3, 1, 0, 1, 4, 1, 0, 2,\n",
       "       1, 1, 1, 0, 1, 0], dtype=int64),\n",
       "       array([4, 2, 1, 1, 2, 3, 2, 1, 3, 2, 1, 1, 3, 1, 3, 3, 2, 1, 2, 1, 2, 0,\n",
       "       2, 1, 4, 2, 1, 1, 2, 1, 1, 1, 1, 1, 2, 1, 1, 0, 1, 5], dtype=int64),\n",
       "       array([0, 0, 0, 0, 0, 0, 0, 0, 0, 0, 0, 0, 0, 0, 1, 1], dtype=int64),\n",
       "       array([1, 1, 0, 0, 1, 0, 1, 0, 1, 0, 1, 0, 0, 0, 3, 0, 0, 0, 0, 0, 0, 0,\n",
       "       0, 0, 0, 0, 0, 1, 1, 0, 1, 0, 0, 1, 0, 0, 0, 0, 0, 0, 0, 0, 0, 2,\n",
       "       0, 0], dtype=int64),\n",
       "       array([0, 1, 0, 0, 0, 0, 0, 0, 0, 1, 0, 0, 0, 1, 0, 0, 0, 0, 4, 0, 0, 0,\n",
       "       0, 1, 0, 0, 1, 0, 0, 0, 0, 0, 0, 1, 0, 0, 0, 0, 0, 0, 0, 0, 0, 0,\n",
       "       0, 0, 0, 0, 0, 0, 0, 0], dtype=int64),\n",
       "       array([1, 1, 2, 3, 0, 0, 1, 0, 2, 0, 1, 1, 1, 0, 0, 1, 0, 0, 1, 0, 1, 0,\n",
       "       0, 0, 2, 0, 0, 0, 1, 0, 1, 2, 0, 2, 2, 2, 1, 3], dtype=int64),\n",
       "       array([0, 2, 2, 3, 1, 1, 1, 1, 0, 1, 1, 3, 5, 0, 2, 1, 2, 2, 1, 2, 2, 1,\n",
       "       2, 3, 1, 0, 2, 1, 2, 1, 1, 3, 0, 0, 0, 2, 2, 1, 2, 5, 1, 8, 3],\n",
       "      dtype=int64),\n",
       "       array([0, 0, 0, 0, 0, 0, 0, 0, 0, 0, 0, 0, 0, 0, 0, 0, 0, 0, 0, 0, 0, 0,\n",
       "       0, 0, 0, 0, 0, 0, 0, 0, 0, 0, 0, 0, 0, 0, 0, 0, 0, 0, 0, 0, 0, 0,\n",
       "       0, 0, 0, 0, 0], dtype=int64),\n",
       "       array([0, 0, 0, 0, 0, 0, 0, 0, 0, 0, 0, 0, 0, 0, 0, 0, 0, 0, 1, 0, 0, 0,\n",
       "       0, 0, 0, 0, 0, 0, 0, 0, 0, 0, 0, 0, 0, 0, 0, 0, 0, 0, 0, 0, 0, 0,\n",
       "       0, 0, 0, 0, 0, 0, 0], dtype=int64),\n",
       "       array([0, 1, 1, 0, 0, 0, 0, 0, 0, 0, 0, 1, 0, 0, 0, 0, 0, 0, 0, 0, 0, 0,\n",
       "       0, 0, 0, 1, 1, 0, 0, 0, 0, 0, 0, 0, 1, 0, 0, 0, 0, 0, 0, 0],\n",
       "      dtype=int64),\n",
       "       array([0, 1, 1, 0, 0, 0, 0, 1, 0, 0, 0, 1, 0, 1, 0, 0, 0, 0, 0, 0, 2, 1,\n",
       "       1, 0, 0, 0, 0, 1, 5, 0, 0, 1, 0, 1, 1, 0, 1, 1, 1, 2, 2, 1, 2, 0,\n",
       "       1, 1, 1, 3, 1, 1, 2], dtype=int64),\n",
       "       array([0, 0, 1, 0, 0, 0, 0, 0, 0, 0, 0, 0, 0, 0, 1, 0, 0, 2, 0, 0, 0, 0,\n",
       "       1, 2, 0, 0, 0, 0, 0, 1, 1, 1, 0, 0, 0, 0, 0, 0, 0, 0, 0, 0, 0, 0,\n",
       "       0, 1], dtype=int64),\n",
       "       array([1, 0, 0, 0, 0, 0, 0, 0, 0, 0, 0, 0, 0, 0, 1, 0, 0, 0, 0, 0, 0, 2,\n",
       "       0, 0, 0, 0, 0, 0, 0, 1, 1, 0, 0, 0, 1, 1, 0, 0, 0, 0, 0, 0, 1, 0,\n",
       "       0, 0, 0, 0, 0], dtype=int64),\n",
       "       array([2, 0, 0, 0, 1, 0, 1, 0, 1, 0, 1, 0, 0, 0, 0, 2, 0, 2, 1, 0, 0, 0,\n",
       "       1, 0, 0, 0, 0, 1, 1, 1, 0, 1, 0, 0, 0, 0, 1, 0, 0, 0, 0, 0, 0, 1,\n",
       "       3, 0, 0, 0, 1], dtype=int64),\n",
       "       array([0, 0, 0, 1, 1, 0, 0, 0, 3, 1, 4, 0, 2, 0, 5, 1, 1, 1, 0, 1, 0, 7,\n",
       "       3, 1, 0, 4, 2, 1, 2, 1, 3, 4, 2, 5, 0, 4, 0, 1, 3, 3, 2, 6, 8, 5,\n",
       "       2, 8, 5, 3, 2, 5], dtype=int64),\n",
       "       array([0, 2, 2, 2, 0, 0, 0, 0, 0, 2, 1, 0, 0, 0, 2, 0, 0, 0, 0, 0, 1, 3,\n",
       "       1, 5, 1, 1, 1, 0, 0, 0, 2, 3, 2, 0, 1, 0, 0, 1, 2, 0, 1, 0, 0, 0,\n",
       "       2, 0, 0, 0, 0, 7, 2, 0], dtype=int64),\n",
       "       array([6, 2, 2, 2, 2, 0, 1, 1, 2, 2, 1, 1, 1, 0, 1, 0, 2, 1, 3, 1, 1, 3,\n",
       "       0, 2, 0, 1, 0, 1], dtype=int64),\n",
       "       array([0, 1, 1, 0, 0, 1, 1, 1, 1, 1, 1, 0, 0, 0, 1, 0, 1, 0, 0, 1, 0, 0,\n",
       "       1, 0, 1, 1, 0, 0, 0, 0, 0, 0, 0, 1, 1], dtype=int64),\n",
       "       array([0, 0, 0, 0, 0, 0, 0, 0, 0, 0, 1, 0, 0, 0, 0, 0, 0, 0, 0, 0, 0, 0,\n",
       "       1, 0, 0, 0, 0, 0, 0, 0, 0, 1, 0, 0, 0, 0, 0, 0, 0, 0, 0, 0, 0, 0],\n",
       "      dtype=int64),\n",
       "       array([0, 0, 0, 0, 1, 0, 0, 0, 0, 0, 0, 0, 0, 0, 0, 1, 0, 0, 0, 0, 0, 0,\n",
       "       0, 0, 0, 0, 0, 0, 0, 0, 0, 0, 0, 1, 0, 0, 0, 0], dtype=int64),\n",
       "       array([0, 1, 3, 3, 2, 4, 1, 4, 7, 3, 1, 1], dtype=int64),\n",
       "       array([3, 1, 0, 0, 4, 1, 0, 1, 0, 1, 4, 3], dtype=int64),\n",
       "       array([1, 1, 4, 1, 2, 0, 0, 0, 2, 4, 7], dtype=int64),\n",
       "       array([3, 1, 4, 0, 2], dtype=int64),\n",
       "       array([2, 4, 4, 5, 6, 4, 3, 2, 2, 2, 2, 5, 2, 1, 2, 2, 5, 5, 1, 2, 6, 2,\n",
       "       1, 1, 3, 2, 1, 1, 6, 3, 3, 2, 0, 2, 1, 2, 4, 4, 2], dtype=int64),\n",
       "       array([ 4,  2,  4,  6,  2,  9,  4,  2, 11,  5,  6,  2,  1,  3, 10,  9,  2,\n",
       "        2,  4,  3,  6,  9,  2,  4,  5,  2,  2,  5,  1], dtype=int64),\n",
       "       array([ 6,  1,  2,  3,  3,  7,  5,  5,  4,  5, 13,  3,  4,  9],\n",
       "      dtype=int64),\n",
       "       array([ 4,  2, 11,  4,  8,  1, 10,  7,  5,  1,  4,  2], dtype=int64),\n",
       "       array([ 3,  2,  9,  8,  5,  9,  5,  6, 13,  6,  5,  4,  5,  4],\n",
       "      dtype=int64),\n",
       "       array([5, 1, 1, 2, 3, 2, 3, 2, 2, 1, 2, 1, 4, 3, 3, 6, 3, 3, 2, 1, 6, 3],\n",
       "      dtype=int64),\n",
       "       array([0, 1, 0, 0, 0, 0, 0, 0, 0, 0, 0, 0, 0, 0, 1, 1, 0, 2, 0, 0, 0, 0,\n",
       "       1, 1, 1, 0, 1, 1, 1, 0, 1, 0, 0, 0, 0, 1, 0, 0, 1, 0, 0, 0, 1, 0,\n",
       "       0, 0, 0, 0, 0, 0, 0, 1, 0, 0, 0, 1, 0, 2, 0, 0, 0, 0, 0],\n",
       "      dtype=int64),\n",
       "       array([0, 0, 0, 0, 0, 0, 0, 0, 0, 0, 1, 0, 0, 1, 2, 0, 0, 0, 1, 0],\n",
       "      dtype=int64),\n",
       "       array([0, 1, 0, 0, 0, 0, 0, 1, 0, 0, 0, 0, 0, 0, 0, 1, 0, 1, 0, 0, 0, 1,\n",
       "       1, 0, 0, 0, 0, 0, 0, 0, 1, 0, 0, 1, 0, 1, 0, 0, 0], dtype=int64),\n",
       "       array([0, 0, 0, 0, 0, 0, 0, 0, 0, 0, 0, 0, 0, 0, 0, 0, 0, 0, 0, 0, 0, 0,\n",
       "       0, 0, 0, 0, 0, 0, 0, 0, 0, 0, 0, 0, 0, 0, 0, 0, 0, 0, 0, 0],\n",
       "      dtype=int64),\n",
       "       array([0, 0, 0, 0, 0, 0, 0, 0, 0, 0, 0], dtype=int64),\n",
       "       array([0, 0, 0, 0, 0, 0, 0, 0, 0, 0, 0, 0, 0, 0, 0, 0, 0, 0, 0],\n",
       "      dtype=int64),\n",
       "       array([0, 0, 0, 0, 0, 0, 0, 0], dtype=int64),\n",
       "       array([0, 0, 0, 0, 0, 0, 0, 0, 0, 0, 0, 0, 0, 0, 0, 0, 0, 0, 0, 0, 0, 0,\n",
       "       0, 0, 0, 0, 0, 0, 0, 0, 0, 0, 0, 0, 0, 0, 0, 0, 0, 0, 0, 0],\n",
       "      dtype=int64),\n",
       "       array([0, 0, 1, 0, 1, 0, 0, 0, 0, 0, 0, 0, 1, 0, 1, 0, 1, 2, 0, 0, 0, 1,\n",
       "       0, 0, 1, 2, 1, 0, 0, 0, 0, 0, 1], dtype=int64),\n",
       "       array([0, 0, 0, 0, 0, 0, 0, 0, 0, 0, 0, 0, 0, 0, 0, 0, 0, 0, 0, 0, 0, 0,\n",
       "       0, 0, 0, 0, 0, 0, 0, 0, 0, 0, 0, 0, 0, 0, 0, 0, 0, 0], dtype=int64),\n",
       "       array([0, 0, 0, 0, 0, 0, 0, 0, 0, 0, 0, 0, 0, 0, 0, 0, 1, 0, 0, 0, 0, 0,\n",
       "       1, 0, 1, 0, 0, 0, 0, 0, 0, 0, 1, 0, 0, 0, 1, 1, 0, 0, 0, 0, 0, 0,\n",
       "       0, 0, 0, 0, 0, 0], dtype=int64),\n",
       "       array([0, 0, 0, 0, 0, 1, 0, 1, 0, 0, 0, 0, 1, 0, 0, 1, 0, 0, 0, 0, 0, 0,\n",
       "       0, 0, 0, 0, 0, 0, 1, 0, 0, 0, 0, 0, 0, 0, 4, 0], dtype=int64),\n",
       "       array([0, 0, 0, 1, 0, 0, 0, 0, 0, 0, 0, 0, 0, 0, 1, 0, 1, 0, 0, 1, 0, 0,\n",
       "       0, 0, 0, 0, 0, 0, 0, 0], dtype=int64),\n",
       "       array([0, 0, 0, 0, 0, 0, 0, 0, 0, 0, 0, 0, 0, 0, 0, 0, 0, 0, 0, 0, 0, 0,\n",
       "       0, 0, 0, 0, 0, 0, 0, 0, 0, 0, 0, 0, 0, 0, 0, 0, 0, 0], dtype=int64),\n",
       "       array([0, 0, 0, 0, 0, 0, 0, 0, 0, 0, 0, 0, 0, 0, 0, 0, 0, 0, 0, 0, 0, 0,\n",
       "       0, 0, 0, 0, 0, 0, 0, 0, 0, 0, 0, 0, 0], dtype=int64),\n",
       "       array([0, 0, 0, 0, 0, 0, 0, 0, 0, 0, 0, 0, 0, 0, 0, 0, 0, 0, 0, 0, 0, 0,\n",
       "       0, 0, 0, 0, 0, 0, 0, 0, 0, 0, 0, 0, 0, 0, 0, 0, 0, 0, 0, 0, 0, 0,\n",
       "       0], dtype=int64),\n",
       "       array([0, 0, 0, 0, 0, 0, 0, 0, 0, 0, 0, 0, 0, 0, 0, 0, 0, 0, 0, 0, 0, 0,\n",
       "       0, 0, 0, 0, 0, 0, 0, 0, 0, 0, 0, 0, 0, 0, 0, 0, 0, 0], dtype=int64),\n",
       "       array([0, 0, 0, 0, 0, 0, 0, 0, 0, 0, 0, 0, 0, 0, 0, 0, 0, 0, 0, 0, 0, 0,\n",
       "       0, 0, 0, 0, 0, 0, 0, 0, 0, 0, 0, 0, 0, 0, 0, 0, 0, 0, 0, 0, 0, 0,\n",
       "       0, 0, 0, 0, 0, 0, 0, 0, 0, 0, 0], dtype=int64),\n",
       "       array([0, 0, 0, 0, 0, 0, 0, 0, 0, 0, 0, 0, 0, 0, 0, 0, 0, 0, 0],\n",
       "      dtype=int64),\n",
       "       array([0, 0, 0, 0, 0, 0, 0, 0, 0, 0, 0, 0, 0, 0, 0, 0, 0, 0, 0, 0, 0, 0,\n",
       "       0, 0, 0, 0, 0, 0, 0, 0, 0, 0, 0, 0], dtype=int64),\n",
       "       array([0, 0, 0, 0, 0, 0, 0, 0, 0, 0, 0, 0, 0, 0, 0, 0, 0, 0, 0, 0, 0, 0,\n",
       "       0, 0, 0, 0, 0, 0, 0, 0, 0, 0, 0, 0, 0, 0, 0, 0, 0, 0, 0, 0, 0, 0],\n",
       "      dtype=int64),\n",
       "       array([0, 0, 0, 0, 0, 0, 0, 0, 0, 0, 0, 0, 0, 0, 0, 0, 0, 0, 0, 0, 0, 0,\n",
       "       0, 0, 0, 0, 0, 0, 0, 0, 0, 0, 0, 0, 0, 0, 0, 0, 0, 0, 0, 0, 0, 0,\n",
       "       0, 0, 0, 0, 0, 0, 0, 0, 0, 0, 0], dtype=int64),\n",
       "       array([0, 0, 0, 0, 0, 0, 0, 0, 0, 0, 0, 0, 0, 0, 0, 0, 0, 0, 0, 0, 0, 0,\n",
       "       0, 0, 0, 0, 0, 0, 0, 0, 0, 0, 0, 0, 0, 0, 0, 0, 0, 0, 0, 0, 0, 0,\n",
       "       0], dtype=int64),\n",
       "       array([0, 0, 0, 0, 0, 0, 0, 0, 0, 0, 0, 0, 0, 0, 0, 0, 0, 0, 0, 0, 0, 0,\n",
       "       0, 0, 0, 0, 0, 0, 0, 0, 0, 0], dtype=int64),\n",
       "       array([0, 0, 0, 0, 0, 0, 0, 0, 0, 0, 0, 0, 0, 0, 0, 0, 0], dtype=int64),\n",
       "       array([0, 0, 0, 0, 0, 0, 0, 0, 0, 0, 0, 0, 0, 0, 0, 0, 0, 0, 0, 0, 0, 0,\n",
       "       0, 0, 0, 0, 0, 0, 0, 0, 0, 0, 0, 1, 0, 0, 0, 0, 2, 0, 0, 1, 0, 0,\n",
       "       0, 0, 0, 0, 0, 0, 0], dtype=int64),\n",
       "       array([0, 0, 0, 0, 0, 1, 0, 1, 1, 0, 0, 0, 0, 0, 1, 0, 1, 0, 0],\n",
       "      dtype=int64),\n",
       "       array([0, 0, 0, 0, 0, 0, 0, 0, 0, 0, 0, 0, 0, 0, 0, 1, 0, 0, 0, 0, 0, 0,\n",
       "       0, 0, 0, 0], dtype=int64),\n",
       "       array([0, 0, 0, 0, 0, 0, 0, 0, 1, 0], dtype=int64),\n",
       "       array([0, 0, 0, 0, 0, 1, 0, 0, 0, 0, 0, 0, 0, 0, 0, 0, 1, 0, 0, 0, 0, 0,\n",
       "       0, 0, 0, 0, 0, 0, 1, 0, 1, 0, 0, 0, 0, 1, 0, 0, 0, 0, 0, 0, 0, 0,\n",
       "       0, 0, 0, 0, 0, 0, 0], dtype=int64),\n",
       "       array([0, 0, 0, 0, 1, 0, 0, 0, 0, 0, 1, 0, 0, 1, 1, 0, 0, 0, 0],\n",
       "      dtype=int64),\n",
       "       array([0, 0, 0, 0, 0, 0, 1, 0, 1, 0, 0, 0, 0, 1, 0, 0, 0, 0, 0, 0, 0, 0,\n",
       "       0, 0, 1, 1, 0, 0, 0, 0, 0, 0, 0, 0, 0, 0, 0, 0, 0, 0, 0, 0, 0, 0,\n",
       "       0, 0, 1, 0, 0, 0, 0], dtype=int64),\n",
       "       array([0, 2, 0, 1, 1, 0, 0, 0, 0, 0, 0, 0, 0, 0, 0, 1, 1, 0], dtype=int64),\n",
       "       array([0, 0, 0, 0, 1, 0, 1, 1, 0, 0], dtype=int64),\n",
       "       array([1, 1, 0, 0, 0, 0, 0, 0, 0, 0, 1, 0, 0, 0, 1, 0, 0, 2, 0, 0, 0, 0,\n",
       "       0, 0, 0, 0, 0, 0, 2, 0, 1, 2, 1, 0, 0, 0, 0, 0, 1, 1, 0, 1, 0, 0,\n",
       "       0, 0, 1, 0, 2], dtype=int64),\n",
       "       array([0, 1, 0, 0, 0, 0, 0, 0, 0, 0, 0, 0, 0, 0, 0, 0, 0, 0, 0, 0, 1, 0,\n",
       "       3, 0, 0, 0, 0, 0, 0, 0, 0, 1, 0, 0, 0, 0, 0, 0, 0, 0, 0, 0, 1, 0,\n",
       "       0, 0, 0, 0, 0, 0], dtype=int64),\n",
       "       array([0, 0, 0, 0, 0, 0, 0, 0, 0, 0, 0, 0, 0, 0, 0, 0, 0, 0, 0, 0, 0, 0,\n",
       "       0, 0, 0, 0, 0, 0, 1, 0, 0, 2, 0, 0, 0, 0, 0, 1, 0, 0, 0, 0],\n",
       "      dtype=int64),\n",
       "       array([0, 0, 0, 0, 0, 0, 0, 0, 0, 0, 0, 0, 0, 0, 0, 0, 0, 0, 0, 0, 0, 0,\n",
       "       0, 0, 0, 0, 0, 0, 0, 0, 0, 0, 0, 0, 0, 0, 0, 0, 0, 0, 0, 0, 0, 0,\n",
       "       0, 0, 0, 0, 0, 0, 0, 0, 0, 0], dtype=int64),\n",
       "       array([5, 1, 1, 0, 0, 1, 0, 1, 0, 1, 1, 0, 2, 0, 1, 2, 2, 4, 0, 0, 0, 0,\n",
       "       1, 0, 0, 0, 1, 2, 0, 0, 3, 0, 0, 1, 0, 0, 0, 0, 0, 0, 0, 0, 1, 0,\n",
       "       0, 0, 0, 0], dtype=int64),\n",
       "       array([0, 0, 0, 2, 0, 0, 2, 0, 2, 1, 2, 1, 1, 1, 1, 1, 1, 1, 1, 0, 1, 1,\n",
       "       1, 0, 1, 1, 0, 1, 0, 1, 2, 0, 1, 0, 1, 0, 0, 0, 1, 2, 1, 1, 0, 1,\n",
       "       1, 0, 0, 1, 0], dtype=int64),\n",
       "       array([0, 0, 0, 1, 0, 0, 0, 0, 0, 0, 0, 0, 0, 0, 0, 0, 0, 0, 0, 0, 0, 0,\n",
       "       0, 1, 0, 0, 0, 0, 0, 0, 0, 0, 0, 0, 0, 0, 0, 0, 0, 0, 0, 0, 0, 0,\n",
       "       0, 0], dtype=int64),\n",
       "       array([0, 0, 1, 1, 0, 2, 0, 0, 1, 0, 1, 0, 1, 0, 0, 0, 1, 0, 0, 0, 1, 0,\n",
       "       0, 0, 0, 1, 0, 0, 1, 0, 0, 0, 0, 0, 0, 1, 0, 0, 1, 0, 0, 0, 1, 0,\n",
       "       0, 0, 0], dtype=int64),\n",
       "       array([1, 0, 0, 0, 0, 0, 0, 0, 3, 0, 1, 0, 0, 0, 0, 0, 1, 1, 0, 0, 0, 0,\n",
       "       0, 0, 0, 2, 0, 0, 0, 0, 0, 1, 0, 0, 0, 0, 0, 0, 0, 1, 0, 0, 0, 0,\n",
       "       0], dtype=int64),\n",
       "       array([1, 0, 0, 1, 0, 1, 1, 0, 0, 2, 0, 1, 0, 1, 0, 0, 0, 0, 0, 0, 2, 1,\n",
       "       1, 3, 0, 1, 0, 1, 0, 0, 2, 1, 3, 0, 1, 0, 0, 1, 1, 0, 1, 3, 1, 0,\n",
       "       1, 0, 1, 0, 0, 0, 1, 0, 0, 0, 0, 0, 0, 1, 0, 0, 2, 3, 0, 0],\n",
       "      dtype=int64),\n",
       "       array([0, 0, 0, 0, 1, 1, 1, 0, 2, 1, 1, 1, 0, 0, 0, 0, 0, 0, 0, 0, 1, 0,\n",
       "       1, 4, 2, 0, 0, 0, 2, 1, 2, 0, 0, 0, 0, 1, 0, 0, 0, 0, 0, 0, 0, 0,\n",
       "       0, 0, 0, 0, 0, 0, 0, 1, 0, 1, 2, 0, 0, 0, 0, 0, 0, 0, 0, 1, 1, 0,\n",
       "       1, 0, 0, 0, 0, 1, 2, 0, 0, 0, 0, 0, 2, 0, 0, 2, 1, 0, 0, 1, 1, 3,\n",
       "       1, 0, 0, 1, 0, 2, 0, 0, 0, 4, 1, 3, 0, 1, 0, 0, 0, 1, 0, 0, 0, 0,\n",
       "       0, 0, 1, 0, 1, 0, 1, 0, 0, 2, 0, 2, 0, 0, 2, 1, 0, 0, 0, 0, 0, 2,\n",
       "       0, 0, 0, 0, 4, 0, 0, 0, 0], dtype=int64),\n",
       "       array([0, 3, 1, 1, 0, 1, 2, 0, 0, 1, 1, 1, 2, 2, 1, 0, 0, 3, 0, 0, 1, 0,\n",
       "       0, 1, 0, 0, 3, 1, 2, 0, 3, 0, 1, 0, 0, 3, 0, 1, 3, 1, 0, 1, 2, 2,\n",
       "       0, 1, 3, 0, 0, 0, 0, 0, 0, 2, 1, 2, 3, 1, 0, 1, 1, 5, 1, 1, 0, 1,\n",
       "       1, 4, 0, 0, 0, 0, 0, 0, 0, 0, 0, 0, 0, 0, 0, 1, 0, 0, 0, 0, 0, 1,\n",
       "       0, 1, 0, 0, 0, 0, 0, 1, 0, 0, 0, 0, 0, 0, 0, 0, 1, 0, 0, 0, 0, 0,\n",
       "       0, 0, 1, 1, 0, 1, 0, 0], dtype=int64),\n",
       "       array([0, 0, 0, 0, 0, 2, 1, 0, 2, 1, 0, 0, 1, 0, 0, 3, 1, 3, 0, 0, 0],\n",
       "      dtype=int64),\n",
       "       array([2, 1, 1, 1, 0, 1, 1, 1, 1, 2], dtype=int64),\n",
       "       array([0, 0, 0, 0, 1, 0, 0, 0, 2, 1, 0, 0, 2, 0, 0, 1, 1, 0], dtype=int64),\n",
       "       array([0, 1, 0, 1, 0, 0, 0, 1, 0, 1, 0, 1, 2, 0, 3, 1, 2, 1, 0, 1],\n",
       "      dtype=int64),\n",
       "       array([1, 1, 0, 0, 0, 0, 1, 0, 3, 0, 0, 1, 0, 1, 0, 4, 1, 0, 0, 0, 0, 0,\n",
       "       0, 0, 0, 0, 1, 0, 0, 0, 0, 0, 0, 1, 1, 0, 1, 2, 2, 1, 3, 0, 0, 0,\n",
       "       1, 0, 0, 1, 0, 0, 0, 0, 0], dtype=int64),\n",
       "       array([2, 2, 1, 2, 3, 2, 1, 1, 1, 0, 4, 1, 0, 5, 4, 1, 2, 3, 2, 2, 2, 2,\n",
       "       1, 1, 2, 2, 2, 3, 2, 7, 9, 9, 0, 4], dtype=int64),\n",
       "       array([0, 3, 2, 1, 0, 0, 0, 1, 0, 1, 0, 1, 0, 0, 0, 2, 3, 5, 3, 1, 0, 1,\n",
       "       1, 3, 2, 1, 3, 1, 1, 4, 1, 2, 1, 1, 4, 2, 1, 3, 0, 5, 1, 1, 0, 0,\n",
       "       1, 4, 1, 1, 0, 2, 0, 0, 0, 0, 1, 3, 1, 0], dtype=int64),\n",
       "       array([1, 5, 0, 1, 6, 6, 1, 0, 0, 0, 1, 2, 0, 0, 1, 1, 0, 4, 4, 2, 0, 3,\n",
       "       4, 2, 2, 1, 0, 1, 1, 0, 0, 0, 1, 1, 1, 1, 2, 0, 1, 1, 2, 1, 1, 1,\n",
       "       0, 1, 0, 2, 2, 0, 5, 1, 2, 2, 1, 1, 0, 2, 2, 0, 1, 0, 0, 0, 0, 1,\n",
       "       0, 0, 3, 0, 0, 1, 1, 0, 0, 0, 2, 1, 2, 4, 2, 5, 1, 0, 0, 1, 1, 1,\n",
       "       0, 2, 0, 2, 2, 0, 1, 0, 0, 1, 0, 1, 1, 1, 0, 0, 0, 0, 0, 0, 0, 1,\n",
       "       2, 0, 0, 0, 0, 0, 2, 2, 3, 1, 0, 2, 2, 3, 2, 0, 1, 0, 1, 2, 5, 1,\n",
       "       1, 0, 0, 2, 1, 3, 4, 2, 2, 1, 1, 2, 2, 0, 3, 5, 4, 2, 1, 1, 0, 0,\n",
       "       1, 1, 1, 1, 1, 1, 1, 1, 1, 2, 1, 1, 1, 2, 0, 0, 1, 3, 1, 0, 1, 1,\n",
       "       1, 3, 0, 3, 0, 0, 0, 0, 2, 1, 1, 1, 1, 2, 2, 1, 2, 1, 3, 1, 3, 3,\n",
       "       1, 1, 1, 0, 1, 3, 2, 2, 0, 0, 1, 2, 0, 1, 1, 3, 0, 2, 2, 4, 5],\n",
       "      dtype=int64),\n",
       "       array([0, 0, 0, 1, 1, 1, 1, 1, 0, 0, 2, 2, 0, 1, 0, 6, 0, 0, 0, 0, 0, 1,\n",
       "       1, 0, 3, 1, 2, 0, 0, 0, 4, 0, 0, 2, 0, 0, 1, 2, 0, 5, 2, 0, 2, 0,\n",
       "       1, 2, 1, 0, 0, 2, 2, 2, 0, 1, 2, 0, 2, 1, 1, 0, 3, 1, 1, 1, 2, 0,\n",
       "       1, 0, 1, 2, 1, 2, 1, 2, 3, 1, 1, 0, 1, 0, 1, 3, 1], dtype=int64),\n",
       "       array([4, 3, 2, 2, 1, 6, 1, 1, 4, 2, 1, 1, 2, 2, 3, 0, 2, 0], dtype=int64),\n",
       "       array([0, 0, 2, 1, 4, 3, 1, 0, 2, 0, 2, 4, 3, 0, 1, 0, 2, 0, 1, 2, 3, 1,\n",
       "       2, 2, 0, 3, 4, 1, 1, 1, 1, 1, 1, 1, 2, 1, 1, 3, 3, 3, 1, 2, 2, 1,\n",
       "       2, 2, 6, 2, 0, 1, 0, 1, 2, 3, 8, 3, 6, 7, 1, 5, 0, 2, 1, 2, 7, 4,\n",
       "       2, 0, 0, 1, 3, 2, 1, 1, 1, 3, 1, 1, 1, 2, 1, 0, 1, 1, 1, 2, 1, 1,\n",
       "       0, 4, 3, 4, 3, 2, 4, 4, 4, 3, 3, 2, 3, 4, 1, 4, 1, 1, 1, 2, 1],\n",
       "      dtype=int64),\n",
       "       array([ 1,  0,  4,  2,  1,  1,  4,  3,  2,  2,  0,  2,  1,  4,  0,  2,  4,\n",
       "        7,  8,  3,  5,  9,  4,  2,  1,  0,  3,  1,  2, 11,  4,  4,  7,  8,\n",
       "        5,  9,  0], dtype=int64),\n",
       "       array([0, 1, 1, 1, 1, 3, 5, 1, 5, 2, 3, 1, 0, 5, 2, 2, 0, 6, 1, 1, 3, 3,\n",
       "       1, 2, 4, 4, 5], dtype=int64),\n",
       "       array([4, 3, 6, 3, 7, 2, 5, 3, 5, 4, 3, 4, 4, 9, 4, 6, 3, 8, 6, 1, 3, 4,\n",
       "       2, 2, 8, 4], dtype=int64),\n",
       "       array([2, 2, 0, 1, 0, 0, 0, 0, 1, 0, 1, 1, 0, 1, 0, 2, 0, 0, 0, 5, 1, 2,\n",
       "       1, 6, 0, 1, 0, 2, 0, 0, 0, 0, 0, 2, 1, 0, 3, 2, 1, 1, 1, 0, 2],\n",
       "      dtype=int64),\n",
       "       array([1, 2, 5, 0, 0, 0, 2, 0, 1, 0, 0, 2, 1, 6, 4, 1, 0, 0, 1, 0, 0, 1,\n",
       "       0, 0, 1, 0, 3, 1, 0, 2, 0, 0, 1, 1, 0, 0, 2, 6, 2, 3, 0, 0, 0, 1,\n",
       "       0, 0, 3, 1, 0, 0, 2, 1, 0, 0, 1, 1], dtype=int64),\n",
       "       array([0, 0, 2, 0, 0, 1, 2, 1, 2, 2, 0, 4, 0, 3, 2, 2, 9, 2, 1, 0, 0, 2,\n",
       "       0, 3, 1, 0, 0, 2, 0, 2, 0, 1, 0, 0, 5, 1, 2, 2, 2, 3, 0, 4],\n",
       "      dtype=int64),\n",
       "       array([0, 0, 0, 0, 0, 3, 1, 3, 3, 0, 0, 0, 0, 0, 2, 0, 1, 5, 0, 0, 0, 1,\n",
       "       1, 0, 0, 1, 1, 0, 0, 1, 0, 0, 0, 0, 0, 0, 1, 2, 3, 2, 0, 1, 0, 0,\n",
       "       0, 1, 0, 1, 3, 0, 2, 1, 1, 2, 0, 1, 1, 0, 3, 1, 1, 1, 0, 1, 1, 2,\n",
       "       3, 0, 1, 0, 1, 1, 2, 0, 1, 1, 0, 2, 3, 2, 1, 0, 1, 1, 1, 1, 1, 2,\n",
       "       1, 3, 0, 0, 3, 2, 1], dtype=int64),\n",
       "       array([1, 0, 0, 0, 0, 1, 2, 0, 1, 2, 0, 0, 0, 2, 2, 1, 0, 1, 0, 1, 0, 0,\n",
       "       0, 0, 1, 0, 0, 0, 0, 1, 0, 2, 2, 0, 2, 0], dtype=int64),\n",
       "       array([2, 1, 0, 1, 0, 1, 0, 0, 0, 0, 0, 1, 4, 0, 0, 2, 2, 1, 2, 1, 0, 0,\n",
       "       1, 0, 1, 0, 0, 0, 0, 0, 0, 2, 1, 0, 0, 1, 0, 1, 2], dtype=int64),\n",
       "       array([0, 1, 0, 0, 0, 0, 0, 0, 0, 0, 0, 0, 0, 0, 0, 1, 0, 0, 0, 0, 0, 3,\n",
       "       0, 0, 0, 0, 0, 0, 0, 0, 0, 0, 0, 0, 0, 0, 0, 0, 0, 0, 0, 1, 0, 0,\n",
       "       0, 0, 1, 0, 1, 0, 0, 0, 0, 0, 1, 0, 0, 0, 1, 0, 0, 0, 1, 0, 0, 0,\n",
       "       0, 0, 1, 0, 0, 0, 0, 0, 0, 1, 0], dtype=int64),\n",
       "       array([0, 0, 0, 0, 0, 0, 1, 1, 0, 0, 0, 0, 0, 0, 0, 0, 0, 1, 0, 0, 0, 0,\n",
       "       0], dtype=int64),\n",
       "       array([1, 1, 0, 1, 0, 1, 2, 1, 0, 0, 0, 0, 0, 0, 1, 0, 0, 0, 0, 0, 1, 0,\n",
       "       0, 0, 0, 0, 0, 0, 0, 0, 0, 0, 0, 0, 0, 0, 0, 0, 0, 1, 1, 1, 1, 1,\n",
       "       0, 0, 0, 0, 0, 0, 0], dtype=int64),\n",
       "       array([0, 1, 0, 0], dtype=int64),\n",
       "       array([1, 1, 2, 2, 0, 1, 1, 2, 1, 0, 1, 1, 3, 2], dtype=int64),\n",
       "       array([2, 2, 0, 4, 3, 3, 1, 1, 1, 2, 1, 2, 2, 3, 1, 0, 2, 0, 0, 0, 1, 2,\n",
       "       1, 2, 1, 5, 1, 2, 2, 2, 0, 2, 1, 0], dtype=int64),\n",
       "       array([0, 1, 0, 1, 6, 0, 0, 2, 0, 0, 3, 0, 0, 0, 0, 0, 0, 0, 1, 1, 0, 1],\n",
       "      dtype=int64),\n",
       "       array([0, 1, 1, 0, 0, 1, 0, 0, 0, 2, 0, 0, 0, 0], dtype=int64),\n",
       "       array([3, 1, 1, 0, 1, 1, 1, 1, 1, 1, 1, 0, 3, 1, 3, 0, 1, 2, 0, 0, 1, 1,\n",
       "       0, 1, 0], dtype=int64),\n",
       "       array([1, 4, 1, 1, 1, 1, 1, 0, 0, 3], dtype=int64),\n",
       "       array([0, 1, 1, 0, 1, 1, 0, 0, 0, 0, 0, 0, 0, 0, 0, 0, 0, 0], dtype=int64),\n",
       "       array([3, 1, 2, 1, 0, 0, 1, 1, 0, 2, 0, 2, 0, 0, 0, 0, 0, 2, 0],\n",
       "      dtype=int64),\n",
       "       array([2, 0, 0, 0, 0, 0, 0, 1, 0, 0, 2, 1, 0], dtype=int64),\n",
       "       array([1, 0, 0, 1, 4, 0, 0, 1, 0, 0, 1, 1, 0], dtype=int64),\n",
       "       array([0, 0, 0, 0, 1, 1, 0, 0, 0, 1, 0, 0, 0, 0, 0, 0, 0, 0, 0, 0, 0, 0,\n",
       "       0, 0, 0, 0, 0, 0], dtype=int64),\n",
       "       array([0, 0, 0, 1, 1, 0, 0, 0, 0, 0, 0, 0, 0, 0, 0, 0, 0, 0, 0, 0, 0, 0,\n",
       "       0, 0, 0, 0, 1, 0, 0, 0, 0, 0], dtype=int64),\n",
       "       array([0, 0, 0, 0, 0, 0, 0, 0, 0, 0, 0, 0, 0, 0, 0], dtype=int64),\n",
       "       array([1, 0, 0, 1, 1, 0, 1, 0, 2, 0, 0, 0, 2, 1, 1, 0, 1, 0, 0, 2, 1, 1,\n",
       "       0, 0, 0, 0, 0, 1, 0, 0, 1, 3, 1, 1, 1, 1, 0, 1, 1, 1, 1, 1, 1, 0,\n",
       "       0, 0, 1, 1, 0], dtype=int64),\n",
       "       array([1, 3, 2, 3, 2, 1, 3, 2, 0, 0, 0, 1, 1, 1, 0, 2, 1, 1, 1, 0, 0, 0,\n",
       "       0, 2, 1, 0, 1, 1, 0, 0, 3, 2, 1, 1, 0, 0, 0, 1, 1], dtype=int64),\n",
       "       array([0, 1, 0, 0, 1, 0, 1, 1, 1, 2, 1, 1, 0, 0, 0, 1, 0, 1, 0, 1, 0, 0,\n",
       "       0, 0, 1, 0, 0, 1, 0, 0, 0, 1, 0, 0, 0, 0, 0, 2, 1, 3], dtype=int64),\n",
       "       array([ 8,  0,  0,  0,  6,  8,  0,  5,  0,  0,  6,  0,  0,  0,  5,  0,  7,\n",
       "        0,  0,  0,  5,  2,  0,  0,  3,  2,  4,  0,  0,  1,  0,  1,  0,  0,\n",
       "        0,  3,  0,  2,  0,  0,  6,  0,  5,  6,  0,  0,  0,  7,  4,  5,  0,\n",
       "        0,  3,  0,  0,  0,  0, 16,  0, 14,  2,  0,  3,  0,  0,  3,  0,  8,\n",
       "        0,  5,  1,  0,  1,  0,  1,  0,  2,  1,  3,  0,  2,  3,  0,  5, 15,\n",
       "        6,  5, 12,  2,  3,  4,  4,  5], dtype=int64),\n",
       "       array([ 0,  6,  0,  1,  0,  3,  2,  7,  0,  0,  5,  0,  0,  0,  0,  1,  0,\n",
       "        0,  3,  7,  2,  0,  4,  2,  3,  8,  3,  1,  2,  2,  1,  1,  4,  2,\n",
       "        7,  6,  3, 13,  2,  2,  3,  8,  7,  7,  9,  2,  6, 10,  5,  7,  2,\n",
       "        5,  4,  4,  5,  5,  1], dtype=int64),\n",
       "       array([ 0,  4,  0,  0,  0,  0,  3,  2,  3,  6,  0,  6,  3,  0,  3,  0,  3,\n",
       "        0,  0,  2,  5,  0,  5,  1,  1,  0,  7,  0,  0,  0,  6,  3,  0,  3,\n",
       "        3,  5,  0,  2,  0,  4,  0,  3,  2,  2,  4,  0,  6,  4,  0,  0,  0,\n",
       "        0,  0,  0,  2,  0,  0,  0,  8,  3,  0,  0,  3,  6,  6,  3,  4,  3,\n",
       "        5,  6, 10,  3,  5,  5,  1,  6,  4,  6,  8,  4,  2,  5,  3,  3,  7,\n",
       "        9,  4,  4,  8,  6, 30,  8,  4,  4,  6,  5,  5,  1,  2,  3,  3,  0,\n",
       "       12,  0,  2,  1,  4,  6,  3,  4,  3,  4,  3,  7,  4,  4,  6,  7,  4,\n",
       "        4,  4,  2,  6,  2,  1,  1,  7,  3], dtype=int64),\n",
       "       array([1, 0, 0, 2, 0, 0, 0, 0, 0, 0, 0, 0, 0, 1, 0, 1, 0, 0, 0, 0, 0, 0,\n",
       "       1, 2, 0, 0, 0, 0, 0, 0, 0, 0, 0, 0, 0, 0, 0, 0, 0, 0, 0, 0, 0, 0,\n",
       "       0, 0, 0, 0, 0, 0, 0, 0, 0, 0, 0], dtype=int64),\n",
       "       array([0, 0, 0, 1, 0, 0, 0, 0, 1, 0, 0, 0, 0, 0, 0, 1, 1, 0, 0, 0, 0, 0,\n",
       "       0, 0, 0, 0, 0, 0, 0, 0, 0, 0, 0, 0, 0, 0, 0, 0, 0, 0, 0, 0, 0, 0],\n",
       "      dtype=int64),\n",
       "       array([0, 0, 0, 0, 0, 1, 1, 0, 0, 0, 0, 0, 1, 0, 0, 0, 0, 0, 0, 0, 0, 0,\n",
       "       0, 0, 0, 0, 0, 0, 1, 1, 0, 0, 0, 0, 0, 1, 0, 1], dtype=int64),\n",
       "       array([0, 0, 0, 0, 0, 0, 1, 0, 0, 0, 0, 1, 1, 0, 0, 0, 0, 0, 0, 0, 0, 0,\n",
       "       0, 0, 0, 0, 1, 0, 0, 1, 0, 0, 0, 0, 1, 0], dtype=int64),\n",
       "       array([0, 0, 0, 0, 0, 1, 0, 0, 1, 0, 0, 0, 0, 0, 0, 0, 0, 0, 1, 0, 0, 0,\n",
       "       0, 0, 0, 2, 0, 0, 0, 0, 0, 0, 0, 0, 0, 0, 0, 0, 0, 0], dtype=int64),\n",
       "       array([0, 0, 0, 2, 4, 1, 0, 0, 1, 2, 2, 0, 1, 0, 0, 0, 1, 1, 1, 2, 1, 2,\n",
       "       0, 4, 0, 2, 1, 0, 2, 1, 1, 1, 1, 0, 0, 0], dtype=int64),\n",
       "       array([0, 0, 0, 0, 1, 1, 0, 0, 0, 0, 0, 1, 1, 1, 0, 0, 0, 1, 0, 1, 1, 0,\n",
       "       1, 1, 0, 0, 0, 0, 0, 1, 0, 0], dtype=int64),\n",
       "       array([0, 3, 2, 2, 4, 2, 6, 2, 3, 1, 2, 1, 2, 4, 3, 1, 2, 2, 1, 2, 2, 4,\n",
       "       3, 2, 2, 2, 3, 2, 1, 5, 3, 3, 3, 2, 2, 1], dtype=int64),\n",
       "       array([ 3,  6,  1,  3,  5,  3,  0,  2,  1,  4,  4,  2,  3,  3,  2,  3,  4,\n",
       "       10,  5,  8,  9,  1,  3,  4,  6,  5,  0,  6,  3,  5,  5,  1,  7,  2,\n",
       "        3,  2,  3,  2], dtype=int64),\n",
       "       array([0, 4, 2, 3, 1, 1, 5, 3, 1, 7, 4, 2, 0, 1, 3, 2, 1, 2, 1, 3, 1, 2,\n",
       "       2, 0, 2, 4, 3, 2, 2, 3, 3, 1, 5, 4, 1, 1, 4, 2], dtype=int64),\n",
       "       array([0, 1, 0, 1, 1, 1, 1, 1, 3, 0, 2, 1, 2, 1, 2, 1, 1, 0, 3, 0, 1, 1,\n",
       "       1, 0, 0, 0, 2, 0, 0, 1, 0, 1, 1, 1, 0, 0, 1, 0, 0, 0], dtype=int64),\n",
       "       array([0, 1, 0, 2, 1, 1, 2, 1, 1, 3, 1, 1, 0, 0, 1, 0, 0, 1, 0, 0, 1, 1,\n",
       "       0, 1, 1, 1, 1, 1, 0, 1, 1, 0, 0, 1, 2, 2, 2, 0, 1], dtype=int64),\n",
       "       array([2, 2, 1, 2, 2, 1], dtype=int64),\n",
       "       array([2, 0, 0, 2, 0, 1, 2, 0, 0, 2, 1, 0, 1, 1, 1, 2, 0, 1, 2, 0, 4, 1,\n",
       "       0, 1, 0, 1, 3, 1, 2, 2, 1, 0], dtype=int64),\n",
       "       array([1, 0, 0, 0, 2, 1, 0, 0, 0, 0, 0, 0, 0, 2, 1, 0, 0, 1, 0, 0, 1, 2,\n",
       "       0, 0, 2, 1, 0, 0, 0, 1, 0, 0, 0, 0], dtype=int64),\n",
       "       array([0, 0, 1, 0, 0, 0, 0, 0, 1, 2, 0, 0, 0, 0, 1, 3, 0, 1, 1, 0, 0, 0,\n",
       "       1, 0, 0, 2, 1, 1, 1, 0, 1, 0, 0, 0, 1, 0, 0], dtype=int64),\n",
       "       array([ 8,  7,  6, 10,  5,  2,  3,  1,  2,  8,  2,  4,  8,  3,  5,  4,  3,\n",
       "        1,  9,  7,  9], dtype=int64),\n",
       "       array([0, 0, 0, 0, 0, 0, 0, 0, 0, 0, 0, 0, 0, 0, 0, 0, 0, 0, 1, 0, 1, 0,\n",
       "       1, 0, 0, 1, 0, 0, 0, 0, 0, 0, 0, 1, 0, 0, 1, 1, 0, 1, 0, 0, 1, 0,\n",
       "       1, 1, 0, 0, 0, 0, 0], dtype=int64),\n",
       "       array([0, 0, 0, 0, 0, 0, 0, 0, 0, 0, 0, 0, 0, 0, 0, 0, 1, 0, 0, 0, 0, 0,\n",
       "       0, 0, 0, 0, 0, 0, 0, 0, 0, 0, 0, 0, 0, 0, 0, 0, 0, 0, 0, 0, 0, 0,\n",
       "       0, 2, 1, 0, 0, 0], dtype=int64),\n",
       "       array([0, 0, 0, 0, 0, 0, 0, 0, 0, 0, 0, 0, 0, 0, 0, 0, 0, 0, 0, 0],\n",
       "      dtype=int64),\n",
       "       array([0, 0, 0, 0, 0, 0, 1, 1, 0, 0, 1, 0, 1, 0, 0, 0, 0, 0, 1, 0, 0, 0,\n",
       "       0, 0], dtype=int64),\n",
       "       array([0, 0, 0, 0, 0, 0, 0, 0, 0, 0, 0, 0, 0, 0, 0, 0, 0, 0, 0, 0, 0],\n",
       "      dtype=int64),\n",
       "       array([0, 0, 0, 0, 0, 0, 0, 0, 0, 0, 0, 0, 0, 0, 0, 0, 0, 0, 0, 0, 0],\n",
       "      dtype=int64),\n",
       "       array([0, 0, 0, 0, 0, 0, 0, 0, 0, 0, 0, 0, 0, 0, 0, 0, 0, 0, 0, 0, 0, 0,\n",
       "       0, 0, 0, 0, 0, 0, 0, 0, 0, 0], dtype=int64),\n",
       "       array([0, 0, 0, 0, 0, 0, 0, 0, 0, 0, 0, 0, 0, 0, 0, 0, 0, 0, 0],\n",
       "      dtype=int64),\n",
       "       array([1, 0, 0, 0, 1, 0, 0, 1, 1, 2, 1, 0, 2, 1, 1, 1, 0, 0, 0, 0, 0, 0,\n",
       "       0, 0, 0, 0, 1, 1, 0, 2, 1], dtype=int64),\n",
       "       array([0, 0, 0, 0, 0, 0, 0, 0, 0, 0, 0, 0, 0, 0, 0, 0, 0, 0, 0, 0, 0, 0,\n",
       "       0, 0, 0, 0, 0], dtype=int64),\n",
       "       array([0, 0, 0, 1, 0, 0, 0, 0, 0, 0, 0, 0, 0, 0, 0, 0, 0, 0, 0, 0, 0, 1,\n",
       "       0, 0, 0, 0, 0, 0, 0, 2, 0, 0, 0, 0, 0, 0, 0, 0, 0, 0, 0, 0, 0, 1,\n",
       "       0, 0, 0, 1], dtype=int64),\n",
       "       array([0, 1, 0, 0, 0, 0, 0, 0, 0, 0, 0, 0, 0, 0, 0, 2, 1, 0, 0, 0],\n",
       "      dtype=int64),\n",
       "       array([1, 1, 0, 3], dtype=int64),\n",
       "       array([2, 1, 1, 1, 1, 1, 1, 1, 2, 1, 1, 3], dtype=int64),\n",
       "       array([1, 0, 0, 0, 0, 0, 0, 0, 0, 0, 0, 0], dtype=int64),\n",
       "       array([0, 0, 0, 0, 0, 0, 0, 0, 0, 0, 0, 0, 0, 0, 0, 0, 0], dtype=int64),\n",
       "       array([0, 0, 0, 0], dtype=int64),\n",
       "       array([0, 0, 0, 1, 0, 0], dtype=int64),\n",
       "       array([ 2,  3,  1,  5,  2,  2,  4,  2,  1,  3,  1,  3,  5,  5,  3,  3,  6,\n",
       "        4,  3,  0,  0,  4,  5,  0,  4,  2, 12,  4,  4,  5,  2,  5],\n",
       "      dtype=int64),\n",
       "       array([ 9, 14,  7, 15,  6, 13,  9,  9,  5, 11, 13, 20, 11, 20, 12, 12,  5,\n",
       "       12,  7, 12,  3,  4, 10,  9,  5, 16, 19, 12,  5,  3,  2,  1,  0,  3,\n",
       "        4,  3, 15,  5,  4,  3,  3,  5, 13,  7,  4, 19], dtype=int64),\n",
       "       array([0, 0, 0, 0, 0, 0, 0, 0, 0, 0, 0, 0, 0, 0, 0, 0, 0, 0, 0, 0, 0, 0,\n",
       "       0, 0, 0, 0, 0, 0, 0], dtype=int64),\n",
       "       array([0, 0, 0, 0, 0, 0, 0, 0, 0, 0, 0, 0, 0, 0, 0, 0, 0, 0, 0, 0, 0, 0,\n",
       "       0, 0, 0, 0], dtype=int64),\n",
       "       array([0, 0, 0, 0, 0, 0, 0, 0, 0, 0, 0, 0, 0, 0, 0, 0, 0, 0, 0, 0, 0, 0,\n",
       "       0, 0, 0, 0, 0, 0, 0, 0, 0], dtype=int64),\n",
       "       array([0, 0, 0, 0, 0, 0, 0, 0, 0, 0, 0, 0, 0, 0, 0, 0, 0, 0, 0, 0, 0, 0,\n",
       "       0, 0, 0, 0, 0, 0, 0, 0, 0, 0, 0, 0], dtype=int64),\n",
       "       array([0, 0, 0, 0, 0, 0, 0, 0, 0, 0, 0, 0, 0, 0, 0, 0, 0, 0, 0, 0, 0, 0,\n",
       "       0, 0], dtype=int64),\n",
       "       array([0, 0, 0, 0, 0, 0, 0, 0, 0, 0, 0, 0, 0, 0, 0, 0, 0, 0, 0, 0, 0, 0,\n",
       "       0, 0, 0, 0, 0, 0, 0, 0, 0, 0], dtype=int64),\n",
       "       array([0, 0, 0, 0, 0, 0, 0, 0, 0, 0, 0, 0, 0, 0, 0, 0, 0, 0, 0, 0, 0, 0,\n",
       "       0, 0, 0, 0, 0, 0, 0], dtype=int64),\n",
       "       array([0, 0, 0, 0, 0, 0, 0, 0, 0, 0, 0, 0, 0, 0, 0, 0, 0, 0, 0, 0, 0, 0,\n",
       "       0, 0, 0, 0, 0, 0, 0, 0, 0, 0, 0], dtype=int64),\n",
       "       array([0, 0, 0, 0, 0, 0, 0, 0, 0, 0, 0, 0, 0, 0, 0, 0, 0, 0, 0, 0, 0, 0,\n",
       "       0, 0, 0, 0, 0, 0, 0, 0, 0, 0, 0, 0, 0, 0, 0, 0], dtype=int64),\n",
       "       array([2, 0, 1, 1, 1, 0, 0, 1, 0, 1, 1, 1, 2, 0, 0, 1, 0, 1, 2, 1, 0, 0,\n",
       "       3, 1, 0, 0, 1, 1, 0, 1, 0, 0, 1, 1, 0, 1, 1, 2, 2, 1], dtype=int64),\n",
       "       array([1, 1, 0, 0, 1, 1, 0, 0, 1, 0, 0, 0, 2, 0, 0, 0, 0, 0, 0, 0, 0, 0,\n",
       "       0, 0, 0, 0, 2, 2, 0, 0, 1, 1, 0, 0, 1, 0, 1, 1, 0, 0, 0, 0, 0, 0,\n",
       "       1, 1, 1, 0, 1, 1, 0, 0, 0, 0, 0, 0, 0, 0, 0, 0, 1, 0, 1, 3, 0, 2,\n",
       "       1, 2, 0, 0, 0, 1, 0, 0, 0, 0, 0, 0, 0, 0, 0, 0, 0, 0, 0, 0, 0, 2,\n",
       "       0, 0, 0, 0, 0, 0], dtype=int64),\n",
       "       array([0, 0, 0, 1, 0, 0, 0, 0, 0, 0, 0, 0, 0, 0, 0, 0, 0, 1, 0, 0, 0, 0,\n",
       "       0, 0, 0, 0, 0, 0, 0, 1, 1, 0, 0, 0, 0, 0, 0, 0, 1, 0, 0, 0, 0, 2,\n",
       "       0, 0, 0, 0, 0, 1, 0, 0, 0, 0, 0, 0, 0, 0, 0, 0, 0, 0, 0, 0, 0, 0,\n",
       "       0, 0, 0, 0, 0, 0, 0, 0, 0, 0, 0, 0, 0, 0, 0, 0, 0, 0, 0, 0, 0, 0,\n",
       "       0, 0, 0, 0, 0, 0, 0, 0, 0, 0, 0, 0, 0, 0, 1, 0, 0, 0, 0, 0, 0, 0,\n",
       "       0, 0, 0, 0, 0, 0, 0, 0, 0, 0, 1, 0, 0, 1, 0, 0, 0, 0, 0, 0, 0, 0,\n",
       "       1, 0, 0, 0, 0, 0, 0, 0, 0, 0, 0, 0, 0, 0, 0, 0, 0, 0], dtype=int64),\n",
       "       array([0, 0, 1, 0, 0, 0, 1, 0, 0, 0, 1, 0, 0, 0, 0, 0, 0, 0], dtype=int64),\n",
       "       array([0, 1, 0, 0, 0, 0, 0, 0, 0, 0, 0, 0, 0, 1, 0, 0, 0, 0, 0, 0, 0, 1,\n",
       "       1, 0, 0, 0, 0, 0, 0, 1, 0, 0, 0, 0, 0, 0], dtype=int64),\n",
       "       array([0, 0, 0, 0, 0, 0, 0, 0, 0, 0, 0, 0, 0, 0, 0, 0, 0, 0, 0, 0, 0, 0,\n",
       "       0, 0, 0, 0, 0, 0, 0, 0, 0, 0, 0, 0, 0, 0, 0, 0, 0, 0, 0, 0, 0, 0,\n",
       "       0, 0, 0, 0, 0, 0, 0, 0], dtype=int64),\n",
       "       array([1, 0, 0, 0, 0, 0, 0, 0, 0, 0, 0, 0, 0, 0, 0, 0, 0, 0, 0, 0, 0, 0,\n",
       "       0, 0, 0, 0, 0, 0, 0, 0, 0, 0, 0, 0, 0, 0, 0, 0, 0, 0, 0, 0, 0, 0,\n",
       "       0, 0, 0, 0, 0, 0, 0, 0], dtype=int64),\n",
       "       array([0, 1, 1, 2, 1, 0, 0, 0, 0, 0, 1, 0, 0, 0, 0, 0, 0, 1, 0, 0, 1, 0,\n",
       "       1, 0, 1, 0, 0, 1, 0, 1], dtype=int64),\n",
       "       array([0, 0, 0, 0, 0, 0, 0, 0, 0, 0, 0, 0, 0, 0, 0, 0, 0, 0, 0, 0, 0, 0,\n",
       "       0, 0, 0, 0, 0, 0, 0, 0, 0, 0, 0, 0, 0, 0, 0, 0, 0, 0, 0],\n",
       "      dtype=int64),\n",
       "       array([1, 0, 0, 0, 0, 0, 3, 1, 0, 0, 2, 2, 2, 0, 1, 0, 2, 0, 2, 3, 0, 0,\n",
       "       0, 1, 1, 0, 0, 0, 0, 0, 0, 1, 0, 0, 0, 2, 0, 1, 1, 0, 1],\n",
       "      dtype=int64),\n",
       "       array([0, 0, 0, 0, 0, 0, 0, 0, 0, 0, 0, 0, 0, 0, 0, 0, 0, 0, 0, 0, 0, 0,\n",
       "       0, 0, 0, 0, 0, 0, 0, 0, 0, 0, 0, 0, 0, 0, 0, 0, 0, 0, 0, 0, 0, 0,\n",
       "       0, 0], dtype=int64),\n",
       "       array([0, 0, 0, 0, 0, 0, 0, 0, 0, 0, 0, 0, 0, 0, 0, 0, 0, 0, 0, 0, 0, 0,\n",
       "       0, 0, 0, 0, 0, 0, 0, 0, 0, 0, 0, 0, 0, 0, 0, 0, 1, 0, 0, 0, 0, 0,\n",
       "       0], dtype=int64),\n",
       "       array([1, 0, 0, 0, 0, 1, 0, 1, 3, 1, 1, 1, 2, 0, 1, 1, 1, 2, 0, 1, 1, 0,\n",
       "       0, 0, 0, 0, 0, 3], dtype=int64),\n",
       "       array([0, 0, 0, 0, 0, 0, 0, 0, 0, 0, 0, 0, 0, 0, 0, 0, 0, 0, 0, 0, 0, 0,\n",
       "       0, 0, 0, 0, 0, 0, 0, 0, 0, 0, 0, 0, 0, 1, 0, 0, 0, 0, 1, 0, 0, 0,\n",
       "       0, 0, 0, 0, 0, 0, 1], dtype=int64),\n",
       "       array([0, 0, 0, 0, 0, 0, 0, 0, 0, 0, 1, 0, 1, 0, 0, 0, 0, 2, 0, 0, 0, 0,\n",
       "       0, 0, 0, 0, 0, 0, 2, 0, 0, 0, 0, 0, 0, 0, 0, 0, 0, 0, 0, 0, 0, 0,\n",
       "       0, 0, 0, 1, 0, 0, 1, 0, 0], dtype=int64),\n",
       "       array([2, 3, 3, 1, 1, 1, 1, 0, 0, 1, 1, 1, 2, 0, 1, 3, 2, 1, 0, 2, 2, 2,\n",
       "       5, 2, 2, 1, 2, 4, 4, 2, 3, 1, 2, 1, 1, 2, 2, 1, 1, 2, 0, 0, 1, 0,\n",
       "       0, 0, 1, 1, 0, 1], dtype=int64),\n",
       "       array([0, 0, 0, 0, 0, 0, 0, 0, 0, 0, 0, 0, 0, 0, 0, 0, 0, 0, 0, 0, 0, 0,\n",
       "       0, 0, 0, 0, 0, 0, 0], dtype=int64),\n",
       "       array([0, 0, 0, 0, 0, 0, 0, 0, 0, 0, 0, 0, 0], dtype=int64),\n",
       "       array([0, 0, 0, 0, 0, 0, 0, 0, 0, 0, 0, 0, 0, 0, 0, 0, 0, 0, 0, 0, 0, 0,\n",
       "       0, 0, 0, 0, 0, 0, 0, 0, 0, 0, 0, 0, 0, 0, 0, 0, 0, 0], dtype=int64),\n",
       "       array([0, 0, 0, 0, 0, 0, 0, 0, 0, 0, 0, 0, 0, 0, 0, 0, 0, 0, 0, 0, 0, 0,\n",
       "       0, 0, 0, 0, 0, 0, 0, 0, 0, 0, 0, 0, 0, 0, 0, 0, 0], dtype=int64),\n",
       "       array([0, 0, 0, 0, 0, 0, 1, 0, 0, 0, 0, 0, 0, 0, 0, 0, 0, 0, 0, 0, 0, 0,\n",
       "       0, 0, 0, 0, 0, 0, 0, 0, 0, 0, 0, 0, 0, 0, 0, 0, 0, 0, 0, 0],\n",
       "      dtype=int64),\n",
       "       array([0, 0, 0, 0, 0, 0, 0, 0, 0, 0, 0, 0, 0, 0, 0, 0, 0, 0, 0, 0, 0, 0,\n",
       "       0, 0, 0, 0, 0, 0, 0, 0, 0, 0, 0, 0, 0, 0], dtype=int64),\n",
       "       array([0, 0, 0, 0, 0, 0, 0, 0, 0, 0, 0, 0, 0, 0, 0, 0, 0, 0, 0, 0, 0, 0,\n",
       "       0, 0, 0, 0, 0, 0, 0, 0, 0, 0, 0, 0, 0, 0, 0], dtype=int64),\n",
       "       array([0, 1, 0, 0, 0, 0, 0, 0, 0, 1, 0, 0, 0, 0, 0, 0, 0, 0, 0, 0, 1],\n",
       "      dtype=int64),\n",
       "       array([0, 0, 0, 0, 0, 0, 0, 0, 0, 0, 0, 0, 0, 0, 0, 0, 0, 0, 0, 0, 0, 0,\n",
       "       0, 0], dtype=int64),\n",
       "       array([1, 0, 0, 1, 0, 0, 1, 1, 0, 1, 0, 0, 0, 0], dtype=int64),\n",
       "       array([0, 0, 1, 0, 1, 0, 0, 0, 0, 0, 0, 0, 0, 0, 1], dtype=int64),\n",
       "       array([0, 0, 0, 0, 1, 1, 0, 1, 0, 0, 1, 1, 0, 0], dtype=int64),\n",
       "       array([1, 1, 1, 1, 1, 1, 2, 0, 0, 1, 1, 1, 0, 1, 2, 1, 0, 1, 0, 1, 1, 0,\n",
       "       0, 0, 1, 2, 2, 1, 1, 2, 0, 0, 1, 1, 1, 1, 1, 1, 0, 1, 2, 1, 0, 0,\n",
       "       0, 0, 0, 1, 1, 0, 0, 0, 0, 0, 2, 1, 1, 1, 0], dtype=int64),\n",
       "       array([0, 0, 0, 0, 0, 0, 0, 0, 0, 0, 0, 0, 0, 0, 0, 0, 0, 0, 0, 0, 0, 0,\n",
       "       0, 0], dtype=int64),\n",
       "       array([0, 0, 1, 0, 0, 0, 0, 0, 1, 0, 0, 0, 0, 0, 0, 0, 0, 0, 0, 0, 0, 0,\n",
       "       0, 0, 0, 0], dtype=int64),\n",
       "       array([0, 1, 0, 0, 0, 1, 1, 2, 0, 0, 0, 1, 1, 4, 0, 0, 0, 0, 0, 0, 0, 1,\n",
       "       0, 1, 0, 0, 0, 0, 0, 0, 0, 0, 0, 0, 1, 0, 1, 1, 2, 0, 2, 1, 1, 0,\n",
       "       0, 0], dtype=int64),\n",
       "       array([11,  4, 13,  5,  5,  8,  8,  4,  7,  6, 10,  3, 10,  5,  2,  2,  4,\n",
       "       11,  9,  9,  5,  3,  7,  6,  8,  9,  6,  6,  9,  7,  6,  6, 13, 11,\n",
       "        3,  5,  6, 10, 23, 14, 10,  4,  5,  3,  8,  2,  3,  6],\n",
       "      dtype=int64),\n",
       "       array([14, 12,  6, 11,  5,  3,  3,  4,  3,  2,  6,  7,  6,  2,  3,  3,  1,\n",
       "        2,  1,  4,  1,  2,  3,  2,  3,  0,  3,  1,  3,  3,  4,  5,  5,  7],\n",
       "      dtype=int64),\n",
       "       array([ 7,  0,  3,  1,  2,  2,  1,  2,  3,  2,  2,  5,  2,  3,  2,  2,  1,\n",
       "        1,  1,  2,  3,  4,  3,  2,  1,  1,  4,  5,  4,  2,  2,  1,  5,  1,\n",
       "        1,  1,  3,  1,  3,  0,  4,  2,  5,  4,  2,  5,  3,  2,  2,  2,  4,\n",
       "        4,  5,  4,  4,  1,  1,  1,  2,  1,  3,  3,  4,  6,  1,  2,  0,  1,\n",
       "        3, 13,  4,  6,  3,  2,  6,  5,  1,  3,  1,  3,  5,  2,  2,  3, 16,\n",
       "        1,  2,  3,  4,  2,  5,  5,  2,  2,  5,  3,  5,  2,  2,  6,  4,  2,\n",
       "        4,  2,  3], dtype=int64),\n",
       "       array([0, 0, 0, 0, 0, 0, 1, 0, 0, 0, 0, 0, 0, 0, 0, 0, 0, 0, 0, 0, 1, 0,\n",
       "       1, 1, 0, 1, 0, 1, 0, 1, 0, 0, 0, 0, 0, 0, 0, 0], dtype=int64),\n",
       "       array([1, 0, 1, 1, 2, 1, 1, 2, 0, 2, 0, 0, 0, 0, 2, 0, 0, 0, 0, 0, 1, 0,\n",
       "       0, 1, 0, 0, 0, 0, 0, 1, 0, 0, 0, 0, 1, 0, 0, 1, 0], dtype=int64),\n",
       "       array([0, 0, 0, 0, 0, 0, 0, 0, 0, 0, 0, 0, 1, 0, 0, 0, 0, 0, 0, 0, 0, 0,\n",
       "       0, 0, 0, 0, 0, 0, 0, 0, 0, 0, 0, 0, 0, 0, 0, 0], dtype=int64)],\n",
       "      dtype=object)"
      ]
     },
     "execution_count": 23,
     "metadata": {},
     "output_type": "execute_result"
    }
   ],
   "source": [
    "np.array([MaxN[Ir==r] for r in np.unique(Ir)])"
   ]
  },
  {
   "cell_type": "code",
   "execution_count": 24,
   "metadata": {},
   "outputs": [
    {
     "data": {
      "text/html": [
       "<div>\n",
       "<style scoped>\n",
       "    .dataframe tbody tr th:only-of-type {\n",
       "        vertical-align: middle;\n",
       "    }\n",
       "\n",
       "    .dataframe tbody tr th {\n",
       "        vertical-align: top;\n",
       "    }\n",
       "\n",
       "    .dataframe thead th {\n",
       "        text-align: right;\n",
       "    }\n",
       "</style>\n",
       "<table border=\"1\" class=\"dataframe\">\n",
       "  <thead>\n",
       "    <tr style=\"text-align: right;\">\n",
       "      <th></th>\n",
       "      <th>region_name</th>\n",
       "      <th>region_id</th>\n",
       "      <th>location_name</th>\n",
       "      <th>location_code</th>\n",
       "      <th>location_id</th>\n",
       "      <th>site_name</th>\n",
       "      <th>site_code</th>\n",
       "      <th>site_id</th>\n",
       "      <th>reef_name</th>\n",
       "      <th>reef_type</th>\n",
       "      <th>...</th>\n",
       "      <th>drop_hr</th>\n",
       "      <th>LatLon</th>\n",
       "      <th>Grav_NC</th>\n",
       "      <th>Grav_Total</th>\n",
       "      <th>Grav_Cities</th>\n",
       "      <th>Grav_NP</th>\n",
       "      <th>MaxN_shark</th>\n",
       "      <th>Month</th>\n",
       "      <th>Season</th>\n",
       "      <th>proportional_difference</th>\n",
       "    </tr>\n",
       "  </thead>\n",
       "  <tbody>\n",
       "    <tr>\n",
       "      <th>0</th>\n",
       "      <td>Western Atlantic</td>\n",
       "      <td>1</td>\n",
       "      <td>USA-Western Atlantic</td>\n",
       "      <td>US-A</td>\n",
       "      <td>12</td>\n",
       "      <td>Florida</td>\n",
       "      <td>F</td>\n",
       "      <td>46</td>\n",
       "      <td>Upper Keys 1</td>\n",
       "      <td>slope</td>\n",
       "      <td>...</td>\n",
       "      <td>14</td>\n",
       "      <td>25.000496_-80.38673</td>\n",
       "      <td>0.927931</td>\n",
       "      <td>275</td>\n",
       "      <td>8.072851</td>\n",
       "      <td>0.933005</td>\n",
       "      <td>1</td>\n",
       "      <td>5</td>\n",
       "      <td>Summer</td>\n",
       "      <td>0.049090</td>\n",
       "    </tr>\n",
       "    <tr>\n",
       "      <th>9</th>\n",
       "      <td>Western Atlantic</td>\n",
       "      <td>1</td>\n",
       "      <td>Bahamas</td>\n",
       "      <td>BS</td>\n",
       "      <td>3</td>\n",
       "      <td>San Salvador</td>\n",
       "      <td>SS</td>\n",
       "      <td>33</td>\n",
       "      <td>San Salvador</td>\n",
       "      <td>slope</td>\n",
       "      <td>...</td>\n",
       "      <td>11</td>\n",
       "      <td>24.04949_-74.53631</td>\n",
       "      <td>0.353483</td>\n",
       "      <td>3</td>\n",
       "      <td>1.448604</td>\n",
       "      <td>0.002934</td>\n",
       "      <td>0</td>\n",
       "      <td>5</td>\n",
       "      <td>Summer</td>\n",
       "      <td>0.224044</td>\n",
       "    </tr>\n",
       "    <tr>\n",
       "      <th>18</th>\n",
       "      <td>Western Atlantic</td>\n",
       "      <td>1</td>\n",
       "      <td>Bahamas</td>\n",
       "      <td>BS</td>\n",
       "      <td>3</td>\n",
       "      <td>San Salvador</td>\n",
       "      <td>SS</td>\n",
       "      <td>33</td>\n",
       "      <td>San Salvador</td>\n",
       "      <td>slope</td>\n",
       "      <td>...</td>\n",
       "      <td>11</td>\n",
       "      <td>24.05842_-74.53868</td>\n",
       "      <td>0.353483</td>\n",
       "      <td>3</td>\n",
       "      <td>1.448604</td>\n",
       "      <td>0.002934</td>\n",
       "      <td>0</td>\n",
       "      <td>5</td>\n",
       "      <td>Summer</td>\n",
       "      <td>0.224093</td>\n",
       "    </tr>\n",
       "    <tr>\n",
       "      <th>27</th>\n",
       "      <td>Western Atlantic</td>\n",
       "      <td>1</td>\n",
       "      <td>Bahamas</td>\n",
       "      <td>BS</td>\n",
       "      <td>3</td>\n",
       "      <td>San Salvador</td>\n",
       "      <td>SS</td>\n",
       "      <td>33</td>\n",
       "      <td>San Salvador</td>\n",
       "      <td>slope</td>\n",
       "      <td>...</td>\n",
       "      <td>11</td>\n",
       "      <td>24.08407_-74.53813000000001</td>\n",
       "      <td>0.353483</td>\n",
       "      <td>3</td>\n",
       "      <td>1.448604</td>\n",
       "      <td>0.002934</td>\n",
       "      <td>0</td>\n",
       "      <td>5</td>\n",
       "      <td>Summer</td>\n",
       "      <td>0.221781</td>\n",
       "    </tr>\n",
       "    <tr>\n",
       "      <th>36</th>\n",
       "      <td>Western Atlantic</td>\n",
       "      <td>1</td>\n",
       "      <td>Bahamas</td>\n",
       "      <td>BS</td>\n",
       "      <td>3</td>\n",
       "      <td>San Salvador</td>\n",
       "      <td>SS</td>\n",
       "      <td>33</td>\n",
       "      <td>San Salvador</td>\n",
       "      <td>slope</td>\n",
       "      <td>...</td>\n",
       "      <td>11</td>\n",
       "      <td>24.10889_-74.53123000000001</td>\n",
       "      <td>0.392073</td>\n",
       "      <td>4</td>\n",
       "      <td>1.197989</td>\n",
       "      <td>0.010237</td>\n",
       "      <td>0</td>\n",
       "      <td>5</td>\n",
       "      <td>Summer</td>\n",
       "      <td>0.215085</td>\n",
       "    </tr>\n",
       "  </tbody>\n",
       "</table>\n",
       "<p>5 rows × 91 columns</p>\n",
       "</div>"
      ],
      "text/plain": [
       "         region_name  region_id         location_name location_code  \\\n",
       "0   Western Atlantic          1  USA-Western Atlantic          US-A   \n",
       "9   Western Atlantic          1               Bahamas            BS   \n",
       "18  Western Atlantic          1               Bahamas            BS   \n",
       "27  Western Atlantic          1               Bahamas            BS   \n",
       "36  Western Atlantic          1               Bahamas            BS   \n",
       "\n",
       "    location_id     site_name site_code  site_id     reef_name reef_type  ...  \\\n",
       "0            12       Florida         F       46  Upper Keys 1     slope  ...   \n",
       "9             3  San Salvador        SS       33  San Salvador     slope  ...   \n",
       "18            3  San Salvador        SS       33  San Salvador     slope  ...   \n",
       "27            3  San Salvador        SS       33  San Salvador     slope  ...   \n",
       "36            3  San Salvador        SS       33  San Salvador     slope  ...   \n",
       "\n",
       "   drop_hr                       LatLon   Grav_NC Grav_Total  Grav_Cities  \\\n",
       "0       14          25.000496_-80.38673  0.927931        275     8.072851   \n",
       "9       11           24.04949_-74.53631  0.353483          3     1.448604   \n",
       "18      11           24.05842_-74.53868  0.353483          3     1.448604   \n",
       "27      11  24.08407_-74.53813000000001  0.353483          3     1.448604   \n",
       "36      11  24.10889_-74.53123000000001  0.392073          4     1.197989   \n",
       "\n",
       "     Grav_NP MaxN_shark  Month  Season  proportional_difference  \n",
       "0   0.933005          1      5  Summer                 0.049090  \n",
       "9   0.002934          0      5  Summer                 0.224044  \n",
       "18  0.002934          0      5  Summer                 0.224093  \n",
       "27  0.002934          0      5  Summer                 0.221781  \n",
       "36  0.010237          0      5  Summer                 0.215085  \n",
       "\n",
       "[5 rows x 91 columns]"
      ]
     },
     "execution_count": 24,
     "metadata": {},
     "output_type": "execute_result"
    }
   ],
   "source": [
    "xdata.head()"
   ]
  },
  {
   "cell_type": "code",
   "execution_count": 25,
   "metadata": {},
   "outputs": [
    {
     "data": {
      "text/html": [
       "<div>\n",
       "<style scoped>\n",
       "    .dataframe tbody tr th:only-of-type {\n",
       "        vertical-align: middle;\n",
       "    }\n",
       "\n",
       "    .dataframe tbody tr th {\n",
       "        vertical-align: top;\n",
       "    }\n",
       "\n",
       "    .dataframe thead th {\n",
       "        text-align: right;\n",
       "    }\n",
       "</style>\n",
       "<table border=\"1\" class=\"dataframe\">\n",
       "  <thead>\n",
       "    <tr style=\"text-align: right;\">\n",
       "      <th>Month</th>\n",
       "      <th>1</th>\n",
       "      <th>2</th>\n",
       "      <th>3</th>\n",
       "      <th>4</th>\n",
       "      <th>5</th>\n",
       "      <th>6</th>\n",
       "      <th>7</th>\n",
       "      <th>8</th>\n",
       "      <th>9</th>\n",
       "      <th>10</th>\n",
       "      <th>11</th>\n",
       "      <th>12</th>\n",
       "    </tr>\n",
       "    <tr>\n",
       "      <th>location_name</th>\n",
       "      <th></th>\n",
       "      <th></th>\n",
       "      <th></th>\n",
       "      <th></th>\n",
       "      <th></th>\n",
       "      <th></th>\n",
       "      <th></th>\n",
       "      <th></th>\n",
       "      <th></th>\n",
       "      <th></th>\n",
       "      <th></th>\n",
       "      <th></th>\n",
       "    </tr>\n",
       "  </thead>\n",
       "  <tbody>\n",
       "    <tr>\n",
       "      <th>American Samoa</th>\n",
       "      <td>0</td>\n",
       "      <td>0</td>\n",
       "      <td>0</td>\n",
       "      <td>103</td>\n",
       "      <td>0</td>\n",
       "      <td>0</td>\n",
       "      <td>0</td>\n",
       "      <td>0</td>\n",
       "      <td>0</td>\n",
       "      <td>0</td>\n",
       "      <td>0</td>\n",
       "      <td>0</td>\n",
       "    </tr>\n",
       "    <tr>\n",
       "      <th>Antigua and Barbuda</th>\n",
       "      <td>0</td>\n",
       "      <td>0</td>\n",
       "      <td>0</td>\n",
       "      <td>0</td>\n",
       "      <td>0</td>\n",
       "      <td>0</td>\n",
       "      <td>0</td>\n",
       "      <td>0</td>\n",
       "      <td>0</td>\n",
       "      <td>0</td>\n",
       "      <td>0</td>\n",
       "      <td>79</td>\n",
       "    </tr>\n",
       "    <tr>\n",
       "      <th>Australia IOT</th>\n",
       "      <td>128</td>\n",
       "      <td>0</td>\n",
       "      <td>99</td>\n",
       "      <td>99</td>\n",
       "      <td>255</td>\n",
       "      <td>169</td>\n",
       "      <td>0</td>\n",
       "      <td>0</td>\n",
       "      <td>148</td>\n",
       "      <td>0</td>\n",
       "      <td>0</td>\n",
       "      <td>0</td>\n",
       "    </tr>\n",
       "    <tr>\n",
       "      <th>Australia-Indian Ocean</th>\n",
       "      <td>0</td>\n",
       "      <td>0</td>\n",
       "      <td>0</td>\n",
       "      <td>53</td>\n",
       "      <td>217</td>\n",
       "      <td>0</td>\n",
       "      <td>0</td>\n",
       "      <td>430</td>\n",
       "      <td>696</td>\n",
       "      <td>458</td>\n",
       "      <td>0</td>\n",
       "      <td>75</td>\n",
       "    </tr>\n",
       "    <tr>\n",
       "      <th>Australia-Pacific</th>\n",
       "      <td>150</td>\n",
       "      <td>12</td>\n",
       "      <td>0</td>\n",
       "      <td>129</td>\n",
       "      <td>65</td>\n",
       "      <td>1</td>\n",
       "      <td>0</td>\n",
       "      <td>0</td>\n",
       "      <td>0</td>\n",
       "      <td>0</td>\n",
       "      <td>219</td>\n",
       "      <td>0</td>\n",
       "    </tr>\n",
       "  </tbody>\n",
       "</table>\n",
       "</div>"
      ],
      "text/plain": [
       "Month                    1   2   3    4    5    6   7    8    9    10   11  12\n",
       "location_name                                                                 \n",
       "American Samoa            0   0   0  103    0    0   0    0    0    0    0   0\n",
       "Antigua and Barbuda       0   0   0    0    0    0   0    0    0    0    0  79\n",
       "Australia IOT           128   0  99   99  255  169   0    0  148    0    0   0\n",
       "Australia-Indian Ocean    0   0   0   53  217    0   0  430  696  458    0  75\n",
       "Australia-Pacific       150  12   0  129   65    1   0    0    0    0  219   0"
      ]
     },
     "execution_count": 25,
     "metadata": {},
     "output_type": "execute_result"
    }
   ],
   "source": [
    "tmp = xdata.groupby(['location_name', 'Month'])['reef_id'].agg(['count']).reset_index(level=['Month']).pivot(columns='Month', values='count').fillna(0).astype(int)\n",
    "tmp.head()"
   ]
  },
  {
   "cell_type": "code",
   "execution_count": 26,
   "metadata": {},
   "outputs": [
    {
     "data": {
      "text/plain": [
       "array(['2016-04-06', '2016-12-05', '2013-05-14', '2010-10-01',\n",
       "       '2013-04-22', '2015-01-06', '2017-06-23', '2009-06-21',\n",
       "       '2018-06-24', '2017-07-21', '2016-11-26', '2016-09-23',\n",
       "       '2017-09-20', '2017-01-17', '2016-06-24', '2017-07-14',\n",
       "       '2016-02-24', '2012-01-01', '2017-03-04', '2009-05-11',\n",
       "       '2016-11-11', '2016-04-08', '2010-02-17', '2017-11-27',\n",
       "       '2016-03-24', '2016-01-11', '2017-05-09', '2017-05-11',\n",
       "       '2017-12-01', '2017-05-18', '2016-05-16', '2015-11-15',\n",
       "       '2016-05-20', '2017-10-16', '2016-08-09', '2016-01-07',\n",
       "       '2017-08-31', '2016-09-27', '2016-05-29', '2017-09-25',\n",
       "       '2016-01-16', '2017-06-14', '2016-12-14', '2017-08-02',\n",
       "       '2017-11-29', '2017-01-20', '2015-10-19', '2016-11-02',\n",
       "       '2017-04-05', '2017-04-04', '2017-03-15', '2017-08-28',\n",
       "       '2016-01-06', '2015-10-17', '2012-01-10', '2013-06-22',\n",
       "       '2016-09-24', '2017-07-12'], dtype=object)"
      ]
     },
     "execution_count": 26,
     "metadata": {},
     "output_type": "execute_result"
    }
   ],
   "source": [
    "# National summaries of data collection\n",
    "xdata.groupby('location_name')['set_date'].min().values"
   ]
  },
  {
   "cell_type": "code",
   "execution_count": 27,
   "metadata": {},
   "outputs": [],
   "source": [
    "# National summaries of data collection\n",
    "tmp['Start Date'] = xdata.groupby('location_name')['set_date'].min().values\n",
    "tmp['End Date'] = xdata.groupby('location_name')['set_date'].min().values"
   ]
  },
  {
   "cell_type": "code",
   "execution_count": 28,
   "metadata": {},
   "outputs": [],
   "source": [
    "# Export\n",
    "tmp.to_csv('Sampling_summaries.csv')"
   ]
  },
  {
   "cell_type": "markdown",
   "metadata": {
    "collapsed": true
   },
   "source": [
    "## Import results"
   ]
  },
  {
   "cell_type": "code",
   "execution_count": 29,
   "metadata": {},
   "outputs": [],
   "source": [
    "# Import model results\n",
    "BTrez_SH_full = pd.read_csv('Sharks_ZINB_results_.csv')\n",
    "BTrez_SH_count = pd.read_csv('Sharks_ZINB_full_count_results_.csv')\n",
    "BTrez_SH_null = pd.read_csv('Sharks_ZINB_partial_null_results_.csv')"
   ]
  },
  {
   "cell_type": "code",
   "execution_count": 30,
   "metadata": {},
   "outputs": [
    {
     "data": {
      "text/plain": [
       "(20000, 173)"
      ]
     },
     "execution_count": 30,
     "metadata": {},
     "output_type": "execute_result"
    }
   ],
   "source": [
    "BTrez_SH_full.shape"
   ]
  },
  {
   "cell_type": "code",
   "execution_count": 31,
   "metadata": {},
   "outputs": [],
   "source": [
    "# Import LOO results\n",
    "LOO = pd.read_csv(\"ModelCompLoo_final.csv\")"
   ]
  },
  {
   "cell_type": "code",
   "execution_count": 32,
   "metadata": {},
   "outputs": [
    {
     "data": {
      "text/html": [
       "<div>\n",
       "<style scoped>\n",
       "    .dataframe tbody tr th:only-of-type {\n",
       "        vertical-align: middle;\n",
       "    }\n",
       "\n",
       "    .dataframe tbody tr th {\n",
       "        vertical-align: top;\n",
       "    }\n",
       "\n",
       "    .dataframe thead th {\n",
       "        text-align: right;\n",
       "    }\n",
       "</style>\n",
       "<table border=\"1\" class=\"dataframe\">\n",
       "  <thead>\n",
       "    <tr style=\"text-align: right;\">\n",
       "      <th></th>\n",
       "      <th>Unnamed: 0</th>\n",
       "      <th>rank</th>\n",
       "      <th>loo</th>\n",
       "      <th>p_loo</th>\n",
       "      <th>d_loo</th>\n",
       "      <th>weight</th>\n",
       "      <th>se</th>\n",
       "      <th>dse</th>\n",
       "      <th>warning</th>\n",
       "      <th>loo_scale</th>\n",
       "    </tr>\n",
       "  </thead>\n",
       "  <tbody>\n",
       "    <tr>\n",
       "      <th>0</th>\n",
       "      <td>ZINB_full</td>\n",
       "      <td>0</td>\n",
       "      <td>27583.702069</td>\n",
       "      <td>301.874593</td>\n",
       "      <td>0.000000</td>\n",
       "      <td>7.706269e-01</td>\n",
       "      <td>283.928392</td>\n",
       "      <td>0.000000</td>\n",
       "      <td>False</td>\n",
       "      <td>deviance</td>\n",
       "    </tr>\n",
       "    <tr>\n",
       "      <th>1</th>\n",
       "      <td>ZINB_full_count</td>\n",
       "      <td>1</td>\n",
       "      <td>27588.331872</td>\n",
       "      <td>304.962335</td>\n",
       "      <td>4.629803</td>\n",
       "      <td>1.611807e-01</td>\n",
       "      <td>247.223487</td>\n",
       "      <td>3.780513</td>\n",
       "      <td>False</td>\n",
       "      <td>deviance</td>\n",
       "    </tr>\n",
       "    <tr>\n",
       "      <th>2</th>\n",
       "      <td>ZINB_partial_null</td>\n",
       "      <td>2</td>\n",
       "      <td>27594.670910</td>\n",
       "      <td>310.045375</td>\n",
       "      <td>10.968841</td>\n",
       "      <td>6.819247e-02</td>\n",
       "      <td>247.128875</td>\n",
       "      <td>6.619924</td>\n",
       "      <td>False</td>\n",
       "      <td>deviance</td>\n",
       "    </tr>\n",
       "    <tr>\n",
       "      <th>3</th>\n",
       "      <td>non_ZI_full</td>\n",
       "      <td>3</td>\n",
       "      <td>27738.835565</td>\n",
       "      <td>288.423006</td>\n",
       "      <td>155.133496</td>\n",
       "      <td>2.983906e-19</td>\n",
       "      <td>247.515099</td>\n",
       "      <td>29.428213</td>\n",
       "      <td>False</td>\n",
       "      <td>deviance</td>\n",
       "    </tr>\n",
       "    <tr>\n",
       "      <th>4</th>\n",
       "      <td>non_ZI_partial_null</td>\n",
       "      <td>4</td>\n",
       "      <td>27739.616104</td>\n",
       "      <td>289.643251</td>\n",
       "      <td>155.914035</td>\n",
       "      <td>4.937138e-20</td>\n",
       "      <td>247.446635</td>\n",
       "      <td>29.720998</td>\n",
       "      <td>False</td>\n",
       "      <td>deviance</td>\n",
       "    </tr>\n",
       "    <tr>\n",
       "      <th>5</th>\n",
       "      <td>Null</td>\n",
       "      <td>5</td>\n",
       "      <td>37081.397375</td>\n",
       "      <td>2.479854</td>\n",
       "      <td>9497.695306</td>\n",
       "      <td>0.000000e+00</td>\n",
       "      <td>247.187333</td>\n",
       "      <td>160.883542</td>\n",
       "      <td>False</td>\n",
       "      <td>deviance</td>\n",
       "    </tr>\n",
       "  </tbody>\n",
       "</table>\n",
       "</div>"
      ],
      "text/plain": [
       "            Unnamed: 0  rank           loo       p_loo        d_loo  \\\n",
       "0            ZINB_full     0  27583.702069  301.874593     0.000000   \n",
       "1      ZINB_full_count     1  27588.331872  304.962335     4.629803   \n",
       "2    ZINB_partial_null     2  27594.670910  310.045375    10.968841   \n",
       "3          non_ZI_full     3  27738.835565  288.423006   155.133496   \n",
       "4  non_ZI_partial_null     4  27739.616104  289.643251   155.914035   \n",
       "5                 Null     5  37081.397375    2.479854  9497.695306   \n",
       "\n",
       "         weight          se         dse  warning loo_scale  \n",
       "0  7.706269e-01  283.928392    0.000000    False  deviance  \n",
       "1  1.611807e-01  247.223487    3.780513    False  deviance  \n",
       "2  6.819247e-02  247.128875    6.619924    False  deviance  \n",
       "3  2.983906e-19  247.515099   29.428213    False  deviance  \n",
       "4  4.937138e-20  247.446635   29.720998    False  deviance  \n",
       "5  0.000000e+00  247.187333  160.883542    False  deviance  "
      ]
     },
     "execution_count": 32,
     "metadata": {},
     "output_type": "execute_result"
    }
   ],
   "source": [
    "LOO"
   ]
  },
  {
   "cell_type": "code",
   "execution_count": 33,
   "metadata": {},
   "outputs": [],
   "source": [
    "# Extract weights\n",
    "loo_f = LOO.weight[LOO['Unnamed: 0']=='ZINB_full'].values[0]\n",
    "loo_c = LOO.weight[LOO['Unnamed: 0']=='ZINB_full_count'].values[0]\n",
    "loo_n = LOO.weight[LOO['Unnamed: 0']=='ZINB_partial_null'].values[0]"
   ]
  },
  {
   "cell_type": "code",
   "execution_count": 34,
   "metadata": {},
   "outputs": [],
   "source": [
    "BTrez_ = [BTrez_SH_full]\n",
    "BTlabs = ['Sharks']\n",
    "\n",
    "nfg = len(BTrez_)"
   ]
  },
  {
   "cell_type": "code",
   "execution_count": 154,
   "metadata": {},
   "outputs": [
    {
     "data": {
      "text/plain": [
       "[       Unnamed: 0  Global_rate   pi_t__0   pi_t__1   pi_t__2   pi_t__3  \\\n",
       " 0               0    -1.285539  1.089769  0.753630 -2.138018  0.479844   \n",
       " 1               1    -1.123596 -0.262061  0.207980  0.159693 -0.659295   \n",
       " 2               2    -1.430927 -0.325527  0.761736  0.323992 -0.671582   \n",
       " 3               3    -1.071492 -0.117499  0.410933  0.267673 -0.293057   \n",
       " 4               4    -1.083546 -0.102902  0.634088 -1.360186 -0.034393   \n",
       " ...           ...          ...       ...       ...       ...       ...   \n",
       " 19995       19995    -1.439269  0.006257 -0.298369 -0.817486 -0.504816   \n",
       " 19996       19996    -1.335059 -0.186685 -0.568433 -0.687748 -1.358703   \n",
       " 19997       19997    -1.175231  0.025823 -0.529290 -0.121762 -0.549378   \n",
       " 19998       19998    -1.414127  0.581304  1.073715 -1.778889  0.440891   \n",
       " 19999       19999    -1.306035  0.154936  1.308817  0.280636 -1.086331   \n",
       " \n",
       "        Sanctuary  CoastLength  η0_USA-Western Atlantic  η0_Bahamas  ...  \\\n",
       " 0       0.875055     0.066517                -0.435064   -0.392092  ...   \n",
       " 1       0.722228    -0.260341                -0.828884   -0.880876  ...   \n",
       " 2       0.791715    -0.031099                -1.020881   -1.166712  ...   \n",
       " 3       0.709629    -0.038210                -0.882062   -0.980241  ...   \n",
       " 4       0.599931    -0.140554                -0.843994   -0.326318  ...   \n",
       " ...          ...          ...                      ...         ...  ...   \n",
       " 19995   0.710117     0.024100                -1.333092   -0.623592  ...   \n",
       " 19996   0.672096    -0.066094                -1.074561   -0.722581  ...   \n",
       " 19997   0.905198    -0.197575                -1.194922   -0.960677  ...   \n",
       " 19998   1.273693    -0.324084                -0.228420   -0.447575  ...   \n",
       " 19999   1.028251    -0.414402                -0.447147   -0.329681  ...   \n",
       " \n",
       "        Regional_rate_Western Pacific      σ0_η      σ0_κ    σ0_υ_z  \\\n",
       " 0                          -1.206970  0.463258  0.966072  0.304027   \n",
       " 1                          -1.528607  0.555895  0.964147  3.802391   \n",
       " 2                          -1.729647  0.517181  0.922874  1.120814   \n",
       " 3                          -1.133962  0.470958  0.929032  0.590639   \n",
       " 4                          -1.089745  0.381130  0.962670  0.517791   \n",
       " ...                              ...       ...       ...       ...   \n",
       " 19995                      -1.574540  0.340579  0.956645  0.413352   \n",
       " 19996                      -1.657526  0.394117  1.000534  0.529843   \n",
       " 19997                      -1.543270  0.476114  0.908423  1.725671   \n",
       " 19998                      -1.384360  0.448828  0.986701  0.389259   \n",
       " 19999                      -1.595220  0.410708  0.949752  1.444122   \n",
       " \n",
       "        Regional_zeros__0  Regional_zeros__1  Regional_zeros__2  \\\n",
       " 0               0.111848          -0.039467           0.011109   \n",
       " 1               2.603226           9.232077           3.973969   \n",
       " 2               2.202529           2.451738           1.366747   \n",
       " 3               5.729479           6.116429           6.006716   \n",
       " 4              -1.043936          -0.729879          -1.233484   \n",
       " ...                  ...                ...                ...   \n",
       " 19995           6.610049           6.667087           6.155798   \n",
       " 19996          12.084304          12.418773          12.720903   \n",
       " 19997           3.402214           4.481204           3.453015   \n",
       " 19998           6.465309           6.988004           6.570880   \n",
       " 19999           2.588993           3.117418           2.052643   \n",
       " \n",
       "        Regional_zeros__3    σ0_η_z     alpha  \n",
       " 0              -0.126841  5.663745  8.428898  \n",
       " 1               4.023808  7.306670  5.478192  \n",
       " 2               0.898267  8.446653  8.536259  \n",
       " 3               6.531422  9.502367  5.390560  \n",
       " 4              -1.420697  7.368738  7.443404  \n",
       " ...                  ...       ...       ...  \n",
       " 19995           5.807139  7.104517  5.659059  \n",
       " 19996          12.661641  9.665711  6.752846  \n",
       " 19997           3.706436  6.435321  5.822736  \n",
       " 19998           6.895688  7.886578  7.017651  \n",
       " 19999           3.403866  8.080173  6.953621  \n",
       " \n",
       " [20000 rows x 173 columns]]"
      ]
     },
     "execution_count": 154,
     "metadata": {},
     "output_type": "execute_result"
    }
   ],
   "source": [
    "BTrez_"
   ]
  },
  {
   "cell_type": "code",
   "execution_count": 153,
   "metadata": {},
   "outputs": [
    {
     "data": {
      "text/plain": [
       "1"
      ]
     },
     "execution_count": 153,
     "metadata": {},
     "output_type": "execute_result"
    }
   ],
   "source": [
    "len(BTrez_)"
   ]
  },
  {
   "cell_type": "code",
   "execution_count": 35,
   "metadata": {},
   "outputs": [
    {
     "data": {
      "text/plain": [
       "array(['USA-Western Atlantic', 'Bahamas', 'Australia-Pacific',\n",
       "       'Australia IOT', 'Maldives', 'Malaysia', 'Solomon Islands',\n",
       "       'Indonesia', 'Palau', 'American Samoa', 'New Caledonia', 'Belize',\n",
       "       'Jamaica', 'Trinidad and Tobago', 'Vanuatu', 'British West Indies',\n",
       "       'Fiji', 'Colombia', 'Australia-Indian Ocean', 'South Africa',\n",
       "       'Mozambique', 'Niue', 'Japan', 'Seychelles', 'Taiwan', 'Kiribati',\n",
       "       'Qatar', 'Federated States of Micronesia', 'Vietnam',\n",
       "       'Philippines', 'French Polynesia', 'Samoa', 'Turks and Caicos',\n",
       "       'Antigua and Barbuda', 'Barbados', 'Brazil', 'Columbia SF',\n",
       "       'Jamaica PB', 'Mayotte', 'USA-Pacific', 'Sri Lanka', 'Tanzania',\n",
       "       'Papua New Guinea', 'Tonga', 'New Zealand', 'India', 'Kenya',\n",
       "       'Dutch Antilles Windward', 'Madagascar', 'Saudi Arabia-Red Sea',\n",
       "       'Guam', 'Cook Islands', 'Dominican Republic', 'French West Indies',\n",
       "       'Dutch Antilles Leeward', 'Cuba', 'Bermuda', 'Puerto Rico'],\n",
       "      dtype='<U30')"
      ]
     },
     "execution_count": 35,
     "metadata": {},
     "output_type": "execute_result"
    }
   ],
   "source": [
    "np.array(LocationR)"
   ]
  },
  {
   "cell_type": "code",
   "execution_count": 36,
   "metadata": {},
   "outputs": [],
   "source": [
    "beta_Region_f = BTrez_SH_full[grep('Regional_rate',BTrez_SH_full.columns.values)]*loo_f\n",
    "beta_Region_c = BTrez_SH_count[grep('Regional_rate',BTrez_SH_count.columns.values)]*loo_c\n",
    "beta_Region_n = BTrez_SH_null[grep('Regional_rate',BTrez_SH_null.columns.values)]*loo_n"
   ]
  },
  {
   "cell_type": "code",
   "execution_count": 37,
   "metadata": {},
   "outputs": [
    {
     "data": {
      "text/plain": [
       "['Summer', 'Winter', 'Shoulder']"
      ]
     },
     "execution_count": 37,
     "metadata": {},
     "output_type": "execute_result"
    }
   ],
   "source": [
    "SEA"
   ]
  },
  {
   "cell_type": "code",
   "execution_count": 38,
   "metadata": {},
   "outputs": [
    {
     "data": {
      "text/plain": [
       "(31, 31)"
      ]
     },
     "execution_count": 38,
     "metadata": {},
     "output_type": "execute_result"
    }
   ],
   "source": [
    "params =[]\n",
    "\n",
    "# Global rate\n",
    "beta_global = BTrez_SH_full[BTrez_SH_full.columns[list(BTrez_SH_full.columns.values).index('Global_rate')]].values*loo_f+BTrez_SH_count[BTrez_SH_count.columns[list(BTrez_SH_count.columns.values).index('Global_rate')]].values*loo_c+BTrez_SH_full[BTrez_SH_full.columns[list(BTrez_SH_full.columns.values).index('Global_rate')]].values*loo_n\n",
    "\n",
    "# Regional rates\n",
    "beta_Region_f = BTrez_SH_full[grep('Regional_rate',BTrez_SH_full.columns.values)]*loo_f\n",
    "beta_Region_c = BTrez_SH_count[grep('Regional_rate',BTrez_SH_count.columns.values)]*loo_c\n",
    "beta_Region_n = BTrez_SH_null[grep('Regional_rate',BTrez_SH_null.columns.values)]*loo_n\n",
    "beta_Region = beta_Region_f+beta_Region_c+beta_Region_n\n",
    "beta_Region.columns = [x[14:] for x in beta_Region.columns]\n",
    "\n",
    "# Grab reef type\n",
    "beta_Reef_type_f = BTrez_SH_full[grep('Reef_type',BTrez_SH_full.columns.values)]*loo_f\n",
    "beta_Reef_type_c = BTrez_SH_count[grep('Reef_type',BTrez_SH_count.columns.values)]*loo_c\n",
    "beta_Reef_type_n = BTrez_SH_null[grep('Reef_type',BTrez_SH_null.columns.values)]*loo_n\n",
    "beta_Reef_type = beta_Reef_type_f+beta_Reef_type_c+beta_Reef_type_n\n",
    "beta_Reef_type.columns = [x[10:] for x in beta_Reef_type.columns]\n",
    "\n",
    "# Grab bait type\n",
    "beta_Bait_type_f = BTrez_SH_full[grep('Bait_type',BTrez_SH_full.columns.values)]*loo_f\n",
    "beta_Bait_type_c = BTrez_SH_count[grep('Bait_type',BTrez_SH_count.columns.values)]*loo_c\n",
    "beta_Bait_type_n = BTrez_SH_null[grep('Bait_type',BTrez_SH_null.columns.values)]*loo_n\n",
    "beta_Bait_type = beta_Bait_type_f+beta_Bait_type_c+beta_Bait_type_n\n",
    "\n",
    "# Seasonality\n",
    "beta_Seasonality_f = BTrez_SH_full[grep('Seasonality',BTrez_SH_full.columns.values)]*loo_f\n",
    "beta_Seasonality_c = BTrez_SH_count[grep('Seasonality',BTrez_SH_count.columns.values)]*loo_c\n",
    "beta_Seasonality_n = BTrez_SH_null[grep('Seasonality',BTrez_SH_null.columns.values)]*loo_n\n",
    "beta_Seasonality = beta_Seasonality_f+beta_Seasonality_c+beta_Seasonality_n\n",
    "beta_Seasonality.columns = SEA[1:]\n",
    "\n",
    "# National scale\n",
    "#beta_HDI = BTrez_SH_full[BTrez_SH_full.columns[list(BTrez_SH_full.columns.values).index('HDI')]].values*loo_f+BTrez_SH_count[BTrez_SH_count.columns[list(BTrez_SH_count.columns.values).index('HDI')]].values*loo_c\n",
    "#beta_VOICE = BTrez_SH_full[BTrez_SH_full.columns[list(BTrez_SH_full.columns.values).index('VOICE')]].values*loo_f+BTrez_SH_count[BTrez_SH_count.columns[list(BTrez_SH_count.columns.values).index('VOICE')]].values*loo_c\n",
    "#beta_POP = BTrez_SH_full[BTrez_SH_full.columns[list(BTrez_SH_full.columns.values).index('POP')]].values*loo_f+BTrez_SH_count[BTrez_SH_count.columns[list(BTrez_SH_count.columns.values).index('POP')]].values*loo_c\n",
    "beta_HDI = BTrez_SH_full[BTrez_SH_full.columns[list(BTrez_SH_full.columns.values).index('HDI')]].values*loo_f\n",
    "beta_VOICE = BTrez_SH_full[BTrez_SH_full.columns[list(BTrez_SH_full.columns.values).index('VOICE')]].values*loo_f\n",
    "beta_POP = BTrez_SH_full[BTrez_SH_full.columns[list(BTrez_SH_full.columns.values).index('POP')]].values*loo_f\n",
    "\n",
    "\n",
    "beta_HDI_c = BTrez_SH_count[BTrez_SH_count.columns[list(BTrez_SH_count.columns.values).index('HDI')]].values*loo_c\n",
    "beta_VOICE_c = BTrez_SH_count[BTrez_SH_count.columns[list(BTrez_SH_count.columns.values).index('POP')]].values*loo_c\n",
    "beta_POP_c = BTrez_SH_count[BTrez_SH_count.columns[list(BTrez_SH_count.columns.values).index('POP')]].values*loo_c\n",
    "\n",
    "beta_Sanctuary = BTrez_SH_full[BTrez_SH_full.columns[list(BTrez_SH_full.columns.values).index('Sanctuary')]].values*loo_f+BTrez_SH_count[BTrez_SH_count.columns[list(BTrez_SH_count.columns.values).index('Sanctuary')]].values*loo_c\n",
    "beta_CoastL = BTrez_SH_full[BTrez_SH_full.columns[list(BTrez_SH_full.columns.values).index('CoastLength')]].values*loo_f+BTrez_SH_count[BTrez_SH_count.columns[list(BTrez_SH_count.columns.values).index('CoastLength')]].values*loo_c\n",
    "\n",
    "# Reef scale\n",
    "beta_clo = BTrez_SH_full[BTrez_SH_full.columns[list(BTrez_SH_full.columns.values).index('Closed')]].values*loo_f+BTrez_SH_count[BTrez_SH_count.columns[list(BTrez_SH_count.columns.values).index('Closed')]].values*loo_c\n",
    "beta_HIC = BTrez_SH_full[BTrez_SH_full.columns[list(BTrez_SH_full.columns.values).index('High_compliance')]].values*loo_f+BTrez_SH_count[BTrez_SH_count.columns[list(BTrez_SH_count.columns.values).index('High_compliance')]].values*loo_c\n",
    "beta_Remote = BTrez_SH_full[BTrez_SH_full.columns[list(BTrez_SH_full.columns.values).index('Remote')]].values*loo_f+BTrez_SH_count[BTrez_SH_count.columns[list(BTrez_SH_count.columns.values).index('Remote')]].values*loo_c\n",
    "beta_MPAsize = BTrez_SH_full[BTrez_SH_full.columns[list(BTrez_SH_full.columns.values).index('MPA_size')]].values*loo_f+BTrez_SH_count[BTrez_SH_count.columns[list(BTrez_SH_count.columns.values).index('MPA_size')]].values*loo_c\n",
    "\n",
    "\n",
    "beta_Gill = BTrez_SH_full[BTrez_SH_full.columns[list(BTrez_SH_full.columns.values).index('Gillnet_longline')]].values*loo_f+BTrez_SH_count[BTrez_SH_count.columns[list(BTrez_SH_count.columns.values).index('Gillnet_longline')]].values*loo_c\n",
    "\n",
    "beta_Drumline = BTrez_SH_full[BTrez_SH_full.columns[list(BTrez_SH_full.columns.values).index('Drumline')]].values*loo_f+BTrez_SH_count[BTrez_SH_count.columns[list(BTrez_SH_count.columns.values).index('Drumline')]].values*loo_c\n",
    "beta_HookLine = BTrez_SH_full[BTrez_SH_full.columns[list(BTrez_SH_full.columns.values).index('HookLine')]].values*loo_f+BTrez_SH_count[BTrez_SH_count.columns[list(BTrez_SH_count.columns.values).index('HookLine')]].values*loo_c\n",
    "\n",
    "beta_Catch = BTrez_SH_full[BTrez_SH_full.columns[list(BTrez_SH_full.columns.values).index('Catch')]].values*loo_f+BTrez_SH_count[BTrez_SH_count.columns[list(BTrez_SH_count.columns.values).index('Catch')]].values*loo_c\n",
    "beta_Temporal = BTrez_SH_full[BTrez_SH_full.columns[list(BTrez_SH_full.columns.values).index('Temporal')]].values*loo_f+BTrez_SH_count[BTrez_SH_count.columns[list(BTrez_SH_count.columns.values).index('Temporal')]].values*loo_c\n",
    "beta_Spp = BTrez_SH_full[BTrez_SH_full.columns[list(BTrez_SH_full.columns.values).index('Species')]].values*loo_f+BTrez_SH_count[BTrez_SH_count.columns[list(BTrez_SH_count.columns.values).index('Species')]].values*loo_c\n",
    "\n",
    "beta_Gravity_NP = BTrez_SH_full[BTrez_SH_full.columns[list(BTrez_SH_full.columns.values).index('Gravity_NP')]].values*loo_f+BTrez_SH_count[BTrez_SH_count.columns[list(BTrez_SH_count.columns.values).index('Gravity_NP')]].values*loo_c\n",
    "beta_Gravity_NC = BTrez_SH_full[BTrez_SH_full.columns[list(BTrez_SH_full.columns.values).index('Gravity_NC')]].values*loo_f+BTrez_SH_count[BTrez_SH_count.columns[list(BTrez_SH_count.columns.values).index('Gravity_NC')]].values*loo_c\n",
    "\n",
    "# Set scale\n",
    "beta_vis = BTrez_SH_full[BTrez_SH_full.columns[list(BTrez_SH_full.columns.values).index('Visibililty')]].values*loo_f+BTrez_SH_count[BTrez_SH_count.columns[list(BTrez_SH_count.columns.values).index('Visibililty')]].values*loo_c+BTrez_SH_full[BTrez_SH_full.columns[list(BTrez_SH_full.columns.values).index('Visibililty')]].values*loo_n\n",
    "beta_hc = BTrez_SH_full[BTrez_SH_full.columns[list(BTrez_SH_full.columns.values).index('Hard_coral')]].values*loo_f+BTrez_SH_count[BTrez_SH_count.columns[list(BTrez_SH_count.columns.values).index('Hard_coral')]].values*loo_c+BTrez_SH_full[BTrez_SH_full.columns[list(BTrez_SH_full.columns.values).index('Hard_coral')]].values*loo_n\n",
    "beta_rug = BTrez_SH_full[BTrez_SH_full.columns[list(BTrez_SH_full.columns.values).index('Rugosity')]].values*loo_f+BTrez_SH_count[BTrez_SH_count.columns[list(BTrez_SH_count.columns.values).index('Rugosity')]].values*loo_c+BTrez_SH_full[BTrez_SH_full.columns[list(BTrez_SH_full.columns.values).index('Rugosity')]].values*loo_n\n",
    "beta_Depth = BTrez_SH_full[BTrez_SH_full.columns[list(BTrez_SH_full.columns.values).index('Depth')]].values*loo_f+BTrez_SH_count[BTrez_SH_count.columns[list(BTrez_SH_count.columns.values).index('Depth')]].values*loo_c+BTrez_SH_full[BTrez_SH_full.columns[list(BTrez_SH_full.columns.values).index('Depth')]].values*loo_n\n",
    "beta_Time = BTrez_SH_full[BTrez_SH_full.columns[list(BTrez_SH_full.columns.values).index('TimeODay')]].values*loo_f+BTrez_SH_count[BTrez_SH_count.columns[list(BTrez_SH_count.columns.values).index('TimeODay')]].values*loo_c+BTrez_SH_full[BTrez_SH_full.columns[list(BTrez_SH_full.columns.values).index('TimeODay')]].values*loo_n\n",
    "\n",
    "\n",
    "params += [ [beta_HDI, beta_VOICE, beta_POP, beta_Sanctuary, beta_CoastL, beta_clo, beta_MPAsize, beta_HIC, beta_Remote, beta_Gill, beta_Drumline,beta_HookLine, beta_Catch, beta_Temporal, beta_Spp, beta_Gravity_NP, beta_Gravity_NC, beta_vis, beta_hc, beta_rug, beta_Depth, beta_Seasonality['Winter'], beta_Seasonality['Shoulder']] + [beta_Reef_type.iloc[:, i].values for i in range(len(beta_Reef_type.columns))]+[beta_Region.iloc[:, i].values-beta_global for i in range(len(beta_Region.columns))]]\n",
    "\n",
    "    \n",
    "parmlabels = ['HDI', 'Voice & accountability','Population size', 'Shark sanctuary', 'Coast length', 'Closed', 'MPA size', 'High compliance', 'Remote', 'Gillnet/longline', 'Drumline', 'Hook and line', 'Catch limit', 'Temporal limit', 'Species restriction', 'Gravity NP','Gravity NC', 'Visibility', 'Hard coral', 'Rugosity', 'Depth', 'Winter', 'Shoulder']+list(beta_Reef_type.columns)+['Western Atlantic', 'Central Pacific', 'Indian Ocean', 'Western Pacific']\n",
    "\n",
    "nparms = len(params[0])\n",
    "nparms, len(parmlabels), "
   ]
  },
  {
   "cell_type": "code",
   "execution_count": 39,
   "metadata": {},
   "outputs": [
    {
     "data": {
      "text/plain": [
       "0.09647479153159569"
      ]
     },
     "execution_count": 39,
     "metadata": {},
     "output_type": "execute_result"
    }
   ],
   "source": [
    "np.quantile(BTrez_SH_count[BTrez_SH_count.columns[list(BTrez_SH_count.columns.values).index('POP')]].values,0.5,axis=0)"
   ]
  },
  {
   "cell_type": "code",
   "execution_count": 40,
   "metadata": {},
   "outputs": [
    {
     "data": {
      "image/png": "[encoded data removed]",
      "text/plain": [
       "<Figure size 1080x1368 with 3 Axes>"
      ]
     },
     "metadata": {},
     "output_type": "display_data"
    }
   ],
   "source": [
    "# Set up variables\n",
    "varlist1 = [\"Global_rate\",\"Regional_rate\",\"CoastLength\",\"Sanctuary\",\"Reef_type\",\"Visibililty\",\"Hard_coral\",\"Rugosity\"\n",
    "            ,\"Depth\",\"Bait_type\",\"Seasonality\"][::-1]\n",
    "varlist2 = [\"Gravity_NP\",\"Gravity_NC\",\"Catch\",\"Temporal\",\"Species\",\"Closed\",\"High_compliance\",\"MPA_size\",\"Remote\",\n",
    "            \"Gillnet_longline\", \"Drumline\", \"HookLine\"][::-1]\n",
    "varlist2b = [\"HDI\",\"VOICE\",\"POP\"]\n",
    "varlist3 = [\"Global_zeros\",\"Regional_zeros\",\"HDI\",\"VOICE\",\"POP\"][::-1]\n",
    "\n",
    "\n",
    "# Set up plot\n",
    "fig = plt.figure(figsize=(15, 19))\n",
    "gs = mp.gridspec.GridSpec(1, 3)\n",
    "ax = np.array([fig.add_subplot(gs[i,j]) for i in range(1) for j in range(3)]).reshape(1,3)[0]\n",
    "# Offset\n",
    "oset = 0.12\n",
    "# Point size\n",
    "sx = 40\n",
    "\n",
    "# Variable list 1\n",
    "ax[0].plot(1,1,marker=\"\")\n",
    "ax[0].set_ylim(0,20)\n",
    "ax[0].set_xlim(-1.5,1.5)\n",
    "\n",
    "# Axis labels\n",
    "alab = []\n",
    "\n",
    "# Seasonality\n",
    "tmp_f = BTrez_SH_full[grep('Seasonality',BTrez_SH_full.columns.values)]\n",
    "tmp_c = BTrez_SH_count[grep('Seasonality',BTrez_SH_count.columns.values)]\n",
    "tmp_n = BTrez_SH_null[grep('Seasonality',BTrez_SH_null.columns.values)]\n",
    "ax[0].scatter(np.median(tmp_f,axis=0),[1,2],s=sx,c='black',marker='s')\n",
    "ax[0].scatter(np.median(tmp_c,axis=0),[1+oset,2+oset],s=sx,c='black',marker='^')\n",
    "ax[0].scatter(np.median(tmp_n,axis=0),[1+oset*2,2+oset*2],s=sx,c='black',marker='v')\n",
    "ax[0].scatter(np.median(beta_Seasonality,axis=0),[1+oset*3,2+oset*3],s=sx,c='black',marker='o')\n",
    "ax[0].plot(np.quantile(tmp_f,(0.05,0.95),axis=0).T[0],[1,1],c='black')\n",
    "ax[0].plot(np.quantile(tmp_f,(0.05,0.95),axis=0).T[1],[2,2],c='black')\n",
    "ax[0].plot(np.quantile(tmp_c,(0.05,0.95),axis=0).T[0],[1+oset,1+oset],c='black')\n",
    "ax[0].plot(np.quantile(tmp_c,(0.05,0.95),axis=0).T[1],[2+oset,2+oset],c='black')\n",
    "ax[0].plot(np.quantile(tmp_n,(0.05,0.95),axis=0).T[0],[1+oset*2,1+oset*2],c='black')\n",
    "ax[0].plot(np.quantile(tmp_n,(0.05,0.95),axis=0).T[1],[2+oset*2,2+oset*2],c='black')\n",
    "ax[0].plot(np.quantile(beta_Seasonality,(0.05,0.95),axis=0).T[0],[1+oset*3,1+oset*3],c='black')\n",
    "ax[0].plot(np.quantile(beta_Seasonality,(0.05,0.95),axis=0).T[1],[2+oset*3,2+oset*3],c='black')\n",
    "alab += SEA[1:]\n",
    "\n",
    "# Bait type\n",
    "tmp_f = BTrez_SH_full[grep('Bait_type',BTrez_SH_full.columns.values)]\n",
    "tmp_c = BTrez_SH_count[grep('Bait_type',BTrez_SH_count.columns.values)]\n",
    "tmp_n = BTrez_SH_null[grep('Bait_type',BTrez_SH_null.columns.values)]\n",
    "ax[0].scatter(np.median(tmp_f,axis=0),[3,4,5,6],s=sx,c='black',marker='s')\n",
    "ax[0].scatter(np.median(tmp_c,axis=0),[3+oset,4+oset,5+oset,6+oset],s=sx,c='black',marker='^')\n",
    "ax[0].scatter(np.median(tmp_n,axis=0),[3+oset*2,4+oset*2,5+oset*2,6+oset*2],s=sx,c='black',marker='v')\n",
    "ax[0].scatter(np.median(beta_Bait_type,axis=0),[3+oset*3,4+oset*3,5+oset*3,6+oset*3],s=sx,c='black',marker='o')\n",
    "ax[0].plot(np.quantile(tmp_f,(0.05,0.95),axis=0).T[0],[3,3],c='black')\n",
    "ax[0].plot(np.quantile(tmp_f,(0.05,0.95),axis=0).T[1],[4,4],c='black')\n",
    "ax[0].plot(np.quantile(tmp_f,(0.05,0.95),axis=0).T[2],[5,5],c='black')\n",
    "ax[0].plot(np.quantile(tmp_f,(0.05,0.95),axis=0).T[3],[6,6],c='black')\n",
    "ax[0].plot(np.quantile(tmp_c,(0.05,0.95),axis=0).T[0],[3+oset,3+oset],c='black')\n",
    "ax[0].plot(np.quantile(tmp_c,(0.05,0.95),axis=0).T[1],[4+oset,4+oset],c='black')\n",
    "ax[0].plot(np.quantile(tmp_c,(0.05,0.95),axis=0).T[2],[5+oset,5+oset],c='black')\n",
    "ax[0].plot(np.quantile(tmp_c,(0.05,0.95),axis=0).T[3],[6+oset,6+oset],c='black')\n",
    "ax[0].plot(np.quantile(tmp_n,(0.05,0.95),axis=0).T[0],[3+oset*2,3+oset*2],c='black')\n",
    "ax[0].plot(np.quantile(tmp_n,(0.05,0.95),axis=0).T[1],[4+oset*2,4+oset*2],c='black')\n",
    "ax[0].plot(np.quantile(tmp_n,(0.05,0.95),axis=0).T[2],[5+oset*2,5+oset*2],c='black')\n",
    "ax[0].plot(np.quantile(tmp_n,(0.05,0.95),axis=0).T[3],[6+oset*2,6+oset*2],c='black')\n",
    "ax[0].plot(np.quantile(beta_Bait_type,(0.05,0.95),axis=0).T[0],[3+oset*3,3+oset*3],c='black')\n",
    "ax[0].plot(np.quantile(beta_Bait_type,(0.05,0.95),axis=0).T[1],[4+oset*3,4+oset*3],c='black')\n",
    "ax[0].plot(np.quantile(beta_Bait_type,(0.05,0.95),axis=0).T[2],[5+oset*3,5+oset*3],c='black')\n",
    "ax[0].plot(np.quantile(beta_Bait_type,(0.05,0.95),axis=0).T[3],[6+oset*3,6+oset*3],c='black')\n",
    "alab += [b+' bait' for b in BAIT[1:]]\n",
    "\n",
    "# Time of day\n",
    "tmp_f = BTrez_SH_full[BTrez_SH_full.columns[list(BTrez_SH_full.columns.values).index('TimeODay')]].values\n",
    "tmp_c = BTrez_SH_count[BTrez_SH_count.columns[list(BTrez_SH_count.columns.values).index('TimeODay')]].values\n",
    "tmp_n = BTrez_SH_null[BTrez_SH_null.columns[list(BTrez_SH_null.columns.values).index('TimeODay')]].values\n",
    "beta_TimeODay = tmp_f*loo_f+tmp_c*loo_c+tmp_n*loo_n\n",
    "ax[0].scatter(np.median(tmp_f),7,s=sx,c='black',marker='s')\n",
    "ax[0].scatter(np.median(tmp_c),7+oset,s=sx,c='black',marker='^')\n",
    "ax[0].scatter(np.median(tmp_n),7+oset*2,s=sx,c='black',marker='v')\n",
    "ax[0].scatter(np.median(beta_TimeODay),7+oset*3,s=sx,c='black',marker='o')\n",
    "ax[0].plot(np.quantile(tmp_f,(0.05,0.95)),[7,7],c='black')\n",
    "ax[0].plot(np.quantile(tmp_c,(0.05,0.95)),[7+oset,7+oset],c='black')\n",
    "ax[0].plot(np.quantile(tmp_n,(0.05,0.95)),[7+oset*2,7+oset*2],c='black')\n",
    "ax[0].plot(np.quantile(beta_TimeODay,(0.05,0.95)),[7+oset*3,7+oset*3],c='black')\n",
    "alab += ['Night']\n",
    "\n",
    "# Rugosity\n",
    "tmp_f = BTrez_SH_full[BTrez_SH_full.columns[list(BTrez_SH_full.columns.values).index('Rugosity')]].values\n",
    "tmp_c = BTrez_SH_count[BTrez_SH_count.columns[list(BTrez_SH_count.columns.values).index('Rugosity')]].values\n",
    "tmp_n = BTrez_SH_null[BTrez_SH_null.columns[list(BTrez_SH_null.columns.values).index('Rugosity')]].values\n",
    "ax[0].scatter(np.median(tmp_f),8,s=sx,c='black',marker='s')\n",
    "ax[0].scatter(np.median(tmp_c),8+oset,s=sx,c='black',marker='^')\n",
    "ax[0].scatter(np.median(tmp_n),8+oset*2,s=sx,c='black',marker='v')\n",
    "ax[0].scatter(np.median(beta_rug),8+oset*3,s=sx,c='black',marker='o')\n",
    "ax[0].plot(np.quantile(tmp_f,(0.05,0.95)),[8,8],c='black')\n",
    "ax[0].plot(np.quantile(tmp_c,(0.05,0.95)),[8+oset,8+oset],c='black')\n",
    "ax[0].plot(np.quantile(tmp_n,(0.05,0.95)),[8+oset*2,8+oset*2],c='black')\n",
    "ax[0].plot(np.quantile(beta_rug,(0.05,0.95)),[8+oset*3,8+oset*3],c='black')\n",
    "alab += ['Rugosity']\n",
    "\n",
    "# Hard coral\n",
    "i=9\n",
    "tmp_f = BTrez_SH_full[BTrez_SH_full.columns[list(BTrez_SH_full.columns.values).index('Hard_coral')]].values\n",
    "tmp_c = BTrez_SH_count[BTrez_SH_count.columns[list(BTrez_SH_count.columns.values).index('Hard_coral')]].values\n",
    "tmp_n = BTrez_SH_null[BTrez_SH_null.columns[list(BTrez_SH_null.columns.values).index('Hard_coral')]].values\n",
    "ax[0].scatter(np.median(tmp_f),i,s=sx,c='black',marker='s')\n",
    "ax[0].scatter(np.median(tmp_c),i+oset,s=sx,c='black',marker='^')\n",
    "ax[0].scatter(np.median(tmp_n),i+oset*2,s=sx,c='black',marker='v')\n",
    "ax[0].scatter(np.median(beta_hc),i+oset*3,s=sx,c='black',marker='o')\n",
    "ax[0].plot(np.quantile(tmp_f,(0.05,0.95)),[i,i],c='black')\n",
    "ax[0].plot(np.quantile(tmp_c,(0.05,0.95)),[i+oset,i+oset],c='black')\n",
    "ax[0].plot(np.quantile(tmp_n,(0.05,0.95)),[i+oset*2,i+oset*2],c='black')\n",
    "ax[0].plot(np.quantile(beta_hc,(0.05,0.95)),[i+oset*3,i+oset*3],c='black')\n",
    "alab += ['Hard coral']\n",
    "\n",
    "# Visibility\n",
    "i=10\n",
    "tmp_f = BTrez_SH_full[BTrez_SH_full.columns[list(BTrez_SH_full.columns.values).index('Visibililty')]].values\n",
    "tmp_c = BTrez_SH_count[BTrez_SH_count.columns[list(BTrez_SH_count.columns.values).index('Visibililty')]].values\n",
    "tmp_n = BTrez_SH_null[BTrez_SH_null.columns[list(BTrez_SH_null.columns.values).index('Visibililty')]].values\n",
    "ax[0].scatter(np.median(tmp_f),i,s=sx,c='black',marker='s')\n",
    "ax[0].scatter(np.median(tmp_c),i+oset,s=sx,c='black',marker='^')\n",
    "ax[0].scatter(np.median(tmp_n),i+oset*2,s=sx,c='black',marker='v')\n",
    "ax[0].scatter(np.median(beta_vis),i+oset*3,s=sx,c='black',marker='o')\n",
    "ax[0].plot(np.quantile(tmp_f,(0.05,0.95)),[i,i],c='black')\n",
    "ax[0].plot(np.quantile(tmp_c,(0.05,0.95)),[i+oset,i+oset],c='black')\n",
    "ax[0].plot(np.quantile(tmp_n,(0.05,0.95)),[i+oset*2,i+oset*2],c='black')\n",
    "ax[0].plot(np.quantile(beta_vis,(0.05,0.95)),[i+oset*3,i+oset*3],c='black')\n",
    "alab += ['Visibility']\n",
    "\n",
    "# Depth\n",
    "i=11\n",
    "tmp_f = BTrez_SH_full[BTrez_SH_full.columns[list(BTrez_SH_full.columns.values).index('Depth')]].values\n",
    "tmp_c = BTrez_SH_count[BTrez_SH_count.columns[list(BTrez_SH_count.columns.values).index('Depth')]].values\n",
    "tmp_n = BTrez_SH_null[BTrez_SH_null.columns[list(BTrez_SH_null.columns.values).index('Depth')]].values\n",
    "ax[0].scatter(np.median(tmp_f),i,s=sx,c='black',marker='s')\n",
    "ax[0].scatter(np.median(tmp_c),i+oset,s=sx,c='black',marker='^')\n",
    "ax[0].scatter(np.median(tmp_n),i+oset*2,s=sx,c='black',marker='v')\n",
    "ax[0].scatter(np.median(beta_Depth),i+oset*3,s=sx,c='black',marker='o')\n",
    "ax[0].plot(np.quantile(tmp_f,(0.05,0.95)),[i,i],c='black')\n",
    "ax[0].plot(np.quantile(tmp_c,(0.05,0.95)),[i+oset,i+oset],c='black')\n",
    "ax[0].plot(np.quantile(tmp_n,(0.05,0.95)),[i+oset*2,i+oset*2],c='black')\n",
    "ax[0].plot(np.quantile(beta_Depth,(0.05,0.95)),[i+oset*3,i+oset*3],c='black')\n",
    "alab += ['Depth']\n",
    "\n",
    "# Gravity_NC\n",
    "i=12\n",
    "tmp_f = BTrez_SH_full[BTrez_SH_full.columns[list(BTrez_SH_full.columns.values).index('Gravity_NC')]].values\n",
    "tmp_c = BTrez_SH_count[BTrez_SH_count.columns[list(BTrez_SH_count.columns.values).index('Gravity_NC')]].values\n",
    "ax[0].scatter(np.median(tmp_f),i,s=sx,c='black',marker='s')\n",
    "ax[0].scatter(np.median(tmp_c),i+oset,s=sx,c='black',marker='^')\n",
    "ax[0].scatter(np.median(beta_Gravity_NC),i+oset*3,s=sx,c='black',marker='o')\n",
    "ax[0].plot(np.quantile(tmp_f,(0.05,0.95)),[i,i],c='black')\n",
    "ax[0].plot(np.quantile(tmp_c,(0.05,0.95)),[i+oset,i+oset],c='black')\n",
    "ax[0].plot(np.quantile(beta_Gravity_NC,(0.05,0.95)),[i+oset*3,i+oset*3],c='black')\n",
    "alab += ['Gravity NC']\n",
    "\n",
    "# Gravity_NP\n",
    "i=13\n",
    "tmp_f = BTrez_SH_full[BTrez_SH_full.columns[list(BTrez_SH_full.columns.values).index('Gravity_NP')]].values\n",
    "tmp_c = BTrez_SH_count[BTrez_SH_count.columns[list(BTrez_SH_count.columns.values).index('Gravity_NP')]].values\n",
    "ax[0].scatter(np.median(tmp_f),i,s=sx,c='black',marker='s')\n",
    "ax[0].scatter(np.median(tmp_c),i+oset,s=sx,c='black',marker='^')\n",
    "ax[0].scatter(np.median(beta_Gravity_NP),i+oset*3,s=sx,c='black',marker='o')\n",
    "ax[0].plot(np.quantile(tmp_f,(0.05,0.95)),[i,i],c='black')\n",
    "ax[0].plot(np.quantile(tmp_c,(0.05,0.95)),[i+oset,i+oset],c='black')\n",
    "ax[0].plot(np.quantile(beta_Gravity_NP,(0.05,0.95)),[i+oset*3,i+oset*3],c='black')\n",
    "alab += ['Gravity NP']\n",
    "\n",
    "# Remote\n",
    "i=14\n",
    "tmp_f = BTrez_SH_full[BTrez_SH_full.columns[list(BTrez_SH_full.columns.values).index('Remote')]].values\n",
    "tmp_c = BTrez_SH_count[BTrez_SH_count.columns[list(BTrez_SH_count.columns.values).index('Remote')]].values\n",
    "ax[0].scatter(np.median(tmp_f),i,s=sx,c='black',marker='s')\n",
    "ax[0].scatter(np.median(tmp_c),i+oset,s=sx,c='black',marker='^')\n",
    "ax[0].scatter(np.median(beta_Remote),i+oset*3,s=sx,c='black',marker='o')\n",
    "ax[0].plot(np.quantile(tmp_f,(0.05,0.95)),[i,i],c='black')\n",
    "ax[0].plot(np.quantile(tmp_c,(0.05,0.95)),[i+oset,i+oset],c='black')\n",
    "ax[0].plot(np.quantile(beta_Remote,(0.05,0.95)),[i+oset*3,i+oset*3],c='black')\n",
    "alab += ['Remote']\n",
    "\n",
    "# Species\n",
    "i=15\n",
    "tmp_f = BTrez_SH_full[BTrez_SH_full.columns[list(BTrez_SH_full.columns.values).index('Species')]].values\n",
    "tmp_c = BTrez_SH_count[BTrez_SH_count.columns[list(BTrez_SH_count.columns.values).index('Species')]].values\n",
    "ax[0].scatter(np.median(tmp_f),i,s=sx,c='black',marker='s')\n",
    "ax[0].scatter(np.median(tmp_c),i+oset,s=sx,c='black',marker='^')\n",
    "ax[0].scatter(np.median(beta_Spp),i+oset*3,s=sx,c='black',marker='o')\n",
    "ax[0].plot(np.quantile(tmp_f,(0.05,0.95)),[i,i],c='black')\n",
    "ax[0].plot(np.quantile(tmp_c,(0.05,0.95)),[i+oset,i+oset],c='black')\n",
    "ax[0].plot(np.quantile(beta_Spp,(0.05,0.95)),[i+oset*3,i+oset*3],c='black')\n",
    "alab += ['Species limit']\n",
    "\n",
    "\n",
    "# Temporal\n",
    "i=16\n",
    "tmp_f = BTrez_SH_full[BTrez_SH_full.columns[list(BTrez_SH_full.columns.values).index('Temporal')]].values\n",
    "tmp_c = BTrez_SH_count[BTrez_SH_count.columns[list(BTrez_SH_count.columns.values).index('Temporal')]].values\n",
    "ax[0].scatter(np.median(tmp_f),i,s=sx,c='black',marker='s')\n",
    "ax[0].scatter(np.median(tmp_c),i+oset,s=sx,c='black',marker='^')\n",
    "ax[0].scatter(np.median(beta_Temporal),i+oset*3,s=sx,c='black',marker='o')\n",
    "ax[0].plot(np.quantile(tmp_f,(0.05,0.95)),[i,i],c='black')\n",
    "ax[0].plot(np.quantile(tmp_c,(0.05,0.95)),[i+oset,i+oset],c='black')\n",
    "ax[0].plot(np.quantile(beta_Temporal,(0.05,0.95)),[i+oset*3,i+oset*3],c='black')\n",
    "alab += ['Temporal limit']\n",
    "\n",
    "# Population\n",
    "i=17\n",
    "tmp_c = BTrez_SH_count[BTrez_SH_count.columns[list(BTrez_SH_count.columns.values).index('POP')]].values\n",
    "ax[0].scatter(np.median(tmp_c),i,s=sx,c='black',marker='^')\n",
    "ax[0].scatter(np.median(tmp_c*loo_c),i+oset,s=sx,c='black',marker='o')\n",
    "ax[0].plot(np.quantile(tmp_c,(0.05,0.95)),[i,i],c='black')\n",
    "ax[0].plot(np.quantile(tmp_c*loo_c,(0.05,0.95)),[i+oset,i+oset],c='black')\n",
    "alab += ['POP (count)']\n",
    "\n",
    "\n",
    "# Voice\n",
    "i=18\n",
    "tmp_c = BTrez_SH_count[BTrez_SH_count.columns[list(BTrez_SH_count.columns.values).index('VOICE')]].values\n",
    "ax[0].scatter(np.median(tmp_c),i,s=sx,c='black',marker='^')\n",
    "ax[0].scatter(np.median(tmp_c*loo_c),i+oset,s=sx,c='black',marker='o')\n",
    "ax[0].plot(np.quantile(tmp_c,(0.05,0.95)),[i,i],c='black')\n",
    "ax[0].plot(np.quantile(tmp_c*loo_c,(0.05,0.95)),[i+oset,i+oset],c='black')\n",
    "alab += ['VOICE (count)']\n",
    "\n",
    "# HDI\n",
    "i=19\n",
    "tmp_c = BTrez_SH_count[BTrez_SH_count.columns[list(BTrez_SH_count.columns.values).index('HDI')]].values\n",
    "ax[0].scatter(np.median(tmp_c),i,s=sx,c='black',marker='^')\n",
    "ax[0].scatter(np.median(tmp_c*loo_c),i+oset,s=sx,c='black',marker='o')\n",
    "ax[0].plot(np.quantile(tmp_c,(0.05,0.95)),[i,i],c='black')\n",
    "ax[0].plot(np.quantile(tmp_c*loo_c,(0.05,0.95)),[i+oset,i+oset],c='black')\n",
    "alab += ['HDI (count)']\n",
    "\n",
    "\n",
    "ax[0].set_yticks(np.arange(len(alab))+1)\n",
    "ax[0].set_yticklabels(alab,fontsize=15)\n",
    "\n",
    "# = = = = = = = = = = = = = = = = = = = = = = = = = = = = = = = = = = = = = = = = = = #\n",
    "\n",
    "\n",
    "# Variable list 1\n",
    "ax[1].plot(1,1,marker=\"\")\n",
    "ax[1].set_ylim(0,19)\n",
    "ax[1].set_xlim(-2.5,2.5)\n",
    "\n",
    "# Axis labels\n",
    "alab = []\n",
    "\n",
    "# Catch\n",
    "i=1\n",
    "tmp_f = BTrez_SH_full[BTrez_SH_full.columns[list(BTrez_SH_full.columns.values).index('Catch')]].values\n",
    "tmp_c = BTrez_SH_count[BTrez_SH_count.columns[list(BTrez_SH_count.columns.values).index('Catch')]].values\n",
    "ax[1].scatter(np.median(tmp_f),i,s=sx,c='black',marker='s')\n",
    "ax[1].scatter(np.median(tmp_c),i+oset,s=sx,c='black',marker='^')\n",
    "ax[1].scatter(np.median(beta_Catch),i+oset*3,s=sx,c='black',marker='o')\n",
    "ax[1].plot(np.quantile(tmp_f,(0.05,0.95)),[i,i],c='black')\n",
    "ax[1].plot(np.quantile(tmp_c,(0.05,0.95)),[i+oset,i+oset],c='black')\n",
    "ax[1].plot(np.quantile(beta_Catch,(0.05,0.95)),[i+oset*3,i+oset*3],c='black')\n",
    "alab += ['Catch limit']\n",
    "\n",
    "# HookLine\n",
    "i=2\n",
    "tmp_f = BTrez_SH_full[BTrez_SH_full.columns[list(BTrez_SH_full.columns.values).index('HookLine')]].values\n",
    "tmp_c = BTrez_SH_count[BTrez_SH_count.columns[list(BTrez_SH_count.columns.values).index('HookLine')]].values\n",
    "ax[1].scatter(np.median(tmp_f),i,s=sx,c='black',marker='s')\n",
    "ax[1].scatter(np.median(tmp_c),i+oset,s=sx,c='black',marker='^')\n",
    "ax[1].scatter(np.median(beta_HookLine),i+oset*3,s=sx,c='black',marker='o')\n",
    "ax[1].plot(np.quantile(tmp_f,(0.05,0.95)),[i,i],c='black')\n",
    "ax[1].plot(np.quantile(tmp_c,(0.05,0.95)),[i+oset,i+oset],c='black')\n",
    "ax[1].plot(np.quantile(beta_HookLine,(0.05,0.95)),[i+oset*3,i+oset*3],c='black')\n",
    "alab += ['Hook and line']\n",
    "\n",
    "# Drumline\n",
    "i=3\n",
    "tmp_f = BTrez_SH_full[BTrez_SH_full.columns[list(BTrez_SH_full.columns.values).index('Drumline')]].values\n",
    "tmp_c = BTrez_SH_count[BTrez_SH_count.columns[list(BTrez_SH_count.columns.values).index('Drumline')]].values\n",
    "ax[1].scatter(np.median(tmp_f),i,s=sx,c='black',marker='s')\n",
    "ax[1].scatter(np.median(tmp_c),i+oset,s=sx,c='black',marker='^')\n",
    "ax[1].scatter(np.median(beta_Drumline),i+oset*3,s=sx,c='black',marker='o')\n",
    "ax[1].plot(np.quantile(tmp_f,(0.05,0.95)),[i,i],c='black')\n",
    "ax[1].plot(np.quantile(tmp_c,(0.05,0.95)),[i+oset,i+oset],c='black')\n",
    "ax[1].plot(np.quantile(beta_Drumline,(0.05,0.95)),[i+oset*3,i+oset*3],c='black')\n",
    "alab += ['Drumline']\n",
    "\n",
    "# Drumline\n",
    "i=4\n",
    "tmp_f = BTrez_SH_full[BTrez_SH_full.columns[list(BTrez_SH_full.columns.values).index('Gillnet_longline')]].values\n",
    "tmp_c = BTrez_SH_count[BTrez_SH_count.columns[list(BTrez_SH_count.columns.values).index('Gillnet_longline')]].values\n",
    "ax[1].scatter(np.median(tmp_f),i,s=sx,c='black',marker='s')\n",
    "ax[1].scatter(np.median(tmp_c),i+oset,s=sx,c='black',marker='^')\n",
    "ax[1].scatter(np.median(beta_Gill),i+oset*3,s=sx,c='black',marker='o')\n",
    "ax[1].plot(np.quantile(tmp_f,(0.05,0.95)),[i,i],c='black')\n",
    "ax[1].plot(np.quantile(tmp_c,(0.05,0.95)),[i+oset,i+oset],c='black')\n",
    "ax[1].plot(np.quantile(beta_Gill,(0.05,0.95)),[i+oset*3,i+oset*3],c='black')\n",
    "alab += ['Gillnet/longline']\n",
    "\n",
    "\n",
    "# High_compliance\n",
    "i=5\n",
    "tmp_f = BTrez_SH_full[BTrez_SH_full.columns[list(BTrez_SH_full.columns.values).index('High_compliance')]].values\n",
    "tmp_c = BTrez_SH_count[BTrez_SH_count.columns[list(BTrez_SH_count.columns.values).index('High_compliance')]].values\n",
    "ax[1].scatter(np.median(tmp_f),i,s=sx,c='black',marker='s')\n",
    "ax[1].scatter(np.median(tmp_c),i+oset,s=sx,c='black',marker='^')\n",
    "ax[1].scatter(np.median(beta_HIC),i+oset*3,s=sx,c='black',marker='o')\n",
    "ax[1].plot(np.quantile(tmp_f,(0.05,0.95)),[i,i],c='black')\n",
    "ax[1].plot(np.quantile(tmp_c,(0.05,0.95)),[i+oset,i+oset],c='black')\n",
    "ax[1].plot(np.quantile(beta_HIC,(0.05,0.95)),[i+oset*3,i+oset*3],c='black')\n",
    "alab += ['High compliance MPA']\n",
    "\n",
    "\n",
    "# MPA_size\n",
    "i=6\n",
    "tmp_f = BTrez_SH_full[BTrez_SH_full.columns[list(BTrez_SH_full.columns.values).index('MPA_size')]].values\n",
    "tmp_c = BTrez_SH_count[BTrez_SH_count.columns[list(BTrez_SH_count.columns.values).index('MPA_size')]].values\n",
    "ax[1].scatter(np.median(tmp_f),i,s=sx,c='black',marker='s')\n",
    "ax[1].scatter(np.median(tmp_c),i+oset,s=sx,c='black',marker='^')\n",
    "ax[1].scatter(np.median(beta_MPAsize),i+oset*3,s=sx,c='black',marker='o')\n",
    "ax[1].plot(np.quantile(tmp_f,(0.05,0.95)),[i,i],c='black')\n",
    "ax[1].plot(np.quantile(tmp_c,(0.05,0.95)),[i+oset,i+oset],c='black')\n",
    "ax[1].plot(np.quantile(beta_MPAsize,(0.05,0.95)),[i+oset*3,i+oset*3],c='black')\n",
    "alab += ['MPA size']\n",
    "\n",
    "# Closed\n",
    "i=7\n",
    "tmp_f = BTrez_SH_full[BTrez_SH_full.columns[list(BTrez_SH_full.columns.values).index('Closed')]].values\n",
    "tmp_c = BTrez_SH_count[BTrez_SH_count.columns[list(BTrez_SH_count.columns.values).index('Closed')]].values\n",
    "ax[1].scatter(np.median(tmp_f),i,s=sx,c='black',marker='s')\n",
    "ax[1].scatter(np.median(tmp_c),i+oset,s=sx,c='black',marker='^')\n",
    "ax[1].scatter(np.median(beta_clo),i+oset*3,s=sx,c='black',marker='o')\n",
    "ax[1].plot(np.quantile(tmp_f,(0.05,0.95)),[i,i],c='black')\n",
    "ax[1].plot(np.quantile(tmp_c,(0.05,0.95)),[i+oset,i+oset],c='black')\n",
    "ax[1].plot(np.quantile(beta_clo,(0.05,0.95)),[i+oset*3,i+oset*3],c='black')\n",
    "alab += ['Closed']\n",
    "\n",
    "# Sanctuary\n",
    "i=8\n",
    "tmp_f = BTrez_SH_full[BTrez_SH_full.columns[list(BTrez_SH_full.columns.values).index('Sanctuary')]].values\n",
    "tmp_c = BTrez_SH_count[BTrez_SH_count.columns[list(BTrez_SH_count.columns.values).index('Sanctuary')]].values\n",
    "ax[1].scatter(np.median(tmp_f),i,s=sx,c='black',marker='s')\n",
    "ax[1].scatter(np.median(tmp_c),i+oset,s=sx,c='black',marker='^')\n",
    "ax[1].scatter(np.median(beta_Sanctuary),i+oset*3,s=sx,c='black',marker='o')\n",
    "ax[1].plot(np.quantile(tmp_f,(0.05,0.95)),[i,i],c='black')\n",
    "ax[1].plot(np.quantile(tmp_c,(0.05,0.95)),[i+oset,i+oset],c='black')\n",
    "ax[1].plot(np.quantile(beta_Sanctuary,(0.05,0.95)),[i+oset*3,i+oset*3],c='black')\n",
    "alab += ['Sanctuary']\n",
    "\n",
    "\n",
    "# CoastLength\n",
    "i=9\n",
    "tmp_f = BTrez_SH_full[BTrez_SH_full.columns[list(BTrez_SH_full.columns.values).index('CoastLength')]].values\n",
    "tmp_c = BTrez_SH_count[BTrez_SH_count.columns[list(BTrez_SH_count.columns.values).index('CoastLength')]].values\n",
    "ax[1].scatter(np.median(tmp_f),i,s=sx,c='black',marker='s')\n",
    "ax[1].scatter(np.median(tmp_c),i+oset,s=sx,c='black',marker='^')\n",
    "ax[1].scatter(np.median(beta_CoastL),i+oset*3,s=sx,c='black',marker='o')\n",
    "ax[1].plot(np.quantile(tmp_f,(0.05,0.95)),[i,i],c='black')\n",
    "ax[1].plot(np.quantile(tmp_c,(0.05,0.95)),[i+oset,i+oset],c='black')\n",
    "ax[1].plot(np.quantile(beta_CoastL,(0.05,0.95)),[i+oset*3,i+oset*3],c='black')\n",
    "alab += ['Coast length']\n",
    "\n",
    "\n",
    "# Regional rate\n",
    "tmp_f = BTrez_SH_full[grep('Regional_rate',BTrez_SH_full.columns.values)]\n",
    "tmp_c = BTrez_SH_count[grep('Regional_rate',BTrez_SH_count.columns.values)]\n",
    "tmp_n = BTrez_SH_null[grep('Regional_rate',BTrez_SH_null.columns.values)]\n",
    "ax[1].scatter(np.median(tmp_f,axis=0),[10,11,12,13],s=sx,c='black',marker='s')\n",
    "ax[1].scatter(np.median(tmp_c,axis=0),[10+oset,11+oset,12+oset,13+oset],s=sx,c='black',marker='^')\n",
    "ax[1].scatter(np.median(tmp_n,axis=0),[10+oset*2,11+oset*2,12+oset*2,13+oset*2],s=sx,c='black',marker='v')\n",
    "ax[1].scatter(np.median(beta_Region,axis=0),[10+oset*3,11+oset*3,12+oset*3,13+oset*3],s=sx,c='black',marker='o')\n",
    "ax[1].plot(np.quantile(tmp_f,(0.05,0.95),axis=0).T[0],[10,10],c='black')\n",
    "ax[1].plot(np.quantile(tmp_f,(0.05,0.95),axis=0).T[1],[11,11],c='black')\n",
    "ax[1].plot(np.quantile(tmp_f,(0.05,0.95),axis=0).T[2],[12,12],c='black')\n",
    "ax[1].plot(np.quantile(tmp_f,(0.05,0.95),axis=0).T[3],[13,13],c='black')\n",
    "ax[1].plot(np.quantile(tmp_c,(0.05,0.95),axis=0).T[0],[10+oset,10+oset],c='black')\n",
    "ax[1].plot(np.quantile(tmp_c,(0.05,0.95),axis=0).T[1],[11+oset,11+oset],c='black')\n",
    "ax[1].plot(np.quantile(tmp_c,(0.05,0.95),axis=0).T[2],[12+oset,12+oset],c='black')\n",
    "ax[1].plot(np.quantile(tmp_c,(0.05,0.95),axis=0).T[3],[13+oset,13+oset],c='black')\n",
    "ax[1].plot(np.quantile(tmp_n,(0.05,0.95),axis=0).T[0],[10+oset*2,10+oset*2],c='black')\n",
    "ax[1].plot(np.quantile(tmp_n,(0.05,0.95),axis=0).T[1],[11+oset*2,11+oset*2],c='black')\n",
    "ax[1].plot(np.quantile(tmp_n,(0.05,0.95),axis=0).T[2],[12+oset*2,12+oset*2],c='black')\n",
    "ax[1].plot(np.quantile(tmp_n,(0.05,0.95),axis=0).T[3],[13+oset*2,13+oset*2],c='black')\n",
    "ax[1].plot(np.quantile(beta_Region,(0.05,0.95),axis=0).T[0],[10+oset*3,10+oset*3],c='black')\n",
    "ax[1].plot(np.quantile(beta_Region,(0.05,0.95),axis=0).T[1],[11+oset*3,11+oset*3],c='black')\n",
    "ax[1].plot(np.quantile(beta_Region,(0.05,0.95),axis=0).T[2],[12+oset*3,12+oset*3],c='black')\n",
    "ax[1].plot(np.quantile(beta_Region,(0.05,0.95),axis=0).T[3],[13+oset*3,13+oset*3],c='black')\n",
    "alab += Region\n",
    "\n",
    "\n",
    "# Reef type\n",
    "tmp_f = BTrez_SH_full[grep('Reef_type',BTrez_SH_full.columns.values)]\n",
    "tmp_c = BTrez_SH_count[grep('Reef_type',BTrez_SH_count.columns.values)]\n",
    "tmp_n = BTrez_SH_null[grep('Reef_type',BTrez_SH_null.columns.values)]\n",
    "ax[1].scatter(np.median(tmp_f,axis=0),[14,15,16,17],s=sx,c='black',marker='s')\n",
    "ax[1].scatter(np.median(tmp_c,axis=0),[14+oset,15+oset,16+oset,17+oset],s=sx,c='black',marker='^')\n",
    "ax[1].scatter(np.median(tmp_n,axis=0),[14+oset*2,15+oset*2,16+oset*2,17+oset*2],s=sx,c='black',marker='v')\n",
    "ax[1].scatter(np.median(beta_Reef_type,axis=0),[14+oset*3,15+oset*3,16+oset*3,17+oset*3],s=sx,c='black',marker='o')\n",
    "ax[1].plot(np.quantile(tmp_f,(0.05,0.95),axis=0).T[0],[14,14],c='black')\n",
    "ax[1].plot(np.quantile(tmp_f,(0.05,0.95),axis=0).T[1],[15,15],c='black')\n",
    "ax[1].plot(np.quantile(tmp_f,(0.05,0.95),axis=0).T[2],[16,16],c='black')\n",
    "ax[1].plot(np.quantile(tmp_f,(0.05,0.95),axis=0).T[3],[17,17],c='black')\n",
    "ax[1].plot(np.quantile(tmp_c,(0.05,0.95),axis=0).T[0],[14+oset,14+oset],c='black')\n",
    "ax[1].plot(np.quantile(tmp_c,(0.05,0.95),axis=0).T[1],[15+oset,15+oset],c='black')\n",
    "ax[1].plot(np.quantile(tmp_c,(0.05,0.95),axis=0).T[2],[16+oset,16+oset],c='black')\n",
    "ax[1].plot(np.quantile(tmp_c,(0.05,0.95),axis=0).T[3],[17+oset,17+oset],c='black')\n",
    "ax[1].plot(np.quantile(tmp_n,(0.05,0.95),axis=0).T[0],[14+oset*2,14+oset*2],c='black')\n",
    "ax[1].plot(np.quantile(tmp_n,(0.05,0.95),axis=0).T[1],[15+oset*2,15+oset*2],c='black')\n",
    "ax[1].plot(np.quantile(tmp_n,(0.05,0.95),axis=0).T[2],[16+oset*2,16+oset*2],c='black')\n",
    "ax[1].plot(np.quantile(tmp_n,(0.05,0.95),axis=0).T[3],[17+oset*2,17+oset*2],c='black')\n",
    "ax[1].plot(np.quantile(beta_Reef_type,(0.05,0.95),axis=0).T[0],[14+oset*3,14+oset*3],c='black')\n",
    "ax[1].plot(np.quantile(beta_Reef_type,(0.05,0.95),axis=0).T[1],[15+oset*3,15+oset*3],c='black')\n",
    "ax[1].plot(np.quantile(beta_Reef_type,(0.05,0.95),axis=0).T[2],[16+oset*3,16+oset*3],c='black')\n",
    "ax[1].plot(np.quantile(beta_Reef_type,(0.05,0.95),axis=0).T[3],[17+oset*3,17+oset*3],c='black')\n",
    "alab += RTY[1:]\n",
    "\n",
    "\n",
    "# Global rate\n",
    "i=18\n",
    "tmp_f = BTrez_SH_full[BTrez_SH_full.columns[list(BTrez_SH_full.columns.values).index('Global_rate')]].values\n",
    "tmp_c = BTrez_SH_count[BTrez_SH_count.columns[list(BTrez_SH_count.columns.values).index('Global_rate')]].values\n",
    "tmp_n = BTrez_SH_null[BTrez_SH_null.columns[list(BTrez_SH_null.columns.values).index('Global_rate')]].values\n",
    "ax[1].scatter(np.median(tmp_f),i,s=sx,c='black',marker='s')\n",
    "ax[1].scatter(np.median(tmp_c),i+oset,s=sx,c='black',marker='^')\n",
    "ax[1].scatter(np.median(tmp_n),i+oset*2,s=sx,c='black',marker='v')\n",
    "ax[1].scatter(np.median(beta_global),i+oset*3,s=sx,c='black',marker='o')\n",
    "ax[1].plot(np.quantile(tmp_f,(0.05,0.95)),[i,i],c='black')\n",
    "ax[1].plot(np.quantile(tmp_c,(0.05,0.95)),[i+oset,i+oset],c='black')\n",
    "ax[1].plot(np.quantile(tmp_n,(0.05,0.95)),[i+oset*2,i+oset*2],c='black')\n",
    "ax[1].plot(np.quantile(beta_global,(0.05,0.95)),[i+oset*3,i+oset*3],c='black')\n",
    "alab += ['Global rate']\n",
    "\n",
    "\n",
    "\n",
    "ax[1].set_yticks(np.arange(len(alab))+1)\n",
    "ax[1].set_yticklabels(alab,fontsize=15)\n",
    "\n",
    "# = = = = = = = = = = = = = = = = = = = = = = = = = = = = = = = = = = = = = = = = = = #\n",
    "\n",
    "\n",
    "# Variable list 1\n",
    "ax[2].plot(1,1,marker=\"\")\n",
    "ax[2].set_ylim(0,9)\n",
    "ax[2].set_xlim(-5,10)\n",
    "\n",
    "# Axis labels\n",
    "alab = []\n",
    "\n",
    "\n",
    "# Population\n",
    "i=1\n",
    "tmp_f = BTrez_SH_full[BTrez_SH_full.columns[list(BTrez_SH_full.columns.values).index('POP')]].values\n",
    "#tmp_c = BTrez_SH_count[BTrez_SH_count.columns[list(BTrez_SH_count.columns.values).index('POP')]].values\n",
    "ax[2].scatter(np.median(tmp_f),i,s=sx,c='black',marker='s')\n",
    "#ax[2].scatter(np.median(tmp_c),i+oset,s=sx,c='black',marker='^')\n",
    "ax[2].scatter(np.median(beta_POP),i+oset,s=sx,c='black',marker='o')\n",
    "ax[2].plot(np.quantile(tmp_f,(0.05,0.95)),[i,i],c='black')\n",
    "#ax[2].plot(np.quantile(tmp_c,(0.05,0.95)),[i+oset,i+oset],c='black')\n",
    "ax[2].plot(np.quantile(beta_POP,(0.05,0.95)),[i+oset,i+oset],c='black')\n",
    "alab += ['POP (zero)']\n",
    "\n",
    "\n",
    "# Voice\n",
    "i=2\n",
    "tmp_f = BTrez_SH_full[BTrez_SH_full.columns[list(BTrez_SH_full.columns.values).index('VOICE')]].values\n",
    "#tmp_c = BTrez_SH_count[BTrez_SH_count.columns[list(BTrez_SH_count.columns.values).index('POP')]].values\n",
    "ax[2].scatter(np.median(tmp_f),i,s=sx,c='black',marker='s')\n",
    "#ax[2].scatter(np.median(tmp_c),i+oset,s=sx,c='black',marker='^')\n",
    "ax[2].scatter(np.median(beta_VOICE),i+oset,s=sx,c='black',marker='o')\n",
    "ax[2].plot(np.quantile(tmp_f,(0.05,0.95)),[i,i],c='black')\n",
    "#ax[2].plot(np.quantile(tmp_c,(0.05,0.95)),[i+oset,i+oset],c='black')\n",
    "ax[2].plot(np.quantile(beta_VOICE,(0.05,0.95)),[i+oset,i+oset],c='black')\n",
    "alab += ['VOICE (zero)']\n",
    "\n",
    "# HDI\n",
    "i=3\n",
    "tmp_f = BTrez_SH_full[BTrez_SH_full.columns[list(BTrez_SH_full.columns.values).index('HDI')]].values\n",
    "#tmp_c = BTrez_SH_count[BTrez_SH_count.columns[list(BTrez_SH_count.columns.values).index('POP')]].values\n",
    "ax[2].scatter(np.median(tmp_f),i,s=sx,c='black',marker='s')\n",
    "#ax[2].scatter(np.median(tmp_c),i+oset,s=sx,c='black',marker='^')\n",
    "ax[2].scatter(np.median(beta_HDI),i+oset,s=sx,c='black',marker='o')\n",
    "ax[2].plot(np.quantile(tmp_f,(0.05,0.95)),[i,i],c='black')\n",
    "#ax[2].plot(np.quantile(tmp_c,(0.05,0.95)),[i+oset,i+oset],c='black')\n",
    "ax[2].plot(np.quantile(beta_HDI,(0.05,0.95)),[i+oset,i+oset],c='black')\n",
    "alab += ['HDI (zero)']\n",
    "\n",
    "\n",
    "# Regional rate\n",
    "tmp_f = BTrez_SH_full[grep('Regional_rate',BTrez_SH_full.columns.values)]\n",
    "tmp_c = BTrez_SH_count[grep('Regional_rate',BTrez_SH_count.columns.values)]\n",
    "tmp_n = BTrez_SH_null[grep('Regional_rate',BTrez_SH_null.columns.values)]\n",
    "ax[2].scatter(np.median(tmp_f,axis=0),[4,5,6,7],s=sx,c='black',marker='s')\n",
    "ax[2].scatter(np.median(tmp_c,axis=0),[4+oset,5+oset,6+oset,7+oset],s=sx,c='black',marker='^')\n",
    "ax[2].scatter(np.median(tmp_n,axis=0),[4+oset*2,5+oset*2,6+oset*2,7+oset*2],s=sx,c='black',marker='v')\n",
    "ax[2].scatter(np.median(beta_Region,axis=0),[4+oset*3,5+oset*3,6+oset*3,7+oset*3],s=sx,c='black',marker='o')\n",
    "ax[2].plot(np.quantile(tmp_f,(0.05,0.95),axis=0).T[0],[4,4],c='black')\n",
    "ax[2].plot(np.quantile(tmp_f,(0.05,0.95),axis=0).T[1],[5,5],c='black')\n",
    "ax[2].plot(np.quantile(tmp_f,(0.05,0.95),axis=0).T[2],[6,6],c='black')\n",
    "ax[2].plot(np.quantile(tmp_f,(0.05,0.95),axis=0).T[3],[7,7],c='black')\n",
    "ax[2].plot(np.quantile(tmp_c,(0.05,0.95),axis=0).T[0],[4+oset,4+oset],c='black')\n",
    "ax[2].plot(np.quantile(tmp_c,(0.05,0.95),axis=0).T[1],[5+oset,5+oset],c='black')\n",
    "ax[2].plot(np.quantile(tmp_c,(0.05,0.95),axis=0).T[2],[6+oset,6+oset],c='black')\n",
    "ax[2].plot(np.quantile(tmp_c,(0.05,0.95),axis=0).T[3],[7+oset,7+oset],c='black')\n",
    "ax[2].plot(np.quantile(tmp_n,(0.05,0.95),axis=0).T[0],[4+oset*2,4+oset*2],c='black')\n",
    "ax[2].plot(np.quantile(tmp_n,(0.05,0.95),axis=0).T[1],[5+oset*2,5+oset*2],c='black')\n",
    "ax[2].plot(np.quantile(tmp_n,(0.05,0.95),axis=0).T[2],[6+oset*2,6+oset*2],c='black')\n",
    "ax[2].plot(np.quantile(tmp_n,(0.05,0.95),axis=0).T[3],[7+oset*2,7+oset*2],c='black')\n",
    "ax[2].plot(np.quantile(beta_Region,(0.05,0.95),axis=0).T[0],[4+oset*3,4+oset*3],c='black')\n",
    "ax[2].plot(np.quantile(beta_Region,(0.05,0.95),axis=0).T[1],[5+oset*3,5+oset*3],c='black')\n",
    "ax[2].plot(np.quantile(beta_Region,(0.05,0.95),axis=0).T[2],[6+oset*3,6+oset*3],c='black')\n",
    "ax[2].plot(np.quantile(beta_Region,(0.05,0.95),axis=0).T[3],[7+oset*3,7+oset*3],c='black')\n",
    "alab += [r+' zero' for r in Region]\n",
    "\n",
    "\n",
    "# Global rate\n",
    "i=8\n",
    "tmp_f = BTrez_SH_full[BTrez_SH_full.columns[list(BTrez_SH_full.columns.values).index('Global_zeros')]].values\n",
    "tmp_c = BTrez_SH_count[BTrez_SH_count.columns[list(BTrez_SH_count.columns.values).index('Global_zeros')]].values\n",
    "tmp_n = BTrez_SH_null[BTrez_SH_null.columns[list(BTrez_SH_null.columns.values).index('Global_zeros')]].values\n",
    "beta_global_zeros = tmp_f*loo_f+tmp_c*loo_c+tmp_n*loo_n\n",
    "ax[2].scatter(np.median(tmp_f),i,s=sx,c='black',marker='s')\n",
    "ax[2].scatter(np.median(tmp_c),i+oset,s=sx,c='black',marker='^')\n",
    "ax[2].scatter(np.median(tmp_n),i+oset*2,s=sx,c='black',marker='v')\n",
    "ax[2].scatter(np.median(beta_global_zeros),i+oset*3,s=sx,c='black',marker='o')\n",
    "ax[2].plot(np.quantile(tmp_f,(0.05,0.95)),[i,i],c='black')\n",
    "ax[2].plot(np.quantile(tmp_c,(0.05,0.95)),[i+oset,i+oset],c='black')\n",
    "ax[2].plot(np.quantile(tmp_n,(0.05,0.95)),[i+oset*2,i+oset*2],c='black')\n",
    "ax[2].plot(np.quantile(beta_global_zeros,(0.05,0.95)),[i+oset*3,i+oset*3],c='black')\n",
    "alab += ['Global zeros']\n",
    "\n",
    "\n",
    "ax[2].set_yticks(np.arange(len(alab))+1)\n",
    "ax[2].set_yticklabels(alab,fontsize=15)\n",
    "\n",
    "\n",
    "ax[0].axvline(x=0)\n",
    "ax[1].axvline(x=0)\n",
    "ax[2].axvline(x=0)\n",
    "\n",
    "ax[0].tick_params(labelsize=15)\n",
    "ax[1].tick_params(labelsize=15)\n",
    "ax[2].tick_params(labelsize=15)\n",
    "\n",
    "#ax[0].text(-2,17,\"a\",fontsize=20, fontweight='bold')\n",
    "#ax[1].text(-3.5,19,\"b\",fontsize=20, fontweight='bold')\n",
    "#ax[2].text(-7,9,\"c\",fontsize=20, fontweight='bold')\n",
    "\n",
    "ax[1].set_xlabel('Effect size',fontsize=17)\n",
    "\n",
    "plt.tight_layout()\n",
    "plt.savefig('ED_Figure_2.pdf');"
   ]
  },
  {
   "cell_type": "code",
   "execution_count": 41,
   "metadata": {},
   "outputs": [
    {
     "data": {
      "text/plain": [
       "4.251520678441041"
      ]
     },
     "execution_count": 41,
     "metadata": {},
     "output_type": "execute_result"
    }
   ],
   "source": [
    "np.median(tmp_f)"
   ]
  },
  {
   "cell_type": "code",
   "execution_count": 42,
   "metadata": {},
   "outputs": [
    {
     "data": {
      "text/plain": [
       "-1.7460548775151903"
      ]
     },
     "execution_count": 42,
     "metadata": {},
     "output_type": "execute_result"
    }
   ],
   "source": [
    "np.quantile(tmp_f,(0.05,0.95),axis=0)[0]"
   ]
  },
  {
   "cell_type": "code",
   "execution_count": 43,
   "metadata": {},
   "outputs": [
    {
     "data": {
      "text/plain": [
       "array([6.64100932, 5.79329259, 7.73185966])"
      ]
     },
     "execution_count": 43,
     "metadata": {},
     "output_type": "execute_result"
    }
   ],
   "source": [
    "np.quantile(BTrez_SH_full.alpha.values, (.5,0.05,.95))"
   ]
  },
  {
   "cell_type": "code",
   "execution_count": 44,
   "metadata": {},
   "outputs": [
    {
     "data": {
      "text/plain": [
       "array([ 0.77230329, -3.532652  ,  6.93255233])"
      ]
     },
     "execution_count": 44,
     "metadata": {},
     "output_type": "execute_result"
    }
   ],
   "source": [
    "np.quantile(beta_HDI, (.5,0.05,.95))"
   ]
  },
  {
   "cell_type": "code",
   "execution_count": 45,
   "metadata": {},
   "outputs": [
    {
     "data": {
      "text/plain": [
       "array([-0.20579332, -0.33196081, -0.0801237 ])"
      ]
     },
     "execution_count": 45,
     "metadata": {},
     "output_type": "execute_result"
    }
   ],
   "source": [
    "np.quantile(beta_Seasonality.Winter, (.5,0.05,.95))"
   ]
  },
  {
   "cell_type": "code",
   "execution_count": 46,
   "metadata": {},
   "outputs": [
    {
     "data": {
      "text/plain": [
       "array([-0.03805662, -0.15937755,  0.08177681])"
      ]
     },
     "execution_count": 46,
     "metadata": {},
     "output_type": "execute_result"
    }
   ],
   "source": [
    "np.quantile(beta_Seasonality.Shoulder, (.5,0.05,.95))"
   ]
  },
  {
   "cell_type": "code",
   "execution_count": 47,
   "metadata": {},
   "outputs": [
    {
     "data": {
      "text/plain": [
       "array([0.32922159, 0.27125855, 0.38582939])"
      ]
     },
     "execution_count": 47,
     "metadata": {},
     "output_type": "execute_result"
    }
   ],
   "source": [
    "np.quantile(beta_vis, (.5,0.05,.95))"
   ]
  },
  {
   "cell_type": "code",
   "execution_count": 48,
   "metadata": {},
   "outputs": [
    {
     "data": {
      "text/plain": [
       "array([-0.00916413, -0.05168873,  0.03260526])"
      ]
     },
     "execution_count": 48,
     "metadata": {},
     "output_type": "execute_result"
    }
   ],
   "source": [
    "np.quantile(beta_hc, (.5,0.05,.95))"
   ]
  },
  {
   "cell_type": "code",
   "execution_count": 49,
   "metadata": {},
   "outputs": [
    {
     "data": {
      "text/plain": [
       "array([0.06921172, 0.01677374, 0.12176136])"
      ]
     },
     "execution_count": 49,
     "metadata": {},
     "output_type": "execute_result"
    }
   ],
   "source": [
    "np.quantile(beta_rug, (.5,0.05,.95))"
   ]
  },
  {
   "cell_type": "code",
   "execution_count": 50,
   "metadata": {},
   "outputs": [
    {
     "data": {
      "text/plain": [
       "array([0.08379726, 0.04296387, 0.12531662])"
      ]
     },
     "execution_count": 50,
     "metadata": {},
     "output_type": "execute_result"
    }
   ],
   "source": [
    "np.quantile(beta_Depth, (.5,0.05,.95))"
   ]
  },
  {
   "cell_type": "code",
   "execution_count": 51,
   "metadata": {},
   "outputs": [
    {
     "data": {
      "text/plain": [
       "['Clupeidae', 'Scombridae', 'Mixed', 'Other', 'Sphyraenidae']"
      ]
     },
     "execution_count": 51,
     "metadata": {},
     "output_type": "execute_result"
    }
   ],
   "source": [
    "BAIT"
   ]
  },
  {
   "cell_type": "code",
   "execution_count": 52,
   "metadata": {},
   "outputs": [
    {
     "data": {
      "text/plain": [
       "[array([0.23372913, 0.05007312, 0.41768479]),\n",
       " array([-0.12267891, -0.31528565,  0.07201671]),\n",
       " array([-0.27287048, -0.48813896, -0.05090302]),\n",
       " array([1.07139241, 0.65319053, 1.46827268])]"
      ]
     },
     "execution_count": 52,
     "metadata": {},
     "output_type": "execute_result"
    }
   ],
   "source": [
    "[np.quantile(beta_Bait_type[b], (.5,0.05,.95)) for b in beta_Bait_type.columns]"
   ]
  },
  {
   "cell_type": "markdown",
   "metadata": {},
   "source": [
    "## Expected benefits"
   ]
  },
  {
   "cell_type": "code",
   "execution_count": 53,
   "metadata": {},
   "outputs": [
    {
     "data": {
      "text/plain": [
       "array([0.54034088, 0.35984749, 0.10969006])"
      ]
     },
     "execution_count": 53,
     "metadata": {},
     "output_type": "execute_result"
    }
   ],
   "source": [
    "# Gillnet/longline ban\n",
    "1-np.percentile(np.exp(beta_global)/np.exp(beta_global-beta_Gill),(5,50,95))"
   ]
  },
  {
   "cell_type": "code",
   "execution_count": 54,
   "metadata": {},
   "outputs": [
    {
     "data": {
      "text/plain": [
       "array([ 0.58433083,  0.35966982, -0.00310277])"
      ]
     },
     "execution_count": 54,
     "metadata": {},
     "output_type": "execute_result"
    }
   ],
   "source": [
    "# Catch limit\n",
    "1-np.percentile(np.exp(beta_global)/np.exp(beta_global+beta_Catch),(5,50,95))"
   ]
  },
  {
   "cell_type": "code",
   "execution_count": 55,
   "metadata": {},
   "outputs": [
    {
     "data": {
      "text/plain": [
       "array([ 0.49694546,  0.28103383, -0.00889556])"
      ]
     },
     "execution_count": 55,
     "metadata": {},
     "output_type": "execute_result"
    }
   ],
   "source": [
    "# Average closure\n",
    "1-np.percentile(np.exp(beta_global)/np.exp(beta_global+beta_clo),(5,50,95))"
   ]
  },
  {
   "cell_type": "code",
   "execution_count": 56,
   "metadata": {},
   "outputs": [
    {
     "data": {
      "text/plain": [
       "array([0.70800599, 0.48566947, 0.11641382])"
      ]
     },
     "execution_count": 56,
     "metadata": {},
     "output_type": "execute_result"
    }
   ],
   "source": [
    "# Big closure\n",
    "1-np.percentile(np.exp(beta_global)/np.exp(beta_global+beta_clo+beta_MPAsize),(5,50,95))"
   ]
  },
  {
   "cell_type": "code",
   "execution_count": 57,
   "metadata": {},
   "outputs": [
    {
     "data": {
      "text/plain": [
       "array([0.67858796, 0.49549366, 0.20124448])"
      ]
     },
     "execution_count": 57,
     "metadata": {},
     "output_type": "execute_result"
    }
   ],
   "source": [
    "# Shark Sanctuary\n",
    "1-np.percentile(np.exp(beta_global)/np.exp(beta_global+beta_Sanctuary),(5,50,95))"
   ]
  },
  {
   "cell_type": "code",
   "execution_count": 58,
   "metadata": {},
   "outputs": [
    {
     "data": {
      "text/plain": [
       "array([ 0.47928301,  0.25091059, -0.0789777 ])"
      ]
     },
     "execution_count": 58,
     "metadata": {},
     "output_type": "execute_result"
    }
   ],
   "source": [
    "# Drumline ban\n",
    "1-np.percentile(np.exp(beta_global)/np.exp(beta_global-beta_Drumline),(5,50,95))"
   ]
  },
  {
   "cell_type": "code",
   "execution_count": 59,
   "metadata": {},
   "outputs": [
    {
     "data": {
      "text/plain": [
       "array([ 0.43431655,  0.20369099, -0.12292138])"
      ]
     },
     "execution_count": 59,
     "metadata": {},
     "output_type": "execute_result"
    }
   ],
   "source": [
    "# Hook and line\n",
    "1-np.percentile(np.exp(beta_global)/np.exp(beta_global+beta_HookLine),(5,50,95))"
   ]
  },
  {
   "cell_type": "markdown",
   "metadata": {},
   "source": [
    "## Parameter plots"
   ]
  },
  {
   "cell_type": "code",
   "execution_count": 60,
   "metadata": {},
   "outputs": [
    {
     "data": {
      "image/png": "[encoded data removed]",
      "text/plain": [
       "<Figure size 864x864 with 1 Axes>"
      ]
     },
     "metadata": {},
     "output_type": "display_data"
    }
   ],
   "source": [
    "fig = plt.figure(figsize=(12, 12))\n",
    "gs = mp.gridspec.GridSpec(1, nfg)\n",
    "ax_ = [fig.add_subplot(gs[0,i]) for i in range(nfg)]\n",
    "\n",
    "xadj = 5\n",
    "\n",
    "for i in range(nfg):\n",
    "    ax = ax_[i]\n",
    "    ax.axvline(x=0, linestyle=':', linewidth=2)\n",
    "    [gelplot(ax,params[i][j],j,csize=20,lwd50=5,lwd95=2) for j in range(nparms)]\n",
    "    if i==0:\n",
    "        ax.set_yticks(range(nparms))\n",
    "        ax.set_yticklabels(parmlabels,fontsize=17)\n",
    "    else:\n",
    "        ax.set_yticklabels('')\n",
    "    ax.set_xlim(-xadj,xadj)\n",
    "    ax.set_ylabel('')\n",
    "    #Aax.set_title(BTlabs[i],fontsize=17)\n",
    "\n",
    "ax.axhline(2.5,c='white',linewidth=5)\n",
    "\n",
    "\n",
    "\n",
    "plt.savefig('ED_Figure_1.pdf')"
   ]
  },
  {
   "cell_type": "code",
   "execution_count": 61,
   "metadata": {},
   "outputs": [],
   "source": [
    "paramz = [beta_HDI, beta_VOICE, beta_POP, beta_Gravity_NP, beta_Gravity_NC]\n",
    "parmlabelz = ['HDI','Voice & accountability','Population size','Gravity (Nearest population)','Gravity (Nearest city)']\n",
    "nparamz = len(paramz)"
   ]
  },
  {
   "cell_type": "code",
   "execution_count": 149,
   "metadata": {},
   "outputs": [
    {
     "data": {
      "text/plain": [
       "array([ 3.32635746, -1.9688678 ,  3.1971321 , ...,  3.92116922,\n",
       "       -0.49369431,  0.40903722])"
      ]
     },
     "execution_count": 149,
     "metadata": {},
     "output_type": "execute_result"
    }
   ],
   "source": [
    "beta_HDI"
   ]
  },
  {
   "cell_type": "code",
   "execution_count": 63,
   "metadata": {},
   "outputs": [
    {
     "data": {
      "text/plain": [
       "array([ 3.32635746, -1.9688678 ,  3.1971321 , ...,  3.92116922,\n",
       "       -0.49369431,  0.40903722])"
      ]
     },
     "execution_count": 63,
     "metadata": {},
     "output_type": "execute_result"
    }
   ],
   "source": [
    "beta_HDI"
   ]
  },
  {
   "cell_type": "code",
   "execution_count": 64,
   "metadata": {},
   "outputs": [
    {
     "data": {
      "image/png": "[encoded data removed]",
      "text/plain": [
       "<Figure size 288x360 with 1 Axes>"
      ]
     },
     "metadata": {},
     "output_type": "display_data"
    }
   ],
   "source": [
    "fig = plt.figure(figsize=(4, 5))\n",
    "gs = mp.gridspec.GridSpec(1, nfg)\n",
    "ax_ = [fig.add_subplot(gs[0,i]) for i in range(nfg)]\n",
    "\n",
    "xadj = 6\n",
    "\n",
    "for i in range(1):\n",
    "    ax = ax_[i]\n",
    "    ax.axvline(x=0, linestyle=':', linewidth=2)\n",
    "    [gelplot(ax,paramz[j],j,csize=20,lwd50=5,lwd95=2) for j in range(nparamz)]\n",
    "    if i==0:\n",
    "        ax.set_yticks(range(nparamz))\n",
    "        ax.set_yticklabels(parmlabelz)\n",
    "    else:\n",
    "        ax.set_yticklabels('')\n",
    "    ax.set_xlim(-xadj,xadj)\n",
    "    ax.set_ylabel('')\n",
    "    \n",
    "plt.savefig('Figure_1d.pdf', bbox_inches='tight')"
   ]
  },
  {
   "cell_type": "code",
   "execution_count": null,
   "metadata": {},
   "outputs": [],
   "source": []
  },
  {
   "cell_type": "code",
   "execution_count": 65,
   "metadata": {},
   "outputs": [],
   "source": [
    "beta_zero = BTrez_SH_full[BTrez_SH_full.columns[list(BTrez_SH_full.columns.values).index('Global_zeros')]].values*loo_f+BTrez_SH_count[BTrez_SH_count.columns[list(BTrez_SH_count.columns.values).index('Global_zeros')]].values*loo_c+BTrez_SH_full[BTrez_SH_full.columns[list(BTrez_SH_full.columns.values).index('Global_zeros')]].values*loo_n"
   ]
  },
  {
   "cell_type": "code",
   "execution_count": 66,
   "metadata": {},
   "outputs": [
    {
     "data": {
      "text/plain": [
       "(0.09770720062329907, 1481.7296974523304)"
      ]
     },
     "execution_count": 66,
     "metadata": {},
     "output_type": "execute_result"
    }
   ],
   "source": [
    "pz = 1-np.mean(invlogit(beta_zero))\n",
    "pz,pz*len(MaxN)"
   ]
  },
  {
   "cell_type": "code",
   "execution_count": 67,
   "metadata": {},
   "outputs": [
    {
     "data": {
      "image/png": "[encoded data removed]",
      "text/plain": [
       "<Figure size 432x288 with 1 Axes>"
      ]
     },
     "metadata": {},
     "output_type": "display_data"
    }
   ],
   "source": [
    "plt.hist(1-invlogit(beta_zero));"
   ]
  },
  {
   "cell_type": "code",
   "execution_count": 68,
   "metadata": {},
   "outputs": [
    {
     "data": {
      "text/plain": [
       "10200.0"
      ]
     },
     "execution_count": 68,
     "metadata": {},
     "output_type": "execute_result"
    }
   ],
   "source": [
    "1.02e+04"
   ]
  },
  {
   "cell_type": "code",
   "execution_count": 69,
   "metadata": {},
   "outputs": [
    {
     "data": {
      "image/png": "[encoded data removed]",
      "text/plain": [
       "<Figure size 360x360 with 1 Axes>"
      ]
     },
     "metadata": {},
     "output_type": "display_data"
    }
   ],
   "source": [
    "fig = plt.figure(figsize=(5,5))\n",
    "plt.hist(xdata.MaxN_shark.values,bins=100)\n",
    "currentAxis = plt.gca()\n",
    "currentAxis.add_patch(Rectangle((0.01, 1.02e+04*(1-pz)), .27, 1.02e+04*pz, alpha=1, color='red'))\n",
    "plt.text(0.5, 1.0e+04*(1-pz/2), 'Excess zeros')\n",
    "plt.xlim(0,8)\n",
    "plt.savefig('Figure_1b.pdf')"
   ]
  },
  {
   "cell_type": "markdown",
   "metadata": {},
   "source": [
    "## Cohen's d calcs - Ringen et al."
   ]
  },
  {
   "cell_type": "code",
   "execution_count": 70,
   "metadata": {},
   "outputs": [],
   "source": [
    "varlist = ['Sanctuary','Gillnet_longline', 'Drumline', 'HookLine', 'Closed', 'MPA_size', 'High_compliance', 'Catch', 'Temporal', 'Species']\n",
    "varnames = ['Shark sanctuary','Gillnet/longline', 'Drumline', 'Hook & Line', 'Closed area', 'MPA size', 'High compliance', 'Catch limit', 'Temporal limit', 'Species limit']\n",
    "nvar = len(varlist)\n",
    "BTrez = BTrez_SH_full[varlist]*loo_f+BTrez_SH_count[varlist]*loo_c\n",
    "Cohens_d = BTrez_SH_full[varlist]*(np.sqrt(3)/np.pi)*loo_f+BTrez_SH_count[varlist]*(np.sqrt(3)/np.pi)*loo_c\n",
    "Cohens_d.columns = varnames"
   ]
  },
  {
   "cell_type": "code",
   "execution_count": 71,
   "metadata": {},
   "outputs": [
    {
     "data": {
      "text/html": [
       "<div>\n",
       "<style scoped>\n",
       "    .dataframe tbody tr th:only-of-type {\n",
       "        vertical-align: middle;\n",
       "    }\n",
       "\n",
       "    .dataframe tbody tr th {\n",
       "        vertical-align: top;\n",
       "    }\n",
       "\n",
       "    .dataframe thead th {\n",
       "        text-align: right;\n",
       "    }\n",
       "</style>\n",
       "<table border=\"1\" class=\"dataframe\">\n",
       "  <thead>\n",
       "    <tr style=\"text-align: right;\">\n",
       "      <th></th>\n",
       "      <th>Shark sanctuary</th>\n",
       "      <th>Gillnet/longline</th>\n",
       "      <th>Drumline</th>\n",
       "      <th>Hook &amp; Line</th>\n",
       "      <th>Closed area</th>\n",
       "      <th>MPA size</th>\n",
       "      <th>High compliance</th>\n",
       "      <th>Catch limit</th>\n",
       "      <th>Temporal limit</th>\n",
       "      <th>Species limit</th>\n",
       "    </tr>\n",
       "  </thead>\n",
       "  <tbody>\n",
       "    <tr>\n",
       "      <th>0</th>\n",
       "      <td>0.418861</td>\n",
       "      <td>-0.265506</td>\n",
       "      <td>-0.146740</td>\n",
       "      <td>-0.029704</td>\n",
       "      <td>0.136080</td>\n",
       "      <td>0.272427</td>\n",
       "      <td>-0.015956</td>\n",
       "      <td>0.324450</td>\n",
       "      <td>-0.083351</td>\n",
       "      <td>0.075366</td>\n",
       "    </tr>\n",
       "    <tr>\n",
       "      <th>1</th>\n",
       "      <td>0.366369</td>\n",
       "      <td>-0.371641</td>\n",
       "      <td>0.023703</td>\n",
       "      <td>0.045578</td>\n",
       "      <td>0.101821</td>\n",
       "      <td>0.034210</td>\n",
       "      <td>0.299604</td>\n",
       "      <td>0.201966</td>\n",
       "      <td>0.006210</td>\n",
       "      <td>-0.001045</td>\n",
       "    </tr>\n",
       "    <tr>\n",
       "      <th>2</th>\n",
       "      <td>0.385028</td>\n",
       "      <td>-0.288856</td>\n",
       "      <td>-0.165756</td>\n",
       "      <td>0.235910</td>\n",
       "      <td>0.115470</td>\n",
       "      <td>0.024489</td>\n",
       "      <td>0.296026</td>\n",
       "      <td>0.400590</td>\n",
       "      <td>0.182105</td>\n",
       "      <td>-0.082682</td>\n",
       "    </tr>\n",
       "    <tr>\n",
       "      <th>3</th>\n",
       "      <td>0.360814</td>\n",
       "      <td>-0.265842</td>\n",
       "      <td>0.123419</td>\n",
       "      <td>0.018835</td>\n",
       "      <td>0.242317</td>\n",
       "      <td>0.247623</td>\n",
       "      <td>0.052878</td>\n",
       "      <td>0.185023</td>\n",
       "      <td>-0.149541</td>\n",
       "      <td>-0.090635</td>\n",
       "    </tr>\n",
       "    <tr>\n",
       "      <th>4</th>\n",
       "      <td>0.307517</td>\n",
       "      <td>-0.229331</td>\n",
       "      <td>-0.155166</td>\n",
       "      <td>0.099831</td>\n",
       "      <td>0.045795</td>\n",
       "      <td>0.377781</td>\n",
       "      <td>0.159681</td>\n",
       "      <td>0.232214</td>\n",
       "      <td>-0.046643</td>\n",
       "      <td>0.051247</td>\n",
       "    </tr>\n",
       "  </tbody>\n",
       "</table>\n",
       "</div>"
      ],
      "text/plain": [
       "   Shark sanctuary  Gillnet/longline  Drumline  Hook & Line  Closed area  \\\n",
       "0         0.418861         -0.265506 -0.146740    -0.029704     0.136080   \n",
       "1         0.366369         -0.371641  0.023703     0.045578     0.101821   \n",
       "2         0.385028         -0.288856 -0.165756     0.235910     0.115470   \n",
       "3         0.360814         -0.265842  0.123419     0.018835     0.242317   \n",
       "4         0.307517         -0.229331 -0.155166     0.099831     0.045795   \n",
       "\n",
       "   MPA size  High compliance  Catch limit  Temporal limit  Species limit  \n",
       "0  0.272427        -0.015956     0.324450       -0.083351       0.075366  \n",
       "1  0.034210         0.299604     0.201966        0.006210      -0.001045  \n",
       "2  0.024489         0.296026     0.400590        0.182105      -0.082682  \n",
       "3  0.247623         0.052878     0.185023       -0.149541      -0.090635  \n",
       "4  0.377781         0.159681     0.232214       -0.046643       0.051247  "
      ]
     },
     "execution_count": 71,
     "metadata": {},
     "output_type": "execute_result"
    }
   ],
   "source": [
    "Cohens_d.head()"
   ]
  },
  {
   "cell_type": "code",
   "execution_count": 72,
   "metadata": {},
   "outputs": [
    {
     "data": {
      "text/html": [
       "<div>\n",
       "<style scoped>\n",
       "    .dataframe tbody tr th:only-of-type {\n",
       "        vertical-align: middle;\n",
       "    }\n",
       "\n",
       "    .dataframe tbody tr th {\n",
       "        vertical-align: top;\n",
       "    }\n",
       "\n",
       "    .dataframe thead th {\n",
       "        text-align: right;\n",
       "    }\n",
       "</style>\n",
       "<table border=\"1\" class=\"dataframe\">\n",
       "  <thead>\n",
       "    <tr style=\"text-align: right;\">\n",
       "      <th></th>\n",
       "      <th>variable</th>\n",
       "      <th>Posterior</th>\n",
       "    </tr>\n",
       "  </thead>\n",
       "  <tbody>\n",
       "    <tr>\n",
       "      <th>0</th>\n",
       "      <td>Shark sanctuary</td>\n",
       "      <td>0.418861</td>\n",
       "    </tr>\n",
       "    <tr>\n",
       "      <th>1</th>\n",
       "      <td>Shark sanctuary</td>\n",
       "      <td>0.366369</td>\n",
       "    </tr>\n",
       "    <tr>\n",
       "      <th>2</th>\n",
       "      <td>Shark sanctuary</td>\n",
       "      <td>0.385028</td>\n",
       "    </tr>\n",
       "    <tr>\n",
       "      <th>3</th>\n",
       "      <td>Shark sanctuary</td>\n",
       "      <td>0.360814</td>\n",
       "    </tr>\n",
       "    <tr>\n",
       "      <th>4</th>\n",
       "      <td>Shark sanctuary</td>\n",
       "      <td>0.307517</td>\n",
       "    </tr>\n",
       "  </tbody>\n",
       "</table>\n",
       "</div>"
      ],
      "text/plain": [
       "          variable  Posterior\n",
       "0  Shark sanctuary   0.418861\n",
       "1  Shark sanctuary   0.366369\n",
       "2  Shark sanctuary   0.385028\n",
       "3  Shark sanctuary   0.360814\n",
       "4  Shark sanctuary   0.307517"
      ]
     },
     "execution_count": 72,
     "metadata": {},
     "output_type": "execute_result"
    }
   ],
   "source": [
    "dfx = Cohens_d.melt(value_name='Posterior')\n",
    "dfx.head()"
   ]
  },
  {
   "cell_type": "code",
   "execution_count": 73,
   "metadata": {},
   "outputs": [],
   "source": [
    "# Aesthetics \n",
    "\n",
    "# Colour palette for variables\n",
    "#varpal = sns.cubehelix_palette(nvar, rot=-.25, light=.7)\n",
    "varpal = palettable.wesanderson.Zissou_5.hex_colors+palettable.wesanderson.Aquatic1_5.hex_colors+palettable.wesanderson.Aquatic2_5.hex_colors+palettable.wesanderson.Aquatic3_5.hex_colors"
   ]
  },
  {
   "cell_type": "code",
   "execution_count": 74,
   "metadata": {},
   "outputs": [
    {
     "name": "stderr",
     "output_type": "stream",
     "text": [
      "C:\\ProgramData\\Anaconda3\\lib\\site-packages\\seaborn\\axisgrid.py:861: UserWarning: Tight layout not applied. tight_layout cannot make axes height small enough to accommodate all axes decorations\n",
      "  self.fig.tight_layout()\n",
      "C:\\ProgramData\\Anaconda3\\lib\\site-packages\\seaborn\\axisgrid.py:861: UserWarning: Tight layout not applied. tight_layout cannot make axes height small enough to accommodate all axes decorations\n",
      "  self.fig.tight_layout()\n"
     ]
    },
    {
     "data": {
      "text/plain": [
       "<seaborn.axisgrid.FacetGrid at 0x27243c21308>"
      ]
     },
     "execution_count": 74,
     "metadata": {},
     "output_type": "execute_result"
    },
    {
     "data": {
      "image/png": "[encoded data removed]",
      "text/plain": [
       "<Figure size 540x360 with 10 Axes>"
      ]
     },
     "metadata": {},
     "output_type": "display_data"
    }
   ],
   "source": [
    "\n",
    "sns.set(style=\"white\", rc={\"axes.facecolor\": (0, 0, 0, 0)})\n",
    "\n",
    "# Create the data\n",
    "rs = np.random.RandomState(1979)\n",
    "x = rs.randn(500)\n",
    "g = np.tile(list(\"ABCDEFGHIJ\"), 50)\n",
    "df = pd.DataFrame(dict(x=x, g=g))\n",
    "m = df.g.map(ord)\n",
    "df[\"x\"] += m\n",
    "\n",
    "# Initialize the FacetGrid object\n",
    "pal = sns.cubehelix_palette(10, rot=-.25, light=.7)\n",
    "g = sns.FacetGrid(df, row=\"g\", hue=\"g\", aspect=15, height=.5, palette=pal)\n",
    "\n",
    "# Draw the densities in a few steps\n",
    "g.map(sns.kdeplot, \"x\", clip_on=False, shade=True, alpha=1, lw=1.5, bw=.2)\n",
    "g.map(sns.kdeplot, \"x\", clip_on=False, color=\"w\", lw=2, bw=.2)\n",
    "g.map(plt.axhline, y=0, lw=2, clip_on=False)\n",
    "\n",
    "\n",
    "# Define and use a simple function to label the plot in axes coordinates\n",
    "def label(x, color, label):\n",
    "    ax = plt.gca()\n",
    "    ax.text(0, .2, label, fontweight=\"bold\", color=color,\n",
    "            ha=\"left\", va=\"center\", transform=ax.transAxes)\n",
    "\n",
    "\n",
    "g.map(label, \"x\")\n",
    "\n",
    "# Set the subplots to overlap\n",
    "g.fig.subplots_adjust(hspace=-.25)\n",
    "\n",
    "# Remove axes details that don't play well with overlap\n",
    "g.set_titles(\"\")\n",
    "g.set(yticks=[])\n",
    "g.despine(bottom=True, left=True)"
   ]
  },
  {
   "cell_type": "code",
   "execution_count": 75,
   "metadata": {
    "scrolled": false
   },
   "outputs": [
    {
     "data": {
      "text/plain": [
       "<Figure size 504x864 with 0 Axes>"
      ]
     },
     "metadata": {},
     "output_type": "display_data"
    },
    {
     "data": {
      "image/png": "[encoded data removed]",
      "text/plain": [
       "<Figure size 576x576 with 10 Axes>"
      ]
     },
     "metadata": {},
     "output_type": "display_data"
    }
   ],
   "source": [
    "# Joy Division plot\n",
    "\n",
    "fig = plt.figure(figsize=(7, 12))\n",
    "\n",
    "\n",
    "# Initialize the FacetGrid object\n",
    "g = sns.FacetGrid(dfx, row=\"variable\", hue=\"variable\", aspect=10, height=.8, palette=varpal)\n",
    "\n",
    "# Draw the densities in a few steps\n",
    "knl = 'epa'\n",
    "g.map(sns.kdeplot, \"Posterior\", clip_on=False, shade=True, alpha=1, lw=1.5, bw=.2, kernel=knl)\n",
    "g.map(sns.kdeplot, \"Posterior\", clip_on=False, color=\"w\", lw=2, bw=.2, kernel=knl)\n",
    "g.map(plt.axhline, y=0, lw=2, clip_on=False)\n",
    "\n",
    "\n",
    "lim = 1.7\n",
    "yloc = 0.1\n",
    "xos = 0.4\n",
    "\n",
    "# Define and use a simple function to label the plot in axes coordinates\n",
    "def label(x, color, label):\n",
    "    ax = plt.gca()\n",
    "    ax.text(0, yloc, label, fontweight=\"bold\", color=color,\n",
    "            ha=\"left\", va=\"center\", transform=ax.transAxes)\n",
    "    ax.set_xlim(-lim,lim-xos)\n",
    "    \n",
    "# Define and use a simple function to label the plot in axes coordinates\n",
    "def pd_label(x, color, label):\n",
    "    ax = plt.gca()\n",
    "    if np.median(x)<0:\n",
    "        ax.text(0.3, yloc, str(int(np.round(100*(sum(x<0)/len(x)),0))), fontweight=\"bold\", color=color,\n",
    "                ha=\"right\", va=\"center\", transform=ax.transAxes)\n",
    "    else:\n",
    "        ax.text(1, yloc, str(int(np.round(100*(sum(x>0)/len(x)),0))), fontweight=\"bold\", color=color,\n",
    "                ha=\"left\", va=\"center\", transform=ax.transAxes)\n",
    "    ax.set_xlim(-lim,lim-xos)\n",
    "\n",
    "g.map(label, \"Posterior\")\n",
    "g.map(pd_label, \"Posterior\")\n",
    "\n",
    "\n",
    "# Add line at zero\n",
    "g.map(plt.axvline, x=0, color='w', linestyle='-')\n",
    "\n",
    "# Set the subplots to overlap\n",
    "g.fig.subplots_adjust(hspace=-.25)\n",
    "\n",
    "# Remove axes details that don't play well with overlap\n",
    "g.set_titles(\"\")\n",
    "g.set(yticks=[])\n",
    "g.despine(bottom=True, left=True)\n",
    "plt.xlabel(\"Cohen's d\", fontsize=15)\n",
    "plt.savefig('Figure_2b.pdf', bbox_inches='tight');"
   ]
  },
  {
   "cell_type": "code",
   "execution_count": 76,
   "metadata": {},
   "outputs": [],
   "source": [
    "def PPplot(intercept,slope, covariate,label,bins=(90,80,70,60,50),ax=None, colx='black',ymax=4):\n",
    "    x = np.linspace(min(covariate), max(covariate))\n",
    "    for b in bins:\n",
    "        # Plot shaded uncertainty regions\n",
    "        lower = np.exp(np.percentile(intercept,50-b/2)+np.percentile(slope,50-b/2)*x)\n",
    "        upper = np.exp(np.percentile(intercept,50+b/2)+np.percentile(slope,50+b/2)*x)\n",
    "        ax.fill_between(x, lower, upper, where=upper>lower, facecolor=colx,alpha=0.1)\n",
    "    y = np.exp(np.median(intercept)+np.median(slope)*x)\n",
    "    ax.plot(x,y,colx,linewidth=3)\n",
    "    ax.set_title(label)\n",
    "    ax.set_ylim(0,ymax)"
   ]
  },
  {
   "cell_type": "code",
   "execution_count": 77,
   "metadata": {},
   "outputs": [],
   "source": [
    "# Observed data for x-var plotting\n",
    "pltdata = [(0,1),(0,1),(0,1),(-1,1),(0,1),(0,1),(0,1),(0,1),(0,1),(0,1),(0,1),(0,1),(0,1),(0,1),(0,1),(0,1),(0,1)]"
   ]
  },
  {
   "cell_type": "code",
   "execution_count": 78,
   "metadata": {},
   "outputs": [
    {
     "data": {
      "text/plain": [
       "['Sanctuary',\n",
       " 'Gillnet_longline',\n",
       " 'Drumline',\n",
       " 'HookLine',\n",
       " 'Closed',\n",
       " 'MPA_size',\n",
       " 'High_compliance',\n",
       " 'Catch',\n",
       " 'Temporal',\n",
       " 'Species']"
      ]
     },
     "execution_count": 78,
     "metadata": {},
     "output_type": "execute_result"
    }
   ],
   "source": [
    "varlist"
   ]
  },
  {
   "cell_type": "code",
   "execution_count": 79,
   "metadata": {},
   "outputs": [],
   "source": [
    "xlabs = [('Absent','Present'),('Absent','Present'),('Absent','Present'),('Absent','Present'),('Absent','Present'),('Min','Max'),('No','Yes'),('Absent','Present'),('Absent','Present'),('Absent','Present')]"
   ]
  },
  {
   "cell_type": "code",
   "execution_count": 80,
   "metadata": {},
   "outputs": [
    {
     "data": {
      "image/png": "[encoded data removed]",
      "text/plain": [
       "<Figure size 360x648 with 10 Axes>"
      ]
     },
     "metadata": {},
     "output_type": "display_data"
    }
   ],
   "source": [
    "fig = plt.figure(figsize=(5, 9))\n",
    "gs = mp.gridspec.GridSpec(5, 2)\n",
    "ax_ = np.array([fig.add_subplot(gs[i,j]) for i in range(5) for j in range(2)]).reshape(1,10)[0]\n",
    "\n",
    "xadj = 5\n",
    "\n",
    "grx = beta_global\n",
    "\n",
    "for i in range(nvar):\n",
    "    PPplot(grx,BTrez[varlist[i]],(0,1),varnames[i],colx=varpal[i],ax=ax_[i],ymax=.7)\n",
    "    ax_[i].tick_params(axis=u'both', which=u'both',length=0)\n",
    "    ax_[i].set_xticks((0,1))\n",
    "    ax_[i].set_xticklabels(xlabs[i],rotation=0,ha='center')\n",
    "    #if i==5:\n",
    "        #ax_[i].set_ylabel('Expected MaxN change')\n",
    "\n",
    "# Adjust labelling\n",
    "[plt.setp(ax_[i].get_yticklabels(), visible=False) for i in (1,2,3,5,6,7,9)]\n",
    "\n",
    "\n",
    "#plt.setp(ax_[7].get_xticklabels(), visible=False)\n",
    "\n",
    "ax_[4].set_ylabel('E(MaxN/hr)')\n",
    "\n",
    "plt.tight_layout()\n",
    "plt.savefig('Figure_2a.pdf', bbox_inches='tight');"
   ]
  },
  {
   "cell_type": "code",
   "execution_count": 81,
   "metadata": {},
   "outputs": [
    {
     "data": {
      "text/plain": [
       "Index(['Unnamed: 0', 'Global_rate', 'pi_t__0', 'pi_t__1', 'pi_t__2', 'pi_t__3',\n",
       "       'η0_USA-Western Atlantic', 'η0_Bahamas', 'η0_Australia-Pacific',\n",
       "       'η0_Australia IOT',\n",
       "       ...\n",
       "       'Regional_rate_Western Pacific', 'σ0_η', 'σ0_κ', 'σ0_υ_z',\n",
       "       'Regional_zeros__0', 'Regional_zeros__1', 'Regional_zeros__2',\n",
       "       'Regional_zeros__3', 'σ0_η_z', 'alpha'],\n",
       "      dtype='object', length=156)"
      ]
     },
     "execution_count": 81,
     "metadata": {},
     "output_type": "execute_result"
    }
   ],
   "source": [
    "BTrez_SH_null.columns\n"
   ]
  },
  {
   "cell_type": "code",
   "execution_count": 82,
   "metadata": {},
   "outputs": [
    {
     "data": {
      "text/plain": [
       "Index(['Western Atlantic', 'Central Pacific', 'Indian Ocean',\n",
       "       'Western Pacific'],\n",
       "      dtype='object')"
      ]
     },
     "execution_count": 82,
     "metadata": {},
     "output_type": "execute_result"
    }
   ],
   "source": [
    "beta_Region.columns"
   ]
  },
  {
   "cell_type": "code",
   "execution_count": 83,
   "metadata": {},
   "outputs": [
    {
     "data": {
      "text/plain": [
       "array([[0.24263817, 0.29250859, 0.24228068, 0.23212652],\n",
       "       [0.15218264, 0.17986621, 0.1525682 , 0.1419343 ],\n",
       "       [0.38724911, 0.48783715, 0.37958504, 0.37663993]])"
      ]
     },
     "execution_count": 83,
     "metadata": {},
     "output_type": "execute_result"
    }
   ],
   "source": [
    "np.exp(np.quantile(beta_Region,(.5,.05,.95),axis=0))"
   ]
  },
  {
   "cell_type": "code",
   "execution_count": 84,
   "metadata": {},
   "outputs": [],
   "source": [
    "# Full + count model intercept weights\n",
    "loo_f2 = (loo_f/(loo_c+loo_f))\n",
    "loo_c2 = (loo_c/(loo_c+loo_f))\n",
    "BG = BTrez_SH_full[BTrez_SH_full.columns[list(BTrez_SH_full.columns.values).index('Global_rate')]].values*loo_f2+BTrez_SH_count[BTrez_SH_count.columns[list(BTrez_SH_count.columns.values).index('Global_rate')]].values*loo_c2"
   ]
  },
  {
   "cell_type": "code",
   "execution_count": 85,
   "metadata": {},
   "outputs": [],
   "source": [
    "# Regional rates\n",
    "#\"\"\"\n",
    "#\"\"\"\n",
    "#\"\"\"\n",
    "beta_Region_ex = np.exp(beta_Region)\n",
    "beta_global_ex = np.exp(BG)\n",
    "#\"\"\"\n"
   ]
  },
  {
   "cell_type": "code",
   "execution_count": 86,
   "metadata": {},
   "outputs": [],
   "source": [
    "# Regional null rates\n",
    "#\"\"\"\n",
    "beta_Region_null = BTrez_SH_null[grep('Regional_rate',BTrez_SH_null.columns.values)]\n",
    "beta_Region_null.columns = [x[14:] for x in beta_Region_null.columns]\n",
    "beta_global_null = BTrez_SH_null.Global_rate\n",
    "\n",
    "#\"\"\"\n",
    "#\"\"\"\n",
    "beta_Region_null_ex = np.exp(BTrez_SH_null[grep('Regional_rate',BTrez_SH_null.columns.values)])\n",
    "beta_Region_null_ex.columns = [x[14:] for x in beta_Region_null_ex.columns]\n",
    "beta_global_null_ex = np.exp(BTrez_SH_null.Global_rate)\n",
    "#\"\"\"\n"
   ]
  },
  {
   "cell_type": "code",
   "execution_count": 87,
   "metadata": {},
   "outputs": [
    {
     "data": {
      "text/plain": [
       "array([[0.22896571, 0.59258157, 0.28741924, 0.17820909],\n",
       "       [0.13752837, 0.35655603, 0.160935  , 0.08690092],\n",
       "       [0.36720434, 0.97069469, 0.48492033, 0.35013199]])"
      ]
     },
     "execution_count": 87,
     "metadata": {},
     "output_type": "execute_result"
    }
   ],
   "source": [
    "np.exp(np.quantile(beta_Region_null,(.5,.05,.95),axis=0))"
   ]
  },
  {
   "cell_type": "code",
   "execution_count": 88,
   "metadata": {},
   "outputs": [],
   "source": [
    "# Difference from global intercept\n",
    "Net_null_shark = beta_Region_null.sub(beta_global_null.squeeze(),axis=0).dropna()\n",
    "Net_shark = beta_Region.sub(BG.squeeze(),axis=0).dropna()"
   ]
  },
  {
   "cell_type": "code",
   "execution_count": 89,
   "metadata": {},
   "outputs": [
    {
     "data": {
      "text/plain": [
       "array(['Western Atlantic', 'Central Pacific', 'Indian Ocean',\n",
       "       'Western Pacific'], dtype=object)"
      ]
     },
     "execution_count": 89,
     "metadata": {},
     "output_type": "execute_result"
    }
   ],
   "source": [
    "Net_null_shark.columns.values"
   ]
  },
  {
   "cell_type": "code",
   "execution_count": 90,
   "metadata": {},
   "outputs": [],
   "source": [
    "valx = Net_null_shark.columns.values\n",
    "colx = ['turquoise','blue','xkcd:sienna','xkcd:burgundy']"
   ]
  },
  {
   "cell_type": "code",
   "execution_count": 91,
   "metadata": {
    "scrolled": false
   },
   "outputs": [
    {
     "name": "stderr",
     "output_type": "stream",
     "text": [
      "C:\\ProgramData\\Anaconda3\\lib\\site-packages\\seaborn\\distributions.py:335: MatplotlibDeprecationWarning: Saw kwargs ['c', 'color'] which are all aliases for 'color'.  Kept value from 'color'.  Passing multiple aliases for the same property will raise a TypeError in 3.3.\n",
      "  ax.plot(x, y, color=color, label=label, **kwargs)\n",
      "C:\\ProgramData\\Anaconda3\\lib\\site-packages\\seaborn\\distributions.py:335: MatplotlibDeprecationWarning: Saw kwargs ['c', 'color'] which are all aliases for 'color'.  Kept value from 'color'.  Passing multiple aliases for the same property will raise a TypeError in 3.3.\n",
      "  ax.plot(x, y, color=color, label=label, **kwargs)\n",
      "C:\\ProgramData\\Anaconda3\\lib\\site-packages\\seaborn\\distributions.py:335: MatplotlibDeprecationWarning: Saw kwargs ['c', 'color'] which are all aliases for 'color'.  Kept value from 'color'.  Passing multiple aliases for the same property will raise a TypeError in 3.3.\n",
      "  ax.plot(x, y, color=color, label=label, **kwargs)\n",
      "C:\\ProgramData\\Anaconda3\\lib\\site-packages\\seaborn\\distributions.py:335: MatplotlibDeprecationWarning: Saw kwargs ['c', 'color'] which are all aliases for 'color'.  Kept value from 'color'.  Passing multiple aliases for the same property will raise a TypeError in 3.3.\n",
      "  ax.plot(x, y, color=color, label=label, **kwargs)\n",
      "C:\\ProgramData\\Anaconda3\\lib\\site-packages\\seaborn\\distributions.py:335: MatplotlibDeprecationWarning: Saw kwargs ['c', 'color'] which are all aliases for 'color'.  Kept value from 'color'.  Passing multiple aliases for the same property will raise a TypeError in 3.3.\n",
      "  ax.plot(x, y, color=color, label=label, **kwargs)\n",
      "C:\\ProgramData\\Anaconda3\\lib\\site-packages\\seaborn\\distributions.py:335: MatplotlibDeprecationWarning: Saw kwargs ['c', 'color'] which are all aliases for 'color'.  Kept value from 'color'.  Passing multiple aliases for the same property will raise a TypeError in 3.3.\n",
      "  ax.plot(x, y, color=color, label=label, **kwargs)\n",
      "C:\\ProgramData\\Anaconda3\\lib\\site-packages\\seaborn\\distributions.py:335: MatplotlibDeprecationWarning: Saw kwargs ['c', 'color'] which are all aliases for 'color'.  Kept value from 'color'.  Passing multiple aliases for the same property will raise a TypeError in 3.3.\n",
      "  ax.plot(x, y, color=color, label=label, **kwargs)\n",
      "C:\\ProgramData\\Anaconda3\\lib\\site-packages\\seaborn\\distributions.py:335: MatplotlibDeprecationWarning: Saw kwargs ['c', 'color'] which are all aliases for 'color'.  Kept value from 'color'.  Passing multiple aliases for the same property will raise a TypeError in 3.3.\n",
      "  ax.plot(x, y, color=color, label=label, **kwargs)\n"
     ]
    },
    {
     "data": {
      "image/png": "[encoded data removed]",
      "text/plain": [
       "<Figure size 360x360 with 2 Axes>"
      ]
     },
     "metadata": {},
     "output_type": "display_data"
    }
   ],
   "source": [
    "fig = plt.figure(figsize=(5,5))\n",
    "gs = mp.gridspec.GridSpec(2, 1)\n",
    "ax_ = np.array([fig.add_subplot(gs[i,j]) for i in range(2) for j in range(1)]).reshape(1,2)[0]\n",
    "\n",
    "for i in range(len(valx)):\n",
    "    sns.kdeplot(beta_Region_null_ex[valx[i]],shade=True,c=colx[i],ax=ax_[0],legend=False, gridsize=1000)\n",
    "    sns.kdeplot(beta_Region_ex[valx[i]],shade=True,c=colx[i],ax=ax_[1], gridsize=1000)\n",
    "\n",
    "ax_[0].set_title('Null model')\n",
    "ax_[1].set_title('Full model') \n",
    "    \n",
    "# Tidy plots\n",
    "lim = 1.5\n",
    "ax_[0].set_xlim(-0,lim)\n",
    "ax_[0].axvline(np.median(beta_global_ex),linestyle=\"-\",c=\"white\")\n",
    "ax_[1].set_xlim(-0,lim)\n",
    "ax_[1].axvline(beta_global_null_ex.median(),linestyle=\"-\",c=\"white\")\n",
    "ax_[1].set_xlabel('E(MaxN/hr)',fontsize=17)\n",
    "\n",
    "plt.setp(ax_[0].get_yticklabels(), visible=False)\n",
    "plt.setp(ax_[0].get_xticklabels(), visible=False)\n",
    "plt.setp(ax_[1].get_yticklabels(), visible=False)\n",
    "plt.tight_layout()\n",
    "plt.savefig('Figure_1c.pdf', bbox_inches='tight');"
   ]
  },
  {
   "cell_type": "code",
   "execution_count": 92,
   "metadata": {},
   "outputs": [],
   "source": [
    "# Observed positive records\n",
    "OCC_reef = np.array([(np.sum(xdata.MaxN_shark.values[xdata.reef_id.values==R])>0)*1 for R in Reef])\n",
    "# Observed averages\n",
    "mu_reef = np.array([np.mean(xdata.MaxN_shark.values[xdata.reef_id.values==R]) for R in Reef])\n",
    "# Probability of a shark\n",
    "p_set = np.array([sum((xdata.MaxN_shark.values[xdata.reef_id.values==R]>0)*1)/len(xdata.MaxN_shark.values[xdata.reef_id.values==R]) for R in Reef])\n",
    "p_reef = np.array([np.sum(p_set[Ilr==i]>0)/len(p_set[Ilr==i]) for i in range(nlocs)])"
   ]
  },
  {
   "cell_type": "code",
   "execution_count": 93,
   "metadata": {},
   "outputs": [
    {
     "data": {
      "text/plain": [
       "58"
      ]
     },
     "execution_count": 93,
     "metadata": {},
     "output_type": "execute_result"
    }
   ],
   "source": [
    "len(np.array(RegionL)[Irl])"
   ]
  },
  {
   "cell_type": "code",
   "execution_count": 94,
   "metadata": {},
   "outputs": [
    {
     "data": {
      "text/plain": [
       "0.19407008086253374"
      ]
     },
     "execution_count": 94,
     "metadata": {},
     "output_type": "execute_result"
    }
   ],
   "source": [
    "# Proportion of reefs without sharks\n",
    "1-sum(p_set>0)/len(p_set)"
   ]
  },
  {
   "cell_type": "code",
   "execution_count": 95,
   "metadata": {},
   "outputs": [],
   "source": [
    "pd.DataFrame({'Location':LocationR, 'Region':np.array(RegionL)[Irl], 'Nreefs':[len(p_set[Ilr==i]) for i in range(nlocs)],'Mean_P(no_sharks)':p_reef}).to_csv('Mean_ReefAbsence.csv',index=False)"
   ]
  },
  {
   "cell_type": "code",
   "execution_count": 96,
   "metadata": {},
   "outputs": [
    {
     "data": {
      "text/plain": [
       "39.0"
      ]
     },
     "execution_count": 96,
     "metadata": {},
     "output_type": "execute_result"
    }
   ],
   "source": [
    "# Number of replicate sets per reef\n",
    "nreps_r = np.array([len(xdata.MaxN_shark.values[xdata.reef_id.values==R]) for R in Reef])\n",
    "np.median(nreps_r)"
   ]
  },
  {
   "cell_type": "code",
   "execution_count": 97,
   "metadata": {},
   "outputs": [
    {
     "data": {
      "text/plain": [
       "0.7219218896732815"
      ]
     },
     "execution_count": 97,
     "metadata": {},
     "output_type": "execute_result"
    }
   ],
   "source": [
    "np.mean(p_set[Ilr==LocationR.index('Australia-Pacific')])"
   ]
  },
  {
   "cell_type": "code",
   "execution_count": 98,
   "metadata": {},
   "outputs": [
    {
     "data": {
      "text/plain": [
       "0.7903015083591798"
      ]
     },
     "execution_count": 98,
     "metadata": {},
     "output_type": "execute_result"
    }
   ],
   "source": [
    "np.mean(p_set[Ilr==LocationR.index('French Polynesia')])"
   ]
  },
  {
   "cell_type": "code",
   "execution_count": 99,
   "metadata": {},
   "outputs": [],
   "source": [
    "rnam = np.array([xdata.reef_name.values[list(xdata.reef_id.values).index(r)] for r in Reef])"
   ]
  },
  {
   "cell_type": "code",
   "execution_count": 100,
   "metadata": {},
   "outputs": [],
   "source": [
    "# Reef-scale lat/lon\n",
    "SSlat = np.array([np.mean(xdata.set_latitude.values[xdata.reef_id.values==R]) for R in Reef])\n",
    "SSlon = np.array([np.mean(xdata.set_longitude.values[xdata.reef_id.values==R]) for R in Reef])"
   ]
  },
  {
   "cell_type": "code",
   "execution_count": 101,
   "metadata": {},
   "outputs": [],
   "source": [
    "mp.pyplot.style.use('seaborn-darkgrid')"
   ]
  },
  {
   "cell_type": "code",
   "execution_count": 102,
   "metadata": {},
   "outputs": [],
   "source": [
    "# Symbols for each region type\n",
    "regnam = np.array([xdata.region_name.values[list(xdata.reef_id.values).index(r)] for r in Reef])\n",
    "Reg,Irg = indexall(regnam)\n",
    "\n",
    "rsym = np.array(['^','o','s','D'])[Irg]"
   ]
  },
  {
   "cell_type": "code",
   "execution_count": 103,
   "metadata": {},
   "outputs": [
    {
     "data": {
      "text/plain": [
       "\"\\nfig = plt.figure(figsize=(15, 5))\\n# Instantiate basemap\\nm = bm(llcrnrlon=-30,llcrnrlat=-37,urcrnrlon=340,urcrnrlat=37,projection='mill')\\nm.drawcoastlines()\\n#m.drawcountries()\\nm.fillcontinents()\\nm.drawparallels(np.arange(int(-30.1),int(30.1),15), labels=[1,0,1], linewidth=0.0)\\nm.drawmeridians(np.arange(int(0),int(360),50),labels=[1,0,1], linewidth=0.0)\\n\\n\\n# Convert longitude\\nSSlon[SSlon<0] = SSlon[SSlon<0]+360\\nxx,yy = m(SSlon,SSlat)\\ncmap = co.cm.gray_r\\nzz = np.array([cmap([p_set[i]]) for i in range(nreefs)])\\n\\n\\n# Plot points\\n[plt.scatter(x, y, c=z, edgecolor='#909090', linewidth=0.7, s=70, alpha=1, marker=m, zorder=5) for x,y,z,m in zip(xx,yy,zz,rsym)];\\n\\n\\ncax = fig.add_axes([0.966, 0.2, 0.02, 0.6])\\nnorm = mp.colors.Normalize(vmin=min(mu_reef), vmax=max(mu_reef))\\ncb = mp.colorbar.ColorbarBase(cax, cmap, label='Proportion of sets with sharks')\\ncb.ax.tick_params(labelsize=15)\\ncb.set_label(label='Proportion of sets with sharks', size=15)\\n\\nfig.tight_layout()\\nplt.savefig('Figure_1a.pdf', bbox_inches='tight');\\n#\""
      ]
     },
     "execution_count": 103,
     "metadata": {},
     "output_type": "execute_result"
    }
   ],
   "source": [
    "\"\"\"\n",
    "fig = plt.figure(figsize=(15, 5))\n",
    "# Instantiate basemap\n",
    "m = bm(llcrnrlon=-30,llcrnrlat=-37,urcrnrlon=340,urcrnrlat=37,projection='mill')\n",
    "m.drawcoastlines()\n",
    "#m.drawcountries()\n",
    "m.fillcontinents()\n",
    "m.drawparallels(np.arange(int(-30.1),int(30.1),15), labels=[1,0,1], linewidth=0.0)\n",
    "m.drawmeridians(np.arange(int(0),int(360),50),labels=[1,0,1], linewidth=0.0)\n",
    "\n",
    "\n",
    "# Convert longitude\n",
    "SSlon[SSlon<0] = SSlon[SSlon<0]+360\n",
    "xx,yy = m(SSlon,SSlat)\n",
    "cmap = co.cm.gray_r\n",
    "zz = np.array([cmap([p_set[i]]) for i in range(nreefs)])\n",
    "\n",
    "\n",
    "# Plot points\n",
    "[plt.scatter(x, y, c=z, edgecolor='#909090', linewidth=0.7, s=70, alpha=1, marker=m, zorder=5) for x,y,z,m in zip(xx,yy,zz,rsym)];\n",
    "\n",
    "\n",
    "cax = fig.add_axes([0.966, 0.2, 0.02, 0.6])\n",
    "norm = mp.colors.Normalize(vmin=min(mu_reef), vmax=max(mu_reef))\n",
    "cb = mp.colorbar.ColorbarBase(cax, cmap, label='Proportion of sets with sharks')\n",
    "cb.ax.tick_params(labelsize=15)\n",
    "cb.set_label(label='Proportion of sets with sharks', size=15)\n",
    "\n",
    "fig.tight_layout()\n",
    "plt.savefig('Figure_1a.pdf', bbox_inches='tight');\n",
    "#\"\"\""
   ]
  },
  {
   "cell_type": "code",
   "execution_count": 104,
   "metadata": {},
   "outputs": [],
   "source": [
    "lox = np.array([xdata.location_name.values[list(xdata.reef_id.values).index(r)] for r in Reef])"
   ]
  },
  {
   "cell_type": "code",
   "execution_count": 105,
   "metadata": {},
   "outputs": [],
   "source": [
    "pd.DataFrame({'Location':lox,'Reef_ID':Reef, 'ReefName':rnam, 'Region':regnam, 'Lat':SSlat, 'Lon':SSlon}).to_csv('ReefCheck.csv',index=False)"
   ]
  },
  {
   "cell_type": "code",
   "execution_count": 106,
   "metadata": {},
   "outputs": [
    {
     "data": {
      "text/plain": [
       "Index(['region_name', 'region_id', 'location_name', 'location_code',\n",
       "       'location_id', 'site_name', 'site_code', 'site_id', 'reef_name',\n",
       "       'reef_type', 'reef_code', 'reef_id', 'trip_year', 'trip_code', 'set_id',\n",
       "       'set_code', 'set_date', 'set_latitude', 'set_longitude', 'maxn',\n",
       "       'functional_group', 'depth', 'drop_time', 'haul_time', 'bait',\n",
       "       'bait_oiled', 'current_flow_estimated', 'current_flow_instrumented',\n",
       "       'visibility', 'field_of_view', 'substrate_relief_sd',\n",
       "       'substrate_relief_mean', 'equipment_frame_type', 'equipment_camera',\n",
       "       'equipment_stereo_camera', 'equipment_camera_height',\n",
       "       'equipment_arm_length', 'ascidians', 'bleached_corals', 'bryozoa',\n",
       "       'consolidated', 'crinoids', 'halimeda', 'hard_coral', 'hydrocoral',\n",
       "       'hydroids', 'invertebrate_complex', 'macroalgae', 'mangrove',\n",
       "       'seagrass', 'soft_coral', 'sponge', 'true_anemones', 'unconsolidated',\n",
       "       'zoanthids', 'video_length_watched', 'video_filename', 'video_source',\n",
       "       'video_filepath', 'splendor_image_url', 'total_assignments',\n",
       "       'reviewed_assignments', 'has_complete_master', 'protection_status',\n",
       "       'mpa_name', 'mpa_area', 'mpa_year_founded', 'mpa_isolation',\n",
       "       'mpa_compliance', 'site_type', 'bait_family', 'PI', 'Remote',\n",
       "       'Shark_Protection_Status', 'Shark_fishing_restrictions', 'Shark_gears',\n",
       "       'Datasheet_Source', 'set_productivity_2017ave', 'local_population_2010',\n",
       "       'local_population_2015', 'population_proporationaldifference_2010.15',\n",
       "       'drop_hr', 'LatLon', 'Grav_NC', 'Grav_Total', 'Grav_Cities', 'Grav_NP',\n",
       "       'MaxN_shark', 'Month', 'Season', 'proportional_difference'],\n",
       "      dtype='object')"
      ]
     },
     "execution_count": 106,
     "metadata": {},
     "output_type": "execute_result"
    }
   ],
   "source": [
    "xdata.columns"
   ]
  },
  {
   "cell_type": "markdown",
   "metadata": {},
   "source": [
    "# National comparison\n",
    "\n",
    "\n",
    "\n",
    "Re-do these scores using observed null model (nussiance parameters only) and the addition of each  new management option -; explain this rationale in the conservation score methods!"
   ]
  },
  {
   "cell_type": "code",
   "execution_count": 107,
   "metadata": {},
   "outputs": [],
   "source": [
    "# National rates\n",
    "#\"\"\"\n",
    "beta_nation = np.exp(BTrez_SH_full[grep('η0_',BTrez_SH_full.columns.values)]*loo_f2+BTrez_SH_count[grep('η0_',BTrez_SH_count.columns.values)]*loo_c2)\n",
    "beta_nation.columns = [x[3:] for x in beta_nation.columns]\n",
    "Bnation = beta_nation.median(axis=0)\n",
    "BNx = Bnation.sub(np.exp(beta_Region).median(axis=0).values[Ig],axis=0)\n",
    "#\"\"\"\n",
    "\n"
   ]
  },
  {
   "cell_type": "code",
   "execution_count": 108,
   "metadata": {},
   "outputs": [
    {
     "data": {
      "text/plain": [
       "USA-Western Atlantic              0.430542\n",
       "Bahamas                           0.387180\n",
       "Australia-Pacific                 0.446686\n",
       "Australia IOT                     0.243423\n",
       "Maldives                          0.455422\n",
       "Malaysia                          0.130621\n",
       "Solomon Islands                   0.384041\n",
       "Indonesia                         0.157802\n",
       "Palau                             0.562727\n",
       "American Samoa                    0.247169\n",
       "New Caledonia                     0.690634\n",
       "Belize                            0.268863\n",
       "Jamaica                           0.241519\n",
       "Trinidad and Tobago               0.393160\n",
       "Vanuatu                           0.329458\n",
       "British West Indies               0.271873\n",
       "Fiji                              0.339991\n",
       "Colombia                          0.132507\n",
       "Australia-Indian Ocean            0.282359\n",
       "South Africa                      0.313897\n",
       "Mozambique                        0.239363\n",
       "Niue                              0.543154\n",
       "Japan                             0.155749\n",
       "Seychelles                        0.390389\n",
       "Taiwan                            0.197993\n",
       "Kiribati                          0.590601\n",
       "Qatar                             0.200199\n",
       "Federated States of Micronesia    0.819680\n",
       "Vietnam                           0.203222\n",
       "Philippines                       0.090268\n",
       "French Polynesia                  1.018467\n",
       "Samoa                             0.313337\n",
       "Turks and Caicos                  0.397551\n",
       "Antigua and Barbuda               0.292698\n",
       "Barbados                          0.376783\n",
       "Brazil                            0.173379\n",
       "Columbia SF                       0.331985\n",
       "Jamaica PB                        0.338980\n",
       "Mayotte                           0.213544\n",
       "USA-Pacific                       0.336357\n",
       "Sri Lanka                         0.154683\n",
       "Tanzania                          0.193348\n",
       "Papua New Guinea                  0.322448\n",
       "Tonga                             0.277064\n",
       "New Zealand                       0.279295\n",
       "India                             0.223185\n",
       "Kenya                             0.238333\n",
       "Dutch Antilles Windward           0.254974\n",
       "Madagascar                        0.176306\n",
       "Saudi Arabia-Red Sea              0.206493\n",
       "Guam                              0.087776\n",
       "Cook Islands                      0.435244\n",
       "Dominican Republic                0.518369\n",
       "French West Indies                0.243500\n",
       "Dutch Antilles Leeward            0.186379\n",
       "Cuba                              0.103573\n",
       "Bermuda                           0.212717\n",
       "Puerto Rico                       0.230243\n",
       "dtype: float64"
      ]
     },
     "execution_count": 108,
     "metadata": {},
     "output_type": "execute_result"
    }
   ],
   "source": [
    "beta_nation.mean(axis=0)"
   ]
  },
  {
   "cell_type": "code",
   "execution_count": 109,
   "metadata": {},
   "outputs": [],
   "source": [
    "# National rates\n",
    "#\"\"\"\n",
    "beta_nation_null = np.exp(BTrez_SH_null[grep('η0_',BTrez_SH_null.columns.values)])\n",
    "beta_nation_null.columns = [x[3:] for x in beta_nation_null.columns]\n",
    "Bnation_null = beta_nation_null.median(axis=0)\n",
    "BNx_null = Bnation_null.sub(np.exp(beta_Region_null).median(axis=0).values[Ig],axis=0)\n",
    "#\"\"\"\n"
   ]
  },
  {
   "cell_type": "code",
   "execution_count": 110,
   "metadata": {},
   "outputs": [
    {
     "data": {
      "text/plain": [
       "USA-Western Atlantic              0.365070\n",
       "Bahamas                           0.592238\n",
       "Australia-Pacific                 1.330117\n",
       "Australia IOT                     0.653414\n",
       "Maldives                          0.469350\n",
       "Malaysia                          0.135114\n",
       "Solomon Islands                   0.542096\n",
       "Indonesia                         0.129042\n",
       "Palau                             0.796292\n",
       "American Samoa                    0.397397\n",
       "New Caledonia                     1.667867\n",
       "Belize                            0.277084\n",
       "Jamaica                           0.181637\n",
       "Trinidad and Tobago               0.422641\n",
       "Vanuatu                           0.351397\n",
       "British West Indies               0.237086\n",
       "Fiji                              0.340953\n",
       "Colombia                          0.064008\n",
       "Australia-Indian Ocean            0.836141\n",
       "South Africa                      0.550599\n",
       "Mozambique                        0.312680\n",
       "Niue                              0.977926\n",
       "Japan                             0.095951\n",
       "Seychelles                        0.557112\n",
       "Taiwan                            0.161103\n",
       "Kiribati                          0.714052\n",
       "Qatar                             0.234373\n",
       "Federated States of Micronesia    1.218559\n",
       "Vietnam                           0.144846\n",
       "Philippines                       0.061274\n",
       "French Polynesia                  1.235507\n",
       "Samoa                             0.346240\n",
       "Turks and Caicos                  0.383449\n",
       "Antigua and Barbuda               0.391773\n",
       "Barbados                          0.140158\n",
       "Brazil                            0.138788\n",
       "Columbia SF                       0.655560\n",
       "Jamaica PB                        0.324394\n",
       "Mayotte                           0.201381\n",
       "USA-Pacific                       0.467736\n",
       "Sri Lanka                         0.072160\n",
       "Tanzania                          0.113109\n",
       "Papua New Guinea                  0.332723\n",
       "Tonga                             0.765439\n",
       "New Zealand                       1.126499\n",
       "India                             0.223337\n",
       "Kenya                             0.239958\n",
       "Dutch Antilles Windward           0.184554\n",
       "Madagascar                        0.205905\n",
       "Saudi Arabia-Red Sea              0.202182\n",
       "Guam                              0.102764\n",
       "Cook Islands                      0.689668\n",
       "Dominican Republic                0.182211\n",
       "French West Indies                0.178465\n",
       "Dutch Antilles Leeward            0.089256\n",
       "Cuba                              0.144536\n",
       "Bermuda                           0.151088\n",
       "Puerto Rico                       0.184130\n",
       "dtype: float64"
      ]
     },
     "execution_count": 110,
     "metadata": {},
     "output_type": "execute_result"
    }
   ],
   "source": [
    "Bnation_null"
   ]
  },
  {
   "cell_type": "code",
   "execution_count": 111,
   "metadata": {},
   "outputs": [],
   "source": [
    "# Regional colors\n",
    "colsx = np.array(colx)[Ig]"
   ]
  },
  {
   "cell_type": "code",
   "execution_count": 112,
   "metadata": {},
   "outputs": [
    {
     "data": {
      "text/html": [
       "<div>\n",
       "<style scoped>\n",
       "    .dataframe tbody tr th:only-of-type {\n",
       "        vertical-align: middle;\n",
       "    }\n",
       "\n",
       "    .dataframe tbody tr th {\n",
       "        vertical-align: top;\n",
       "    }\n",
       "\n",
       "    .dataframe thead th {\n",
       "        text-align: right;\n",
       "    }\n",
       "</style>\n",
       "<table border=\"1\" class=\"dataframe\">\n",
       "  <thead>\n",
       "    <tr style=\"text-align: right;\">\n",
       "      <th></th>\n",
       "      <th>Unnamed: 0</th>\n",
       "      <th>Global_rate</th>\n",
       "      <th>pi_t__0</th>\n",
       "      <th>pi_t__1</th>\n",
       "      <th>pi_t__2</th>\n",
       "      <th>pi_t__3</th>\n",
       "      <th>η0_USA-Western Atlantic</th>\n",
       "      <th>η0_Bahamas</th>\n",
       "      <th>η0_Australia-Pacific</th>\n",
       "      <th>η0_Australia IOT</th>\n",
       "      <th>...</th>\n",
       "      <th>Regional_rate_Western Pacific</th>\n",
       "      <th>σ0_η</th>\n",
       "      <th>σ0_κ</th>\n",
       "      <th>σ0_υ_z</th>\n",
       "      <th>Regional_zeros__0</th>\n",
       "      <th>Regional_zeros__1</th>\n",
       "      <th>Regional_zeros__2</th>\n",
       "      <th>Regional_zeros__3</th>\n",
       "      <th>σ0_η_z</th>\n",
       "      <th>alpha</th>\n",
       "    </tr>\n",
       "  </thead>\n",
       "  <tbody>\n",
       "    <tr>\n",
       "      <th>0</th>\n",
       "      <td>0</td>\n",
       "      <td>-1.583659</td>\n",
       "      <td>0.088167</td>\n",
       "      <td>0.621406</td>\n",
       "      <td>-0.180973</td>\n",
       "      <td>0.111352</td>\n",
       "      <td>-1.476539</td>\n",
       "      <td>-0.232598</td>\n",
       "      <td>0.338663</td>\n",
       "      <td>-0.253124</td>\n",
       "      <td>...</td>\n",
       "      <td>-1.410273</td>\n",
       "      <td>1.000561</td>\n",
       "      <td>1.072866</td>\n",
       "      <td>1.739983</td>\n",
       "      <td>8.527868</td>\n",
       "      <td>10.476610</td>\n",
       "      <td>6.465139</td>\n",
       "      <td>7.655935</td>\n",
       "      <td>7.668780</td>\n",
       "      <td>6.528335</td>\n",
       "    </tr>\n",
       "    <tr>\n",
       "      <th>1</th>\n",
       "      <td>1</td>\n",
       "      <td>-0.484740</td>\n",
       "      <td>-0.620667</td>\n",
       "      <td>0.108466</td>\n",
       "      <td>-0.680332</td>\n",
       "      <td>-0.217182</td>\n",
       "      <td>-1.240408</td>\n",
       "      <td>-0.340204</td>\n",
       "      <td>-0.066751</td>\n",
       "      <td>0.036098</td>\n",
       "      <td>...</td>\n",
       "      <td>-0.867132</td>\n",
       "      <td>1.036508</td>\n",
       "      <td>1.188762</td>\n",
       "      <td>1.475393</td>\n",
       "      <td>6.178200</td>\n",
       "      <td>7.440682</td>\n",
       "      <td>5.237715</td>\n",
       "      <td>6.249266</td>\n",
       "      <td>8.989780</td>\n",
       "      <td>7.465940</td>\n",
       "    </tr>\n",
       "    <tr>\n",
       "      <th>2</th>\n",
       "      <td>2</td>\n",
       "      <td>-0.906508</td>\n",
       "      <td>-0.639613</td>\n",
       "      <td>0.047206</td>\n",
       "      <td>-0.723437</td>\n",
       "      <td>-0.274638</td>\n",
       "      <td>-0.697273</td>\n",
       "      <td>-0.408274</td>\n",
       "      <td>-0.083422</td>\n",
       "      <td>0.016188</td>\n",
       "      <td>...</td>\n",
       "      <td>-1.132864</td>\n",
       "      <td>1.028088</td>\n",
       "      <td>1.194473</td>\n",
       "      <td>0.355435</td>\n",
       "      <td>7.015247</td>\n",
       "      <td>7.457838</td>\n",
       "      <td>6.977492</td>\n",
       "      <td>7.302841</td>\n",
       "      <td>7.864036</td>\n",
       "      <td>7.268930</td>\n",
       "    </tr>\n",
       "    <tr>\n",
       "      <th>3</th>\n",
       "      <td>3</td>\n",
       "      <td>-0.591007</td>\n",
       "      <td>-0.656047</td>\n",
       "      <td>0.019008</td>\n",
       "      <td>-0.629347</td>\n",
       "      <td>-0.905808</td>\n",
       "      <td>-0.766692</td>\n",
       "      <td>-0.754586</td>\n",
       "      <td>0.956137</td>\n",
       "      <td>-0.078553</td>\n",
       "      <td>...</td>\n",
       "      <td>-1.789338</td>\n",
       "      <td>1.052344</td>\n",
       "      <td>1.152056</td>\n",
       "      <td>1.911426</td>\n",
       "      <td>6.564672</td>\n",
       "      <td>5.572458</td>\n",
       "      <td>7.914495</td>\n",
       "      <td>6.033966</td>\n",
       "      <td>8.089471</td>\n",
       "      <td>6.245186</td>\n",
       "    </tr>\n",
       "    <tr>\n",
       "      <th>4</th>\n",
       "      <td>4</td>\n",
       "      <td>-0.624174</td>\n",
       "      <td>-1.398446</td>\n",
       "      <td>-0.597614</td>\n",
       "      <td>-0.967315</td>\n",
       "      <td>-1.148977</td>\n",
       "      <td>-1.451582</td>\n",
       "      <td>-0.328556</td>\n",
       "      <td>0.345725</td>\n",
       "      <td>-0.522018</td>\n",
       "      <td>...</td>\n",
       "      <td>-1.551866</td>\n",
       "      <td>1.102858</td>\n",
       "      <td>1.042604</td>\n",
       "      <td>0.227840</td>\n",
       "      <td>7.710936</td>\n",
       "      <td>7.857853</td>\n",
       "      <td>7.562839</td>\n",
       "      <td>7.767864</td>\n",
       "      <td>6.987470</td>\n",
       "      <td>6.589936</td>\n",
       "    </tr>\n",
       "  </tbody>\n",
       "</table>\n",
       "<p>5 rows × 156 columns</p>\n",
       "</div>"
      ],
      "text/plain": [
       "   Unnamed: 0  Global_rate   pi_t__0   pi_t__1   pi_t__2   pi_t__3  \\\n",
       "0           0    -1.583659  0.088167  0.621406 -0.180973  0.111352   \n",
       "1           1    -0.484740 -0.620667  0.108466 -0.680332 -0.217182   \n",
       "2           2    -0.906508 -0.639613  0.047206 -0.723437 -0.274638   \n",
       "3           3    -0.591007 -0.656047  0.019008 -0.629347 -0.905808   \n",
       "4           4    -0.624174 -1.398446 -0.597614 -0.967315 -1.148977   \n",
       "\n",
       "   η0_USA-Western Atlantic  η0_Bahamas  η0_Australia-Pacific  \\\n",
       "0                -1.476539   -0.232598              0.338663   \n",
       "1                -1.240408   -0.340204             -0.066751   \n",
       "2                -0.697273   -0.408274             -0.083422   \n",
       "3                -0.766692   -0.754586              0.956137   \n",
       "4                -1.451582   -0.328556              0.345725   \n",
       "\n",
       "   η0_Australia IOT  ...  Regional_rate_Western Pacific      σ0_η      σ0_κ  \\\n",
       "0         -0.253124  ...                      -1.410273  1.000561  1.072866   \n",
       "1          0.036098  ...                      -0.867132  1.036508  1.188762   \n",
       "2          0.016188  ...                      -1.132864  1.028088  1.194473   \n",
       "3         -0.078553  ...                      -1.789338  1.052344  1.152056   \n",
       "4         -0.522018  ...                      -1.551866  1.102858  1.042604   \n",
       "\n",
       "     σ0_υ_z  Regional_zeros__0  Regional_zeros__1  Regional_zeros__2  \\\n",
       "0  1.739983           8.527868          10.476610           6.465139   \n",
       "1  1.475393           6.178200           7.440682           5.237715   \n",
       "2  0.355435           7.015247           7.457838           6.977492   \n",
       "3  1.911426           6.564672           5.572458           7.914495   \n",
       "4  0.227840           7.710936           7.857853           7.562839   \n",
       "\n",
       "   Regional_zeros__3    σ0_η_z     alpha  \n",
       "0           7.655935  7.668780  6.528335  \n",
       "1           6.249266  8.989780  7.465940  \n",
       "2           7.302841  7.864036  7.268930  \n",
       "3           6.033966  8.089471  6.245186  \n",
       "4           7.767864  6.987470  6.589936  \n",
       "\n",
       "[5 rows x 156 columns]"
      ]
     },
     "execution_count": 112,
     "metadata": {},
     "output_type": "execute_result"
    }
   ],
   "source": [
    "BTrez_SH_null.head()"
   ]
  },
  {
   "cell_type": "code",
   "execution_count": 113,
   "metadata": {},
   "outputs": [],
   "source": [
    "colnames = BTrez_SH_null.columns.values"
   ]
  },
  {
   "cell_type": "code",
   "execution_count": null,
   "metadata": {},
   "outputs": [],
   "source": []
  },
  {
   "cell_type": "code",
   "execution_count": 114,
   "metadata": {},
   "outputs": [],
   "source": [
    "# Regional expected value\n",
    "REx = pd.DataFrame(BTrez_SH_null[colnames[np.array([list(colnames).index(x) for x in grep('Regional_rate',colnames)])]])\n",
    "REx.columns = [x[14:] for x in REx.columns]\n",
    "RMedian = REx.median()\n",
    "\n",
    "# National expected value\n",
    "ex_val = BTrez_SH_null[colnames[np.array([list(colnames).index(x) for x in grep('η0_',colnames)])]]\n",
    "ex_val.columns = [x[3:] for x in ex_val.columns.values]\n",
    "ex_val = ex_val[ex_val.mean().sort_values().index.values]\n",
    "Elocation = ex_val.columns.values"
   ]
  },
  {
   "cell_type": "code",
   "execution_count": 115,
   "metadata": {},
   "outputs": [
    {
     "data": {
      "text/html": [
       "<div>\n",
       "<style scoped>\n",
       "    .dataframe tbody tr th:only-of-type {\n",
       "        vertical-align: middle;\n",
       "    }\n",
       "\n",
       "    .dataframe tbody tr th {\n",
       "        vertical-align: top;\n",
       "    }\n",
       "\n",
       "    .dataframe thead th {\n",
       "        text-align: right;\n",
       "    }\n",
       "</style>\n",
       "<table border=\"1\" class=\"dataframe\">\n",
       "  <thead>\n",
       "    <tr style=\"text-align: right;\">\n",
       "      <th></th>\n",
       "      <th>Philippines</th>\n",
       "      <th>Colombia</th>\n",
       "      <th>Sri Lanka</th>\n",
       "      <th>Dutch Antilles Leeward</th>\n",
       "      <th>Japan</th>\n",
       "      <th>Guam</th>\n",
       "      <th>Tanzania</th>\n",
       "      <th>Indonesia</th>\n",
       "      <th>Malaysia</th>\n",
       "      <th>Brazil</th>\n",
       "      <th>...</th>\n",
       "      <th>Kiribati</th>\n",
       "      <th>Tonga</th>\n",
       "      <th>Palau</th>\n",
       "      <th>Australia-Indian Ocean</th>\n",
       "      <th>Niue</th>\n",
       "      <th>New Zealand</th>\n",
       "      <th>Federated States of Micronesia</th>\n",
       "      <th>French Polynesia</th>\n",
       "      <th>Australia-Pacific</th>\n",
       "      <th>New Caledonia</th>\n",
       "    </tr>\n",
       "  </thead>\n",
       "  <tbody>\n",
       "    <tr>\n",
       "      <th>0</th>\n",
       "      <td>-1.711950</td>\n",
       "      <td>-2.458609</td>\n",
       "      <td>-3.117213</td>\n",
       "      <td>-2.527233</td>\n",
       "      <td>-3.171107</td>\n",
       "      <td>-2.350125</td>\n",
       "      <td>-3.126986</td>\n",
       "      <td>-2.542137</td>\n",
       "      <td>-1.502528</td>\n",
       "      <td>-1.573325</td>\n",
       "      <td>...</td>\n",
       "      <td>-0.398312</td>\n",
       "      <td>-0.013291</td>\n",
       "      <td>-0.084263</td>\n",
       "      <td>-0.225502</td>\n",
       "      <td>-0.111619</td>\n",
       "      <td>-0.342683</td>\n",
       "      <td>0.680194</td>\n",
       "      <td>0.625912</td>\n",
       "      <td>0.338663</td>\n",
       "      <td>0.418428</td>\n",
       "    </tr>\n",
       "    <tr>\n",
       "      <th>1</th>\n",
       "      <td>-2.898596</td>\n",
       "      <td>-3.727810</td>\n",
       "      <td>-5.018474</td>\n",
       "      <td>-2.123142</td>\n",
       "      <td>-1.892981</td>\n",
       "      <td>-2.082203</td>\n",
       "      <td>-2.890205</td>\n",
       "      <td>-1.787557</td>\n",
       "      <td>-0.483410</td>\n",
       "      <td>-2.743977</td>\n",
       "      <td>...</td>\n",
       "      <td>-0.324553</td>\n",
       "      <td>-0.795069</td>\n",
       "      <td>0.430134</td>\n",
       "      <td>-0.017876</td>\n",
       "      <td>0.255896</td>\n",
       "      <td>0.598501</td>\n",
       "      <td>0.572607</td>\n",
       "      <td>0.392175</td>\n",
       "      <td>-0.066751</td>\n",
       "      <td>0.195347</td>\n",
       "    </tr>\n",
       "    <tr>\n",
       "      <th>2</th>\n",
       "      <td>-2.671257</td>\n",
       "      <td>-3.636824</td>\n",
       "      <td>-4.966150</td>\n",
       "      <td>-2.032977</td>\n",
       "      <td>-2.230057</td>\n",
       "      <td>-2.379010</td>\n",
       "      <td>-2.541541</td>\n",
       "      <td>-2.139323</td>\n",
       "      <td>-0.926604</td>\n",
       "      <td>-2.685741</td>\n",
       "      <td>...</td>\n",
       "      <td>-0.173285</td>\n",
       "      <td>-0.998080</td>\n",
       "      <td>0.126679</td>\n",
       "      <td>0.209775</td>\n",
       "      <td>0.354252</td>\n",
       "      <td>-0.372547</td>\n",
       "      <td>0.195259</td>\n",
       "      <td>0.540171</td>\n",
       "      <td>-0.083422</td>\n",
       "      <td>-0.512897</td>\n",
       "    </tr>\n",
       "    <tr>\n",
       "      <th>3</th>\n",
       "      <td>-2.887443</td>\n",
       "      <td>-3.438088</td>\n",
       "      <td>-3.666891</td>\n",
       "      <td>-1.810271</td>\n",
       "      <td>-2.801388</td>\n",
       "      <td>-2.454020</td>\n",
       "      <td>-1.494913</td>\n",
       "      <td>-1.884802</td>\n",
       "      <td>-1.026744</td>\n",
       "      <td>-1.787843</td>\n",
       "      <td>...</td>\n",
       "      <td>0.470589</td>\n",
       "      <td>-0.743064</td>\n",
       "      <td>-0.167636</td>\n",
       "      <td>0.142522</td>\n",
       "      <td>-0.091331</td>\n",
       "      <td>-0.164663</td>\n",
       "      <td>0.841364</td>\n",
       "      <td>0.478590</td>\n",
       "      <td>0.956137</td>\n",
       "      <td>0.183923</td>\n",
       "    </tr>\n",
       "    <tr>\n",
       "      <th>4</th>\n",
       "      <td>-2.454554</td>\n",
       "      <td>-2.600110</td>\n",
       "      <td>-3.770293</td>\n",
       "      <td>-2.308293</td>\n",
       "      <td>-1.684953</td>\n",
       "      <td>-3.068578</td>\n",
       "      <td>-3.435531</td>\n",
       "      <td>-1.645076</td>\n",
       "      <td>-2.068453</td>\n",
       "      <td>-1.480364</td>\n",
       "      <td>...</td>\n",
       "      <td>0.235682</td>\n",
       "      <td>-0.862293</td>\n",
       "      <td>0.707545</td>\n",
       "      <td>-0.201206</td>\n",
       "      <td>-0.183543</td>\n",
       "      <td>1.045682</td>\n",
       "      <td>0.424708</td>\n",
       "      <td>0.291959</td>\n",
       "      <td>0.345725</td>\n",
       "      <td>0.568629</td>\n",
       "    </tr>\n",
       "    <tr>\n",
       "      <th>...</th>\n",
       "      <td>...</td>\n",
       "      <td>...</td>\n",
       "      <td>...</td>\n",
       "      <td>...</td>\n",
       "      <td>...</td>\n",
       "      <td>...</td>\n",
       "      <td>...</td>\n",
       "      <td>...</td>\n",
       "      <td>...</td>\n",
       "      <td>...</td>\n",
       "      <td>...</td>\n",
       "      <td>...</td>\n",
       "      <td>...</td>\n",
       "      <td>...</td>\n",
       "      <td>...</td>\n",
       "      <td>...</td>\n",
       "      <td>...</td>\n",
       "      <td>...</td>\n",
       "      <td>...</td>\n",
       "      <td>...</td>\n",
       "      <td>...</td>\n",
       "    </tr>\n",
       "    <tr>\n",
       "      <th>19995</th>\n",
       "      <td>-2.147959</td>\n",
       "      <td>-2.925740</td>\n",
       "      <td>-2.821911</td>\n",
       "      <td>-2.265894</td>\n",
       "      <td>-2.670994</td>\n",
       "      <td>-1.950321</td>\n",
       "      <td>-1.504697</td>\n",
       "      <td>-2.269890</td>\n",
       "      <td>-1.351597</td>\n",
       "      <td>-2.235395</td>\n",
       "      <td>...</td>\n",
       "      <td>-0.770705</td>\n",
       "      <td>-0.033682</td>\n",
       "      <td>-0.493182</td>\n",
       "      <td>-0.176541</td>\n",
       "      <td>-0.167338</td>\n",
       "      <td>-0.218709</td>\n",
       "      <td>0.240831</td>\n",
       "      <td>0.089085</td>\n",
       "      <td>0.028424</td>\n",
       "      <td>0.847234</td>\n",
       "    </tr>\n",
       "    <tr>\n",
       "      <th>19996</th>\n",
       "      <td>-3.460901</td>\n",
       "      <td>-1.847612</td>\n",
       "      <td>-2.677737</td>\n",
       "      <td>-1.940592</td>\n",
       "      <td>-2.256891</td>\n",
       "      <td>-2.041478</td>\n",
       "      <td>-2.600440</td>\n",
       "      <td>-1.940075</td>\n",
       "      <td>-2.030621</td>\n",
       "      <td>-2.213300</td>\n",
       "      <td>...</td>\n",
       "      <td>0.051639</td>\n",
       "      <td>-0.395774</td>\n",
       "      <td>-1.298142</td>\n",
       "      <td>-0.231073</td>\n",
       "      <td>0.163513</td>\n",
       "      <td>-0.100813</td>\n",
       "      <td>-0.624007</td>\n",
       "      <td>-0.165309</td>\n",
       "      <td>-0.059686</td>\n",
       "      <td>1.025770</td>\n",
       "    </tr>\n",
       "    <tr>\n",
       "      <th>19997</th>\n",
       "      <td>-2.234244</td>\n",
       "      <td>-4.011305</td>\n",
       "      <td>-2.601746</td>\n",
       "      <td>-2.371459</td>\n",
       "      <td>-2.104897</td>\n",
       "      <td>-2.699987</td>\n",
       "      <td>-2.630281</td>\n",
       "      <td>-2.706301</td>\n",
       "      <td>-1.909722</td>\n",
       "      <td>-1.859313</td>\n",
       "      <td>...</td>\n",
       "      <td>-1.046838</td>\n",
       "      <td>-1.286794</td>\n",
       "      <td>0.201778</td>\n",
       "      <td>-0.280788</td>\n",
       "      <td>-0.716188</td>\n",
       "      <td>-0.737278</td>\n",
       "      <td>0.075112</td>\n",
       "      <td>0.378998</td>\n",
       "      <td>0.430705</td>\n",
       "      <td>-0.386284</td>\n",
       "    </tr>\n",
       "    <tr>\n",
       "      <th>19998</th>\n",
       "      <td>-3.224123</td>\n",
       "      <td>-2.395646</td>\n",
       "      <td>-2.802945</td>\n",
       "      <td>-2.186005</td>\n",
       "      <td>-2.294638</td>\n",
       "      <td>-3.024493</td>\n",
       "      <td>-2.430645</td>\n",
       "      <td>-2.538455</td>\n",
       "      <td>-2.569864</td>\n",
       "      <td>-2.542767</td>\n",
       "      <td>...</td>\n",
       "      <td>-1.013927</td>\n",
       "      <td>-0.222647</td>\n",
       "      <td>-1.175015</td>\n",
       "      <td>-0.324791</td>\n",
       "      <td>0.022369</td>\n",
       "      <td>-0.786286</td>\n",
       "      <td>-0.166220</td>\n",
       "      <td>-0.225391</td>\n",
       "      <td>0.146503</td>\n",
       "      <td>1.094154</td>\n",
       "    </tr>\n",
       "    <tr>\n",
       "      <th>19999</th>\n",
       "      <td>-2.504394</td>\n",
       "      <td>-2.556543</td>\n",
       "      <td>-2.699309</td>\n",
       "      <td>-2.153333</td>\n",
       "      <td>-1.930185</td>\n",
       "      <td>-3.198685</td>\n",
       "      <td>-1.805893</td>\n",
       "      <td>-2.375820</td>\n",
       "      <td>-2.322414</td>\n",
       "      <td>-1.901208</td>\n",
       "      <td>...</td>\n",
       "      <td>0.027700</td>\n",
       "      <td>-0.161036</td>\n",
       "      <td>-0.721267</td>\n",
       "      <td>-0.399128</td>\n",
       "      <td>-0.066654</td>\n",
       "      <td>0.199237</td>\n",
       "      <td>-0.074188</td>\n",
       "      <td>-0.139370</td>\n",
       "      <td>0.440070</td>\n",
       "      <td>0.381234</td>\n",
       "    </tr>\n",
       "  </tbody>\n",
       "</table>\n",
       "<p>20000 rows × 58 columns</p>\n",
       "</div>"
      ],
      "text/plain": [
       "       Philippines  Colombia  Sri Lanka  Dutch Antilles Leeward     Japan  \\\n",
       "0        -1.711950 -2.458609  -3.117213               -2.527233 -3.171107   \n",
       "1        -2.898596 -3.727810  -5.018474               -2.123142 -1.892981   \n",
       "2        -2.671257 -3.636824  -4.966150               -2.032977 -2.230057   \n",
       "3        -2.887443 -3.438088  -3.666891               -1.810271 -2.801388   \n",
       "4        -2.454554 -2.600110  -3.770293               -2.308293 -1.684953   \n",
       "...            ...       ...        ...                     ...       ...   \n",
       "19995    -2.147959 -2.925740  -2.821911               -2.265894 -2.670994   \n",
       "19996    -3.460901 -1.847612  -2.677737               -1.940592 -2.256891   \n",
       "19997    -2.234244 -4.011305  -2.601746               -2.371459 -2.104897   \n",
       "19998    -3.224123 -2.395646  -2.802945               -2.186005 -2.294638   \n",
       "19999    -2.504394 -2.556543  -2.699309               -2.153333 -1.930185   \n",
       "\n",
       "           Guam  Tanzania  Indonesia  Malaysia    Brazil  ...  Kiribati  \\\n",
       "0     -2.350125 -3.126986  -2.542137 -1.502528 -1.573325  ... -0.398312   \n",
       "1     -2.082203 -2.890205  -1.787557 -0.483410 -2.743977  ... -0.324553   \n",
       "2     -2.379010 -2.541541  -2.139323 -0.926604 -2.685741  ... -0.173285   \n",
       "3     -2.454020 -1.494913  -1.884802 -1.026744 -1.787843  ...  0.470589   \n",
       "4     -3.068578 -3.435531  -1.645076 -2.068453 -1.480364  ...  0.235682   \n",
       "...         ...       ...        ...       ...       ...  ...       ...   \n",
       "19995 -1.950321 -1.504697  -2.269890 -1.351597 -2.235395  ... -0.770705   \n",
       "19996 -2.041478 -2.600440  -1.940075 -2.030621 -2.213300  ...  0.051639   \n",
       "19997 -2.699987 -2.630281  -2.706301 -1.909722 -1.859313  ... -1.046838   \n",
       "19998 -3.024493 -2.430645  -2.538455 -2.569864 -2.542767  ... -1.013927   \n",
       "19999 -3.198685 -1.805893  -2.375820 -2.322414 -1.901208  ...  0.027700   \n",
       "\n",
       "          Tonga     Palau  Australia-Indian Ocean      Niue  New Zealand  \\\n",
       "0     -0.013291 -0.084263               -0.225502 -0.111619    -0.342683   \n",
       "1     -0.795069  0.430134               -0.017876  0.255896     0.598501   \n",
       "2     -0.998080  0.126679                0.209775  0.354252    -0.372547   \n",
       "3     -0.743064 -0.167636                0.142522 -0.091331    -0.164663   \n",
       "4     -0.862293  0.707545               -0.201206 -0.183543     1.045682   \n",
       "...         ...       ...                     ...       ...          ...   \n",
       "19995 -0.033682 -0.493182               -0.176541 -0.167338    -0.218709   \n",
       "19996 -0.395774 -1.298142               -0.231073  0.163513    -0.100813   \n",
       "19997 -1.286794  0.201778               -0.280788 -0.716188    -0.737278   \n",
       "19998 -0.222647 -1.175015               -0.324791  0.022369    -0.786286   \n",
       "19999 -0.161036 -0.721267               -0.399128 -0.066654     0.199237   \n",
       "\n",
       "       Federated States of Micronesia  French Polynesia  Australia-Pacific  \\\n",
       "0                            0.680194          0.625912           0.338663   \n",
       "1                            0.572607          0.392175          -0.066751   \n",
       "2                            0.195259          0.540171          -0.083422   \n",
       "3                            0.841364          0.478590           0.956137   \n",
       "4                            0.424708          0.291959           0.345725   \n",
       "...                               ...               ...                ...   \n",
       "19995                        0.240831          0.089085           0.028424   \n",
       "19996                       -0.624007         -0.165309          -0.059686   \n",
       "19997                        0.075112          0.378998           0.430705   \n",
       "19998                       -0.166220         -0.225391           0.146503   \n",
       "19999                       -0.074188         -0.139370           0.440070   \n",
       "\n",
       "       New Caledonia  \n",
       "0           0.418428  \n",
       "1           0.195347  \n",
       "2          -0.512897  \n",
       "3           0.183923  \n",
       "4           0.568629  \n",
       "...              ...  \n",
       "19995       0.847234  \n",
       "19996       1.025770  \n",
       "19997      -0.386284  \n",
       "19998       1.094154  \n",
       "19999       0.381234  \n",
       "\n",
       "[20000 rows x 58 columns]"
      ]
     },
     "execution_count": 115,
     "metadata": {},
     "output_type": "execute_result"
    }
   ],
   "source": [
    "ex_val"
   ]
  },
  {
   "cell_type": "code",
   "execution_count": 116,
   "metadata": {},
   "outputs": [
    {
     "data": {
      "text/plain": [
       "Western Atlantic   -1.474183\n",
       "Central Pacific    -0.523267\n",
       "Indian Ocean       -1.246813\n",
       "Western Pacific    -1.724798\n",
       "dtype: float64"
      ]
     },
     "execution_count": 116,
     "metadata": {},
     "output_type": "execute_result"
    }
   ],
   "source": [
    "RMedian"
   ]
  },
  {
   "cell_type": "code",
   "execution_count": 117,
   "metadata": {},
   "outputs": [],
   "source": [
    "# National presence\n",
    "p_presence = invlogit(BTrez_SH_null[colnames[np.array([list(colnames).index(x) for x in grep('η0z',colnames)])]])\n",
    "p_presence.columns = [x[4:] for x in p_presence.columns.values]\n",
    "p_presence = p_presence[p_presence.mean().sort_values().index.values]\n",
    "Plocation = p_presence.columns.values"
   ]
  },
  {
   "cell_type": "code",
   "execution_count": 118,
   "metadata": {},
   "outputs": [
    {
     "data": {
      "text/plain": [
       "0.46061660513922753"
      ]
     },
     "execution_count": 118,
     "metadata": {},
     "output_type": "execute_result"
    }
   ],
   "source": [
    "p_presence['South Africa'].median()\n"
   ]
  },
  {
   "cell_type": "code",
   "execution_count": 119,
   "metadata": {},
   "outputs": [
    {
     "data": {
      "text/plain": [
       "array([29, 17, 40, 54, 22, 50, 41,  7,  5, 35, 34, 28, 55, 56, 24, 53, 12,\n",
       "       52, 47, 57, 49, 38, 48, 45, 26, 46, 15, 11, 20, 37, 42, 16, 31, 14,\n",
       "        0, 32, 33,  9, 13, 39,  4,  6, 19, 23,  1,  3, 36, 51, 25, 43,  8,\n",
       "       18, 21, 44, 27, 30,  2, 10])"
      ]
     },
     "execution_count": 119,
     "metadata": {},
     "output_type": "execute_result"
    }
   ],
   "source": [
    "# Key to match null model estimates to observed nation indexing\n",
    "lindx = np.array([LocationR.index(x) for x in Elocation])\n",
    "lindx"
   ]
  },
  {
   "cell_type": "code",
   "execution_count": 120,
   "metadata": {},
   "outputs": [],
   "source": [
    "# Regional index for new location order\n",
    "zkey = pd.DataFrame({'Location':Elocation,'Region':np.array(Region)[Ig][lindx]})\n",
    "zkey = zkey.set_index('Location')"
   ]
  },
  {
   "cell_type": "code",
   "execution_count": 121,
   "metadata": {},
   "outputs": [],
   "source": [
    "# Get proportion of reefs with gillnets and longlines - use lindx to match order with those in results\n",
    "zkey['propgill'] = np.array([sum(GILL[Ilr==lindx[i]])/len(GILL[Ilr==lindx[i]]) for i in range(nlocs)])\n",
    "# Get proportion of reefs without closures\n",
    "zkey['propclo'] = 1-np.array([sum(CLO[Ilr==lindx[i]])/len(CLO[Ilr==lindx[i]]) for i in range(nlocs)])\n",
    "# Get proportion of reefs without shark sanctuary\n",
    "zkey['propban'] = 1-SSA[lindx]\n",
    "# Get proportion of reefs without Catch limits\n",
    "zkey['propcat'] = 1-np.array([sum(BAG[Ilr==lindx[i]])/len(BAG[Ilr==lindx[i]]) for i in range(nlocs)])\n",
    "# Get expected value from null model\n",
    "zkey['ex_val'] = ex_val.median(axis=0)"
   ]
  },
  {
   "cell_type": "code",
   "execution_count": null,
   "metadata": {},
   "outputs": [],
   "source": []
  },
  {
   "cell_type": "code",
   "execution_count": 122,
   "metadata": {},
   "outputs": [],
   "source": [
    "# Expected value per location\n",
    "exobs = np.exp(zkey.ex_val)"
   ]
  },
  {
   "cell_type": "code",
   "execution_count": 123,
   "metadata": {},
   "outputs": [],
   "source": [
    "# Get gillnet effect sizes per location\n",
    "gilman = zkey.ex_val+zkey.propgill*(np.median(beta_Gill)*-1)\n",
    "\n",
    "# Get gillnet MaxN effect sizes per location\n",
    "gilman_ex = np.exp(zkey.ex_val+zkey.propgill*(np.median(beta_Gill)*-1))"
   ]
  },
  {
   "cell_type": "code",
   "execution_count": 124,
   "metadata": {},
   "outputs": [
    {
     "data": {
      "text/plain": [
       "-0.44604883029761655"
      ]
     },
     "execution_count": 124,
     "metadata": {},
     "output_type": "execute_result"
    }
   ],
   "source": [
    "np.median(beta_Gill)"
   ]
  },
  {
   "cell_type": "code",
   "execution_count": 125,
   "metadata": {},
   "outputs": [],
   "source": [
    "# Get large closure effect sizes per location\n",
    "cloman = zkey.ex_val+zkey.propclo*np.median(beta_clo)+zkey.propclo*np.median(beta_MPAsize)\n",
    "\n",
    "# Get large closure MaxN effect sizes per location\n",
    "cloman_ex = np.exp(zkey.ex_val+zkey.propclo*np.median(beta_clo)+zkey.propclo*np.median(beta_MPAsize))"
   ]
  },
  {
   "cell_type": "code",
   "execution_count": 126,
   "metadata": {},
   "outputs": [],
   "source": [
    "# Get average closure effect sizes per location\n",
    "cloman2 = zkey.ex_val+zkey.propclo*np.median(beta_clo)"
   ]
  },
  {
   "cell_type": "code",
   "execution_count": 127,
   "metadata": {},
   "outputs": [],
   "source": [
    "# Get shark sanctuary effect per location\n",
    "banman = zkey.ex_val+zkey.propban*np.median(beta_Sanctuary)\n",
    "\n",
    "# Get shark sanctuary MaxN effect per location\n",
    "banman_ex = np.exp(zkey.ex_val+zkey.propban*np.median(beta_Sanctuary))"
   ]
  },
  {
   "cell_type": "code",
   "execution_count": 128,
   "metadata": {},
   "outputs": [],
   "source": [
    "# Get Catch limit effect per location\n",
    "catman = zkey.ex_val+zkey.propcat*np.median(beta_Catch)\n",
    "\n",
    "catman_ex = np.exp(zkey.ex_val+zkey.propcat*np.median(beta_Catch))"
   ]
  },
  {
   "cell_type": "code",
   "execution_count": null,
   "metadata": {},
   "outputs": [],
   "source": []
  },
  {
   "cell_type": "code",
   "execution_count": 129,
   "metadata": {},
   "outputs": [
    {
     "data": {
      "text/plain": [
       "(0.5616943058998285, 0.3598474875392579)"
      ]
     },
     "execution_count": 129,
     "metadata": {},
     "output_type": "execute_result"
    }
   ],
   "source": [
    "np.exp(np.median(beta_Catch))-1, 1-np.exp(np.median(beta_Gill))"
   ]
  },
  {
   "cell_type": "markdown",
   "metadata": {},
   "source": [
    "# Conservation potential"
   ]
  },
  {
   "cell_type": "code",
   "execution_count": 130,
   "metadata": {},
   "outputs": [],
   "source": [
    "# Proportion of regional-scale posterior less than national expexcted values\n",
    "Depletion = pd.DataFrame([sum(zkey.ex_val[c]>REx[zkey.Region[c]])/len(REx[zkey.Region[c]])*np.median(p_presence[c]) for c in Elocation]).T\n",
    "Depletion.columns = Elocation\n",
    "Depletion = Depletion[Depletion.median().sort_values().index.values]\n",
    "Dlocs = Depletion.columns"
   ]
  },
  {
   "cell_type": "markdown",
   "metadata": {},
   "source": [
    "## Number of sharks not seen\n",
    "Number seen per nation/conservation status"
   ]
  },
  {
   "cell_type": "code",
   "execution_count": 131,
   "metadata": {},
   "outputs": [
    {
     "data": {
      "text/plain": [
       "Index(['region_name', 'region_id', 'location_name', 'location_code',\n",
       "       'location_id', 'site_name', 'site_code', 'site_id', 'reef_name',\n",
       "       'reef_type', 'reef_code', 'reef_id', 'trip_year', 'trip_code', 'set_id',\n",
       "       'set_code', 'set_date', 'set_latitude', 'set_longitude', 'maxn',\n",
       "       'functional_group', 'depth', 'drop_time', 'haul_time', 'bait',\n",
       "       'bait_oiled', 'current_flow_estimated', 'current_flow_instrumented',\n",
       "       'visibility', 'field_of_view', 'substrate_relief_sd',\n",
       "       'substrate_relief_mean', 'equipment_frame_type', 'equipment_camera',\n",
       "       'equipment_stereo_camera', 'equipment_camera_height',\n",
       "       'equipment_arm_length', 'ascidians', 'bleached_corals', 'bryozoa',\n",
       "       'consolidated', 'crinoids', 'halimeda', 'hard_coral', 'hydrocoral',\n",
       "       'hydroids', 'invertebrate_complex', 'macroalgae', 'mangrove',\n",
       "       'seagrass', 'soft_coral', 'sponge', 'true_anemones', 'unconsolidated',\n",
       "       'zoanthids', 'video_length_watched', 'video_filename', 'video_source',\n",
       "       'video_filepath', 'splendor_image_url', 'total_assignments',\n",
       "       'reviewed_assignments', 'has_complete_master', 'protection_status',\n",
       "       'mpa_name', 'mpa_area', 'mpa_year_founded', 'mpa_isolation',\n",
       "       'mpa_compliance', 'site_type', 'bait_family', 'PI', 'Remote',\n",
       "       'Shark_Protection_Status', 'Shark_fishing_restrictions', 'Shark_gears',\n",
       "       'Datasheet_Source', 'set_productivity_2017ave', 'local_population_2010',\n",
       "       'local_population_2015', 'population_proporationaldifference_2010.15',\n",
       "       'drop_hr', 'LatLon', 'Grav_NC', 'Grav_Total', 'Grav_Cities', 'Grav_NP',\n",
       "       'MaxN_shark', 'Month', 'Season', 'proportional_difference'],\n",
       "      dtype='object')"
      ]
     },
     "execution_count": 131,
     "metadata": {},
     "output_type": "execute_result"
    }
   ],
   "source": [
    "xdata.columns"
   ]
  },
  {
   "cell_type": "code",
   "execution_count": 132,
   "metadata": {},
   "outputs": [
    {
     "data": {
      "image/png": "[encoded data removed]",
      "text/plain": [
       "<Figure size 432x288 with 1 Axes>"
      ]
     },
     "metadata": {},
     "output_type": "display_data"
    }
   ],
   "source": [
    "plt.hist(xdata.maxn);"
   ]
  },
  {
   "cell_type": "code",
   "execution_count": 133,
   "metadata": {},
   "outputs": [
    {
     "data": {
      "text/plain": [
       "12419"
      ]
     },
     "execution_count": 133,
     "metadata": {},
     "output_type": "execute_result"
    }
   ],
   "source": [
    "# Total sharks seen\n",
    "xdata.groupby(['location_name']).sum().MaxN_shark.sum()"
   ]
  },
  {
   "cell_type": "code",
   "execution_count": 134,
   "metadata": {},
   "outputs": [],
   "source": [
    "Depletion2 = pd.DataFrame([sum(zkey.ex_val[c]>REx[zkey.Region[c]])/len(REx[zkey.Region[c]]) for c in Elocation]).T\n",
    "Depletion2.columns = Elocation"
   ]
  },
  {
   "cell_type": "code",
   "execution_count": 135,
   "metadata": {},
   "outputs": [
    {
     "name": "stderr",
     "output_type": "stream",
     "text": [
      "C:\\ProgramData\\Anaconda3\\lib\\site-packages\\ipykernel_launcher.py:4: SettingWithCopyWarning: \n",
      "A value is trying to be set on a copy of a slice from a DataFrame\n",
      "\n",
      "See the caveats in the documentation: https://pandas.pydata.org/pandas-docs/stable/user_guide/indexing.html#returning-a-view-versus-a-copy\n",
      "  after removing the cwd from sys.path.\n"
     ]
    }
   ],
   "source": [
    "tmp = pd.DataFrame(Depletion2.T).join(pd.DataFrame(xdata.groupby(['location_name']).sum().MaxN_shark))\n",
    "tmp = tmp.join(xdata['location_name'].value_counts())\n",
    "tmp.columns = ['ConSco','MaxN','NBRUVS']\n",
    "tmp.ConSco[tmp.ConSco<0.01] = 0.01"
   ]
  },
  {
   "cell_type": "code",
   "execution_count": 136,
   "metadata": {},
   "outputs": [
    {
     "data": {
      "text/plain": [
       "1.1546391752577319"
      ]
     },
     "execution_count": 136,
     "metadata": {},
     "output_type": "execute_result"
    }
   ],
   "source": [
    "# MaxN per BRUVS for top 10% of Conservation Scores\n",
    "ExMaxNBRuv = (tmp.MaxN/tmp.NBRUVS)[tmp.ConSco>0.90].median()\n",
    "ExMaxNBRuv"
   ]
  },
  {
   "cell_type": "code",
   "execution_count": 137,
   "metadata": {},
   "outputs": [],
   "source": [
    "tmp['Expected_MaxN'] = (ExMaxNBRuv*tmp.NBRUVS).astype(int)\n",
    "tmp['Missing'] = [max(0,x-o) for x,o in zip(tmp.Expected_MaxN,tmp.MaxN)]"
   ]
  },
  {
   "cell_type": "code",
   "execution_count": 138,
   "metadata": {},
   "outputs": [
    {
     "data": {
      "text/plain": [
       "Solomon Islands                   1.390476\n",
       "Bahamas                           0.917539\n",
       "Australia IOT                     1.389755\n",
       "Columbia SF                       1.526316\n",
       "Australia-Indian Ocean            1.001555\n",
       "Federated States of Micronesia    2.306878\n",
       "French Polynesia                  1.956685\n",
       "Australia-Pacific                 1.732639\n",
       "New Caledonia                     2.659864\n",
       "dtype: float64"
      ]
     },
     "execution_count": 138,
     "metadata": {},
     "output_type": "execute_result"
    }
   ],
   "source": [
    "(tmp.MaxN/tmp.NBRUVS)[tmp.ConSco>0.99]"
   ]
  },
  {
   "cell_type": "code",
   "execution_count": 139,
   "metadata": {},
   "outputs": [
    {
     "data": {
      "text/html": [
       "<div>\n",
       "<style scoped>\n",
       "    .dataframe tbody tr th:only-of-type {\n",
       "        vertical-align: middle;\n",
       "    }\n",
       "\n",
       "    .dataframe tbody tr th {\n",
       "        vertical-align: top;\n",
       "    }\n",
       "\n",
       "    .dataframe thead th {\n",
       "        text-align: right;\n",
       "    }\n",
       "</style>\n",
       "<table border=\"1\" class=\"dataframe\">\n",
       "  <thead>\n",
       "    <tr style=\"text-align: right;\">\n",
       "      <th></th>\n",
       "      <th>ConSco</th>\n",
       "      <th>MaxN</th>\n",
       "      <th>NBRUVS</th>\n",
       "      <th>Expected_MaxN</th>\n",
       "      <th>Missing</th>\n",
       "    </tr>\n",
       "  </thead>\n",
       "  <tbody>\n",
       "    <tr>\n",
       "      <th>Philippines</th>\n",
       "      <td>0.01000</td>\n",
       "      <td>108</td>\n",
       "      <td>307</td>\n",
       "      <td>354</td>\n",
       "      <td>246</td>\n",
       "    </tr>\n",
       "    <tr>\n",
       "      <th>Colombia</th>\n",
       "      <td>0.01000</td>\n",
       "      <td>9</td>\n",
       "      <td>189</td>\n",
       "      <td>218</td>\n",
       "      <td>209</td>\n",
       "    </tr>\n",
       "    <tr>\n",
       "      <th>Sri Lanka</th>\n",
       "      <td>0.01000</td>\n",
       "      <td>6</td>\n",
       "      <td>153</td>\n",
       "      <td>176</td>\n",
       "      <td>170</td>\n",
       "    </tr>\n",
       "    <tr>\n",
       "      <th>Dutch Antilles Leeward</th>\n",
       "      <td>0.01000</td>\n",
       "      <td>73</td>\n",
       "      <td>440</td>\n",
       "      <td>508</td>\n",
       "      <td>435</td>\n",
       "    </tr>\n",
       "    <tr>\n",
       "      <th>Japan</th>\n",
       "      <td>0.07500</td>\n",
       "      <td>8</td>\n",
       "      <td>105</td>\n",
       "      <td>121</td>\n",
       "      <td>113</td>\n",
       "    </tr>\n",
       "    <tr>\n",
       "      <th>Guam</th>\n",
       "      <td>0.01000</td>\n",
       "      <td>27</td>\n",
       "      <td>182</td>\n",
       "      <td>210</td>\n",
       "      <td>183</td>\n",
       "    </tr>\n",
       "    <tr>\n",
       "      <th>Tanzania</th>\n",
       "      <td>0.01000</td>\n",
       "      <td>7</td>\n",
       "      <td>93</td>\n",
       "      <td>107</td>\n",
       "      <td>100</td>\n",
       "    </tr>\n",
       "    <tr>\n",
       "      <th>Indonesia</th>\n",
       "      <td>0.22650</td>\n",
       "      <td>195</td>\n",
       "      <td>975</td>\n",
       "      <td>1125</td>\n",
       "      <td>930</td>\n",
       "    </tr>\n",
       "    <tr>\n",
       "      <th>Malaysia</th>\n",
       "      <td>0.25960</td>\n",
       "      <td>74</td>\n",
       "      <td>479</td>\n",
       "      <td>553</td>\n",
       "      <td>479</td>\n",
       "    </tr>\n",
       "    <tr>\n",
       "      <th>Brazil</th>\n",
       "      <td>0.05315</td>\n",
       "      <td>32</td>\n",
       "      <td>192</td>\n",
       "      <td>221</td>\n",
       "      <td>189</td>\n",
       "    </tr>\n",
       "    <tr>\n",
       "      <th>Barbados</th>\n",
       "      <td>0.05705</td>\n",
       "      <td>17</td>\n",
       "      <td>110</td>\n",
       "      <td>127</td>\n",
       "      <td>110</td>\n",
       "    </tr>\n",
       "    <tr>\n",
       "      <th>Vietnam</th>\n",
       "      <td>0.31385</td>\n",
       "      <td>0</td>\n",
       "      <td>112</td>\n",
       "      <td>129</td>\n",
       "      <td>129</td>\n",
       "    </tr>\n",
       "    <tr>\n",
       "      <th>Cuba</th>\n",
       "      <td>0.06785</td>\n",
       "      <td>124</td>\n",
       "      <td>241</td>\n",
       "      <td>278</td>\n",
       "      <td>154</td>\n",
       "    </tr>\n",
       "    <tr>\n",
       "      <th>Bermuda</th>\n",
       "      <td>0.08780</td>\n",
       "      <td>0</td>\n",
       "      <td>24</td>\n",
       "      <td>27</td>\n",
       "      <td>27</td>\n",
       "    </tr>\n",
       "    <tr>\n",
       "      <th>Taiwan</th>\n",
       "      <td>0.40390</td>\n",
       "      <td>20</td>\n",
       "      <td>180</td>\n",
       "      <td>207</td>\n",
       "      <td>187</td>\n",
       "    </tr>\n",
       "    <tr>\n",
       "      <th>French West Indies</th>\n",
       "      <td>0.20445</td>\n",
       "      <td>0</td>\n",
       "      <td>132</td>\n",
       "      <td>152</td>\n",
       "      <td>152</td>\n",
       "    </tr>\n",
       "    <tr>\n",
       "      <th>Jamaica</th>\n",
       "      <td>0.22010</td>\n",
       "      <td>0</td>\n",
       "      <td>106</td>\n",
       "      <td>122</td>\n",
       "      <td>122</td>\n",
       "    </tr>\n",
       "    <tr>\n",
       "      <th>Dominican Republic</th>\n",
       "      <td>0.22300</td>\n",
       "      <td>0</td>\n",
       "      <td>120</td>\n",
       "      <td>138</td>\n",
       "      <td>138</td>\n",
       "    </tr>\n",
       "    <tr>\n",
       "      <th>Dutch Antilles Windward</th>\n",
       "      <td>0.23565</td>\n",
       "      <td>0</td>\n",
       "      <td>461</td>\n",
       "      <td>532</td>\n",
       "      <td>532</td>\n",
       "    </tr>\n",
       "    <tr>\n",
       "      <th>Puerto Rico</th>\n",
       "      <td>0.23335</td>\n",
       "      <td>19</td>\n",
       "      <td>77</td>\n",
       "      <td>88</td>\n",
       "      <td>69</td>\n",
       "    </tr>\n",
       "    <tr>\n",
       "      <th>Saudi Arabia-Red Sea</th>\n",
       "      <td>0.15055</td>\n",
       "      <td>15</td>\n",
       "      <td>101</td>\n",
       "      <td>116</td>\n",
       "      <td>101</td>\n",
       "    </tr>\n",
       "    <tr>\n",
       "      <th>Mayotte</th>\n",
       "      <td>0.14860</td>\n",
       "      <td>27</td>\n",
       "      <td>114</td>\n",
       "      <td>131</td>\n",
       "      <td>104</td>\n",
       "    </tr>\n",
       "    <tr>\n",
       "      <th>Madagascar</th>\n",
       "      <td>0.16270</td>\n",
       "      <td>59</td>\n",
       "      <td>289</td>\n",
       "      <td>333</td>\n",
       "      <td>274</td>\n",
       "    </tr>\n",
       "    <tr>\n",
       "      <th>India</th>\n",
       "      <td>0.22940</td>\n",
       "      <td>0</td>\n",
       "      <td>69</td>\n",
       "      <td>79</td>\n",
       "      <td>79</td>\n",
       "    </tr>\n",
       "    <tr>\n",
       "      <th>Qatar</th>\n",
       "      <td>0.27330</td>\n",
       "      <td>0</td>\n",
       "      <td>126</td>\n",
       "      <td>145</td>\n",
       "      <td>145</td>\n",
       "    </tr>\n",
       "    <tr>\n",
       "      <th>Kenya</th>\n",
       "      <td>0.29660</td>\n",
       "      <td>0</td>\n",
       "      <td>80</td>\n",
       "      <td>92</td>\n",
       "      <td>92</td>\n",
       "    </tr>\n",
       "    <tr>\n",
       "      <th>British West Indies</th>\n",
       "      <td>0.55105</td>\n",
       "      <td>8</td>\n",
       "      <td>42</td>\n",
       "      <td>48</td>\n",
       "      <td>40</td>\n",
       "    </tr>\n",
       "    <tr>\n",
       "      <th>Belize</th>\n",
       "      <td>0.74410</td>\n",
       "      <td>204</td>\n",
       "      <td>549</td>\n",
       "      <td>633</td>\n",
       "      <td>429</td>\n",
       "    </tr>\n",
       "    <tr>\n",
       "      <th>Mozambique</th>\n",
       "      <td>0.60225</td>\n",
       "      <td>72</td>\n",
       "      <td>203</td>\n",
       "      <td>234</td>\n",
       "      <td>162</td>\n",
       "    </tr>\n",
       "    <tr>\n",
       "      <th>Jamaica PB</th>\n",
       "      <td>0.88400</td>\n",
       "      <td>36</td>\n",
       "      <td>50</td>\n",
       "      <td>57</td>\n",
       "      <td>21</td>\n",
       "    </tr>\n",
       "    <tr>\n",
       "      <th>Papua New Guinea</th>\n",
       "      <td>0.93440</td>\n",
       "      <td>240</td>\n",
       "      <td>297</td>\n",
       "      <td>342</td>\n",
       "      <td>102</td>\n",
       "    </tr>\n",
       "    <tr>\n",
       "      <th>Fiji</th>\n",
       "      <td>0.03815</td>\n",
       "      <td>158</td>\n",
       "      <td>392</td>\n",
       "      <td>452</td>\n",
       "      <td>294</td>\n",
       "    </tr>\n",
       "    <tr>\n",
       "      <th>Samoa</th>\n",
       "      <td>0.04260</td>\n",
       "      <td>37</td>\n",
       "      <td>98</td>\n",
       "      <td>113</td>\n",
       "      <td>76</td>\n",
       "    </tr>\n",
       "    <tr>\n",
       "      <th>Vanuatu</th>\n",
       "      <td>0.04650</td>\n",
       "      <td>76</td>\n",
       "      <td>208</td>\n",
       "      <td>240</td>\n",
       "      <td>164</td>\n",
       "    </tr>\n",
       "    <tr>\n",
       "      <th>USA-Western Atlantic</th>\n",
       "      <td>0.94785</td>\n",
       "      <td>138</td>\n",
       "      <td>300</td>\n",
       "      <td>346</td>\n",
       "      <td>208</td>\n",
       "    </tr>\n",
       "    <tr>\n",
       "      <th>Turks and Caicos</th>\n",
       "      <td>0.96210</td>\n",
       "      <td>21</td>\n",
       "      <td>37</td>\n",
       "      <td>42</td>\n",
       "      <td>21</td>\n",
       "    </tr>\n",
       "    <tr>\n",
       "      <th>Antigua and Barbuda</th>\n",
       "      <td>0.96770</td>\n",
       "      <td>49</td>\n",
       "      <td>79</td>\n",
       "      <td>91</td>\n",
       "      <td>42</td>\n",
       "    </tr>\n",
       "    <tr>\n",
       "      <th>American Samoa</th>\n",
       "      <td>0.09735</td>\n",
       "      <td>42</td>\n",
       "      <td>103</td>\n",
       "      <td>118</td>\n",
       "      <td>76</td>\n",
       "    </tr>\n",
       "    <tr>\n",
       "      <th>Trinidad and Tobago</th>\n",
       "      <td>0.98270</td>\n",
       "      <td>47</td>\n",
       "      <td>179</td>\n",
       "      <td>206</td>\n",
       "      <td>159</td>\n",
       "    </tr>\n",
       "    <tr>\n",
       "      <th>USA-Pacific</th>\n",
       "      <td>0.21485</td>\n",
       "      <td>845</td>\n",
       "      <td>369</td>\n",
       "      <td>426</td>\n",
       "      <td>0</td>\n",
       "    </tr>\n",
       "    <tr>\n",
       "      <th>Maldives</th>\n",
       "      <td>0.93915</td>\n",
       "      <td>161</td>\n",
       "      <td>201</td>\n",
       "      <td>232</td>\n",
       "      <td>71</td>\n",
       "    </tr>\n",
       "    <tr>\n",
       "      <th>Solomon Islands</th>\n",
       "      <td>0.99635</td>\n",
       "      <td>146</td>\n",
       "      <td>105</td>\n",
       "      <td>121</td>\n",
       "      <td>0</td>\n",
       "    </tr>\n",
       "    <tr>\n",
       "      <th>South Africa</th>\n",
       "      <td>0.97875</td>\n",
       "      <td>73</td>\n",
       "      <td>156</td>\n",
       "      <td>180</td>\n",
       "      <td>107</td>\n",
       "    </tr>\n",
       "    <tr>\n",
       "      <th>Seychelles</th>\n",
       "      <td>0.98095</td>\n",
       "      <td>112</td>\n",
       "      <td>97</td>\n",
       "      <td>111</td>\n",
       "      <td>0</td>\n",
       "    </tr>\n",
       "    <tr>\n",
       "      <th>Bahamas</th>\n",
       "      <td>0.99920</td>\n",
       "      <td>701</td>\n",
       "      <td>764</td>\n",
       "      <td>882</td>\n",
       "      <td>181</td>\n",
       "    </tr>\n",
       "    <tr>\n",
       "      <th>Australia IOT</th>\n",
       "      <td>0.99505</td>\n",
       "      <td>1248</td>\n",
       "      <td>898</td>\n",
       "      <td>1036</td>\n",
       "      <td>0</td>\n",
       "    </tr>\n",
       "    <tr>\n",
       "      <th>Columbia SF</th>\n",
       "      <td>0.99960</td>\n",
       "      <td>116</td>\n",
       "      <td>76</td>\n",
       "      <td>87</td>\n",
       "      <td>0</td>\n",
       "    </tr>\n",
       "    <tr>\n",
       "      <th>Cook Islands</th>\n",
       "      <td>0.69835</td>\n",
       "      <td>490</td>\n",
       "      <td>150</td>\n",
       "      <td>173</td>\n",
       "      <td>0</td>\n",
       "    </tr>\n",
       "    <tr>\n",
       "      <th>Kiribati</th>\n",
       "      <td>0.73900</td>\n",
       "      <td>104</td>\n",
       "      <td>108</td>\n",
       "      <td>124</td>\n",
       "      <td>20</td>\n",
       "    </tr>\n",
       "    <tr>\n",
       "      <th>Tonga</th>\n",
       "      <td>0.80660</td>\n",
       "      <td>48</td>\n",
       "      <td>24</td>\n",
       "      <td>27</td>\n",
       "      <td>0</td>\n",
       "    </tr>\n",
       "    <tr>\n",
       "      <th>Palau</th>\n",
       "      <td>0.83905</td>\n",
       "      <td>270</td>\n",
       "      <td>215</td>\n",
       "      <td>248</td>\n",
       "      <td>0</td>\n",
       "    </tr>\n",
       "    <tr>\n",
       "      <th>Australia-Indian Ocean</th>\n",
       "      <td>0.99970</td>\n",
       "      <td>1932</td>\n",
       "      <td>1929</td>\n",
       "      <td>2227</td>\n",
       "      <td>295</td>\n",
       "    </tr>\n",
       "    <tr>\n",
       "      <th>Niue</th>\n",
       "      <td>0.95295</td>\n",
       "      <td>290</td>\n",
       "      <td>89</td>\n",
       "      <td>102</td>\n",
       "      <td>0</td>\n",
       "    </tr>\n",
       "    <tr>\n",
       "      <th>New Zealand</th>\n",
       "      <td>0.98320</td>\n",
       "      <td>32</td>\n",
       "      <td>16</td>\n",
       "      <td>18</td>\n",
       "      <td>0</td>\n",
       "    </tr>\n",
       "    <tr>\n",
       "      <th>Federated States of Micronesia</th>\n",
       "      <td>0.99105</td>\n",
       "      <td>436</td>\n",
       "      <td>189</td>\n",
       "      <td>218</td>\n",
       "      <td>0</td>\n",
       "    </tr>\n",
       "    <tr>\n",
       "      <th>French Polynesia</th>\n",
       "      <td>0.99190</td>\n",
       "      <td>2078</td>\n",
       "      <td>1062</td>\n",
       "      <td>1226</td>\n",
       "      <td>0</td>\n",
       "    </tr>\n",
       "    <tr>\n",
       "      <th>Australia-Pacific</th>\n",
       "      <td>0.99565</td>\n",
       "      <td>998</td>\n",
       "      <td>576</td>\n",
       "      <td>665</td>\n",
       "      <td>0</td>\n",
       "    </tr>\n",
       "    <tr>\n",
       "      <th>New Caledonia</th>\n",
       "      <td>0.99930</td>\n",
       "      <td>391</td>\n",
       "      <td>147</td>\n",
       "      <td>169</td>\n",
       "      <td>0</td>\n",
       "    </tr>\n",
       "  </tbody>\n",
       "</table>\n",
       "</div>"
      ],
      "text/plain": [
       "                                 ConSco  MaxN  NBRUVS  Expected_MaxN  Missing\n",
       "Philippines                     0.01000   108     307            354      246\n",
       "Colombia                        0.01000     9     189            218      209\n",
       "Sri Lanka                       0.01000     6     153            176      170\n",
       "Dutch Antilles Leeward          0.01000    73     440            508      435\n",
       "Japan                           0.07500     8     105            121      113\n",
       "Guam                            0.01000    27     182            210      183\n",
       "Tanzania                        0.01000     7      93            107      100\n",
       "Indonesia                       0.22650   195     975           1125      930\n",
       "Malaysia                        0.25960    74     479            553      479\n",
       "Brazil                          0.05315    32     192            221      189\n",
       "Barbados                        0.05705    17     110            127      110\n",
       "Vietnam                         0.31385     0     112            129      129\n",
       "Cuba                            0.06785   124     241            278      154\n",
       "Bermuda                         0.08780     0      24             27       27\n",
       "Taiwan                          0.40390    20     180            207      187\n",
       "French West Indies              0.20445     0     132            152      152\n",
       "Jamaica                         0.22010     0     106            122      122\n",
       "Dominican Republic              0.22300     0     120            138      138\n",
       "Dutch Antilles Windward         0.23565     0     461            532      532\n",
       "Puerto Rico                     0.23335    19      77             88       69\n",
       "Saudi Arabia-Red Sea            0.15055    15     101            116      101\n",
       "Mayotte                         0.14860    27     114            131      104\n",
       "Madagascar                      0.16270    59     289            333      274\n",
       "India                           0.22940     0      69             79       79\n",
       "Qatar                           0.27330     0     126            145      145\n",
       "Kenya                           0.29660     0      80             92       92\n",
       "British West Indies             0.55105     8      42             48       40\n",
       "Belize                          0.74410   204     549            633      429\n",
       "Mozambique                      0.60225    72     203            234      162\n",
       "Jamaica PB                      0.88400    36      50             57       21\n",
       "Papua New Guinea                0.93440   240     297            342      102\n",
       "Fiji                            0.03815   158     392            452      294\n",
       "Samoa                           0.04260    37      98            113       76\n",
       "Vanuatu                         0.04650    76     208            240      164\n",
       "USA-Western Atlantic            0.94785   138     300            346      208\n",
       "Turks and Caicos                0.96210    21      37             42       21\n",
       "Antigua and Barbuda             0.96770    49      79             91       42\n",
       "American Samoa                  0.09735    42     103            118       76\n",
       "Trinidad and Tobago             0.98270    47     179            206      159\n",
       "USA-Pacific                     0.21485   845     369            426        0\n",
       "Maldives                        0.93915   161     201            232       71\n",
       "Solomon Islands                 0.99635   146     105            121        0\n",
       "South Africa                    0.97875    73     156            180      107\n",
       "Seychelles                      0.98095   112      97            111        0\n",
       "Bahamas                         0.99920   701     764            882      181\n",
       "Australia IOT                   0.99505  1248     898           1036        0\n",
       "Columbia SF                     0.99960   116      76             87        0\n",
       "Cook Islands                    0.69835   490     150            173        0\n",
       "Kiribati                        0.73900   104     108            124       20\n",
       "Tonga                           0.80660    48      24             27        0\n",
       "Palau                           0.83905   270     215            248        0\n",
       "Australia-Indian Ocean          0.99970  1932    1929           2227      295\n",
       "Niue                            0.95295   290      89            102        0\n",
       "New Zealand                     0.98320    32      16             18        0\n",
       "Federated States of Micronesia  0.99105   436     189            218        0\n",
       "French Polynesia                0.99190  2078    1062           1226        0\n",
       "Australia-Pacific               0.99565   998     576            665        0\n",
       "New Caledonia                   0.99930   391     147            169        0"
      ]
     },
     "execution_count": 139,
     "metadata": {},
     "output_type": "execute_result"
    }
   ],
   "source": [
    "tmp"
   ]
  },
  {
   "cell_type": "code",
   "execution_count": 140,
   "metadata": {},
   "outputs": [
    {
     "data": {
      "text/plain": [
       "(12419, 7937, 17483)"
      ]
     },
     "execution_count": 140,
     "metadata": {},
     "output_type": "execute_result"
    }
   ],
   "source": [
    "tmp.MaxN.sum(),tmp.Missing.sum(),tmp.Expected_MaxN.sum()"
   ]
  },
  {
   "cell_type": "code",
   "execution_count": 141,
   "metadata": {},
   "outputs": [
    {
     "data": {
      "text/plain": [
       "12419"
      ]
     },
     "execution_count": 141,
     "metadata": {},
     "output_type": "execute_result"
    }
   ],
   "source": [
    "tmp.MaxN.sum()"
   ]
  },
  {
   "cell_type": "code",
   "execution_count": 143,
   "metadata": {},
   "outputs": [],
   "source": [
    "#plt.scatter(gillma)"
   ]
  },
  {
   "cell_type": "code",
   "execution_count": 144,
   "metadata": {},
   "outputs": [
    {
     "data": {
      "text/plain": [
       "1.9821356467041749"
      ]
     },
     "execution_count": 144,
     "metadata": {},
     "output_type": "execute_result"
    }
   ],
   "source": [
    "np.exp(zkey.ex_val['South Africa']+np.median(beta_Sanctuary))/np.exp(zkey.ex_val['South Africa'])"
   ]
  },
  {
   "cell_type": "code",
   "execution_count": 145,
   "metadata": {},
   "outputs": [],
   "source": [
    "tmp = exobs\n",
    "tmp2 = cloman_ex-tmp"
   ]
  },
  {
   "cell_type": "code",
   "execution_count": 146,
   "metadata": {},
   "outputs": [
    {
     "data": {
      "text/plain": [
       "Location\n",
       "Philippines                       1.647653\n",
       "Colombia                          1.946051\n",
       "Sri Lanka                         1.558725\n",
       "Dutch Antilles Leeward            1.724172\n",
       "Japan                             1.946051\n",
       "Guam                              1.000000\n",
       "Tanzania                          1.946051\n",
       "Indonesia                         1.861561\n",
       "Malaysia                          1.181105\n",
       "Brazil                            1.462955\n",
       "Barbados                          1.946051\n",
       "Vietnam                           1.946051\n",
       "Cuba                              1.305154\n",
       "Bermuda                           1.946051\n",
       "Taiwan                            1.647653\n",
       "French West Indies                1.647653\n",
       "Jamaica                           1.647653\n",
       "Dominican Republic                1.000000\n",
       "Dutch Antilles Windward           1.181105\n",
       "Puerto Rico                       1.000000\n",
       "Saudi Arabia-Red Sea              1.000000\n",
       "Mayotte                           1.946051\n",
       "Madagascar                        1.608936\n",
       "India                             1.946051\n",
       "Qatar                             1.946051\n",
       "Kenya                             1.647653\n",
       "British West Indies               1.946051\n",
       "Belize                            1.516077\n",
       "Mozambique                        1.608936\n",
       "Jamaica PB                        1.946051\n",
       "Papua New Guinea                  1.946051\n",
       "Fiji                              1.491051\n",
       "Samoa                             1.000000\n",
       "Vanuatu                           1.946051\n",
       "USA-Western Atlantic              1.807282\n",
       "Turks and Caicos                  1.395009\n",
       "Antigua and Barbuda               1.395009\n",
       "American Samoa                    1.000000\n",
       "Trinidad and Tobago               1.703426\n",
       "USA-Pacific                       1.741654\n",
       "Maldives                          1.000000\n",
       "Solomon Islands                   1.946051\n",
       "South Africa                      1.395009\n",
       "Seychelles                        1.946051\n",
       "Bahamas                           1.000000\n",
       "Australia IOT                     1.491051\n",
       "Columbia SF                       1.000000\n",
       "Cook Islands                      1.000000\n",
       "Kiribati                          1.000000\n",
       "Tonga                             1.000000\n",
       "Palau                             1.000000\n",
       "Australia-Indian Ocean            1.672774\n",
       "Niue                              1.000000\n",
       "New Zealand                       1.000000\n",
       "Federated States of Micronesia    1.000000\n",
       "French Polynesia                  1.000000\n",
       "Australia-Pacific                 1.395009\n",
       "New Caledonia                     1.000000\n",
       "dtype: float64"
      ]
     },
     "execution_count": 146,
     "metadata": {},
     "output_type": "execute_result"
    }
   ],
   "source": [
    "cloman_ex/tmp"
   ]
  },
  {
   "cell_type": "code",
   "execution_count": 147,
   "metadata": {},
   "outputs": [
    {
     "ename": "NameError",
     "evalue": "name 'Depletion_gill' is not defined",
     "output_type": "error",
     "traceback": [
      "\u001b[1;31m---------------------------------------------------------------------------\u001b[0m",
      "\u001b[1;31mNameError\u001b[0m                                 Traceback (most recent call last)",
      "\u001b[1;32m<ipython-input-147-509dd42b59a9>\u001b[0m in \u001b[0;36m<module>\u001b[1;34m\u001b[0m\n\u001b[0;32m      9\u001b[0m \u001b[1;33m\u001b[0m\u001b[0m\n\u001b[0;32m     10\u001b[0m \u001b[1;33m[\u001b[0m\u001b[0max\u001b[0m\u001b[1;33m.\u001b[0m\u001b[0mscatter\u001b[0m\u001b[1;33m(\u001b[0m\u001b[0mtmp\u001b[0m\u001b[1;33m[\u001b[0m\u001b[0mDlocs\u001b[0m\u001b[1;33m[\u001b[0m\u001b[0mi\u001b[0m\u001b[1;33m]\u001b[0m\u001b[1;33m]\u001b[0m\u001b[1;33m,\u001b[0m\u001b[0mi\u001b[0m\u001b[1;33m,\u001b[0m\u001b[0mc\u001b[0m\u001b[1;33m=\u001b[0m\u001b[0mco\u001b[0m\u001b[1;33m.\u001b[0m\u001b[0mcm\u001b[0m\u001b[1;33m.\u001b[0m\u001b[0mthermal\u001b[0m\u001b[1;33m(\u001b[0m\u001b[0mDepletion\u001b[0m\u001b[1;33m[\u001b[0m\u001b[0mDlocs\u001b[0m\u001b[1;33m[\u001b[0m\u001b[0mi\u001b[0m\u001b[1;33m]\u001b[0m\u001b[1;33m]\u001b[0m\u001b[1;33m)\u001b[0m\u001b[1;33m,\u001b[0m\u001b[0ms\u001b[0m\u001b[1;33m=\u001b[0m\u001b[1;36m100\u001b[0m\u001b[1;33m)\u001b[0m \u001b[1;32mfor\u001b[0m \u001b[0mi\u001b[0m \u001b[1;32min\u001b[0m \u001b[0mrange\u001b[0m\u001b[1;33m(\u001b[0m\u001b[0mnlocs\u001b[0m\u001b[1;33m)\u001b[0m\u001b[1;33m]\u001b[0m\u001b[1;33m\u001b[0m\u001b[1;33m\u001b[0m\u001b[0m\n\u001b[1;32m---> 11\u001b[1;33m \u001b[1;33m[\u001b[0m\u001b[0max\u001b[0m\u001b[1;33m.\u001b[0m\u001b[0mscatter\u001b[0m\u001b[1;33m(\u001b[0m\u001b[0mtmp2\u001b[0m\u001b[1;33m[\u001b[0m\u001b[0mDlocs\u001b[0m\u001b[1;33m[\u001b[0m\u001b[0mi\u001b[0m\u001b[1;33m]\u001b[0m\u001b[1;33m]\u001b[0m\u001b[1;33m,\u001b[0m\u001b[0mi\u001b[0m\u001b[1;33m,\u001b[0m\u001b[0mc\u001b[0m\u001b[1;33m=\u001b[0m\u001b[0mco\u001b[0m\u001b[1;33m.\u001b[0m\u001b[0mcm\u001b[0m\u001b[1;33m.\u001b[0m\u001b[0mthermal\u001b[0m\u001b[1;33m(\u001b[0m\u001b[0mDepletion_gill\u001b[0m\u001b[1;33m[\u001b[0m\u001b[0mDlocs\u001b[0m\u001b[1;33m[\u001b[0m\u001b[0mi\u001b[0m\u001b[1;33m]\u001b[0m\u001b[1;33m]\u001b[0m\u001b[1;33m)\u001b[0m\u001b[1;33m,\u001b[0m\u001b[0medgecolor\u001b[0m\u001b[1;33m=\u001b[0m\u001b[1;34m'black'\u001b[0m\u001b[1;33m,\u001b[0m\u001b[0ms\u001b[0m\u001b[1;33m=\u001b[0m\u001b[1;36m100\u001b[0m\u001b[1;33m)\u001b[0m \u001b[1;32mfor\u001b[0m \u001b[0mi\u001b[0m \u001b[1;32min\u001b[0m \u001b[0mrange\u001b[0m\u001b[1;33m(\u001b[0m\u001b[0mnlocs\u001b[0m\u001b[1;33m)\u001b[0m\u001b[1;33m]\u001b[0m\u001b[1;33m\u001b[0m\u001b[1;33m\u001b[0m\u001b[0m\n\u001b[0m\u001b[0;32m     12\u001b[0m \u001b[1;33m\u001b[0m\u001b[0m\n\u001b[0;32m     13\u001b[0m \u001b[1;33m\u001b[0m\u001b[0m\n",
      "\u001b[1;32m<ipython-input-147-509dd42b59a9>\u001b[0m in \u001b[0;36m<listcomp>\u001b[1;34m(.0)\u001b[0m\n\u001b[0;32m      9\u001b[0m \u001b[1;33m\u001b[0m\u001b[0m\n\u001b[0;32m     10\u001b[0m \u001b[1;33m[\u001b[0m\u001b[0max\u001b[0m\u001b[1;33m.\u001b[0m\u001b[0mscatter\u001b[0m\u001b[1;33m(\u001b[0m\u001b[0mtmp\u001b[0m\u001b[1;33m[\u001b[0m\u001b[0mDlocs\u001b[0m\u001b[1;33m[\u001b[0m\u001b[0mi\u001b[0m\u001b[1;33m]\u001b[0m\u001b[1;33m]\u001b[0m\u001b[1;33m,\u001b[0m\u001b[0mi\u001b[0m\u001b[1;33m,\u001b[0m\u001b[0mc\u001b[0m\u001b[1;33m=\u001b[0m\u001b[0mco\u001b[0m\u001b[1;33m.\u001b[0m\u001b[0mcm\u001b[0m\u001b[1;33m.\u001b[0m\u001b[0mthermal\u001b[0m\u001b[1;33m(\u001b[0m\u001b[0mDepletion\u001b[0m\u001b[1;33m[\u001b[0m\u001b[0mDlocs\u001b[0m\u001b[1;33m[\u001b[0m\u001b[0mi\u001b[0m\u001b[1;33m]\u001b[0m\u001b[1;33m]\u001b[0m\u001b[1;33m)\u001b[0m\u001b[1;33m,\u001b[0m\u001b[0ms\u001b[0m\u001b[1;33m=\u001b[0m\u001b[1;36m100\u001b[0m\u001b[1;33m)\u001b[0m \u001b[1;32mfor\u001b[0m \u001b[0mi\u001b[0m \u001b[1;32min\u001b[0m \u001b[0mrange\u001b[0m\u001b[1;33m(\u001b[0m\u001b[0mnlocs\u001b[0m\u001b[1;33m)\u001b[0m\u001b[1;33m]\u001b[0m\u001b[1;33m\u001b[0m\u001b[1;33m\u001b[0m\u001b[0m\n\u001b[1;32m---> 11\u001b[1;33m \u001b[1;33m[\u001b[0m\u001b[0max\u001b[0m\u001b[1;33m.\u001b[0m\u001b[0mscatter\u001b[0m\u001b[1;33m(\u001b[0m\u001b[0mtmp2\u001b[0m\u001b[1;33m[\u001b[0m\u001b[0mDlocs\u001b[0m\u001b[1;33m[\u001b[0m\u001b[0mi\u001b[0m\u001b[1;33m]\u001b[0m\u001b[1;33m]\u001b[0m\u001b[1;33m,\u001b[0m\u001b[0mi\u001b[0m\u001b[1;33m,\u001b[0m\u001b[0mc\u001b[0m\u001b[1;33m=\u001b[0m\u001b[0mco\u001b[0m\u001b[1;33m.\u001b[0m\u001b[0mcm\u001b[0m\u001b[1;33m.\u001b[0m\u001b[0mthermal\u001b[0m\u001b[1;33m(\u001b[0m\u001b[0mDepletion_gill\u001b[0m\u001b[1;33m[\u001b[0m\u001b[0mDlocs\u001b[0m\u001b[1;33m[\u001b[0m\u001b[0mi\u001b[0m\u001b[1;33m]\u001b[0m\u001b[1;33m]\u001b[0m\u001b[1;33m)\u001b[0m\u001b[1;33m,\u001b[0m\u001b[0medgecolor\u001b[0m\u001b[1;33m=\u001b[0m\u001b[1;34m'black'\u001b[0m\u001b[1;33m,\u001b[0m\u001b[0ms\u001b[0m\u001b[1;33m=\u001b[0m\u001b[1;36m100\u001b[0m\u001b[1;33m)\u001b[0m \u001b[1;32mfor\u001b[0m \u001b[0mi\u001b[0m \u001b[1;32min\u001b[0m \u001b[0mrange\u001b[0m\u001b[1;33m(\u001b[0m\u001b[0mnlocs\u001b[0m\u001b[1;33m)\u001b[0m\u001b[1;33m]\u001b[0m\u001b[1;33m\u001b[0m\u001b[1;33m\u001b[0m\u001b[0m\n\u001b[0m\u001b[0;32m     12\u001b[0m \u001b[1;33m\u001b[0m\u001b[0m\n\u001b[0;32m     13\u001b[0m \u001b[1;33m\u001b[0m\u001b[0m\n",
      "\u001b[1;31mNameError\u001b[0m: name 'Depletion_gill' is not defined"
     ]
    },
    {
     "data": {
      "image/png": "[encoded data removed]",
      "text/plain": [
       "<Figure size 504x1080 with 1 Axes>"
      ]
     },
     "metadata": {},
     "output_type": "display_data"
    }
   ],
   "source": [
    "# Large MPA absolute effect\n",
    "fig = plt.figure(figsize=(7, 15))\n",
    "ax = fig.add_subplot(111)\n",
    "\n",
    "tmp = exobs\n",
    "tmp2 = cloman_ex\n",
    "\n",
    "[ax.plot((tmp[Dlocs[i]],tmp2[Dlocs[i]]),(i,i),c='black',zorder=0) for i in range(nlocs)]\n",
    "\n",
    "[ax.scatter(tmp[Dlocs[i]],i,c=co.cm.thermal(Depletion[Dlocs[i]]),s=100) for i in range(nlocs)]\n",
    "[ax.scatter(tmp2[Dlocs[i]],i,c=co.cm.thermal(Depletion_gill[Dlocs[i]]),edgecolor='black',s=100) for i in range(nlocs)]\n",
    "\n",
    "\n",
    "ax.set_yticks(range(nlocs))\n",
    "ax.set_yticklabels(Dlocs,fontsize=17)\n",
    "plt.axvline(x=0., color='black', linestyle='-')\n",
    "#plt.text(0.,nlocs+0.1,'Depleted',fontsize=13)\n",
    "#plt.text(1.,nlocs+0.1,'Abundant',fontsize=13,horizontalalignment='right')\n",
    "ax.set_xlabel('MaxN',fontsize=17)\n",
    "ax.set_xlim(0,2.7)\n",
    "ax.set_title('Large Closure MaxN ('+str(round(np.median((tmp2/tmp))-1,2)*100)+'%)',fontsize=17)\n",
    "fig.tight_layout()\n",
    "plt.savefig('Figure_EMaxN_lgClosure.jpg');"
   ]
  },
  {
   "cell_type": "code",
   "execution_count": null,
   "metadata": {},
   "outputs": [],
   "source": [
    "# Gillnet ban absolute effect\n",
    "fig = plt.figure(figsize=(7, 15))\n",
    "ax = fig.add_subplot(111)\n",
    "\n",
    "tmp = exobs\n",
    "tmp2 = gilman_ex\n",
    "\n",
    "[ax.plot((tmp[Dlocs[i]],tmp2[Dlocs[i]]),(i,i),c='black',zorder=0) for i in range(nlocs)]\n",
    "\n",
    "[ax.scatter(tmp[Dlocs[i]],i,c=co.cm.thermal(Depletion[Dlocs[i]]),s=100) for i in range(nlocs)]\n",
    "[ax.scatter(tmp2[Dlocs[i]],i,c=co.cm.thermal(Depletion_gill[Dlocs[i]]),edgecolor='black',s=100) for i in range(nlocs)]\n",
    "\n",
    "\n",
    "ax.set_yticks(range(nlocs))\n",
    "ax.set_yticklabels(Dlocs,fontsize=17)\n",
    "plt.axvline(x=0., color='black', linestyle='-')\n",
    "#plt.text(0.,nlocs+0.1,'Depleted',fontsize=13)\n",
    "#plt.text(1.,nlocs+0.1,'Abundant',fontsize=13,horizontalalignment='right')\n",
    "ax.set_xlabel('MaxN',fontsize=17)\n",
    "ax.set_xlim(0,2.7)\n",
    "\n",
    "ax.set_title('Gillnet/longline ban \\n MaxN effect ('+str(round(np.median((tmp2/tmp))-1,2)*100)+'%)',fontsize=17)\n",
    "fig.tight_layout()\n",
    "plt.savefig('Figure_EMaxN_gillLong.jpg');"
   ]
  },
  {
   "cell_type": "code",
   "execution_count": null,
   "metadata": {},
   "outputs": [],
   "source": [
    "# Catch limit absolute effect\n",
    "fig = plt.figure(figsize=(7, 15))\n",
    "ax = fig.add_subplot(111)\n",
    "\n",
    "tmp = exobs\n",
    "tmp2 = catman_ex\n",
    "\n",
    "[ax.plot((tmp[Dlocs[i]],tmp2[Dlocs[i]]),(i,i),c='black',zorder=0) for i in range(nlocs)]\n",
    "\n",
    "[ax.scatter(tmp[Dlocs[i]],i,c=co.cm.thermal(Depletion[Dlocs[i]]),s=100) for i in range(nlocs)]\n",
    "[ax.scatter(tmp2[Dlocs[i]],i,c=co.cm.thermal(Depletion_gill[Dlocs[i]]),edgecolor='black',s=100) for i in range(nlocs)]\n",
    "\n",
    "\n",
    "ax.set_yticks(range(nlocs))\n",
    "ax.set_yticklabels(Dlocs,fontsize=17)\n",
    "plt.axvline(x=0., color='black', linestyle='-')\n",
    "#plt.text(0.,nlocs+0.1,'Depleted',fontsize=13)\n",
    "#plt.text(1.,nlocs+0.1,'Abundant',fontsize=13,horizontalalignment='right')\n",
    "ax.set_xlabel('MaxN',fontsize=17)\n",
    "ax.set_xlim(0,2.7)\n",
    "\n",
    "ax.set_title('Catch limits \\n MaxN effect ('+str(round(np.median((tmp2/tmp))-1,3)*100)+'%)',fontsize=17)\n",
    "fig.tight_layout()\n",
    "plt.savefig('Figure_EMaxN_catch.jpg');"
   ]
  },
  {
   "cell_type": "code",
   "execution_count": null,
   "metadata": {},
   "outputs": [],
   "source": [
    "# Sanctuary absolute effect\n",
    "fig = plt.figure(figsize=(7, 15))\n",
    "ax = fig.add_subplot(111)\n",
    "\n",
    "tmp = exobs\n",
    "tmp2 = banman_ex\n",
    "\n",
    "[ax.plot((tmp[Dlocs[i]],tmp2[Dlocs[i]]),(i,i),c='black',zorder=0) for i in range(nlocs)]\n",
    "\n",
    "[ax.scatter(tmp[Dlocs[i]],i,c=co.cm.thermal(Depletion[Dlocs[i]]),s=100) for i in range(nlocs)]\n",
    "[ax.scatter(tmp2[Dlocs[i]],i,c=co.cm.thermal(Depletion_gill[Dlocs[i]]),edgecolor='black',s=100) for i in range(nlocs)]\n",
    "\n",
    "\n",
    "ax.set_yticks(range(nlocs))\n",
    "ax.set_yticklabels(Dlocs,fontsize=17)\n",
    "plt.axvline(x=0., color='black', linestyle='-')\n",
    "#plt.text(0.,nlocs+0.1,'Depleted',fontsize=13)\n",
    "#plt.text(1.,nlocs+0.1,'Abundant',fontsize=13,horizontalalignment='right')\n",
    "ax.set_xlabel('MaxN',fontsize=17)\n",
    "ax.set_xlim(0,2.7)\n",
    "\n",
    "ax.set_title('Sanctuary MaxN ('+str(round(np.median((tmp2/tmp))-1,3)*100)+'%)',fontsize=17)\n",
    "fig.tight_layout()\n",
    "plt.savefig('Figure_EMaxN_sanctuary.jpg');"
   ]
  },
  {
   "cell_type": "code",
   "execution_count": null,
   "metadata": {},
   "outputs": [],
   "source": []
  },
  {
   "cell_type": "code",
   "execution_count": null,
   "metadata": {},
   "outputs": [],
   "source": [
    "fig = plt.figure(figsize=(7, 15))\n",
    "ax = fig.add_subplot(111)\n",
    "\n",
    "\n",
    "#[ax.plot((Depletion[Dlocs[i]],Depletion_gill[Dlocs[i]]),(i,i),c='black',zorder=0) for i in range(nlocs)]\n",
    "\n",
    "[ax.scatter(Depletion[Dlocs[i]],i,c=co.cm.thermal(Depletion[Dlocs[i]]),s=100) for i in range(nlocs)]\n",
    "#[ax.scatter(Depletion_gill[Dlocs[i]],i,c=co.cm.thermal(Depletion_gill[Dlocs[i]]),edgecolor='black',s=100) for i in range(nlocs)]\n",
    "\n",
    "\n",
    "ax.set_yticks(range(nlocs))\n",
    "ax.set_yticklabels(Dlocs,fontsize=17)\n",
    "plt.axvline(x=0.5, color='black', linestyle='-')\n",
    "plt.text(0.,nlocs+0.1,'Depleted',fontsize=13)\n",
    "plt.text(1.,nlocs+0.1,'Abundant',fontsize=13,horizontalalignment='right')\n",
    "ax.set_xlabel('',fontsize=17)\n",
    "ax.set_title('Relative abundance',fontsize=17)\n",
    "fig.tight_layout()\n",
    "plt.savefig('Figure_3x.pdf');"
   ]
  },
  {
   "cell_type": "markdown",
   "metadata": {},
   "source": [
    "## Gillnet/longline potential"
   ]
  },
  {
   "cell_type": "code",
   "execution_count": null,
   "metadata": {},
   "outputs": [],
   "source": [
    "# National value scaled to region plus gillent potential\n",
    "Depletion_gill = pd.DataFrame([sum(np.median(gilman[c])>REx[zkey.Region[c]])/len(REx[zkey.Region[c]])*np.median(p_presence[c]) for c in Elocation]).T\n",
    "Depletion_gill.columns = Elocation\n",
    "Depletion_gill = Depletion_gill[Dlocs.values]"
   ]
  },
  {
   "cell_type": "code",
   "execution_count": null,
   "metadata": {},
   "outputs": [],
   "source": [
    "imp_gill = Depletion_gill-Depletion\n",
    "per_imp_gill = np.mean(imp_gill[imp_gill>0],axis=1)\n",
    "per_imp_gill"
   ]
  },
  {
   "cell_type": "code",
   "execution_count": null,
   "metadata": {},
   "outputs": [],
   "source": [
    "np.mean(imp_gill,axis=1)"
   ]
  },
  {
   "cell_type": "code",
   "execution_count": null,
   "metadata": {},
   "outputs": [],
   "source": [
    "fig = plt.figure(figsize=(7, 15))\n",
    "ax = fig.add_subplot(111)\n",
    "\n",
    "\n",
    "[ax.plot((Depletion[Dlocs[i]],Depletion_gill[Dlocs[i]]),(i,i),c='black',zorder=0) for i in range(nlocs)]\n",
    "\n",
    "[ax.scatter(Depletion[Dlocs[i]],i,c=co.cm.thermal(Depletion[Dlocs[i]]),s=100) for i in range(nlocs)]\n",
    "[ax.scatter(Depletion_gill[Dlocs[i]],i,c=co.cm.thermal(Depletion_gill[Dlocs[i]]),edgecolor='black',s=100) for i in range(nlocs)]\n",
    "\n",
    "\n",
    "ax.set_yticks(range(nlocs))\n",
    "ax.set_yticklabels(Dlocs,fontsize=17)\n",
    "plt.axvline(x=0.5, color='black', linestyle='-')\n",
    "plt.text(0.,nlocs+0.1,'Depleted',fontsize=13)\n",
    "plt.text(1.,nlocs+0.1,'Abundant',fontsize=13,horizontalalignment='right')\n",
    "ax.set_xlabel('',fontsize=17)\n",
    "ax.set_title('Gillnet/longline ban \\n potential ('+ str(np.round(per_imp_gill[0]*100,0)) +'%)',fontsize=17)\n",
    "fig.tight_layout()\n",
    "plt.savefig('Figure_3b.pdf');"
   ]
  },
  {
   "cell_type": "code",
   "execution_count": null,
   "metadata": {},
   "outputs": [],
   "source": [
    "# National value scaled to region plus closure potential\n",
    "Depletion_clo2 = pd.DataFrame([sum(np.median(cloman2[c])>REx[zkey.Region[c]])/len(REx[zkey.Region[c]])*np.median(p_presence[c]) for c in Elocation]).T\n",
    "\n",
    "Depletion_clo2.columns = Elocation\n",
    "Depletion_clo2 = Depletion_clo2[Dlocs.values]"
   ]
  },
  {
   "cell_type": "code",
   "execution_count": null,
   "metadata": {},
   "outputs": [],
   "source": [
    "imp_clo2 = Depletion_clo2-Depletion\n",
    "per_imp_clo2 = np.mean(imp_clo2[imp_clo2>0],axis=1)\n",
    "per_imp_clo2"
   ]
  },
  {
   "cell_type": "markdown",
   "metadata": {},
   "source": [
    "## Big closure potential"
   ]
  },
  {
   "cell_type": "code",
   "execution_count": null,
   "metadata": {},
   "outputs": [],
   "source": [
    "# National value scaled to region plus closure potential\n",
    "Depletion_clo = pd.DataFrame([sum(np.median(cloman[c])>REx[zkey.Region[c]])/len(REx[zkey.Region[c]])*np.median(p_presence[c]) for c in Elocation]).T\n",
    "\n",
    "Depletion_clo.columns = Elocation\n",
    "Depletion_clo = Depletion_clo[Dlocs.values]"
   ]
  },
  {
   "cell_type": "code",
   "execution_count": null,
   "metadata": {},
   "outputs": [],
   "source": [
    "imp_clo = Depletion_clo-Depletion\n",
    "per_imp_clo = np.mean(imp_clo[imp_clo>0],axis=1)\n",
    "per_imp_clo"
   ]
  },
  {
   "cell_type": "code",
   "execution_count": null,
   "metadata": {},
   "outputs": [],
   "source": [
    "fig = plt.figure(figsize=(7, 15))\n",
    "ax = fig.add_subplot(111)\n",
    "\n",
    "\n",
    "[ax.plot((Depletion[Dlocs[i]],Depletion_clo[Dlocs[i]]),(i,i),c='black',zorder=0) for i in range(nlocs)]\n",
    "\n",
    "[ax.scatter(Depletion[Dlocs[i]],i,c=co.cm.thermal(Depletion[Dlocs[i]]),s=100) for i in range(nlocs)]\n",
    "[ax.scatter(Depletion_clo[Dlocs[i]],i,c=co.cm.thermal(Depletion_clo[Dlocs[i]]),edgecolor='black',s=100) for i in range(nlocs)]\n",
    "\n",
    "\n",
    "ax.set_yticks(range(nlocs))\n",
    "ax.set_yticklabels(Dlocs,fontsize=17)\n",
    "plt.axvline(x=0.5, color='black', linestyle='-')\n",
    "plt.text(0.,nlocs+0.1,'Depleted',fontsize=13)\n",
    "plt.text(1.,nlocs+0.1,'Abundant',fontsize=13,horizontalalignment='right')\n",
    "ax.set_xlabel('',fontsize=17)\n",
    "ax.set_title('Large closure \\n potential ('+ str(np.round(per_imp_clo[0]*100,0)) +'%)',fontsize=17)\n",
    "fig.tight_layout()\n",
    "plt.savefig('Figure_3c.pdf');"
   ]
  },
  {
   "cell_type": "markdown",
   "metadata": {},
   "source": [
    "## Catch limit potential"
   ]
  },
  {
   "cell_type": "code",
   "execution_count": null,
   "metadata": {},
   "outputs": [],
   "source": [
    "# National value scaled to region plus closure potential\n",
    "Depletion_cat = pd.DataFrame([sum(np.median(catman[c])>REx[zkey.Region[c]])/len(REx[zkey.Region[c]])*np.median(p_presence[c]) for c in Location]).T\n",
    "\n",
    "Depletion_cat.columns = Location\n",
    "Depletion_cat = Depletion_cat[Dlocs.values]"
   ]
  },
  {
   "cell_type": "code",
   "execution_count": null,
   "metadata": {},
   "outputs": [],
   "source": [
    "imp_cat = Depletion_cat-Depletion\n",
    "per_imp_cat = np.mean(imp_cat[imp_cat>0],axis=1)\n",
    "per_imp_cat"
   ]
  },
  {
   "cell_type": "code",
   "execution_count": null,
   "metadata": {},
   "outputs": [],
   "source": [
    "fig = plt.figure(figsize=(7, 15))\n",
    "ax = fig.add_subplot(111)\n",
    "\n",
    "\n",
    "[ax.plot((Depletion[Dlocs[i]],Depletion_cat[Dlocs[i]]),(i,i),c='black',zorder=0) for i in range(nlocs)]\n",
    "\n",
    "[ax.scatter(Depletion[Dlocs[i]],i,c=co.cm.thermal(Depletion[Dlocs[i]]),s=100) for i in range(nlocs)]\n",
    "[ax.scatter(Depletion_cat[Dlocs[i]],i,c=co.cm.thermal(Depletion_cat[Dlocs[i]]),edgecolor='black',s=100) for i in range(nlocs)]\n",
    "\n",
    "\n",
    "ax.set_yticks(range(nlocs))\n",
    "ax.set_yticklabels(Dlocs,fontsize=17)\n",
    "plt.axvline(x=0.5, color='black', linestyle='-')\n",
    "plt.text(0.,nlocs+0.1,'Depleted',fontsize=13)\n",
    "plt.text(1.,nlocs+0.1,'Abundant',fontsize=13,horizontalalignment='right')\n",
    "ax.set_xlabel('',fontsize=17)\n",
    "ax.set_title('Catch limit \\n potential ('+ str(np.round(per_imp_cat[0]*100,0)) +'%)',fontsize=17)\n",
    "fig.tight_layout()\n",
    "plt.savefig('Figure_3d.pdf');"
   ]
  },
  {
   "cell_type": "markdown",
   "metadata": {},
   "source": [
    "## Shark Sanctuary potential"
   ]
  },
  {
   "cell_type": "code",
   "execution_count": null,
   "metadata": {},
   "outputs": [],
   "source": [
    "# National value scaled to region plus closure potential\n",
    "Depletion_ban = pd.DataFrame([sum(np.median(banman[c])>REx[zkey.Region[c]])/len(REx[zkey.Region[c]])*np.median(p_presence[c]) for c in Location]).T\n",
    "\n",
    "Depletion_ban.columns = Location\n",
    "Depletion_ban = Depletion_ban[Dlocs.values]"
   ]
  },
  {
   "cell_type": "code",
   "execution_count": null,
   "metadata": {},
   "outputs": [],
   "source": [
    "Depletion_ban['South Africa']"
   ]
  },
  {
   "cell_type": "code",
   "execution_count": null,
   "metadata": {},
   "outputs": [],
   "source": [
    "np.median(p_presence['South Africa'])"
   ]
  },
  {
   "cell_type": "code",
   "execution_count": null,
   "metadata": {},
   "outputs": [],
   "source": [
    "Depletion['South Africa']"
   ]
  },
  {
   "cell_type": "code",
   "execution_count": null,
   "metadata": {},
   "outputs": [],
   "source": []
  },
  {
   "cell_type": "code",
   "execution_count": null,
   "metadata": {},
   "outputs": [],
   "source": [
    "imp_ban = Depletion_ban-Depletion\n",
    "per_imp_ban = np.mean(imp_ban[imp_ban>0],axis=1)\n",
    "per_imp_ban"
   ]
  },
  {
   "cell_type": "code",
   "execution_count": null,
   "metadata": {},
   "outputs": [],
   "source": [
    "fig = plt.figure(figsize=(7, 15))\n",
    "ax = fig.add_subplot(111)\n",
    "\n",
    "\n",
    "[ax.plot((Depletion[Dlocs[i]],Depletion_ban[Dlocs[i]]),(i,i),c='black',zorder=0) for i in range(nlocs)]\n",
    "\n",
    "[ax.scatter(Depletion[Dlocs[i]],i,c=co.cm.thermal(Depletion[Dlocs[i]]),s=100) for i in range(nlocs)]\n",
    "[ax.scatter(Depletion_ban[Dlocs[i]],i,c=co.cm.thermal(Depletion_ban[Dlocs[i]]),edgecolor='black',s=100) for i in range(nlocs)]\n",
    "\n",
    "\n",
    "ax.set_yticks(range(nlocs))\n",
    "ax.set_yticklabels(Dlocs,fontsize=17)\n",
    "plt.axvline(x=0.5, color='black', linestyle='-')\n",
    "plt.text(0.,nlocs+0.1,'Depleted',fontsize=13)\n",
    "plt.text(1.,nlocs+0.1,'Abundant',fontsize=13,horizontalalignment='right')\n",
    "ax.set_xlabel('',fontsize=17)\n",
    "ax.set_title('Shark sanctuary \\n potential ('+ str(np.round(per_imp_ban[0]*100,0)) +'%)',fontsize=17)\n",
    "fig.tight_layout()\n",
    "plt.savefig('Figure_3e.pdf');"
   ]
  },
  {
   "cell_type": "code",
   "execution_count": null,
   "metadata": {},
   "outputs": [],
   "source": [
    "Depletion"
   ]
  },
  {
   "cell_type": "code",
   "execution_count": null,
   "metadata": {},
   "outputs": [],
   "source": [
    "Depletion_ban"
   ]
  },
  {
   "cell_type": "code",
   "execution_count": null,
   "metadata": {},
   "outputs": [],
   "source": [
    "imp_gill"
   ]
  },
  {
   "cell_type": "code",
   "execution_count": null,
   "metadata": {},
   "outputs": [],
   "source": [
    "# Conservation potential per management technique\n",
    "ConPoMGMT = imp_gill.append(imp_clo, ignore_index=True)\n",
    "ConPoMGMT = ConPoMGMT.append(imp_cat, ignore_index=True)\n",
    "ConPoMGMT = ConPoMGMT.append(imp_ban, ignore_index=True)\n",
    "ConPoMGMT.index = ['Gillnet/longline ban','Large closure', 'Catch limit', 'Sanctuary']\n",
    "ConPoMGMT.T.to_csv('ConPoMGMT.csv')"
   ]
  },
  {
   "cell_type": "code",
   "execution_count": null,
   "metadata": {},
   "outputs": [],
   "source": [
    "ConPoMGMT.columns"
   ]
  },
  {
   "cell_type": "code",
   "execution_count": null,
   "metadata": {},
   "outputs": [],
   "source": [
    "# Total conservation potential - max of other measures or shark Sanctuary\n",
    "con_potential = pd.DataFrame(np.array([max(g+c+b,s) for g,c,b,s in zip(imp_gill.iloc[0,].values,imp_clo.iloc[0,].values,imp_cat.iloc[0,].values,imp_ban.iloc[0,].values)])).T\n",
    "con_potential.columns = imp_clo.columns\n",
    "con_potential.T"
   ]
  },
  {
   "cell_type": "code",
   "execution_count": null,
   "metadata": {},
   "outputs": [],
   "source": [
    "SSlon = Lon\n",
    "SSlat = Lat"
   ]
  },
  {
   "cell_type": "code",
   "execution_count": null,
   "metadata": {},
   "outputs": [],
   "source": [
    "fig = plt.figure(figsize=(15, 5))\n",
    "# Instantiate basemap\n",
    "m = bm(llcrnrlon=-30,llcrnrlat=-37,urcrnrlon=340,urcrnrlat=37,projection='mill')\n",
    "m.drawcoastlines()\n",
    "#m.drawcountries()\n",
    "m.fillcontinents()\n",
    "\n",
    "#\"\"\"\n",
    "# Convert longitude\n",
    "SSlon[SSlon<0] = SSlon[SSlon<0]+360\n",
    "xx,yy = m(SSlon,SSlat)\n",
    "zz = [co.cm.thermal(Depletion[Location[i]]) for i in range(nlocs)]\n",
    "# Plot points\n",
    "[plt.scatter(x, y, c=z, edgecolor='black', linewidth=0.7, s=60*2**(con_potential[l]/max(con_potential.values[0])*4).astype(int), alpha=1, zorder=4) for x,y,z,l in zip(xx,yy,zz,Location)]\n",
    "\n",
    "\"\"\"\n",
    "for i in range(nlocs):\n",
    "    if Location[i]=='Belize':\n",
    "        plt.text(xx[i]-600000, yy[i], Location[i], ha='right', va='center')\n",
    "    elif Location[i]=='Dutch Antilles Leeward':\n",
    "        plt.text(xx[i]-600000, yy[i], Location[i], ha='right', va='center')\n",
    "    elif con_potential[Location[i]][0]>0.9:\n",
    "        plt.text(xx[i]+500000, yy[i], Location[i])\n",
    "    else: \n",
    "        pass\n",
    "\"\"\"\n",
    "    \n",
    "\"\"\"\n",
    "for i in range(nlocs):\n",
    "    if con_potential[Location[i]][0]>0.9:\n",
    "        plt.text(xx[i]+500000, yy[i], Location[i])\n",
    "    else: \n",
    "        pass\n",
    "\n",
    "\n",
    "\n",
    "#\"\"\"\n",
    "\n",
    "\n",
    "\n",
    "xoset = 700000\n",
    "# Max conservation potential\n",
    "plt.scatter(min(xx)-4000000,min(yy)-10000,s=max(60*2**(con_potential.values[0]/max(con_potential.values[0])*4).astype(int)),facecolors='none', edgecolors='black')\n",
    "plt.text(min(xx)-4000000+xoset,min(yy)-10000,str(np.round(max(con_potential.values[0]),2)))\n",
    "\n",
    "# Min conservation potential\n",
    "plt.scatter(min(xx)-4000000,min(yy)+1600000,s=min(60*2**(con_potential.values[0]/max(con_potential.values[0])*4).astype(int)),facecolors='none', edgecolors='black')\n",
    "plt.text(min(xx)-4000000+xoset,min(yy)+1600000,str(np.round(min(con_potential.values[0]),2)))\n",
    "\n",
    "# Mean conservation potential\n",
    "plt.scatter(min(xx)-4000000,min(yy)+1000000,s=np.mean(60*2**(con_potential.values[0]/max(con_potential.values[0])*4).astype(int)),facecolors='none', edgecolors='black')\n",
    "plt.text(min(xx)-4000000+xoset,min(yy)+1000000,str(np.round(np.mean(con_potential.values[0]),2)))\n",
    "\n",
    "fig.tight_layout()\n",
    "plt.savefig('Figure_3a.pdf', bbox_inches='tight');\n"
   ]
  },
  {
   "cell_type": "code",
   "execution_count": null,
   "metadata": {
    "scrolled": false
   },
   "outputs": [],
   "source": [
    "fig = plt.figure(figsize=(15, 5))\n",
    "# Instantiate basemap\n",
    "m = bm(llcrnrlon=-30,llcrnrlat=-37,urcrnrlon=340,urcrnrlat=37,projection='mill')\n",
    "m.drawcoastlines()\n",
    "#m.drawcountries()\n",
    "m.fillcontinents()\n",
    "\n",
    "#\"\"\"\n",
    "# Convert longitude\n",
    "SSlon[SSlon<0] = SSlon[SSlon<0]+360\n",
    "xx,yy = m(SSlon,SSlat)\n",
    "zz = [co.cm.thermal(Depletion[Location[i]]) for i in range(nlocs)]\n",
    "# Plot points\n",
    "[plt.scatter(x, y, c=z, edgecolor='black', linewidth=0.7, s=60*2**(con_potential[l]/max(con_potential.values[0])*4).astype(int), alpha=1, zorder=4) for x,y,z,l in zip(xx,yy,zz,Location)]\n",
    "\n",
    "\"\"\"\n",
    "for i in range(nlocs):\n",
    "    if Location[i]=='Belize':\n",
    "        plt.text(xx[i]-600000, yy[i], Location[i], ha='right', va='center')\n",
    "    elif Location[i]=='Dutch Antilles Leeward':\n",
    "        plt.text(xx[i]-600000, yy[i], Location[i], ha='right', va='center')\n",
    "    elif con_potential[Location[i]][0]>0.9:\n",
    "        plt.text(xx[i]+500000, yy[i], Location[i])\n",
    "    else: \n",
    "        pass\n",
    "\"\"\"\n",
    "    \n",
    "    \n",
    "for i in range(nlocs):\n",
    "    if con_potential[Location[i]][0]>0.9:\n",
    "        plt.text(xx[i]+500000, yy[i], Location[i])\n",
    "    else: \n",
    "        pass\n",
    "\n",
    "\n",
    "\n",
    "#\"\"\"\n",
    "\n",
    "\n",
    "\n",
    "xoset = 700000\n",
    "# Max conservation potential\n",
    "plt.scatter(min(xx)-4000000,min(yy)-10000,s=max(60*2**(con_potential.values[0]/max(con_potential.values[0])*4).astype(int)),facecolors='none', edgecolors='black')\n",
    "plt.text(min(xx)-4000000+xoset,min(yy)-10000,str(np.round(max(con_potential.values[0]),2)))\n",
    "\n",
    "# Min conservation potential\n",
    "plt.scatter(min(xx)-4000000,min(yy)+1600000,s=min(60*2**(con_potential.values[0]/max(con_potential.values[0])*4).astype(int)),facecolors='none', edgecolors='black')\n",
    "plt.text(min(xx)-4000000+xoset,min(yy)+1600000,str(np.round(min(con_potential.values[0]),2)))\n",
    "\n",
    "# Mean conservation potential\n",
    "plt.scatter(min(xx)-4000000,min(yy)+1000000,s=np.mean(60*2**(con_potential.values[0]/max(con_potential.values[0])*4).astype(int)),facecolors='none', edgecolors='black')\n",
    "plt.text(min(xx)-4000000+xoset,min(yy)+1000000,str(np.round(np.mean(con_potential.values[0]),2)))\n",
    "\n",
    "fig.tight_layout()\n",
    "plt.savefig('Figure_3ax.pdf', bbox_inches='tight');\n"
   ]
  },
  {
   "cell_type": "code",
   "execution_count": null,
   "metadata": {},
   "outputs": [],
   "source": [
    "plt.hist(Depletion);"
   ]
  },
  {
   "cell_type": "code",
   "execution_count": null,
   "metadata": {},
   "outputs": [],
   "source": []
  },
  {
   "cell_type": "code",
   "execution_count": null,
   "metadata": {},
   "outputs": [],
   "source": [
    "tmp = con_potential.T\n",
    "tmp.columns = ['ConPo']\n",
    "ConX = tmp.sort_values('ConPo', ascending=False).join(Depletion.T)\n",
    "ConX.to_csv('ConPo.csv')"
   ]
  },
  {
   "cell_type": "code",
   "execution_count": null,
   "metadata": {},
   "outputs": [],
   "source": [
    "fig = plt.figure(figsize=(30, 20))\n",
    "# Instantiate basemap\n",
    "m = bm(llcrnrlon=-30,llcrnrlat=-37,urcrnrlon=340,urcrnrlat=37,projection='mill')\n",
    "m.drawcoastlines()\n",
    "#m.drawcountries()\n",
    "m.fillcontinents()\n",
    "\n",
    "#\"\"\"\n",
    "# Convert longitude\n",
    "SSlon[SSlon<0] = SSlon[SSlon<0]+360\n",
    "xx,yy = m(SSlon,SSlat)\n",
    "zz = [co.cm.thermal(Depletion[Location[i]]) for i in range(nlocs)]\n",
    "# Plot points\n",
    "[plt.scatter(x, y, c=z, edgecolor='black', linewidth=0.7, s=60*2**(con_potential[l]/max(con_potential.values[0])*4).astype(int), alpha=1, zorder=4) for x,y,z,l in zip(xx,yy,zz,Location)]\n",
    "\n",
    "for i in range(nlocs):\n",
    "    plt.text(xx[i]+200000, yy[i], Location[i])\n",
    "\n",
    "\n",
    "\n",
    "\n",
    "#\"\"\"\n",
    "\n",
    "\n",
    "\n",
    "xoset = 700000\n",
    "# Max conservation potential\n",
    "plt.scatter(min(xx)-4000000,min(yy)-10000,s=max(60*2**(con_potential.values[0]/max(con_potential.values[0])*4).astype(int)),facecolors='none', edgecolors='black')\n",
    "plt.text(min(xx)-4000000+xoset,min(yy)-10000,str(np.round(max(con_potential.values[0]),2)))\n",
    "\n",
    "# Min conservation potential\n",
    "plt.scatter(min(xx)-4000000,min(yy)+1600000,s=min(60*2**(con_potential.values[0]/max(con_potential.values[0])*4).astype(int)),facecolors='none', edgecolors='black')\n",
    "plt.text(min(xx)-4000000+xoset,min(yy)+1600000,str(np.round(min(con_potential.values[0]),2)))\n",
    "\n",
    "# Mean conservation potential\n",
    "plt.scatter(min(xx)-4000000,min(yy)+1000000,s=np.mean(60*2**(con_potential.values[0]/max(con_potential.values[0])*4).astype(int)),facecolors='none', edgecolors='black')\n",
    "plt.text(min(xx)-4000000+xoset,min(yy)+1000000,str(np.round(np.mean(con_potential.values[0]),2)))\n",
    "\n",
    "fig.tight_layout()\n",
    "plt.savefig('Figure_all_nations.pdf', bbox_inches='tight');\n"
   ]
  },
  {
   "cell_type": "code",
   "execution_count": null,
   "metadata": {},
   "outputs": [],
   "source": []
  },
  {
   "cell_type": "code",
   "execution_count": null,
   "metadata": {},
   "outputs": [],
   "source": []
  },
  {
   "cell_type": "code",
   "execution_count": null,
   "metadata": {},
   "outputs": [],
   "source": []
  },
  {
   "cell_type": "code",
   "execution_count": null,
   "metadata": {},
   "outputs": [],
   "source": []
  },
  {
   "cell_type": "code",
   "execution_count": null,
   "metadata": {},
   "outputs": [],
   "source": []
  }
 ],
 "metadata": {
  "kernelspec": {
   "display_name": "Python 3",
   "language": "python",
   "name": "python3"
  },
  "language_info": {
   "codemirror_mode": {
    "name": "ipython",
    "version": 3
   },
   "file_extension": ".py",
   "mimetype": "text/x-python",
   "name": "python",
   "nbconvert_exporter": "python",
   "pygments_lexer": "ipython3",
   "version": "3.7.6"
  }
 },
 "nbformat": 4,
 "nbformat_minor": 2
}
