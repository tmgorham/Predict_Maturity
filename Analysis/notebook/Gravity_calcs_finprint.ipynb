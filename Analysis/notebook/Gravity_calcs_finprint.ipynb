{
 "cells": [
  {
   "cell_type": "code",
   "execution_count": 1,
   "metadata": {},
   "outputs": [],
   "source": [
    "# Import python packages\n",
    "%matplotlib inline\n",
    "import pandas as pd\n",
    "import numpy as np\n",
    "import matplotlib.pyplot as plt\n",
    "import pymc3 as pm\n",
    "import theano as T\n",
    "import theano.tensor as tt\n",
    "import seaborn as sns\n",
    "import matplotlib as mp\n",
    "import numpy.random as npr\n",
    "import matplotlib.patches as mpatches\n",
    "from scipy.interpolate import interp1d\n",
    "import datetime as dt\n",
    "from scipy.stats.kde import gaussian_kde\n",
    "import matplotlib.path as mpath\n",
    "import scipy as sp\n",
    "import sqlite3\n",
    "import os\n",
    "import shapefile\n",
    "import pdb\n",
    "from progressbar import ProgressBar\n",
    "#mp.pyplot.style.use('ggplot')\n",
    "mp.pyplot.style.use('seaborn-darkgrid')"
   ]
  },
  {
   "cell_type": "code",
   "execution_count": 2,
   "metadata": {},
   "outputs": [],
   "source": [
    "# Helper function\n",
    "def indexall(L):\n",
    "    poo = []\n",
    "    for p in L:\n",
    "        if not p in poo:\n",
    "            poo.append(p)\n",
    "    Ix = np.array([poo.index(p) for p in L])\n",
    "    return poo,Ix\n",
    "\n",
    "def subindexall(short,long):\n",
    "    poo = []\n",
    "    out = []\n",
    "    for s,l in zip(short,long):\n",
    "        if not l in poo:\n",
    "            poo.append(l)\n",
    "            out.append(s)\n",
    "    return indexall(out)\n",
    "\n",
    "match = lambda a, b: [ b.index(x) if x in b else None for x in a ]\n",
    "grep = lambda s, l: np.array([i for i in l if s in i])\n",
    "\n",
    "# Function to standardize covariates\n",
    "def stdize(x):\n",
    "    return (x-np.mean(x))/(np.std(x)*2)\n",
    "\n",
    "def invlogit(x):\n",
    "    return np.exp(x)/(1+np.exp(x))"
   ]
  },
  {
   "cell_type": "code",
   "execution_count": 3,
   "metadata": {},
   "outputs": [],
   "source": [
    "from shapely.geometry import *"
   ]
  },
  {
   "cell_type": "code",
   "execution_count": 4,
   "metadata": {
    "scrolled": false
   },
   "outputs": [
    {
     "name": "stderr",
     "output_type": "stream",
     "text": [
      "/anaconda3/lib/python3.7/site-packages/IPython/core/interactiveshell.py:3020: DtypeWarning: Columns (23,26,57,58) have mixed types. Specify dtype option on import or set low_memory=False.\n",
      "  interactivity=interactivity, compiler=compiler, result=result)\n"
     ]
    }
   ],
   "source": [
    "# Import new set data\n",
    "#ndata = pd.read_excel('Local_Pop_Diff_2010_2015.xlsx')\n",
    "setdata = pd.read_csv('maxnfunctionalgroups_&reefcovariates_2019-06-24.csv')\n"
   ]
  },
  {
   "cell_type": "code",
   "execution_count": 5,
   "metadata": {},
   "outputs": [],
   "source": [
    "nobs = np.shape(setdata)[0]"
   ]
  },
  {
   "cell_type": "code",
   "execution_count": 6,
   "metadata": {},
   "outputs": [
    {
     "data": {
      "text/plain": [
       "Index(['region_name', 'region_id', 'location_name', 'location_code',\n",
       "       'location_id', 'site_name', 'site_code', 'site_id', 'reef_name',\n",
       "       'reef_type', 'reef_code', 'reef_id', 'trip_year', 'trip_code', 'set_id',\n",
       "       'set_code', 'set_date', 'set_latitude', 'set_longitude', 'maxn',\n",
       "       'functional_group', 'depth', 'drop_time', 'haul_time', 'bait',\n",
       "       'bait_oiled', 'current_flow_estimated', 'current_flow_instrumented',\n",
       "       'visibility', 'field_of_view', 'substrate_relief_sd',\n",
       "       'substrate_relief_mean', 'equipment_frame_type', 'equipment_camera',\n",
       "       'equipment_stereo_camera', 'equipment_camera_height',\n",
       "       'equipment_arm_length', 'ascidians', 'bleached_corals', 'bryozoa',\n",
       "       'consolidated', 'crinoids', 'halimeda', 'hard_coral', 'hydrocoral',\n",
       "       'hydroids', 'invertebrate_complex', 'macroalgae', 'mangrove',\n",
       "       'seagrass', 'soft_coral', 'sponge', 'true_anemones', 'unconsolidated',\n",
       "       'zoanthids', 'video_length_watched', 'video_filename', 'video_source',\n",
       "       'video_filepath', 'splendor_image_url', 'total_assignments',\n",
       "       'reviewed_assignments', 'has_complete_master', 'protection_status',\n",
       "       'mpa_name', 'mpa_area', 'mpa_year_founded', 'mpa_isolation',\n",
       "       'mpa_compliance', 'site_type', 'bait_family', 'PI', 'Remote',\n",
       "       'Shark_Protection_Status', 'Shark_fishing_restrictions', 'Shark_gears',\n",
       "       'Datasheet_Source', 'set_productivity_2017ave', 'local_population_2010',\n",
       "       'local_population_2015', 'population_proporationaldifference_2010.15',\n",
       "       'drop_hr'],\n",
       "      dtype='object')"
      ]
     },
     "execution_count": 6,
     "metadata": {},
     "output_type": "execute_result"
    }
   ],
   "source": [
    "setdata.columns"
   ]
  },
  {
   "cell_type": "code",
   "execution_count": 7,
   "metadata": {},
   "outputs": [],
   "source": [
    "# Create unique location ids\n",
    "setdata['LatLon'] = np.array([str(t)+'_'+str(n) for t,n in zip(setdata.set_latitude.values,setdata.set_longitude.values)])\n",
    "\n",
    "# Create index list\n",
    "LatLongs,Ill = indexall(setdata.LatLon.values)\n",
    "nurecs = len(LatLongs)"
   ]
  },
  {
   "cell_type": "code",
   "execution_count": 8,
   "metadata": {},
   "outputs": [
    {
     "data": {
      "text/plain": [
       "18658"
      ]
     },
     "execution_count": 8,
     "metadata": {},
     "output_type": "execute_result"
    }
   ],
   "source": [
    "len(LatLongs)"
   ]
  },
  {
   "cell_type": "markdown",
   "metadata": {},
   "source": [
    "Import shapefile"
   ]
  },
  {
   "cell_type": "code",
   "execution_count": 9,
   "metadata": {},
   "outputs": [],
   "source": [
    "sf = shapefile.Reader('Global_Gravity_of_Coral_Reefs_2_0.shp')"
   ]
  },
  {
   "cell_type": "code",
   "execution_count": 10,
   "metadata": {},
   "outputs": [
    {
     "data": {
      "text/plain": [
       "'Global_Gravity_of_Coral_Reefs_2_0'"
      ]
     },
     "execution_count": 10,
     "metadata": {},
     "output_type": "execute_result"
    }
   ],
   "source": [
    "sf.shapeName"
   ]
  },
  {
   "cell_type": "code",
   "execution_count": 11,
   "metadata": {},
   "outputs": [
    {
     "name": "stdout",
     "output_type": "stream",
     "text": [
      "number of shapes imported: 27156\n"
     ]
    }
   ],
   "source": [
    "print('number of shapes imported:', len(sf.shapes()))"
   ]
  },
  {
   "cell_type": "code",
   "execution_count": 12,
   "metadata": {},
   "outputs": [],
   "source": [
    "# Grab polygons\n",
    "shapes = sf.shapes()"
   ]
  },
  {
   "cell_type": "code",
   "execution_count": 13,
   "metadata": {},
   "outputs": [
    {
     "data": {
      "text/plain": [
       "[('DeletionFlag', 'C', 1, 0),\n",
       " ['reef_ID', 'N', 8, 0],\n",
       " ['TT_pop', 'N', 19, 12],\n",
       " ['TT_market', 'N', 19, 12],\n",
       " ['Grav_NC', 'N', 19, 10],\n",
       " ['Grav_citie', 'N', 19, 10],\n",
       " ['Grav_tot', 'N', 19, 10],\n",
       " ['Grav_NP', 'N', 19, 11]]"
      ]
     },
     "execution_count": 13,
     "metadata": {},
     "output_type": "execute_result"
    }
   ],
   "source": [
    "# Grab data fields\n",
    "fields = sf.fields\n",
    "fields"
   ]
  },
  {
   "cell_type": "markdown",
   "metadata": {},
   "source": [
    "Grav_NP was used in the bright spots paper"
   ]
  },
  {
   "cell_type": "code",
   "execution_count": 14,
   "metadata": {},
   "outputs": [],
   "source": [
    "# Grab data\n",
    "records = sf.records()"
   ]
  },
  {
   "cell_type": "code",
   "execution_count": 15,
   "metadata": {},
   "outputs": [],
   "source": [
    "nshapes = len(records)"
   ]
  },
  {
   "cell_type": "code",
   "execution_count": 16,
   "metadata": {},
   "outputs": [],
   "source": [
    "from shapely.geometry import shape, Point"
   ]
  },
  {
   "cell_type": "code",
   "execution_count": 17,
   "metadata": {},
   "outputs": [
    {
     "data": {
      "text/plain": [
       "27156"
      ]
     },
     "execution_count": 17,
     "metadata": {},
     "output_type": "execute_result"
    }
   ],
   "source": [
    "len(shapes)"
   ]
  },
  {
   "cell_type": "code",
   "execution_count": 18,
   "metadata": {},
   "outputs": [],
   "source": [
    "shpx = np.array([shape(s) for s in shapes])"
   ]
  },
  {
   "cell_type": "code",
   "execution_count": 19,
   "metadata": {},
   "outputs": [
    {
     "data": {
      "text/plain": [
       "Record #3874: [3881, 2858.0, 4744.0, 0.000910887, None, 0.0, None]"
      ]
     },
     "execution_count": 19,
     "metadata": {},
     "output_type": "execute_result"
    }
   ],
   "source": [
    "# One-off check\n",
    "ptx = Point([177.32109,28.19964])\n",
    "sflag = [s.contains(ptx) for s in shpx]\n",
    "sum(sflag)\n",
    "poot = [ptx.distance(s) for s in shpx]\n",
    "rext = records[poot.index(min(poot))]\n",
    "rext"
   ]
  },
  {
   "cell_type": "code",
   "execution_count": 20,
   "metadata": {},
   "outputs": [],
   "source": [
    "# Grab unique lat/lon values\n",
    "lat,lon = np.array([l.split('_') for l in LatLongs]).astype(float).T"
   ]
  },
  {
   "cell_type": "code",
   "execution_count": 21,
   "metadata": {},
   "outputs": [
    {
     "data": {
      "text/plain": [
       "'25.000496_-80.38673'"
      ]
     },
     "execution_count": 21,
     "metadata": {},
     "output_type": "execute_result"
    }
   ],
   "source": [
    "LatLongs[0]"
   ]
  },
  {
   "cell_type": "code",
   "execution_count": 22,
   "metadata": {},
   "outputs": [
    {
     "data": {
      "text/plain": [
       "25.000496"
      ]
     },
     "execution_count": 22,
     "metadata": {},
     "output_type": "execute_result"
    }
   ],
   "source": [
    "lat[0]"
   ]
  },
  {
   "cell_type": "code",
   "execution_count": 23,
   "metadata": {},
   "outputs": [],
   "source": [
    "# Create new gravity columns\n",
    "Grav_NC = np.ones(nurecs)*-999\n",
    "Grav_Total = np.ones(nurecs)*-999\n",
    "Grav_Cities = np.ones(nurecs)*-999\n",
    "Grav_NP = np.ones(nurecs)*-999"
   ]
  },
  {
   "cell_type": "code",
   "execution_count": 24,
   "metadata": {
    "scrolled": false
   },
   "outputs": [
    {
     "name": "stderr",
     "output_type": "stream",
     "text": [
      "100% (18658 of 18658) |##################| Elapsed Time: 0:43:40 Time:  0:43:40\n"
     ]
    }
   ],
   "source": [
    "pbar = ProgressBar()\n",
    "nrex = list(np.arange(nurecs))\n",
    "\n",
    "# Longitude, latitude\n",
    "for j in pbar(nrex):\n",
    "    # Grab point\n",
    "    pt = Point([lon[j],lat[j]])\n",
    "    # Flag in case point falls outside of all polygons\n",
    "    inx = 0\n",
    "    sflag = [s.contains(pt) for s in shpx]\n",
    "    # If point is in one of the polygons\n",
    "    if sum(sflag)>0:\n",
    "        rex = records[sflag.index(True)]\n",
    "        Grav_NC[j] = rex[3]\n",
    "        Grav_Total[j] = rex[5]\n",
    "        Grav_Cities[j] = rex[4]\n",
    "        Grav_NP[j] = rex[6] # Bright spots\n",
    "    # If outside all polygons, then find nearest polygon\n",
    "    else:\n",
    "        poo = [pt.distance(s) for s in shpx]\n",
    "        rex = records[poo.index(min(poo))]\n",
    "        Grav_NC[j] = rex[3]\n",
    "        Grav_Total[j] = rex[5]\n",
    "        Grav_Cities[j] = rex[4]\n",
    "        Grav_NP[j] = rex[6] # Bright spots\n",
    "        #print(rex)"
   ]
  },
  {
   "cell_type": "code",
   "execution_count": 25,
   "metadata": {},
   "outputs": [
    {
     "data": {
      "text/plain": [
       "array(['23.876739999999998_166.29485', '23.88006_166.28557',\n",
       "       '23.88097_166.2751', '23.88366_166.26608000000002',\n",
       "       '23.88206_166.25533000000001', '23.881829999999997_166.24498',\n",
       "       '23.87903_166.2905', '23.88026_166.28011',\n",
       "       '23.88257_166.27066000000002', '23.88203_166.26077',\n",
       "       '23.88436_166.25079', '23.8829_166.23907', '23.88426_166.23387',\n",
       "       '23.88126_166.22852', '23.88024_166.22249', '23.88_166.21561',\n",
       "       '23.87518_166.21112', '23.87236_166.2041', '23.65356_166.0876',\n",
       "       '23.6432_166.08856', '23.636210000000002_166.09506000000002',\n",
       "       '23.63384_166.1058', '23.62479_166.11061', '23.62272_166.12115',\n",
       "       '23.64904_166.08446', '23.64031_166.09317', '23.63264_166.09874',\n",
       "       '23.62934_166.10907', '23.623070000000002_166.11575',\n",
       "       '23.62138_166.12677', '23.62539_166.14331', '23.62988_166.15225',\n",
       "       '23.63298_166.16298', '23.63821_166.17201', '23.63615_166.18051',\n",
       "       '23.63455_166.19196000000002', '28.27791_177.38455',\n",
       "       '28.28622_177.37457', '28.280440000000002_177.36331',\n",
       "       '28.28053_177.34389', '28.271_177.33905', '28.28332_177.38521',\n",
       "       '28.283890000000003_177.36978', '28.279659999999996_177.35832',\n",
       "       '28.27567_177.34521', '28.268459999999997_177.33423',\n",
       "       '28.238359999999997_177.31693', '28.234709999999996_177.31348',\n",
       "       '28.22973_177.31052', '28.225620000000003_177.3132',\n",
       "       '28.22125_177.31133', '28.26172_177.3298',\n",
       "       '28.25742_177.32828999999998', '28.255440000000004_177.32329',\n",
       "       '28.250770000000003_177.32326', '28.24918_177.31847',\n",
       "       '28.21497_177.31148000000002', '28.20406_177.31638',\n",
       "       '28.19902_177.3242', '28.19925_177.3351', '28.1967_177.34648',\n",
       "       '28.197020000000002_177.35106000000002',\n",
       "       '28.20968_177.31118999999998', '28.199640000000002_177.32109',\n",
       "       '28.195890000000002_177.32913', '28.19496_177.33928999999998',\n",
       "       '28.197879999999998_177.36272', '28.196920000000002_177.36852',\n",
       "       '28.21179_177.35298', '28.215759999999996_177.34973',\n",
       "       '28.22014_177.34779', '23.87172_-166.29608000000002',\n",
       "       '23.86016_-166.32057', '23.86572_-166.31186',\n",
       "       '23.87344_-166.31859', '23.85458_-166.31431',\n",
       "       '23.84967_-166.25742', '23.81812_-166.25125', '23.82268_-166.3233',\n",
       "       '23.87503_-166.32422', '23.81206_-166.3382', '23.81167_-166.36276',\n",
       "       '23.63692_-166.20995', '23.63249_-166.1991', '26.06643_-173.91951',\n",
       "       '26.09_-174.15313999999998', '26.10345_-174.14795',\n",
       "       '26.110689999999998_-173.85289', '28.197609999999997_-177.36639',\n",
       "       '28.1982_-177.34492', '28.22622_-177.41891', '28.2528_-177.42009',\n",
       "       '28.2299_-177.42081000000002', '28.18955_-177.39865',\n",
       "       '28.20035_-177.35687', '28.266059999999996_-177.42569',\n",
       "       '28.24802_-177.43073', '27.7888_-175.83522', '27.88087_-175.94701',\n",
       "       '27.957729999999998_-175.74701000000002',\n",
       "       '27.929909999999996_-175.87338', '27.85833_-175.95641',\n",
       "       '27.77095_-175.97856000000002', '27.84287_-175.96793',\n",
       "       '27.92284_-175.88947', '27.779040000000002_-175.79298',\n",
       "       '27.90986_-175.91312', '27.78221_-175.8078',\n",
       "       '27.775290000000002_-175.99336', '27.892740000000003_-175.95605',\n",
       "       '27.90595_-175.92553999999998', '27.941679999999998_-175.86919',\n",
       "       '27.96306_-175.7417', '27.85493_-175.99382'], dtype='<U39')"
      ]
     },
     "execution_count": 25,
     "metadata": {},
     "output_type": "execute_result"
    }
   ],
   "source": [
    "# Find any NA's\n",
    "np.array(LatLongs)[np.isnan(Grav_NP)]"
   ]
  },
  {
   "cell_type": "code",
   "execution_count": 26,
   "metadata": {},
   "outputs": [],
   "source": [
    "# Tmp fix for these sites\n",
    "Grav_NP[np.isnan(Grav_NP)] = 0"
   ]
  },
  {
   "cell_type": "code",
   "execution_count": 27,
   "metadata": {},
   "outputs": [
    {
     "data": {
      "text/plain": [
       "array([], dtype='<U39')"
      ]
     },
     "execution_count": 27,
     "metadata": {},
     "output_type": "execute_result"
    }
   ],
   "source": [
    "# Find any NA's\n",
    "np.array(LatLongs)[np.isnan(Grav_NC)]"
   ]
  },
  {
   "cell_type": "code",
   "execution_count": 28,
   "metadata": {},
   "outputs": [
    {
     "data": {
      "text/plain": [
       "array([], dtype='<U39')"
      ]
     },
     "execution_count": 28,
     "metadata": {},
     "output_type": "execute_result"
    }
   ],
   "source": [
    "# Find any NA's\n",
    "np.array(LatLongs)[np.isnan(Grav_Total)]"
   ]
  },
  {
   "cell_type": "code",
   "execution_count": 29,
   "metadata": {},
   "outputs": [
    {
     "data": {
      "text/plain": [
       "array(['-17.24876_119.35699', '-17.24798_119.35536',\n",
       "       '-17.25281_119.35916', ..., '5.86677_-162.12193',\n",
       "       '5.89801_-162.12832', '5.89674_-162.11684'], dtype='<U39')"
      ]
     },
     "execution_count": 29,
     "metadata": {},
     "output_type": "execute_result"
    }
   ],
   "source": [
    "# Find any NA's\n",
    "np.array(LatLongs)[np.isnan(Grav_Cities)]"
   ]
  },
  {
   "cell_type": "code",
   "execution_count": 30,
   "metadata": {},
   "outputs": [],
   "source": [
    "# Tmp fix for these sites\n",
    "Grav_Cities[np.isnan(Grav_Cities)] = 0"
   ]
  },
  {
   "cell_type": "code",
   "execution_count": 31,
   "metadata": {},
   "outputs": [],
   "source": [
    "# Create new gravity columns\n",
    "setdata['Grav_NC'] = Grav_NC[Ill]\n",
    "setdata['Grav_Total'] = Grav_Total[Ill]\n",
    "setdata['Grav_Cities'] = Grav_Cities[Ill]\n",
    "setdata['Grav_NP'] = Grav_NP[Ill]"
   ]
  },
  {
   "cell_type": "code",
   "execution_count": 32,
   "metadata": {},
   "outputs": [],
   "source": [
    "setdata.to_csv('FinPrint_Set_Data.csv', index=False)"
   ]
  },
  {
   "cell_type": "code",
   "execution_count": null,
   "metadata": {},
   "outputs": [],
   "source": []
  },
  {
   "cell_type": "code",
   "execution_count": null,
   "metadata": {},
   "outputs": [],
   "source": []
  },
  {
   "cell_type": "code",
   "execution_count": null,
   "metadata": {},
   "outputs": [],
   "source": []
  }
 ],
 "metadata": {
  "kernelspec": {
   "display_name": "Python 3",
   "language": "python",
   "name": "python3"
  },
  "language_info": {
   "codemirror_mode": {
    "name": "ipython",
    "version": 3
   },
   "file_extension": ".py",
   "mimetype": "text/x-python",
   "name": "python",
   "nbconvert_exporter": "python",
   "pygments_lexer": "ipython3",
   "version": "3.7.1"
  }
 },
 "nbformat": 4,
 "nbformat_minor": 2
}
